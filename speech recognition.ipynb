{
 "cells": [
  {
   "cell_type": "code",
   "execution_count": 2,
   "id": "d53d5cf0",
   "metadata": {
    "ExecuteTime": {
     "end_time": "2023-02-17T01:06:01.186776Z",
     "start_time": "2023-02-17T01:06:01.000434Z"
    }
   },
   "outputs": [],
   "source": [
    "import speech_recognition as sr"
   ]
  },
  {
   "cell_type": "markdown",
   "id": "96d9f233",
   "metadata": {},
   "source": [
    "# speech recognition by English"
   ]
  },
  {
   "cell_type": "code",
   "execution_count": 5,
   "id": "4850f587",
   "metadata": {
    "ExecuteTime": {
     "end_time": "2023-02-17T00:30:40.708277Z",
     "start_time": "2023-02-17T00:30:18.105023Z"
    }
   },
   "outputs": [
    {
     "name": "stdout",
     "output_type": "stream",
     "text": [
      "result2:\n",
      "{   'alternative': [   {   'confidence': 0.9332844,\n",
      "                           'transcript': \"perfect I'm never early never leave \"\n",
      "                                         \"and holiday face but it's worth the \"\n",
      "                                         \"way this is always the best don't \"\n",
      "                                         \"forget the week God is Silent he's \"\n",
      "                                         'doing something for you sometimes '\n",
      "                                         \"got stores because it's time to \"\n",
      "                                         'afford circumstances god answers our '\n",
      "                                         'prayers in three ways yes or no '\n",
      "                                         'because you deserve better and not '\n",
      "                                         'yet because the Best is Yet to Come'},\n",
      "                       {   'transcript': \"perfect I'm never early never leave \"\n",
      "                                         \"and holiday face but it's worth the \"\n",
      "                                         \"way this is always the best don't \"\n",
      "                                         \"forget the week God is saying he's \"\n",
      "                                         'doing something for you sometimes '\n",
      "                                         \"got stores because it's time to \"\n",
      "                                         'afford circumstances god answers '\n",
      "                                         'prayers in three ways yes or no '\n",
      "                                         'because you deserve better and not '\n",
      "                                         'yet because the Best is Yet to Come'},\n",
      "                       {   'transcript': \"perfect I'm never early never leave \"\n",
      "                                         \"and holiday face but it's worth the \"\n",
      "                                         \"way it's always the best don't \"\n",
      "                                         \"forget the week God is Silent he's \"\n",
      "                                         'doing something for you sometimes '\n",
      "                                         \"got stores because it's time to \"\n",
      "                                         'afford circumstances god answers our '\n",
      "                                         'prayers in three ways yes or no '\n",
      "                                         'because you deserve better and not '\n",
      "                                         'yet because the Best is Yet to Come'},\n",
      "                       {   'transcript': \"perfect I'm never early never leave \"\n",
      "                                         \"and holiday face but it's worth the \"\n",
      "                                         \"way this is always the best don't \"\n",
      "                                         \"forget the way god is Silent he's \"\n",
      "                                         'doing something for you sometimes '\n",
      "                                         \"got stores because it's time to \"\n",
      "                                         'afford circumstances god answers '\n",
      "                                         'prayers in three ways yes or no '\n",
      "                                         'because you deserve better and not '\n",
      "                                         'yet because the Best is Yet to Come'},\n",
      "                       {   'transcript': \"perfect I'm never early never leave \"\n",
      "                                         \"and holiday face but it's worth the \"\n",
      "                                         \"way it's always the best don't \"\n",
      "                                         \"forget the way god is Silent he's \"\n",
      "                                         'doing something for you sometimes '\n",
      "                                         \"got stores because it's time to \"\n",
      "                                         'afford circumstances god answers '\n",
      "                                         'prayers in three ways yes or no '\n",
      "                                         'because you deserve better and not '\n",
      "                                         'yet because the Best is Yet to '\n",
      "                                         'Come'}],\n",
      "    'final': True}\n",
      "the saodio file containsperfect I'm never early never leave and holiday face but it's worth the way this is always the best don't forget the week God is Silent he's doing something for you sometimes got stores because it's time to afford circumstances god answers our prayers in three ways yes or no because you deserve better and not yet because the Best is Yet to Come\n"
     ]
    }
   ],
   "source": [
    "audio=(\"WhatsApp Video 2023-02-02 at 23.55.50.wav\")\n",
    "r= sr.Recognizer()\n",
    "with sr.AudioFile(audio) as source:\n",
    "    aud= r.record(source)\n",
    "try:\n",
    "    print(\"the saodio file contains\" + r.recognize_google(aud))\n",
    "except sr.UnknownValueError:\n",
    "    print(\" google could not recognize the audio\")\n",
    "except sr.RequestError as e:\n",
    "    print(\" could not request result ; {0}\".format(e)) "
   ]
  },
  {
   "cell_type": "markdown",
   "id": "f82f6953",
   "metadata": {},
   "source": [
    "# speech recognition by Arabic"
   ]
  },
  {
   "cell_type": "code",
   "execution_count": 4,
   "id": "5573280f",
   "metadata": {
    "ExecuteTime": {
     "end_time": "2023-02-17T01:16:16.758232Z",
     "start_time": "2023-02-17T01:14:56.212267Z"
    }
   },
   "outputs": [
    {
     "name": "stdout",
     "output_type": "stream",
     "text": [
      "result2:\n",
      "[]\n",
      " google could not recognize the audio\n"
     ]
    }
   ],
   "source": [
    "audio=(\"IMG_1012.wav\")\n",
    "r= sr.Recognizer()\n",
    "with sr.AudioFile(audio) as source:\n",
    "    aud= r.record(source) \n",
    "try:\n",
    "    print(\"the saodio file contains\" + r.recognize_google(aud, language=\"ar-AR\"))\n",
    "except sr.UnknownValueError:\n",
    "    print(\" google could not recognize the audio\")\n",
    "except sr.RequestError as e:\n",
    "    print(\" could not request result ; {0}\".format(e)) "
   ]
  },
  {
   "cell_type": "code",
   "execution_count": null,
   "id": "36b2cec6",
   "metadata": {},
   "outputs": [],
   "source": [
    "#record must be .wav "
   ]
  }
 ],
 "metadata": {
  "kernelspec": {
   "display_name": "Python 3 (ipykernel)",
   "language": "python",
   "name": "python3"
  },
  "language_info": {
   "codemirror_mode": {
    "name": "ipython",
    "version": 3
   },
   "file_extension": ".py",
   "mimetype": "text/x-python",
   "name": "python",
   "nbconvert_exporter": "python",
   "pygments_lexer": "ipython3",
   "version": "3.9.12"
  },
  "toc": {
   "base_numbering": 1,
   "nav_menu": {},
   "number_sections": true,
   "sideBar": true,
   "skip_h1_title": false,
   "title_cell": "Table of Contents",
   "title_sidebar": "Contents",
   "toc_cell": false,
   "toc_position": {},
   "toc_section_display": true,
   "toc_window_display": false
  },
  "varInspector": {
   "cols": {
    "lenName": 16,
    "lenType": 16,
    "lenVar": 40
   },
   "kernels_config": {
    "python": {
     "delete_cmd_postfix": "",
     "delete_cmd_prefix": "del ",
     "library": "var_list.py",
     "varRefreshCmd": "print(var_dic_list())"
    },
    "r": {
     "delete_cmd_postfix": ") ",
     "delete_cmd_prefix": "rm(",
     "library": "var_list.r",
     "varRefreshCmd": "cat(var_dic_list()) "
    }
   },
   "types_to_exclude": [
    "module",
    "function",
    "builtin_function_or_method",
    "instance",
    "_Feature"
   ],
   "window_display": false
  }
 },
 "nbformat": 4,
 "nbformat_minor": 5
}
