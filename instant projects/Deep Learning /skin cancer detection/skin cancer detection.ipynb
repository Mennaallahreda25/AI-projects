Data Link on kaggle for skin cancer detection: https://www.kaggle.com/datasets/fanconic/skin-cancer-malignant-vs-benign
