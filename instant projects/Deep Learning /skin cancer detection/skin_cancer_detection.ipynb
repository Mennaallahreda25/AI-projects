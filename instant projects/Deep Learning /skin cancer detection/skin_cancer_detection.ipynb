{
  "nbformat": 4,
  "nbformat_minor": 0,
  "metadata": {
    "colab": {
      "provenance": []
    },
    "kernelspec": {
      "name": "python3",
      "display_name": "Python 3"
    },
    "language_info": {
      "name": "python"
    }
  },
  "cells": [
    {
      "cell_type": "code",
      "execution_count": 1,
      "metadata": {
        "id": "XbFdmH5Y84FL"
      },
      "outputs": [],
      "source": [
        "from keras.models import Sequential\n",
        "from keras.layers import Convolution2D\n",
        "from keras.layers import MaxPooling2D\n",
        "from keras.layers import Flatten\n",
        "from keras.layers import Dense\n",
        "import warnings\n",
        "warnings.filterwarnings(\"ignore\")"
      ]
    },
    {
      "cell_type": "code",
      "source": [
        "# Initialising the CNN\n",
        "classifier = Sequential()\n",
        "# Step1 - Convolution\n",
        "classifier.add(Convolution2D(64, 3, 3, input_shape = (64, 64, 3), activation = 'relu'))\n",
        "# Step2 - Pooling\n",
        "classifier.add(MaxPooling2D(pool_size = (2,2)))\n",
        "# Adding a second convolution layer\n",
        "classifier.add(Convolution2D(64, 3, 3, activation = 'relu'))\n",
        "classifier.add(MaxPooling2D(pool_size = (2,2)))\n",
        "# step3 - Flattening\n",
        "classifier.add(Flatten())\n",
        "# Step4 - Full COnnection\n",
        "classifier.add(Dense(units = 128, activation = 'relu'))\n",
        "classifier.add(Dense(units = 1, activation = 'sigmoid'))\n",
        "# Compiling the CNN\n",
        "classifier.compile(optimizer ='adam', loss='binary_crossentropy', metrics=['accuracy'])\n"
      ],
      "metadata": {
        "id": "22zjUlDq9Ggz"
      },
      "execution_count": 2,
      "outputs": []
    },
    {
      "cell_type": "code",
      "source": [
        "from google.colab import drive\n",
        "drive.mount('/content/drive')"
      ],
      "metadata": {
        "colab": {
          "base_uri": "https://localhost:8080/"
        },
        "id": "N3JPBEfPeN4F",
        "outputId": "20e48555-0498-488a-f38a-e557bb435eb8"
      },
      "execution_count": 4,
      "outputs": [
        {
          "output_type": "stream",
          "name": "stdout",
          "text": [
            "Mounted at /content/drive\n"
          ]
        }
      ]
    },
    {
      "cell_type": "code",
      "source": [
        "from keras.preprocessing.image import ImageDataGenerator\n",
        "\n",
        "train_datagen = ImageDataGenerator(rescale=1./255,\n",
        "                                   shear_range=0.2,\n",
        "                                   zoom_range=0.2,\n",
        "                                   horizontal_flip=True)\n",
        "\n",
        "test_datagen = ImageDataGenerator(rescale=1./255)\n",
        "\n",
        "\n",
        "training_set = train_datagen.flow_from_directory(\n",
        "        '/content/drive/MyDrive/Instant files /data/train',\n",
        "        target_size=(64, 64),\n",
        "        batch_size=32,\n",
        "        class_mode='binary')\n",
        "\n",
        "test_set = test_datagen.flow_from_directory(\n",
        "        '/content/drive/MyDrive/Instant files /data/test',\n",
        "        target_size=(64, 64),\n",
        "        batch_size=32,\n",
        "        class_mode='binary')"
      ],
      "metadata": {
        "id": "-HQSsv7g9ppN",
        "colab": {
          "base_uri": "https://localhost:8080/"
        },
        "outputId": "6a0839f1-9d1b-4cb7-e3fe-7bfb0c26bcc2"
      },
      "execution_count": 5,
      "outputs": [
        {
          "output_type": "stream",
          "name": "stdout",
          "text": [
            "Found 2646 images belonging to 2 classes.\n",
            "Found 660 images belonging to 2 classes.\n"
          ]
        }
      ]
    },
    {
      "cell_type": "code",
      "source": [
        "import matplotlib.pyplot as plt\n",
        "%matplotlib inline\n",
        "hist = classifier.fit_generator(training_set, steps_per_epoch=500, epochs=10, validation_data=test_set, validation_steps=200)\n",
        "fig, ax = plt.subplots(1, 2, figsize=(10, 3))\n",
        "ax = ax.ravel()\n",
        "for i, met in enumerate(['accuracy', 'loss']):\n",
        "    ax[i].plot(hist.history[met])\n",
        "    ax[i].plot(hist.history['val_' + met])\n",
        "    ax[i].set_title('Model {}'.format(met))\n",
        "    ax[i].set_xlabel('epochs')\n",
        "    ax[i].set_ylabel(met)\n",
        "    ax[i].legend(['train', 'val'])\n",
        "plt.show()"
      ],
      "metadata": {
        "id": "RI-T-cM0-FE0",
        "colab": {
          "base_uri": "https://localhost:8080/",
          "height": 422
        },
        "outputId": "0cedc89f-31e1-4d8b-e5b5-41cb005631b4"
      },
      "execution_count": 9,
      "outputs": [
        {
          "output_type": "stream",
          "name": "stdout",
          "text": [
            "Epoch 1/10\n",
            " 83/500 [===>..........................] - ETA: 1:34:15 - loss: 0.6165 - accuracy: 0.6523"
          ]
        },
        {
          "output_type": "stream",
          "name": "stderr",
          "text": [
            "WARNING:tensorflow:Your input ran out of data; interrupting training. Make sure that your dataset or generator can generate at least `steps_per_epoch * epochs` batches (in this case, 5000 batches). You may need to use the repeat() function when building your dataset.\n",
            "WARNING:tensorflow:Your input ran out of data; interrupting training. Make sure that your dataset or generator can generate at least `steps_per_epoch * epochs` batches (in this case, 200 batches). You may need to use the repeat() function when building your dataset.\n"
          ]
        },
        {
          "output_type": "stream",
          "name": "stdout",
          "text": [
            "\b\b\b\b\b\b\b\b\b\b\b\b\b\b\b\b\b\b\b\b\b\b\b\b\b\b\b\b\b\b\b\b\b\b\b\b\b\b\b\b\b\b\b\b\b\b\b\b\b\b\b\b\b\b\b\b\b\b\b\b\b\b\b\b\b\b\b\b\b\b\b\b\b\b\b\b\b\b\b\b\b\b\b\b\b\b\b\b\b\r500/500 [==============================] - 1464s 3s/step - loss: 0.6165 - accuracy: 0.6523 - val_loss: 0.5716 - val_accuracy: 0.6455\n"
          ]
        },
        {
          "output_type": "display_data",
          "data": {
            "text/plain": [
              "<Figure size 1000x300 with 2 Axes>"
            ],
            "image/png": "[encoded data removed]"
          },
          "metadata": {}
        }
      ]
    },
    {
      "cell_type": "code",
      "source": [
        "import numpy as np\n",
        "from tensorflow.keras.preprocessing import image\n",
        "# Verifing our Model by giving samples of cell to detect\n",
        "test_image = image.load_img('/content/drive/MyDrive/Instant files /data/test/benign/1.jpg', target_size = (64,64))\n",
        "test_image = image.img_to_array (test_image)\n",
        "test_image = np.expand_dims (test_image, axis = 0)\n",
        "result = classifier.predict(test_image)\n",
        "print (training_set.class_indices)\n",
        "if result [0][0] == 0:\n",
        "    prediction = 'benign'\n",
        "else:\n",
        "    prediction = 'malignant'\n",
        "print (\"The prediction result is :\", prediction)\n",
        "\n",
        "test_image = image.load_img('/content/drive/MyDrive/Instant files /data/test/malignant/1.jpg', target_size = (64,64))\n",
        "test_image = image.img_to_array (test_image)\n",
        "test_image = np.expand_dims(test_image, axis = 0)\n",
        "result = classifier.predict(test_image)\n",
        "print (training_set.class_indices)\n",
        "if result[0][0] == 0:\n",
        "    prediction = 'benign'\n",
        "else:\n",
        "    prediction = 'malignant'\n",
        "print (\"The prediction result is :\", prediction)"
      ],
      "metadata": {
        "id": "v1Phl2y0-JU9",
        "colab": {
          "base_uri": "https://localhost:8080/"
        },
        "outputId": "e6acfe8a-bd46-4c56-c06a-3119d60cceb1"
      },
      "execution_count": 11,
      "outputs": [
        {
          "output_type": "stream",
          "name": "stdout",
          "text": [
            "1/1 [==============================] - 0s 180ms/step\n",
            "{'benign': 0, 'malignant': 1}\n",
            "The prediction result is : benign\n",
            "1/1 [==============================] - 0s 48ms/step\n",
            "{'benign': 0, 'malignant': 1}\n",
            "The prediction result is : malignant\n"
          ]
        }
      ]
    },
    {
      "cell_type": "code",
      "source": [
        "classifier = Sequential()\n",
        "classifier.add(Convolution2D(32, 3, 3, input_shape = (64, 64, 3), activation = 'relu'))\n",
        "print(classifier.output_shape)  # Output shape: (None, 62, 62, 32)\n",
        "classifier.add(MaxPooling2D(pool_size=(2,2)))\n",
        "print(classifier.output_shape)  # Output shape: (None, 31, 31, 32)\n",
        "classifier.add(Flatten())\n",
        "print(classifier.output_shape)  # Output shape: (None, 30912)\n",
        "classifier.add(Dense(units = 128, activation = 'relu'))\n",
        "print(classifier.output_shape)  # Output shape: (None, 128)\n",
        "classifier.add(Dense(units = 1, activation = 'sigmoid'))\n",
        "print(classifier.output_shape)  # Output shape: (None, 1)\n",
        "classifier.compile(optimizer = 'adam', loss = 'binary_crossentropy', metrics = ['accuracy'])\n",
        "hist = classifier.fit_generator(training_set, steps_per_epoch=1000, epochs=25, validation_data=test_set, validation_steps=400)"
      ],
      "metadata": {
        "colab": {
          "base_uri": "https://localhost:8080/"
        },
        "id": "FheCHicOp6wY",
        "outputId": "ad2b257a-2fb5-4621-ab4d-3412711cb497"
      },
      "execution_count": 16,
      "outputs": [
        {
          "output_type": "stream",
          "name": "stdout",
          "text": [
            "(None, 21, 21, 32)\n",
            "(None, 10, 10, 32)\n",
            "(None, 3200)\n",
            "(None, 128)\n",
            "(None, 1)\n",
            "Epoch 1/25\n",
            "  83/1000 [=>............................] - ETA: 3:09 - loss: 0.5627 - accuracy: 0.6935"
          ]
        },
        {
          "output_type": "stream",
          "name": "stderr",
          "text": [
            "WARNING:tensorflow:Your input ran out of data; interrupting training. Make sure that your dataset or generator can generate at least `steps_per_epoch * epochs` batches (in this case, 25000 batches). You may need to use the repeat() function when building your dataset.\n",
            "WARNING:tensorflow:Your input ran out of data; interrupting training. Make sure that your dataset or generator can generate at least `steps_per_epoch * epochs` batches (in this case, 400 batches). You may need to use the repeat() function when building your dataset.\n"
          ]
        },
        {
          "output_type": "stream",
          "name": "stdout",
          "text": [
            "\b\b\b\b\b\b\b\b\b\b\b\b\b\b\b\b\b\b\b\b\b\b\b\b\b\b\b\b\b\b\b\b\b\b\b\b\b\b\b\b\b\b\b\b\b\b\b\b\b\b\b\b\b\b\b\b\b\b\b\b\b\b\b\b\b\b\b\b\b\b\b\b\b\b\b\b\b\b\b\b\b\b\b\b\b\b\b\b\r1000/1000 [==============================] - 24s 23ms/step - loss: 0.5627 - accuracy: 0.6935 - val_loss: 0.4634 - val_accuracy: 0.7864\n"
          ]
        }
      ]
    },
    {
      "cell_type": "code",
      "source": [
        "# dataset links:\n",
        "#https://www.kaggle.com/datasets/fanconic/skin-cancer-malignant-vs-benign\n",
        "#https://www.kaggle.com/code/fanconic/cnn-for-skin-cancer-detection\n",
        "#https://www.kaggle.com/datasets/kmader/skin-cancer-mnist-ham10000"
      ],
      "metadata": {
        "id": "QITElR-hnsQm"
      },
      "execution_count": 14,
      "outputs": []
    }
  ]
}