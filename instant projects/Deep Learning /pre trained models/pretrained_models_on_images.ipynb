{
  "nbformat": 4,
  "nbformat_minor": 0,
  "metadata": {
    "colab": {
      "provenance": []
    },
    "kernelspec": {
      "name": "python3",
      "display_name": "Python 3"
    },
    "language_info": {
      "name": "python"
    }
  },
  "cells": [
    {
      "cell_type": "code",
      "source": [
        "# I will use the CIFAR-10 dataset and the VGG16, ResNet50, and MobileNetV2 models:"
      ],
      "metadata": {
        "id": "VJii7DFfmO-k"
      },
      "execution_count": null,
      "outputs": []
    },
    {
      "cell_type": "code",
      "source": [
        "!pip install tensorflow"
      ],
      "metadata": {
        "colab": {
          "base_uri": "https://localhost:8080/"
        },
        "id": "anxSRK0Rnnmh",
        "outputId": "9502c275-9b60-446e-d002-4f5ed9711f84"
      },
      "execution_count": null,
      "outputs": [
        {
          "output_type": "stream",
          "name": "stdout",
          "text": [
            "Requirement already satisfied: tensorflow in /usr/local/lib/python3.10/dist-packages (2.12.0)\n",
            "Requirement already satisfied: absl-py>=1.0.0 in /usr/local/lib/python3.10/dist-packages (from tensorflow) (1.4.0)\n",
            "Requirement already satisfied: astunparse>=1.6.0 in /usr/local/lib/python3.10/dist-packages (from tensorflow) (1.6.3)\n",
            "Requirement already satisfied: flatbuffers>=2.0 in /usr/local/lib/python3.10/dist-packages (from tensorflow) (23.5.26)\n",
            "Requirement already satisfied: gast<=0.4.0,>=0.2.1 in /usr/local/lib/python3.10/dist-packages (from tensorflow) (0.4.0)\n",
            "Requirement already satisfied: google-pasta>=0.1.1 in /usr/local/lib/python3.10/dist-packages (from tensorflow) (0.2.0)\n",
            "Requirement already satisfied: grpcio<2.0,>=1.24.3 in /usr/local/lib/python3.10/dist-packages (from tensorflow) (1.56.2)\n",
            "Requirement already satisfied: h5py>=2.9.0 in /usr/local/lib/python3.10/dist-packages (from tensorflow) (3.8.0)\n",
            "Requirement already satisfied: jax>=0.3.15 in /usr/local/lib/python3.10/dist-packages (from tensorflow) (0.4.13)\n",
            "Requirement already satisfied: keras<2.13,>=2.12.0 in /usr/local/lib/python3.10/dist-packages (from tensorflow) (2.12.0)\n",
            "Requirement already satisfied: libclang>=13.0.0 in /usr/local/lib/python3.10/dist-packages (from tensorflow) (16.0.6)\n",
            "Requirement already satisfied: numpy<1.24,>=1.22 in /usr/local/lib/python3.10/dist-packages (from tensorflow) (1.22.4)\n",
            "Requirement already satisfied: opt-einsum>=2.3.2 in /usr/local/lib/python3.10/dist-packages (from tensorflow) (3.3.0)\n",
            "Requirement already satisfied: packaging in /usr/local/lib/python3.10/dist-packages (from tensorflow) (23.1)\n",
            "Requirement already satisfied: protobuf!=4.21.0,!=4.21.1,!=4.21.2,!=4.21.3,!=4.21.4,!=4.21.5,<5.0.0dev,>=3.20.3 in /usr/local/lib/python3.10/dist-packages (from tensorflow) (3.20.3)\n",
            "Requirement already satisfied: setuptools in /usr/local/lib/python3.10/dist-packages (from tensorflow) (67.7.2)\n",
            "Requirement already satisfied: six>=1.12.0 in /usr/local/lib/python3.10/dist-packages (from tensorflow) (1.16.0)\n",
            "Requirement already satisfied: tensorboard<2.13,>=2.12 in /usr/local/lib/python3.10/dist-packages (from tensorflow) (2.12.3)\n",
            "Requirement already satisfied: tensorflow-estimator<2.13,>=2.12.0 in /usr/local/lib/python3.10/dist-packages (from tensorflow) (2.12.0)\n",
            "Requirement already satisfied: termcolor>=1.1.0 in /usr/local/lib/python3.10/dist-packages (from tensorflow) (2.3.0)\n",
            "Requirement already satisfied: typing-extensions>=3.6.6 in /usr/local/lib/python3.10/dist-packages (from tensorflow) (4.7.1)\n",
            "Requirement already satisfied: wrapt<1.15,>=1.11.0 in /usr/local/lib/python3.10/dist-packages (from tensorflow) (1.14.1)\n",
            "Requirement already satisfied: tensorflow-io-gcs-filesystem>=0.23.1 in /usr/local/lib/python3.10/dist-packages (from tensorflow) (0.32.0)\n",
            "Requirement already satisfied: wheel<1.0,>=0.23.0 in /usr/local/lib/python3.10/dist-packages (from astunparse>=1.6.0->tensorflow) (0.41.0)\n",
            "Requirement already satisfied: ml-dtypes>=0.1.0 in /usr/local/lib/python3.10/dist-packages (from jax>=0.3.15->tensorflow) (0.2.0)\n",
            "Requirement already satisfied: scipy>=1.7 in /usr/local/lib/python3.10/dist-packages (from jax>=0.3.15->tensorflow) (1.10.1)\n",
            "Requirement already satisfied: google-auth<3,>=1.6.3 in /usr/local/lib/python3.10/dist-packages (from tensorboard<2.13,>=2.12->tensorflow) (2.17.3)\n",
            "Requirement already satisfied: google-auth-oauthlib<1.1,>=0.5 in /usr/local/lib/python3.10/dist-packages (from tensorboard<2.13,>=2.12->tensorflow) (1.0.0)\n",
            "Requirement already satisfied: markdown>=2.6.8 in /usr/local/lib/python3.10/dist-packages (from tensorboard<2.13,>=2.12->tensorflow) (3.4.4)\n",
            "Requirement already satisfied: requests<3,>=2.21.0 in /usr/local/lib/python3.10/dist-packages (from tensorboard<2.13,>=2.12->tensorflow) (2.27.1)\n",
            "Requirement already satisfied: tensorboard-data-server<0.8.0,>=0.7.0 in /usr/local/lib/python3.10/dist-packages (from tensorboard<2.13,>=2.12->tensorflow) (0.7.1)\n",
            "Requirement already satisfied: werkzeug>=1.0.1 in /usr/local/lib/python3.10/dist-packages (from tensorboard<2.13,>=2.12->tensorflow) (2.3.6)\n",
            "Requirement already satisfied: cachetools<6.0,>=2.0.0 in /usr/local/lib/python3.10/dist-packages (from google-auth<3,>=1.6.3->tensorboard<2.13,>=2.12->tensorflow) (5.3.1)\n",
            "Requirement already satisfied: pyasn1-modules>=0.2.1 in /usr/local/lib/python3.10/dist-packages (from google-auth<3,>=1.6.3->tensorboard<2.13,>=2.12->tensorflow) (0.3.0)\n",
            "Requirement already satisfied: rsa<5,>=3.1.4 in /usr/local/lib/python3.10/dist-packages (from google-auth<3,>=1.6.3->tensorboard<2.13,>=2.12->tensorflow) (4.9)\n",
            "Requirement already satisfied: requests-oauthlib>=0.7.0 in /usr/local/lib/python3.10/dist-packages (from google-auth-oauthlib<1.1,>=0.5->tensorboard<2.13,>=2.12->tensorflow) (1.3.1)\n",
            "Requirement already satisfied: urllib3<1.27,>=1.21.1 in /usr/local/lib/python3.10/dist-packages (from requests<3,>=2.21.0->tensorboard<2.13,>=2.12->tensorflow) (1.26.16)\n",
            "Requirement already satisfied: certifi>=2017.4.17 in /usr/local/lib/python3.10/dist-packages (from requests<3,>=2.21.0->tensorboard<2.13,>=2.12->tensorflow) (2023.7.22)\n",
            "Requirement already satisfied: charset-normalizer~=2.0.0 in /usr/local/lib/python3.10/dist-packages (from requests<3,>=2.21.0->tensorboard<2.13,>=2.12->tensorflow) (2.0.12)\n",
            "Requirement already satisfied: idna<4,>=2.5 in /usr/local/lib/python3.10/dist-packages (from requests<3,>=2.21.0->tensorboard<2.13,>=2.12->tensorflow) (3.4)\n",
            "Requirement already satisfied: MarkupSafe>=2.1.1 in /usr/local/lib/python3.10/dist-packages (from werkzeug>=1.0.1->tensorboard<2.13,>=2.12->tensorflow) (2.1.3)\n",
            "Requirement already satisfied: pyasn1<0.6.0,>=0.4.6 in /usr/local/lib/python3.10/dist-packages (from pyasn1-modules>=0.2.1->google-auth<3,>=1.6.3->tensorboard<2.13,>=2.12->tensorflow) (0.5.0)\n",
            "Requirement already satisfied: oauthlib>=3.0.0 in /usr/local/lib/python3.10/dist-packages (from requests-oauthlib>=0.7.0->google-auth-oauthlib<1.1,>=0.5->tensorboard<2.13,>=2.12->tensorflow) (3.2.2)\n"
          ]
        }
      ]
    },
    {
      "cell_type": "code",
      "execution_count": null,
      "metadata": {
        "colab": {
          "base_uri": "https://localhost:8080/"
        },
        "id": "Xlm0bSmFlN4Y",
        "outputId": "4ff8a656-09a9-48ad-fdfc-19d8654087da"
      },
      "outputs": [
        {
          "output_type": "stream",
          "name": "stdout",
          "text": [
            "313/313 [==============================] - 125s 399ms/step\n",
            "313/313 [==============================] - 46s 143ms/step\n",
            "313/313 [==============================] - 11s 32ms/step\n",
            "VGG16 accuracy: 0.0\n",
            "ResNet50 accuracy: 0.0\n",
            "MobileNetV2 accuracy: 0.0005\n"
          ]
        }
      ],
      "source": [
        "import tensorflow as tf\n",
        "from tensorflow.keras.datasets import cifar10\n",
        "from tensorflow.keras.preprocessing.image import ImageDataGenerator\n",
        "from tensorflow.keras.applications.vgg16 import VGG16\n",
        "from tensorflow.keras.applications.resnet50 import ResNet50\n",
        "from tensorflow.keras.applications.mobilenet_v2 import MobileNetV2\n",
        "import numpy as np\n",
        "\n",
        "# Load the CIFAR-10 dataset\n",
        "(x_train, y_train), (x_test, y_test) = cifar10.load_data()\n",
        "\n",
        "# Normalize the pixel values of the images to be between 0 and 1\n",
        "x_train = x_train.astype('float32') / 255.0\n",
        "x_test = x_test.astype('float32') / 255.0\n",
        "\n",
        "# Define the input shape for the models\n",
        "input_shape = (224, 224, 3)\n",
        "\n",
        "# Create the data generator for the test data\n",
        "test_data_gen = ImageDataGenerator()\n",
        "\n",
        "# Generate the test data\n",
        "test_data = test_data_gen.flow(\n",
        "    x_test,\n",
        "    y_test,\n",
        "    batch_size=32,\n",
        "    shuffle=False\n",
        ")\n",
        "\n",
        "# Define the three pretrained models\n",
        "vgg16_model = VGG16(weights='imagenet', input_shape=input_shape, include_top=False)\n",
        "resnet50_model = ResNet50(weights='imagenet', input_shape=input_shape, include_top=False)\n",
        "mobilenetv2_model = MobileNetV2(weights='imagenet', input_shape=input_shape, include_top=False)\n",
        "\n",
        "# Make a copy of the test data for each model\n",
        "vgg16_x_test, vgg16_y_test = np.copy(x_test), np.copy(y_test)\n",
        "resnet50_x_test, resnet50_y_test = np.copy(x_test), np.copy(y_test)\n",
        "mobilenetv2_x_test, mobilenetv2_y_test = np.copy(x_test), np.copy(y_test)\n",
        "\n",
        "# Create the data generators for each model\n",
        "vgg16_test_data = ImageDataGenerator().flow(\n",
        "    vgg16_x_test,\n",
        "    vgg16_y_test,\n",
        "    batch_size=32,\n",
        "    shuffle=False\n",
        ")\n",
        "resnet50_test_data = ImageDataGenerator().flow(\n",
        "    resnet50_x_test,\n",
        "    resnet50_y_test,\n",
        "    batch_size=32,\n",
        "    shuffle=False\n",
        ")\n",
        "mobilenetv2_test_data = ImageDataGenerator().flow(\n",
        "    mobilenetv2_x_test,\n",
        "    mobilenetv2_y_test,\n",
        "    batch_size=32,\n",
        "    shuffle=False\n",
        ")\n",
        "\n",
        "# Make predictions using VGG16\n",
        "vgg16_predictions = vgg16_model.predict(vgg16_test_data)\n",
        "vgg16_predictions = np.argmax(np.squeeze(vgg16_predictions), axis=1)\n",
        "\n",
        "# Make predictions using ResNet50\n",
        "resnet50_predictions = resnet50_model.predict(resnet50_test_data)\n",
        "resnet50_predictions = np.argmax(np.squeeze(resnet50_predictions), axis=1)\n",
        "\n",
        "# Make predictions using MobileNetV2\n",
        "mobilenetv2_predictions = mobilenetv2_model.predict(mobilenetv2_test_data)\n",
        "mobilenetv2_predictions = np.argmax(np.squeeze(mobilenetv2_predictions), axis=1)\n",
        "\n",
        "# Calculate the accuracy of the predictions\n",
        "vgg16_accuracy = np.mean(np.equal(vgg16_predictions, y_test[:, 0]))\n",
        "resnet50_accuracy = np.mean(np.equal(resnet50_predictions, y_test[:, 0]))\n",
        "mobilenetv2_accuracy = np.mean(np.equal(mobilenetv2_predictions, y_test[:, 0]))\n",
        "\n",
        "# Print the accuracy of the predictions\n",
        "print(\"VGG16 accuracy:\", vgg16_accuracy)\n",
        "print(\"ResNet50 accuracy:\", resnet50_accuracy)\n",
        "print(\"MobileNetV2 accuracy:\", mobilenetv2_accuracy)\n"
      ]
    },
    {
      "cell_type": "code",
      "source": [
        "########################################################################################################################################"
      ],
      "metadata": {
        "id": "xjTuo0qJh3tJ"
      },
      "execution_count": 1,
      "outputs": []
    },
    {
      "cell_type": "code",
      "source": [
        "# another way"
      ],
      "metadata": {
        "id": "e5M1qKPqh7qw"
      },
      "execution_count": 2,
      "outputs": []
    },
    {
      "cell_type": "code",
      "source": [
        "from google.colab import drive\n",
        "drive.mount('/content/drive')"
      ],
      "metadata": {
        "colab": {
          "base_uri": "https://localhost:8080/"
        },
        "id": "ATU-Hxr1XEt-",
        "outputId": "7b1dcab6-6322-4cd1-fc86-e60bbda18c2f"
      },
      "execution_count": null,
      "outputs": [
        {
          "output_type": "stream",
          "name": "stdout",
          "text": [
            "Mounted at /content/drive\n"
          ]
        }
      ]
    },
    {
      "cell_type": "code",
      "source": [
        "!pip install Keras-Applications"
      ],
      "metadata": {
        "colab": {
          "base_uri": "https://localhost:8080/"
        },
        "id": "vWIrqWxPZQjJ",
        "outputId": "5c3f78c4-577c-40b3-8f0f-81809c136aac"
      },
      "execution_count": null,
      "outputs": [
        {
          "output_type": "stream",
          "name": "stdout",
          "text": [
            "Collecting Keras-Applications\n",
            "  Downloading Keras_Applications-1.0.8-py3-none-any.whl (50 kB)\n",
            "\u001b[?25l     \u001b[90m━━━━━━━━━━━━━━━━━━━━━━━━━━━━━━━━━━━━━━━━\u001b[0m \u001b[32m0.0/50.7 kB\u001b[0m \u001b[31m?\u001b[0m eta \u001b[36m-:--:--\u001b[0m\r\u001b[2K     \u001b[90m━━━━━━━━━━━━━━━━━━━━━━━━━━━━━━━━━━━━━━━━\u001b[0m \u001b[32m50.7/50.7 kB\u001b[0m \u001b[31m1.3 MB/s\u001b[0m eta \u001b[36m0:00:00\u001b[0m\n",
            "\u001b[?25hRequirement already satisfied: numpy>=1.9.1 in /usr/local/lib/python3.10/dist-packages (from Keras-Applications) (1.22.4)\n",
            "Requirement already satisfied: h5py in /usr/local/lib/python3.10/dist-packages (from Keras-Applications) (3.8.0)\n",
            "Installing collected packages: Keras-Applications\n",
            "Successfully installed Keras-Applications-1.0.8\n"
          ]
        }
      ]
    },
    {
      "cell_type": "code",
      "source": [
        "# MobileNet\n",
        "import keras.utils as image\n",
        "from keras.applications import imagenet_utils\n",
        "from keras.applications import MobileNet\n",
        "from keras.applications.mobilenet import preprocess_input\n",
        "import numpy as np\n",
        "mobile = MobileNet ( )\n",
        "def prepare_image (file):\n",
        "    img_path = \"\"\n",
        "    img = image.load_img(img_path + file, target_size= (224, 224))\n",
        "    img_array = image.img_to_array(img)\n",
        "    img_array_expanded_dims = np.expand_dims (img_array, axis=0)\n",
        "    return preprocess_input (img_array_expanded_dims)\n",
        "\n",
        "preprocessed_image = prepare_image ('/content/drive/MyDrive/Instant files /Cat.jpg')\n",
        "predictions = mobile.predict (preprocessed_image)\n",
        "results = imagenet_utils.decode_predictions (predictions)\n",
        "print (results)\n",
        "label = decode_predictions(preds)\n",
        "# retrieve the most likely result\n",
        "label = label[0][0]\n",
        "# print the classification\n",
        "print('The Highest Prediction is: %s (%.2f%%)' % (label[1], label[2] * 100))"
      ],
      "metadata": {
        "colab": {
          "base_uri": "https://localhost:8080/"
        },
        "id": "hMrfwUR5VN9R",
        "outputId": "4724bd2d-e674-4141-ee0f-ef3f410efc02"
      },
      "execution_count": null,
      "outputs": [
        {
          "output_type": "stream",
          "name": "stdout",
          "text": [
            "1/1 [==============================] - 1s 508ms/step\n",
            "[[('n02124075', 'Egyptian_cat', 0.506944), ('n02123159', 'tiger_cat', 0.4227431), ('n02123045', 'tabby', 0.036583744), ('n02127052', 'lynx', 0.011967803), ('n03958227', 'plastic_bag', 0.008552734)]]\n",
            "The Highest Prediction is: tiger_cat (58.50%)\n"
          ]
        }
      ]
    },
    {
      "cell_type": "code",
      "source": [
        "# Xception\n",
        "from keras.applications.xception import Xception\n",
        "import keras.utils as image\n",
        "from keras.applications.xception import preprocess_input, decode_predictions\n",
        "import numpy as np\n",
        "from PIL import Image\n",
        "\n",
        "model = Xception()\n",
        "img_path = '/content/drive/MyDrive/Instant files /Cat.jpg'\n",
        "img = Image.open(img_path)\n",
        "img = img.resize((299, 299))  # Resize the image to match the expected input shape\n",
        "x = image.img_to_array(img)\n",
        "x = np.expand_dims(x, axis=0)\n",
        "x = preprocess_input(x)\n",
        "preds = model.predict(x)\n",
        "\n",
        "# decode the results into a list of tuples (class, description, probability)\n",
        "# (one such list for each sample in the batch)\n",
        "print('Predicted the following:', decode_predictions(preds, top=3)[0])\n",
        "label = decode_predictions(preds)\n",
        "# retrieve the most likely result\n",
        "label = label[0][0]\n",
        "# print the classification\n",
        "print('The Highest Prediction is: %s (%.2f%%)' % (label[1], label[2] * 100))"
      ],
      "metadata": {
        "colab": {
          "base_uri": "https://localhost:8080/"
        },
        "id": "TXOB0VbSVW2r",
        "outputId": "7df5a2d9-a43d-4460-e2c6-6fc107d2c3cc"
      },
      "execution_count": null,
      "outputs": [
        {
          "output_type": "stream",
          "name": "stdout",
          "text": [
            "1/1 [==============================] - 1s 1s/step\n",
            "Predicted the following: [('n02123159', 'tiger_cat', 0.5849679), ('n02124075', 'Egyptian_cat', 0.13905433), ('n02123045', 'tabby', 0.085729495)]\n",
            "The Highest Prediction is: tiger_cat (58.50%)\n"
          ]
        }
      ]
    },
    {
      "cell_type": "code",
      "source": [
        "# DenseNet\n",
        "from keras.applications import densenet\n",
        "import keras.utils as image\n",
        "from keras.applications.densenet import preprocess_input, decode_predictions\n",
        "import numpy as np\n",
        "from PIL import Image\n",
        "\n",
        "model = densenet.DenseNet121()\n",
        "img_path = '/content/drive/MyDrive/Instant files /Cat.jpg'\n",
        "img = Image.open(img_path)\n",
        "img = img.resize((224, 224))  # Resize the image to match the expected input shape\n",
        "x = image.img_to_array(img)\n",
        "x = np.expand_dims(x, axis=0)\n",
        "x = preprocess_input(x)\n",
        "preds = model.predict(x)\n",
        "print('Predicted the following:', decode_predictions(preds, top=3)[0])\n",
        "label = decode_predictions(preds)\n",
        "# retrieve the most likely result, e.g., high o.022196287)]\n",
        "label = label[0][0]\n",
        "# print the classification\n",
        "print('The Highest Prediction is: %s (%.2f%%)' % (label[1], label[2] * 100))\n"
      ],
      "metadata": {
        "colab": {
          "base_uri": "https://localhost:8080/"
        },
        "id": "-C_Ev8w-dxx9",
        "outputId": "ee79471b-de91-4f3b-af5a-493921b09dad"
      },
      "execution_count": null,
      "outputs": [
        {
          "output_type": "stream",
          "name": "stdout",
          "text": [
            "1/1 [==============================] - 2s 2s/step\n",
            "Predicted the following: [('n02124075', 'Egyptian_cat', 0.39400738), ('n02123159', 'tiger_cat', 0.31431046), ('n02123045', 'tabby', 0.0921374)]\n",
            "The Highest Prediction is: Egyptian_cat (39.40%)\n"
          ]
        }
      ]
    }
  ]
}