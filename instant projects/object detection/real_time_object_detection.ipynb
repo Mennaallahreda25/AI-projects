{
  "nbformat": 4,
  "nbformat_minor": 0,
  "metadata": {
    "colab": {
      "provenance": []
    },
    "kernelspec": {
      "name": "python3",
      "display_name": "Python 3"
    },
    "language_info": {
      "name": "python"
    }
  },
  "cells": [
    {
      "cell_type": "markdown",
      "source": [
        "Here is some sample code using the YOLOv3 implementation using Python and the OpenCV library for making real time object detection.\n",
        "\n",
        "the pre-trained weights file for YOLOv3:\n",
        "https://pjreddie.com/media/files/yolov3.weights"
      ],
      "metadata": {
        "id": "BbORIXRRug3D"
      }
    },
    {
      "cell_type": "code",
      "execution_count": 1,
      "metadata": {
        "colab": {
          "base_uri": "https://localhost:8080/"
        },
        "id": "bdFSkYjwtVj9",
        "outputId": "d97268bd-259f-4ce3-fdf9-c1a718bc4c6b"
      },
      "outputs": [
        {
          "output_type": "stream",
          "name": "stdout",
          "text": [
            "Requirement already satisfied: opencv-python in /usr/local/lib/python3.10/dist-packages (4.7.0.72)\n",
            "Requirement already satisfied: numpy in /usr/local/lib/python3.10/dist-packages (1.22.4)\n",
            "Requirement already satisfied: keras in /usr/local/lib/python3.10/dist-packages (2.12.0)\n"
          ]
        }
      ],
      "source": [
        "!pip install opencv-python numpy keras"
      ]
    },
    {
      "cell_type": "code",
      "source": [
        "from google.colab import drive\n",
        "drive.mount('/content/drive')"
      ],
      "metadata": {
        "colab": {
          "base_uri": "https://localhost:8080/"
        },
        "id": "tGIwqE12v4TO",
        "outputId": "b5fbdba3-e1c3-43e0-de30-917c2b9eea97"
      },
      "execution_count": 2,
      "outputs": [
        {
          "output_type": "stream",
          "name": "stdout",
          "text": [
            "Mounted at /content/drive\n"
          ]
        }
      ]
    },
    {
      "cell_type": "code",
      "source": [
        "import cv2\n",
        "import numpy as np\n",
        "\n",
        "# Load YOLOv3 model\n",
        "net = cv2.dnn.readNet(\"/content/drive/MyDrive/Instant files /yolov3.weights\", \"/content/drive/MyDrive/Instant files /yolov3.cfg\")\n",
        "\n",
        "# Define the classes\n",
        "classes = []\n",
        "with open(\"/content/drive/MyDrive/Instant files /coco.names\", \"r\") as f:\n",
        "    classes = [line.strip() for line in f.readlines()]\n",
        "\n",
        "# Set the input and output layers\n",
        "layer_names = net.getLayerNames()\n",
        "output_layers = [layer_names[i-1] for i in net.getUnconnectedOutLayers()]\n",
        "\n",
        "# Start the video stream\n",
        "cap = cv2.VideoCapture(0)\n",
        "\n",
        "while True:\n",
        "    # Read the frame\n",
        "    ret, frame = cap.read()\n",
        "    if not ret:\n",
        "        break\n",
        "    height, width, channels = frame.shape\n",
        "\n",
        "    # Prepare the input image\n",
        "    blob = cv2.dnn.blobFromImage(frame, 0.00392, (416, 416), (0, 0, 0), True, crop=False)\n",
        "\n",
        "    # Run the forward pass\n",
        "    net.setInput(blob)\n",
        "    outs = net.forward(output_layers)\n",
        "\n",
        "    # Post-processing\n",
        "    class_ids = []\n",
        "    confidences = []\n",
        "    boxes = []\n",
        "    for out in outs:\n",
        "        for detection in out:\n",
        "            scores = detection[5:]\n",
        "            class_id = np.argmax(scores)\n",
        "            confidence = scores[class_id]\n",
        "            if confidence > 0.5:\n",
        "                center_x = int(detection[0] * width)\n",
        "                center_y = int(detection[1] * height)\n",
        "                w = int(detection[2] * width)\n",
        "                h = int(detection[3] * height)\n",
        "                x = int(center_x - w / 2)\n",
        "                y = int(center_y - h / 2)\n",
        "                boxes.append([x, y, w, h])\n",
        "                confidences.append(float(confidence))\n",
        "                class_ids.append(class_id)\n",
        "\n",
        "    # Apply non-maximum suppression to eliminate redundant overlapping boxes\n",
        "    indexes = cv2.dnn.NMSBoxes(boxes, confidences, 0.5, 0.4)\n",
        "\n",
        "    # Draw the boxes and labels on the frame\n",
        "    font = cv2.FONT_HERSHEY_PLAIN\n",
        "    colors = np.random.uniform(0, 255, size=(len(classes), 3))\n",
        "    if len(indexes) > 0:\n",
        "        for i in indexes.flatten():\n",
        "            x, y, w, h = boxes[i]\n",
        "            label = str(classes[class_ids[i]])\n",
        "            confidence = str(round(confidences[i], 2))\n",
        "            color = colors[class_ids[i]]\n",
        "            cv2.rectangle(frame, (x, y), (x + w, y + h), color, 2)\n",
        "            cv2.putText(frame, label + \" \" + confidence, (x, y + 20), font, 2, color, 2)\n",
        "\n",
        "    # Show the frame\n",
        "    cv2.imshow(\"Real-time object detection\", frame)\n",
        "    key = cv2.waitKey(1)\n",
        "    if key == 27:  # Press 'Esc' to exit\n",
        "        break\n",
        "\n",
        "# Release the resources\n",
        "cap.release()\n",
        "cv2.destroyAllWindows()"
      ],
      "metadata": {
        "id": "UwbodaWPDMpY"
      },
      "execution_count": 8,
      "outputs": []
    }
  ]
}