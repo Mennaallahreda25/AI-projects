{
 "cells": [
  {
   "cell_type": "code",
   "execution_count": 1,
   "id": "1a3ccdc3",
   "metadata": {
    "ExecuteTime": {
     "end_time": "2023-03-07T03:25:26.687700Z",
     "start_time": "2023-03-07T03:24:57.749816Z"
    }
   },
   "outputs": [
    {
     "name": "stdout",
     "output_type": "stream",
     "text": [
      "Requirement already satisfied: pillow in c:\\users\\hp\\anaconda3\\lib\\site-packages (9.0.1)"
     ]
    },
    {
     "name": "stderr",
     "output_type": "stream",
     "text": [
      "WARNING: Ignoring invalid distribution -pencv-python-headless (c:\\users\\hp\\anaconda3\\lib\\site-packages)\n",
      "WARNING: Ignoring invalid distribution -pencv-python-headless (c:\\users\\hp\\anaconda3\\lib\\site-packages)\n",
      "WARNING: Ignoring invalid distribution -pencv-python-headless (c:\\users\\hp\\anaconda3\\lib\\site-packages)\n",
      "WARNING: Ignoring invalid distribution -pencv-python-headless (c:\\users\\hp\\anaconda3\\lib\\site-packages)\n",
      "WARNING: Ignoring invalid distribution -pencv-python-headless (c:\\users\\hp\\anaconda3\\lib\\site-packages)\n",
      "WARNING: Ignoring invalid distribution -pencv-python-headless (c:\\users\\hp\\anaconda3\\lib\\site-packages)\n",
      "\n",
      "[notice] A new release of pip available: 22.3.1 -> 23.0.1\n",
      "[notice] To update, run: python.exe -m pip install --upgrade pip\n"
     ]
    },
    {
     "name": "stdout",
     "output_type": "stream",
     "text": [
      "\n"
     ]
    }
   ],
   "source": [
    "!pip install pillow "
   ]
  },
  {
   "cell_type": "code",
   "execution_count": 2,
   "id": "85dd8b00",
   "metadata": {
    "ExecuteTime": {
     "end_time": "2023-03-07T03:26:04.097239Z",
     "start_time": "2023-03-07T03:25:58.830608Z"
    }
   },
   "outputs": [
    {
     "name": "stdout",
     "output_type": "stream",
     "text": [
      "Requirement already satisfied: pytesseract in c:\\users\\hp\\anaconda3\\lib\\site-packages (0.3.10)\n",
      "Requirement already satisfied: packaging>=21.3 in c:\\users\\hp\\anaconda3\\lib\\site-packages (from pytesseract) (21.3)\n",
      "Requirement already satisfied: Pillow>=8.0.0 in c:\\users\\hp\\anaconda3\\lib\\site-packages (from pytesseract) (9.0.1)\n",
      "Requirement already satisfied: pyparsing!=3.0.5,>=2.0.2 in c:\\users\\hp\\anaconda3\\lib\\site-packages (from packaging>=21.3->pytesseract) (3.0.4)\n"
     ]
    },
    {
     "name": "stderr",
     "output_type": "stream",
     "text": [
      "WARNING: Ignoring invalid distribution -pencv-python-headless (c:\\users\\hp\\anaconda3\\lib\\site-packages)\n",
      "WARNING: Ignoring invalid distribution -pencv-python-headless (c:\\users\\hp\\anaconda3\\lib\\site-packages)\n",
      "WARNING: Ignoring invalid distribution -pencv-python-headless (c:\\users\\hp\\anaconda3\\lib\\site-packages)\n",
      "WARNING: Ignoring invalid distribution -pencv-python-headless (c:\\users\\hp\\anaconda3\\lib\\site-packages)\n",
      "WARNING: Ignoring invalid distribution -pencv-python-headless (c:\\users\\hp\\anaconda3\\lib\\site-packages)\n",
      "WARNING: Ignoring invalid distribution -pencv-python-headless (c:\\users\\hp\\anaconda3\\lib\\site-packages)\n",
      "\n",
      "[notice] A new release of pip available: 22.3.1 -> 23.0.1\n",
      "[notice] To update, run: python.exe -m pip install --upgrade pip\n"
     ]
    }
   ],
   "source": [
    "!pip install pytesseract"
   ]
  },
  {
   "cell_type": "code",
   "execution_count": 39,
   "id": "a655ba3c",
   "metadata": {
    "ExecuteTime": {
     "end_time": "2023-03-07T04:56:50.041429Z",
     "start_time": "2023-03-07T04:56:30.184529Z"
    }
   },
   "outputs": [
    {
     "name": "stdout",
     "output_type": "stream",
     "text": [
      "Collecting pyimage\n",
      "  Downloading pyimage-0.1.1.tar.gz (4.5 kB)\n",
      "  Preparing metadata (setup.py): started\n",
      "  Preparing metadata (setup.py): finished with status 'done'\n",
      "Requirement already satisfied: scikit-image in c:\\users\\hp\\anaconda3\\lib\\site-packages (from pyimage) (0.19.2)\n",
      "Requirement already satisfied: matplotlib in c:\\users\\hp\\anaconda3\\lib\\site-packages (from pyimage) (3.5.1)\n",
      "Requirement already satisfied: numpy in c:\\users\\hp\\anaconda3\\lib\\site-packages (from pyimage) (1.22.4)\n",
      "Requirement already satisfied: packaging>=20.0 in c:\\users\\hp\\anaconda3\\lib\\site-packages (from matplotlib->pyimage) (21.3)\n",
      "Requirement already satisfied: python-dateutil>=2.7 in c:\\users\\hp\\anaconda3\\lib\\site-packages (from matplotlib->pyimage) (2.8.2)\n",
      "Requirement already satisfied: cycler>=0.10 in c:\\users\\hp\\anaconda3\\lib\\site-packages (from matplotlib->pyimage) (0.11.0)\n",
      "Requirement already satisfied: fonttools>=4.22.0 in c:\\users\\hp\\anaconda3\\lib\\site-packages (from matplotlib->pyimage) (4.25.0)\n",
      "Requirement already satisfied: kiwisolver>=1.0.1 in c:\\users\\hp\\anaconda3\\lib\\site-packages (from matplotlib->pyimage) (1.3.2)\n",
      "Requirement already satisfied: pillow>=6.2.0 in c:\\users\\hp\\anaconda3\\lib\\site-packages (from matplotlib->pyimage) (9.0.1)\n",
      "Requirement already satisfied: pyparsing>=2.2.1 in c:\\users\\hp\\anaconda3\\lib\\site-packages (from matplotlib->pyimage) (3.0.4)\n",
      "Requirement already satisfied: tifffile>=2019.7.26 in c:\\users\\hp\\anaconda3\\lib\\site-packages (from scikit-image->pyimage) (2021.7.2)\n",
      "Requirement already satisfied: networkx>=2.2 in c:\\users\\hp\\anaconda3\\lib\\site-packages (from scikit-image->pyimage) (2.7.1)\n",
      "Requirement already satisfied: imageio>=2.4.1 in c:\\users\\hp\\anaconda3\\lib\\site-packages (from scikit-image->pyimage) (2.9.0)\n",
      "Requirement already satisfied: PyWavelets>=1.1.1 in c:\\users\\hp\\anaconda3\\lib\\site-packages (from scikit-image->pyimage) (1.3.0)\n",
      "Requirement already satisfied: scipy>=1.4.1 in c:\\users\\hp\\anaconda3\\lib\\site-packages (from scikit-image->pyimage) (1.7.3)\n",
      "Requirement already satisfied: six>=1.5 in c:\\users\\hp\\anaconda3\\lib\\site-packages (from python-dateutil>=2.7->matplotlib->pyimage) (1.16.0)\n",
      "Building wheels for collected packages: pyimage\n",
      "  Building wheel for pyimage (setup.py): started\n",
      "  Building wheel for pyimage (setup.py): finished with status 'done'\n",
      "  Created wheel for pyimage: filename=pyimage-0.1.1-py3-none-any.whl size=5040 sha256=ef8915ed3ad28c86c2599dd7bb4366aa10b1c59e5043b3a3c5759f8fb234c76a\n",
      "  Stored in directory: c:\\users\\hp\\appdata\\local\\pip\\cache\\wheels\\ac\\af\\64\\64f67b6361fff7128d9f8f49816c981fc166e6cc3abde310ee\n",
      "Successfully built pyimage\n",
      "Installing collected packages: pyimage\n",
      "Successfully installed pyimage-0.1.1\n"
     ]
    },
    {
     "name": "stderr",
     "output_type": "stream",
     "text": [
      "WARNING: Ignoring invalid distribution -pencv-python-headless (c:\\users\\hp\\anaconda3\\lib\\site-packages)\n",
      "WARNING: Ignoring invalid distribution -pencv-python-headless (c:\\users\\hp\\anaconda3\\lib\\site-packages)\n",
      "WARNING: Ignoring invalid distribution -pencv-python-headless (c:\\users\\hp\\anaconda3\\lib\\site-packages)\n",
      "WARNING: Ignoring invalid distribution -pencv-python-headless (c:\\users\\hp\\anaconda3\\lib\\site-packages)\n",
      "WARNING: Ignoring invalid distribution -pencv-python-headless (c:\\users\\hp\\anaconda3\\lib\\site-packages)\n",
      "WARNING: Ignoring invalid distribution -pencv-python-headless (c:\\users\\hp\\anaconda3\\lib\\site-packages)\n",
      "WARNING: Ignoring invalid distribution -pencv-python-headless (c:\\users\\hp\\anaconda3\\lib\\site-packages)\n",
      "\n",
      "[notice] A new release of pip available: 22.3.1 -> 23.0.1\n",
      "[notice] To update, run: python.exe -m pip install --upgrade pip\n"
     ]
    }
   ],
   "source": [
    "!pip install pyimage"
   ]
  },
  {
   "cell_type": "code",
   "execution_count": 79,
   "id": "0af08bc0",
   "metadata": {
    "ExecuteTime": {
     "end_time": "2023-03-07T06:32:24.024395Z",
     "start_time": "2023-03-07T06:28:44.626012Z"
    }
   },
   "outputs": [],
   "source": [
    "from tkinter import *\n",
    "import os.path\n",
    "from tkinter import filedialog\n",
    "import pytesseract\n",
    "from PIL import ImageTk, Image\n",
    "from tkinter import messagebox\n",
    "\n",
    "\n",
    "\n",
    "\n",
    "window1 = Tk()\n",
    "window1.geometry('560x400')\n",
    "window1.title('TEXTPORT -  Extract Text from Image')\n",
    "window1.resizable(False,False)\n",
    "window1.configure(bg='white')\n",
    "\n",
    "#========= Define =========\n",
    "\n",
    "def imo():\n",
    "    file = filedialog.askopenfile(mode='r',filetypes=[('PNG Files','*.png'),(\"JPG\",\"*.jpg\"),(\"JPEG\",\"*.jpeg\"),(\"ICON\",\"*.ico\"),(\"GIF\",\"*.gif\")])\n",
    "    if file:\n",
    "        filepath = os.path.abspath(file.name)\n",
    "        En1.insert(0,filepath)\n",
    "        \n",
    "def ORC():\n",
    "        pytesseract.pytesseract.tesseract_cmd = r\"C:\\\\Program Files\\\\Tesseract-OCR\\\\tesseract.exe\"   \n",
    "        file = En1.get()\n",
    "        savo = En2.get()\n",
    "        lang = En3.get()\n",
    "        text= En4.get()\n",
    "        img = Image.open(file)\n",
    "        txt = pytesseract.image_to_string(img)\n",
    "        with open(savo,\"w\") as f:\n",
    "            f.write(txt)\n",
    "        messagebox.showinfo('The file saved ') \n",
    "        \n",
    "# C:\\\\Program Files\\\\Tesseract-OCR\\\\tesseract.exe<=> مسار \n",
    "\n",
    "\n",
    "#========= Tools ==========\n",
    "F1 = Frame(window1, width=600,height=368,bg='white', bd=1, relief=SOLID)\n",
    "F1.place(x=1,y=1)\n",
    "\n",
    "text = Label(F1 , text='Enter your path and your extation and path to save :', font=('times for roman',16),fg='black',bg='white')\n",
    "text.place(x=1,y=4)\n",
    "\n",
    "En1_text = Label(F1, text='Image path : ', fg='black', bg='white', font=('times for roman',11))\n",
    "En1_text.place(x=10,y=51)\n",
    "En1 = Entry(F1, font=('times for roman',16), width=30, bd=1, relief=SOLID)\n",
    "En1.place(x=100,y=50)\n",
    "\n",
    "btn1 = Button(F1, text='+' , cursor='hand2',command=imo)\n",
    "btn1.place(x=445,y=51)\n",
    "\n",
    "\n",
    "\n",
    "En2_text = Label(F1, text='Save path : ', fg='black', bg='white', font=('times for roman',11))\n",
    "En2_text.place(x=10,y=84)\n",
    "En2 = Entry(F1, font=('times for roman',16), width=30, bd=1, relief=SOLID)\n",
    "En2.place(x=100,y=84)\n",
    "\n",
    "En3_text = Label(F1, text='Language : ', fg='black', bg='white', font=('times for roman',11))\n",
    "En3_text.place(x=10,y=117)\n",
    "En3 = Entry(F1, font=('times for roman',16), width=30, bd=1, relief=SOLID)\n",
    "En3.place(x=100,y=117)\n",
    "\n",
    "En4_text = Label(F1, text='the text :',  fg='black', bg='white', font=('times for roman',11))\n",
    "En4_text.place(x=10,y=150)\n",
    "En4 = Entry(F1, font=('times for roman',16), width=30, bd=1, relief=SOLID)\n",
    "En4.place(x=100,y=150)\n",
    "\n",
    "\n",
    "b1 = Button(F1, text='Extract Text', width=10, height=8,fg='white', bg='#383838', cursor='hand2',command=ORC)\n",
    "b1.place(x=470,y=49)\n",
    "\n",
    "window1.mainloop()\n"
   ]
  },
  {
   "cell_type": "code",
   "execution_count": null,
   "id": "d5ab6dc5",
   "metadata": {},
   "outputs": [],
   "source": []
  }
 ],
 "metadata": {
  "kernelspec": {
   "display_name": "Python 3 (ipykernel)",
   "language": "python",
   "name": "python3"
  },
  "language_info": {
   "codemirror_mode": {
    "name": "ipython",
    "version": 3
   },
   "file_extension": ".py",
   "mimetype": "text/x-python",
   "name": "python",
   "nbconvert_exporter": "python",
   "pygments_lexer": "ipython3",
   "version": "3.9.12"
  },
  "toc": {
   "base_numbering": 1,
   "nav_menu": {},
   "number_sections": true,
   "sideBar": true,
   "skip_h1_title": false,
   "title_cell": "Table of Contents",
   "title_sidebar": "Contents",
   "toc_cell": false,
   "toc_position": {},
   "toc_section_display": true,
   "toc_window_display": false
  },
  "varInspector": {
   "cols": {
    "lenName": 16,
    "lenType": 16,
    "lenVar": 40
   },
   "kernels_config": {
    "python": {
     "delete_cmd_postfix": "",
     "delete_cmd_prefix": "del ",
     "library": "var_list.py",
     "varRefreshCmd": "print(var_dic_list())"
    },
    "r": {
     "delete_cmd_postfix": ") ",
     "delete_cmd_prefix": "rm(",
     "library": "var_list.r",
     "varRefreshCmd": "cat(var_dic_list()) "
    }
   },
   "types_to_exclude": [
    "module",
    "function",
    "builtin_function_or_method",
    "instance",
    "_Feature"
   ],
   "window_display": false
  }
 },
 "nbformat": 4,
 "nbformat_minor": 5
}
