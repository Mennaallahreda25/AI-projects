{
 "cells": [
  {
   "cell_type": "code",
   "execution_count": null,
   "id": "34fc694c",
   "metadata": {
    "ExecuteTime": {
     "start_time": "2022-11-26T23:02:24.732Z"
    },
    "scrolled": true
   },
   "outputs": [
    {
     "name": "stdout",
     "output_type": "stream",
     "text": [
      "&\n",
      "\n",
      "KEEP\n",
      "CALM\n",
      "\n",
      "AND\n",
      "DESTROY\n",
      "FINAL EXAMS\n",
      "\n"
     ]
    }
   ],
   "source": [
    "import cv2 \n",
    "import pytesseract\n",
    "pytesseract.pytesseract.tesseract_cmd= \"C:\\\\Program Files\\\\Tesseract-OCR\\\\tesseract.exe\"\n",
    "img=cv2.imread(\"download.jpeg\")\n",
    "cv2.imshow(\"ocr\", img)\n",
    "extract_text= pytesseract.image_to_string(img)\n",
    "print(extract_text)\n",
    "cv2.waitKey(0) \n",
    "cv2.destroyAllWindows()"
   ]
  },
  {
   "cell_type": "code",
   "execution_count": null,
   "id": "bcfbd23a",
   "metadata": {
    "ExecuteTime": {
     "start_time": "2022-11-26T23:02:24.743Z"
    }
   },
   "outputs": [],
   "source": [
    "file= open(\"downloadn.pdf\", \"w\")\n",
    "extract_text= repr(extract_text)\n",
    "extract_text.write(extract_text)\n",
    "extract_text.close"
   ]
  },
  {
   "cell_type": "code",
   "execution_count": null,
   "id": "e99dca0c",
   "metadata": {
    "ExecuteTime": {
     "start_time": "2022-11-26T23:02:36.464Z"
    }
   },
   "outputs": [],
   "source": [
    "from textblob import TextBlob\n",
    "\n",
    "words = [extract_text]\n",
    "\n",
    "corrected_words = []\n",
    "\n",
    "for i in words:\n",
    "\n",
    "    corrected_words.append(TextBlob(i))\n",
    "\n",
    "print(\"Wrong words :\", words)\n",
    "\n",
    "print(\"Corrected Words are :\")\n",
    "\n",
    "for i in corrected_words:\n",
    "\n",
    "    print(i.correct(), end=\" \")"
   ]
  },
  {
   "cell_type": "code",
   "execution_count": null,
   "id": "a331f5aa",
   "metadata": {},
   "outputs": [],
   "source": []
  }
 ],
 "metadata": {
  "kernelspec": {
   "display_name": "Python 3 (ipykernel)",
   "language": "python",
   "name": "python3"
  },
  "language_info": {
   "codemirror_mode": {
    "name": "ipython",
    "version": 3
   },
   "file_extension": ".py",
   "mimetype": "text/x-python",
   "name": "python",
   "nbconvert_exporter": "python",
   "pygments_lexer": "ipython3",
   "version": "3.9.12"
  },
  "toc": {
   "base_numbering": 1,
   "nav_menu": {},
   "number_sections": true,
   "sideBar": true,
   "skip_h1_title": false,
   "title_cell": "Table of Contents",
   "title_sidebar": "Contents",
   "toc_cell": false,
   "toc_position": {},
   "toc_section_display": true,
   "toc_window_display": false
  },
  "varInspector": {
   "cols": {
    "lenName": 16,
    "lenType": 16,
    "lenVar": 40
   },
   "kernels_config": {
    "python": {
     "delete_cmd_postfix": "",
     "delete_cmd_prefix": "del ",
     "library": "var_list.py",
     "varRefreshCmd": "print(var_dic_list())"
    },
    "r": {
     "delete_cmd_postfix": ") ",
     "delete_cmd_prefix": "rm(",
     "library": "var_list.r",
     "varRefreshCmd": "cat(var_dic_list()) "
    }
   },
   "types_to_exclude": [
    "module",
    "function",
    "builtin_function_or_method",
    "instance",
    "_Feature"
   ],
   "window_display": false
  }
 },
 "nbformat": 4,
 "nbformat_minor": 5
}
