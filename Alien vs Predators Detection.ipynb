{
 "cells": [
  {
   "cell_type": "markdown",
   "id": "93ca0128",
   "metadata": {},
   "source": [
    "**The Project : Alien vs Predators Detection**\n",
    "https://www.kaggle.com/pmigdal/transfer-learning-with-resnet-50-in-keras\n",
    "    \n",
    "**and Dataset link**\n",
    "https://www.kaggle.com/pmigdal/alien-vs-predator-images\n",
    "\n",
    "**the name** \n",
    "Alien vs. Predator images\n",
    "\n",
    "- we will split data by this way:"
   ]
  },
  {
   "cell_type": "code",
   "execution_count": null,
   "id": "93c8f36d",
   "metadata": {},
   "outputs": [],
   "source": [
    "-data\n",
    "    -train\n",
    "        -alien\n",
    "        -predator\n",
    "    -validation\n",
    "        -alien\n",
    "        -predator"
   ]
  },
  {
   "cell_type": "code",
   "execution_count": null,
   "id": "b01099f2",
   "metadata": {},
   "outputs": [],
   "source": [
    "import numpy as np \n",
    "import matplotlib.pyplot as plt \n",
    "from PIL import Image \n",
    "import keras\n",
    "from keras.preprocessing.image import ImageDataGenerator \n",
    "from keras.applications import ResNet50 \n",
    "from keras.applications.resnet50 import preprocess_input \n",
    "from keras import Model, layers \n",
    "from keras.models import load_model, model_from_json \n",
    "import PIL\n",
    "input_path = \"data/\"\n",
    "\n",
    "train_datagen = ImageDataGenerator (shear_range=10, zoom_range=0.2, horizontal_flip=True, preprocessing_function=preprocess_input)\n",
    "train_generator = train_datagen.flow_from_directory(input_path + 'train', batch_size=32, class_mode='binary', target_size= (224,224))\n",
    "validation_datagen = ImageDataGenerator (preprocessing_function=preprocess_input)\n",
    "validation_generator = validation_datagen.flow_from_directory(input_path + 'validation', shuffle=False, class_mode='binary', target_size= (224,224))\n",
    "\n",
    "conv_base = ResNet50(include_top=False, weights= 'imagenet')\n",
    "for layer in conv base.layers:\n",
    "    layer.trainable = False\n",
    "x = conv base.output\n",
    "× = layers.GlobalAveragePooling2D()(x)\n",
    "x = layers. Dense(128, activations'relu')(x)\n",
    "predictions = layers. Dense (2, activations'softmax')(x)\n",
    "model = Model (conv_base.input, predictions)\n",
    "optimizer = keras.optimizers.Adam()\n",
    "model.compile (loss='sparse_categorical_crossentgopy', optimizer=optimizer, metrics=['accuracy']\n",
    "\n",
    "history = model.fit_generator (generatorstrain_generator,steps_per_epoch=347 // 32, \n",
    "        # added in Kaggle \n",
    "        epochs=3, validation_data=validation_generator, validation_steps=10 # added in Kaggle\n",
    "        )\n",
    "\n",
    "model. save ('model.h5')\n",
    "validation_img_paths = [\"data/validation/alien/11.jpg\",\"data/validation/alien/22.jpg\",\"data/validation/predator/33.jpg\"]\n",
    "img_list = [Image.open(input_path + img_path) for img_path in validation_img_paths]\n",
    "validation_batch = np.stack([preprocess_input (np.array(img-resize((224, 224))))\n",
    "        for img in img_list])\n",
    "pred_probs = model.predict(validation_batch)\n",
    "print ( pred probs)\n",
    "\n",
    "               \n",
    "fig, axs = plt.subplots (1, len (img_list), figsize=(20, 5))\n",
    "for i, img in enumerate (img_list):\n",
    "    ax = axs[i]\n",
    "    ax.axis ('off')\n",
    "    ax.set_title(\"{:.0f}% Alien, {:.0f}% Predator\".format(100*pred_probs[i,0],100*pred_probs[i,1]))\n",
    "    ax.imshow(img)\n",
    "plt.show()\n",
    "\n",
    "               \n",
    "acc = history.history['accuracy']\n",
    "val_acc = history.history[ 'val_accuracy']\n",
    "loss = history.history['loss']\n",
    "val_loss = history .history['val_loss']\n",
    "epochs = range (len (acc))\n",
    "plt.plot (epochs, acc, 'b', label='Training acc') \n",
    "plt.plot (epochs, val_acc, 'r', label='Validation acc') \n",
    "plt.title('Training and validation accuracy') \n",
    "plt. legend()\n",
    "plt.figure()\n",
    "plt.plot(epochs, loss, 'b', label='Training loss') \n",
    "plt.plot(epochs, val_loss, 'r', label='Validation loss') \n",
    "plt.title('Training and validation loss') \n",
    "plt. legend()\n",
    "plt.show()\n",
    "\n",
    "import numpy as np \n",
    "import matplotlib.pyplot as plt \n",
    "from PIL import Image \n",
    "from keras.applications.resnet50 import preprocess_input \n",
    "from keras.models import load_model\n",
    "input_path = \"data/\"\n",
    "model = load_model('model.h5')\n",
    "validation_img_paths = [\"validation/alien/43.jpg\",\"validation/alien/40.jpg\",\"validation/predator/34.jpg\"]\n",
    "img_list = [Image.open (input_path + img_path) for img_path in validation_img_paths]\n",
    "validation_batch = np.stack([preprocess_input(np.array(img.resize((224,224))))\n",
    "        for img in img_list])\n",
    "pred_probs = model.predict (validation_batch)\n",
    "print ( pred_probs)\n",
    "fig, axs = plt.subplots (1, len(img_list), figsize=(20, 5))\n",
    "for i, img in enumerate(img_list):\n",
    "    ax = axs [i]\n",
    "    ax.axis ('off')\n",
    "    ax.set_title(\"{:.0f}% Alien, {:.0f}% Predator\".format (100*pred_probs [i,e], 100*pred_probs [i,1]))\n",
    "    ax.imshow(img)\n",
    "plt.show()"
   ]
  }
 ],
 "metadata": {
  "kernelspec": {
   "display_name": "Python 3 (ipykernel)",
   "language": "python",
   "name": "python3"
  },
  "language_info": {
   "codemirror_mode": {
    "name": "ipython",
    "version": 3
   },
   "file_extension": ".py",
   "mimetype": "text/x-python",
   "name": "python",
   "nbconvert_exporter": "python",
   "pygments_lexer": "ipython3",
   "version": "3.9.12"
  },
  "toc": {
   "base_numbering": 1,
   "nav_menu": {},
   "number_sections": true,
   "sideBar": true,
   "skip_h1_title": false,
   "title_cell": "Table of Contents",
   "title_sidebar": "Contents",
   "toc_cell": false,
   "toc_position": {},
   "toc_section_display": true,
   "toc_window_display": false
  },
  "varInspector": {
   "cols": {
    "lenName": 16,
    "lenType": 16,
    "lenVar": 40
   },
   "kernels_config": {
    "python": {
     "delete_cmd_postfix": "",
     "delete_cmd_prefix": "del ",
     "library": "var_list.py",
     "varRefreshCmd": "print(var_dic_list())"
    },
    "r": {
     "delete_cmd_postfix": ") ",
     "delete_cmd_prefix": "rm(",
     "library": "var_list.r",
     "varRefreshCmd": "cat(var_dic_list()) "
    }
   },
   "types_to_exclude": [
    "module",
    "function",
    "builtin_function_or_method",
    "instance",
    "_Feature"
   ],
   "window_display": false
  }
 },
 "nbformat": 4,
 "nbformat_minor": 5
}
