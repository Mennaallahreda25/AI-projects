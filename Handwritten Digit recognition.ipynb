{
 "cells": [
  {
   "cell_type": "markdown",
   "id": "2291ad8a",
   "metadata": {},
   "source": [
    "# DL Project - Handwritten Digit Recognition using Python:  \n",
    "\n",
    "https://data-flair.training/blogs/python-deep-learning-project-handwritten-digit-recognition/\n",
    "\n",
    "# MNIST database:\n",
    "The MNIST database (Modified National Institute of Standards and Technology database) is a large database of handwritten digits that is commonly used for training various image processing systems.\n",
    "The MIST database of handwritten digits has a training set of 60,000 examples, and a test set of 10,000 examples.\n",
    "\n",
    "We have :            \n",
    "• 60,000 28×28 training images\n",
    "• 10,000 28×28 test images\n",
    "\n",
    "Source Code:\n",
    "https://drive.google.com/file/d/1hJiOlxctFH3uL2yTqXU_1f6c0zLr8V_K/view"
   ]
  },
  {
   "cell_type": "markdown",
   "id": "66707fab",
   "metadata": {},
   "source": [
    "# MNIST Dataset"
   ]
  },
  {
   "cell_type": "code",
   "execution_count": null,
   "id": "e73210c8",
   "metadata": {},
   "outputs": [],
   "source": [
    "import matplotlib.pyplot as plt\n",
    "from keras.datasets import mist\n",
    "def plot_digit(X, y, idx):\n",
    "    img = X[idx]. reshape (28, 28)\n",
    "    plt.imshow(img)\n",
    "    plt.title('true label: %d' % y[id×]) #, cmap='Greys\n",
    "    plt.show()\n",
    "(train_x, train_y) , (test_x, test_y) = mnist. load data()\n",
    "for i in range(1,60000,500):\n",
    "    plot_digit(train_x, train_y, i)\n",
    "\n",
    "print(\"train_x.shape : \", train_x.shape)\n",
    "print(\"train y.shape :\" ‚train_y.shape)\n",
    "print(\"test_x.shape :\", test_x.shape)\n",
    "print(\"test y.shape :\"‚test y.shape)"
   ]
  },
  {
   "cell_type": "markdown",
   "id": "a91ceeda",
   "metadata": {},
   "source": [
    "# Files Structure: \n",
    "mnist.load_data() ->Input-> train_digit_recognizer.py ->Output-> mnist.h5               \n",
    "mnist.h5 ->Input-> gui_digit_recognizer.py ->Output-> 5, 96%   # يظهر الرقم مكتوب و الدقة له"
   ]
  },
  {
   "cell_type": "markdown",
   "id": "bdfba42d",
   "metadata": {},
   "source": [
    "# Train the digits\n",
    "train_digit_recognizer.py"
   ]
  },
  {
   "cell_type": "code",
   "execution_count": null,
   "id": "8b668387",
   "metadata": {},
   "outputs": [],
   "source": [
    "import keras\n",
    "from keras.datasets import mist \n",
    "from keras.models import Sequential\n",
    "from keras.layers import Dense, Dropout, Flatten \n",
    "from keras.layers import Conv2D, MaxPooling2D \n",
    "from keras import backend as K\n",
    "\n",
    "# the data, split between train and test sets\n",
    "(x_train, y_train), (×_test, y_test) = mist. load_data ()\n",
    "print (x_train shape, y_train.shape)\n",
    "X_train = x_train.reshape(x_train.shape [0], 28, 28, 1)\n",
    "X_test = x_test.reshape(x_test.shape [0], 28, 28, 1)\n",
    "input_shape = (28, 28, 1)\n",
    "# convert class vectors to binary class matrices\n",
    "y_train = keras.utils.to_categorical(y_train, 10)\n",
    "y_ test = keras.utils.to_categorical (y test, 10)\n",
    "\n",
    "×_train = x train. astype \"Float32\")\n",
    "×_test = × _test. astype( 'float32')\n",
    "x_train /= 255\n",
    "×_test /= 255 \n",
    "print ('x_train shape:', × train.shape) \n",
    "print(×_train.shape[0], 'train samples') \n",
    "print(×_test.shape [0], 'test samples')\n",
    "batch_size = 128\n",
    "num_classes = 10\n",
    "epochs = 10\n",
    "model = Sequential ()\n",
    "model.add(Conv2D (32, kernel_size=(5, 5), activation='relu', input_shape=input_shape))\n",
    "# input_shape = (28, 28, 1)\n",
    "model.add(MaxPooling2D(pool_size= (2, 2))) \n",
    "model.add(Conv2D(64, (3, 3), activation='relu')) \n",
    "model.add(MaxPooling2D (pool_size=(2, 2))) \n",
    "model.add(Flatten ( )) \n",
    "model.add(Dense (128, activation='relu')) \n",
    "model.add(Dropout (0.3))\n",
    "model. add (Dense (64, activations'relu')) \n",
    "model.add(Dropout (0.5)) \n",
    "model.add(Dense (num_classes, activation='softmax'))\n",
    "\n",
    "model.compile(loss=keras.losses.categorical_crossentropy,optimizer=keras.optimizers.Adadelta(),metrics=['accuracy'])\n",
    "hist = model.fit(x_train, y_train, batch_size=batch_size, epochs=epochs, verbose=1, validation_data=(x_test, y_test))\n",
    "print(\"The model has successfully trained\")\n",
    "score = model.evaluate(×_test, y_test, verbose=1)\n",
    "print('Test loss:', score [0])\n",
    "print('Test accuracy:', score [1])\n",
    "model.save('mnist.h5')\n",
    "print(\"Saving the model as mnist.h5\")\n"
   ]
  },
  {
   "cell_type": "markdown",
   "id": "72dd4b52",
   "metadata": {},
   "source": [
    "# GUI\n",
    "gui_digit_recognizer.py"
   ]
  },
  {
   "cell_type": "code",
   "execution_count": null,
   "id": "b1902e84",
   "metadata": {},
   "outputs": [],
   "source": [
    "from keras. models import load model \n",
    "from tkinter import * \n",
    "import tkinter as tk \n",
    "import win32gui\n",
    "from PIL import ImageGrab, Image \n",
    "import numpy as np\n",
    "model = load_model('mnist.h5')\n",
    "def predict_digit(img):\n",
    "    #resize image to 28×28 pixels\n",
    "    img = img.resize ( (28,28))\n",
    "    #convert rgb to grayscale\n",
    "    img = img. convert('L')\n",
    "    img = np.array(img)\n",
    "    #reshaping to support our model input and normalizing\n",
    "    img = img. reshape (1, 28, 28, 1)\n",
    "    img = img/255.0\n",
    "    #predicting the class\n",
    "    res = model.predict ([img])[0]\n",
    "    return np.arraygmax(res). max(res)\n",
    "\n",
    "class App(tk.Tk):\n",
    "    def __init__ (self):\n",
    "        tk.Tk.__init__(self)\n",
    "        self.x = self.y = 0\n",
    "        # Creating elements\n",
    "        self.canvas = tk.Canvas (self, width=300, height=300, bg = \"white\", cursor=\"cross\")\n",
    "        self. label = tk. Label (self, text=\"Draw..\", font=(\"Helvetica\", 48))\n",
    "        self.classify_btn = tk.Button(self, text = \"Recognise\", command = self.classify_handwriting)\n",
    "        self.button_clear = tk.Button(self, text = \"Clear\", command = self.clear_all)\n",
    "        # Grid structure\n",
    "        self.canvas.grid(row=0, column=0, pady=2, sticky=W, ) \n",
    "        self.label.grid(row=0, column=1, pady=2, pad×=2) \n",
    "        self.classify_btn.grid(row=1, column=1, pady=2, pad×=2) \n",
    "        self.button_clear.grid(row=1, column=0, pady=2)\n",
    "        #self.canvas.bind(\"‹Motion›\", self.start_pos) \n",
    "        self.canvas.bind(\"<B1-Motion>\", self.draw_lines)\n",
    "\n",
    "    def clear_all(self):\n",
    "        self.canvas.delete(\"all\")\n",
    "\n",
    "    def classify_handwriting(self):\n",
    "        HWND = self.canvas.winfo_id() # get the handle of the canvas\n",
    "        rect = win32gui.GetWindowRect (HWND) # get the coordinate of the canvas\n",
    "        a,b,c,d = rect\n",
    "        rect=(a+4, b+4, c-4, d-4)\n",
    "        im = ImageGrab.grab (rect)\n",
    "        digit, acc = predict_digit(im)\n",
    "        self.label.configure(text= str(digit)+', '+ str(int (acc*100))+'%') \n",
    "    def draw_lines(self, event):\n",
    "        self.x = event.x\n",
    "        self.y = event.y\n",
    "        r=8\n",
    "        self.canvas.create_oval (self.x-r, self.y-r, self.x + r, self.y + r, fill='black')\n",
    "app = App ()\n",
    "mainloop ()\n"
   ]
  },
  {
   "cell_type": "markdown",
   "id": "ceea8233",
   "metadata": {},
   "source": [
    "# References: \n",
    "\n",
    "https://data-flair.training/blogs/python-deep-learning-project-handwritten-digit-recognition/\n",
    "\n",
    "http://yann.lecun.com/exdb/mnist/\n",
    "\n",
    "https://drive.google.com/file/d/1hJiOlxctFH3uL2yTqXU_1f6c0zLr8V_K/view\n",
    "\n"
   ]
  },
  {
   "cell_type": "code",
   "execution_count": null,
   "id": "7a34878e",
   "metadata": {},
   "outputs": [],
   "source": []
  }
 ],
 "metadata": {
  "kernelspec": {
   "display_name": "Python 3 (ipykernel)",
   "language": "python",
   "name": "python3"
  },
  "language_info": {
   "codemirror_mode": {
    "name": "ipython",
    "version": 3
   },
   "file_extension": ".py",
   "mimetype": "text/x-python",
   "name": "python",
   "nbconvert_exporter": "python",
   "pygments_lexer": "ipython3",
   "version": "3.9.12"
  },
  "toc": {
   "base_numbering": 1,
   "nav_menu": {},
   "number_sections": true,
   "sideBar": true,
   "skip_h1_title": false,
   "title_cell": "Table of Contents",
   "title_sidebar": "Contents",
   "toc_cell": false,
   "toc_position": {},
   "toc_section_display": true,
   "toc_window_display": false
  },
  "varInspector": {
   "cols": {
    "lenName": 16,
    "lenType": 16,
    "lenVar": 40
   },
   "kernels_config": {
    "python": {
     "delete_cmd_postfix": "",
     "delete_cmd_prefix": "del ",
     "library": "var_list.py",
     "varRefreshCmd": "print(var_dic_list())"
    },
    "r": {
     "delete_cmd_postfix": ") ",
     "delete_cmd_prefix": "rm(",
     "library": "var_list.r",
     "varRefreshCmd": "cat(var_dic_list()) "
    }
   },
   "types_to_exclude": [
    "module",
    "function",
    "builtin_function_or_method",
    "instance",
    "_Feature"
   ],
   "window_display": false
  }
 },
 "nbformat": 4,
 "nbformat_minor": 5
}
