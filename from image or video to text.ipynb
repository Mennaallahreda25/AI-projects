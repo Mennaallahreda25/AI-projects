{
 "cells": [
  {
   "cell_type": "markdown",
   "id": "80f3876d",
   "metadata": {},
   "source": [
    "# first way"
   ]
  },
  {
   "cell_type": "code",
   "execution_count": 1,
   "id": "b2da64c2",
   "metadata": {
    "ExecuteTime": {
     "end_time": "2023-02-02T20:05:08.037790Z",
     "start_time": "2023-02-02T20:03:42.089543Z"
    }
   },
   "outputs": [
    {
     "name": "stdout",
     "output_type": "stream",
     "text": [
      "Collecting the"
     ]
    },
    {
     "name": "stderr",
     "output_type": "stream",
     "text": [
      "WARNING: Ignoring invalid distribution -pencv-python-headless (c:\\users\\hp\\anaconda3\\lib\\site-packages)\n",
      "WARNING: Ignoring invalid distribution -pencv-python-headless (c:\\users\\hp\\anaconda3\\lib\\site-packages)\n",
      "WARNING: Ignoring invalid distribution -pencv-python-headless (c:\\users\\hp\\anaconda3\\lib\\site-packages)\n",
      "WARNING: Ignoring invalid distribution -pencv-python-headless (c:\\users\\hp\\anaconda3\\lib\\site-packages)\n",
      "WARNING: Ignoring invalid distribution -pencv-python-headless (c:\\users\\hp\\anaconda3\\lib\\site-packages)\n",
      "WARNING: Ignoring invalid distribution -pencv-python-headless (c:\\users\\hp\\anaconda3\\lib\\site-packages)\n",
      "WARNING: Ignoring invalid distribution -pencv-python-headless (c:\\users\\hp\\anaconda3\\lib\\site-packages)\n",
      "WARNING: Ignoring invalid distribution -pencv-python-headless (c:\\users\\hp\\anaconda3\\lib\\site-packages)\n",
      "WARNING: Ignoring invalid distribution -pencv-python-headless (c:\\users\\hp\\anaconda3\\lib\\site-packages)\n",
      "\n",
      "[notice] A new release of pip available: 22.3.1 -> 23.0\n",
      "[notice] To update, run: python.exe -m pip install --upgrade pip\n"
     ]
    },
    {
     "name": "stdout",
     "output_type": "stream",
     "text": [
      "\n",
      "  Downloading the-0.1.5.tar.gz (10 kB)\n",
      "  Preparing metadata (setup.py): started\n",
      "  Preparing metadata (setup.py): finished with status 'done'\n",
      "Collecting Tesseract\n",
      "  Downloading tesseract-0.1.3.tar.gz (45.6 MB)\n",
      "     ---------------------------------------- 45.6/45.6 MB 1.5 MB/s eta 0:00:00\n",
      "  Preparing metadata (setup.py): started\n",
      "  Preparing metadata (setup.py): finished with status 'done'\n",
      "Collecting app\n",
      "  Downloading app-0.0.1.zip (2.2 kB)\n",
      "  Preparing metadata (setup.py): started\n",
      "  Preparing metadata (setup.py): finished with status 'done'\n",
      "Building wheels for collected packages: the, Tesseract, app\n",
      "  Building wheel for the (setup.py): started\n",
      "  Building wheel for the (setup.py): finished with status 'done'\n",
      "  Created wheel for the: filename=the-0.1.5-py3-none-any.whl size=6005 sha256=6b73871b2feea02ae5ed1f3c81056e91c4f1152595065cfdccd84e0fd2735e96\n",
      "  Stored in directory: c:\\users\\hp\\appdata\\local\\pip\\cache\\wheels\\b9\\14\\e0\\dcc32c062e4ab78382e8cb32a768868d6c640a34d17540501e\n",
      "  Building wheel for Tesseract (setup.py): started\n",
      "  Building wheel for Tesseract (setup.py): finished with status 'done'\n",
      "  Created wheel for Tesseract: filename=tesseract-0.1.3-py3-none-any.whl size=45562571 sha256=dfd168033841ffd850bfa1dd64727b6b8413dd0927b5f27f377122938e20b9ac\n",
      "  Stored in directory: c:\\users\\hp\\appdata\\local\\pip\\cache\\wheels\\d6\\d9\\8d\\8f25140c367f80dac44190e77ea4934ddc1ad9b4382a2f79e2\n",
      "  Building wheel for app (setup.py): started\n",
      "  Building wheel for app (setup.py): finished with status 'done'\n",
      "  Created wheel for app: filename=app-0.0.1-py3-none-any.whl size=1516 sha256=5689ae2670155ec22a7d7d630d5f46426be9a92f0a40b295d855739d90c147d5\n",
      "  Stored in directory: c:\\users\\hp\\appdata\\local\\pip\\cache\\wheels\\a2\\fc\\04\\745924828f7830c0e6f3ed87760895fc7fcd2964b969d4badf\n",
      "Successfully built the Tesseract app\n",
      "Installing collected packages: the, Tesseract, app\n",
      "Successfully installed Tesseract-0.1.3 app-0.0.1 the-0.1.5\n"
     ]
    }
   ],
   "source": [
    "!pip install the Tesseract app"
   ]
  },
  {
   "cell_type": "code",
   "execution_count": 21,
   "id": "ff8751a5",
   "metadata": {
    "ExecuteTime": {
     "end_time": "2023-02-02T21:05:24.613775Z",
     "start_time": "2023-02-02T21:05:19.984287Z"
    }
   },
   "outputs": [
    {
     "name": "stdout",
     "output_type": "stream",
     "text": [
      "CY)\n",
      "\n",
      "©\n",
      "\n",
      "LFS\n",
      "\n",
      "[=\n",
      "\n",
      "&\n",
      ".\n",
      "\n",
      "FER CRISPS OIF SPOOF OP OFOUGHE\n",
      "ay\n",
      "\n",
      "Mtr/s. Menna Allah Reda Abd El-wahed Hassan Mostafa has completed\n",
      "the certified Course in ICDL (International Computer Driving License)\n",
      "Program in a training period (30) Thirty Contact Hours , and her/ his Grade\n",
      "is (Excellent), in the period from aoe to 30/5/2022.\n",
      "\n",
      "This certificate from us so,,,\n",
      "\n",
      "\\\n",
      "D\n",
      "\n",
      "DQROLR LEFT LOG LEE LLD.\n",
      "\n",
      "&\n",
      "\n",
      "\n"
     ]
    }
   ],
   "source": [
    "import pytesseract\n",
    "pytesseract.pytesseract.tesseract_cmd = \"C:\\\\Program Files\\\\Tesseract-OCR\\\\tesseract.exe\"\n",
    "print(pytesseract.image_to_string('WhatsApp Image 2023-02-02 at 02.20.06.jpeg')) "
   ]
  },
  {
   "cell_type": "code",
   "execution_count": null,
   "id": "63c441ed",
   "metadata": {},
   "outputs": [],
   "source": []
  },
  {
   "cell_type": "markdown",
   "id": "01bee42d",
   "metadata": {},
   "source": [
    "# second way"
   ]
  },
  {
   "cell_type": "code",
   "execution_count": 22,
   "id": "0451a696",
   "metadata": {
    "ExecuteTime": {
     "end_time": "2023-02-02T21:05:40.557045Z",
     "start_time": "2023-02-02T21:05:40.550060Z"
    }
   },
   "outputs": [],
   "source": [
    "from PIL import Image\n",
    "from pytesseract import image_to_string\n",
    "import pytesseract"
   ]
  },
  {
   "cell_type": "code",
   "execution_count": 25,
   "id": "666a49f4",
   "metadata": {
    "ExecuteTime": {
     "end_time": "2023-02-02T21:23:51.361937Z",
     "start_time": "2023-02-02T21:23:50.746399Z"
    },
    "scrolled": false
   },
   "outputs": [
    {
     "ename": "TesseractError",
     "evalue": "(1, 'Error opening data file C:\\\\Program Files\\\\Tesseract-OCR/tessdata/ara.traineddata Please make sure the TESSDATA_PREFIX environment variable is set to your \"tessdata\" directory. Failed loading language \\'ara\\' Tesseract couldn\\'t load any languages! Could not initialize tesseract.')",
     "output_type": "error",
     "traceback": [
      "\u001b[1;31m---------------------------------------------------------------------------\u001b[0m",
      "\u001b[1;31mTesseractError\u001b[0m                            Traceback (most recent call last)",
      "Input \u001b[1;32mIn [25]\u001b[0m, in \u001b[0;36m<cell line: 2>\u001b[1;34m()\u001b[0m\n\u001b[0;32m      1\u001b[0m image\u001b[38;5;241m=\u001b[39m Image\u001b[38;5;241m.\u001b[39mopen(\u001b[38;5;124m\"\u001b[39m\u001b[38;5;124mWhatsApp Image 2023-02-02 at 22.14.35.jpeg\u001b[39m\u001b[38;5;124m\"\u001b[39m)\n\u001b[1;32m----> 2\u001b[0m text\u001b[38;5;241m=\u001b[39m \u001b[43mimage_to_string\u001b[49m\u001b[43m(\u001b[49m\u001b[43mimage\u001b[49m\u001b[43m,\u001b[49m\u001b[43m \u001b[49m\u001b[43mlang\u001b[49m\u001b[38;5;241;43m=\u001b[39;49m\u001b[38;5;124;43m\"\u001b[39;49m\u001b[38;5;124;43mara\u001b[39;49m\u001b[38;5;124;43m\"\u001b[39;49m\u001b[43m)\u001b[49m\n\u001b[0;32m      3\u001b[0m \u001b[38;5;28mprint\u001b[39m(text)\n",
      "File \u001b[1;32m~\\anaconda3\\lib\\site-packages\\pytesseract\\pytesseract.py:423\u001b[0m, in \u001b[0;36mimage_to_string\u001b[1;34m(image, lang, config, nice, output_type, timeout)\u001b[0m\n\u001b[0;32m    418\u001b[0m \u001b[38;5;124;03m\"\"\"\u001b[39;00m\n\u001b[0;32m    419\u001b[0m \u001b[38;5;124;03mReturns the result of a Tesseract OCR run on the provided image to string\u001b[39;00m\n\u001b[0;32m    420\u001b[0m \u001b[38;5;124;03m\"\"\"\u001b[39;00m\n\u001b[0;32m    421\u001b[0m args \u001b[38;5;241m=\u001b[39m [image, \u001b[38;5;124m'\u001b[39m\u001b[38;5;124mtxt\u001b[39m\u001b[38;5;124m'\u001b[39m, lang, config, nice, timeout]\n\u001b[1;32m--> 423\u001b[0m \u001b[38;5;28;01mreturn\u001b[39;00m \u001b[43m{\u001b[49m\n\u001b[0;32m    424\u001b[0m \u001b[43m    \u001b[49m\u001b[43mOutput\u001b[49m\u001b[38;5;241;43m.\u001b[39;49m\u001b[43mBYTES\u001b[49m\u001b[43m:\u001b[49m\u001b[43m \u001b[49m\u001b[38;5;28;43;01mlambda\u001b[39;49;00m\u001b[43m:\u001b[49m\u001b[43m \u001b[49m\u001b[43mrun_and_get_output\u001b[49m\u001b[43m(\u001b[49m\u001b[38;5;241;43m*\u001b[39;49m\u001b[43m(\u001b[49m\u001b[43margs\u001b[49m\u001b[43m \u001b[49m\u001b[38;5;241;43m+\u001b[39;49m\u001b[43m \u001b[49m\u001b[43m[\u001b[49m\u001b[38;5;28;43;01mTrue\u001b[39;49;00m\u001b[43m]\u001b[49m\u001b[43m)\u001b[49m\u001b[43m)\u001b[49m\u001b[43m,\u001b[49m\n\u001b[0;32m    425\u001b[0m \u001b[43m    \u001b[49m\u001b[43mOutput\u001b[49m\u001b[38;5;241;43m.\u001b[39;49m\u001b[43mDICT\u001b[49m\u001b[43m:\u001b[49m\u001b[43m \u001b[49m\u001b[38;5;28;43;01mlambda\u001b[39;49;00m\u001b[43m:\u001b[49m\u001b[43m \u001b[49m\u001b[43m{\u001b[49m\u001b[38;5;124;43m'\u001b[39;49m\u001b[38;5;124;43mtext\u001b[39;49m\u001b[38;5;124;43m'\u001b[39;49m\u001b[43m:\u001b[49m\u001b[43m \u001b[49m\u001b[43mrun_and_get_output\u001b[49m\u001b[43m(\u001b[49m\u001b[38;5;241;43m*\u001b[39;49m\u001b[43margs\u001b[49m\u001b[43m)\u001b[49m\u001b[43m}\u001b[49m\u001b[43m,\u001b[49m\n\u001b[0;32m    426\u001b[0m \u001b[43m    \u001b[49m\u001b[43mOutput\u001b[49m\u001b[38;5;241;43m.\u001b[39;49m\u001b[43mSTRING\u001b[49m\u001b[43m:\u001b[49m\u001b[43m \u001b[49m\u001b[38;5;28;43;01mlambda\u001b[39;49;00m\u001b[43m:\u001b[49m\u001b[43m \u001b[49m\u001b[43mrun_and_get_output\u001b[49m\u001b[43m(\u001b[49m\u001b[38;5;241;43m*\u001b[39;49m\u001b[43margs\u001b[49m\u001b[43m)\u001b[49m\u001b[43m,\u001b[49m\n\u001b[0;32m    427\u001b[0m \u001b[43m\u001b[49m\u001b[43m}\u001b[49m\u001b[43m[\u001b[49m\u001b[43moutput_type\u001b[49m\u001b[43m]\u001b[49m\u001b[43m(\u001b[49m\u001b[43m)\u001b[49m\n",
      "File \u001b[1;32m~\\anaconda3\\lib\\site-packages\\pytesseract\\pytesseract.py:426\u001b[0m, in \u001b[0;36mimage_to_string.<locals>.<lambda>\u001b[1;34m()\u001b[0m\n\u001b[0;32m    418\u001b[0m \u001b[38;5;124;03m\"\"\"\u001b[39;00m\n\u001b[0;32m    419\u001b[0m \u001b[38;5;124;03mReturns the result of a Tesseract OCR run on the provided image to string\u001b[39;00m\n\u001b[0;32m    420\u001b[0m \u001b[38;5;124;03m\"\"\"\u001b[39;00m\n\u001b[0;32m    421\u001b[0m args \u001b[38;5;241m=\u001b[39m [image, \u001b[38;5;124m'\u001b[39m\u001b[38;5;124mtxt\u001b[39m\u001b[38;5;124m'\u001b[39m, lang, config, nice, timeout]\n\u001b[0;32m    423\u001b[0m \u001b[38;5;28;01mreturn\u001b[39;00m {\n\u001b[0;32m    424\u001b[0m     Output\u001b[38;5;241m.\u001b[39mBYTES: \u001b[38;5;28;01mlambda\u001b[39;00m: run_and_get_output(\u001b[38;5;241m*\u001b[39m(args \u001b[38;5;241m+\u001b[39m [\u001b[38;5;28;01mTrue\u001b[39;00m])),\n\u001b[0;32m    425\u001b[0m     Output\u001b[38;5;241m.\u001b[39mDICT: \u001b[38;5;28;01mlambda\u001b[39;00m: {\u001b[38;5;124m'\u001b[39m\u001b[38;5;124mtext\u001b[39m\u001b[38;5;124m'\u001b[39m: run_and_get_output(\u001b[38;5;241m*\u001b[39margs)},\n\u001b[1;32m--> 426\u001b[0m     Output\u001b[38;5;241m.\u001b[39mSTRING: \u001b[38;5;28;01mlambda\u001b[39;00m: \u001b[43mrun_and_get_output\u001b[49m\u001b[43m(\u001b[49m\u001b[38;5;241;43m*\u001b[39;49m\u001b[43margs\u001b[49m\u001b[43m)\u001b[49m,\n\u001b[0;32m    427\u001b[0m }[output_type]()\n",
      "File \u001b[1;32m~\\anaconda3\\lib\\site-packages\\pytesseract\\pytesseract.py:288\u001b[0m, in \u001b[0;36mrun_and_get_output\u001b[1;34m(image, extension, lang, config, nice, timeout, return_bytes)\u001b[0m\n\u001b[0;32m    277\u001b[0m \u001b[38;5;28;01mwith\u001b[39;00m save(image) \u001b[38;5;28;01mas\u001b[39;00m (temp_name, input_filename):\n\u001b[0;32m    278\u001b[0m     kwargs \u001b[38;5;241m=\u001b[39m {\n\u001b[0;32m    279\u001b[0m         \u001b[38;5;124m'\u001b[39m\u001b[38;5;124minput_filename\u001b[39m\u001b[38;5;124m'\u001b[39m: input_filename,\n\u001b[0;32m    280\u001b[0m         \u001b[38;5;124m'\u001b[39m\u001b[38;5;124moutput_filename_base\u001b[39m\u001b[38;5;124m'\u001b[39m: temp_name,\n\u001b[1;32m   (...)\u001b[0m\n\u001b[0;32m    285\u001b[0m         \u001b[38;5;124m'\u001b[39m\u001b[38;5;124mtimeout\u001b[39m\u001b[38;5;124m'\u001b[39m: timeout,\n\u001b[0;32m    286\u001b[0m     }\n\u001b[1;32m--> 288\u001b[0m     run_tesseract(\u001b[38;5;241m*\u001b[39m\u001b[38;5;241m*\u001b[39mkwargs)\n\u001b[0;32m    289\u001b[0m     filename \u001b[38;5;241m=\u001b[39m \u001b[38;5;124mf\u001b[39m\u001b[38;5;124m\"\u001b[39m\u001b[38;5;132;01m{\u001b[39;00mkwargs[\u001b[38;5;124m'\u001b[39m\u001b[38;5;124moutput_filename_base\u001b[39m\u001b[38;5;124m'\u001b[39m]\u001b[38;5;132;01m}\u001b[39;00m\u001b[38;5;132;01m{\u001b[39;00mextsep\u001b[38;5;132;01m}\u001b[39;00m\u001b[38;5;132;01m{\u001b[39;00mextension\u001b[38;5;132;01m}\u001b[39;00m\u001b[38;5;124m\"\u001b[39m\n\u001b[0;32m    290\u001b[0m     \u001b[38;5;28;01mwith\u001b[39;00m \u001b[38;5;28mopen\u001b[39m(filename, \u001b[38;5;124m'\u001b[39m\u001b[38;5;124mrb\u001b[39m\u001b[38;5;124m'\u001b[39m) \u001b[38;5;28;01mas\u001b[39;00m output_file:\n",
      "File \u001b[1;32m~\\anaconda3\\lib\\site-packages\\pytesseract\\pytesseract.py:264\u001b[0m, in \u001b[0;36mrun_tesseract\u001b[1;34m(input_filename, output_filename_base, extension, lang, config, nice, timeout)\u001b[0m\n\u001b[0;32m    262\u001b[0m \u001b[38;5;28;01mwith\u001b[39;00m timeout_manager(proc, timeout) \u001b[38;5;28;01mas\u001b[39;00m error_string:\n\u001b[0;32m    263\u001b[0m     \u001b[38;5;28;01mif\u001b[39;00m proc\u001b[38;5;241m.\u001b[39mreturncode:\n\u001b[1;32m--> 264\u001b[0m         \u001b[38;5;28;01mraise\u001b[39;00m TesseractError(proc\u001b[38;5;241m.\u001b[39mreturncode, get_errors(error_string))\n",
      "\u001b[1;31mTesseractError\u001b[0m: (1, 'Error opening data file C:\\\\Program Files\\\\Tesseract-OCR/tessdata/ara.traineddata Please make sure the TESSDATA_PREFIX environment variable is set to your \"tessdata\" directory. Failed loading language \\'ara\\' Tesseract couldn\\'t load any languages! Could not initialize tesseract.')"
     ]
    }
   ],
   "source": [
    "image= Image.open(\"WhatsApp Image 2023-02-02 at 22.14.35.jpeg\")\n",
    "text= image_to_string(image, lang=\"ara\")\n",
    "print(text) "
   ]
  },
  {
   "cell_type": "code",
   "execution_count": null,
   "id": "5a6ba6eb",
   "metadata": {},
   "outputs": [],
   "source": [
    "file= open(\"download.txt\", \"w\")\n",
    "text= repr(text)\n",
    "file.write(text)\n",
    "file.close"
   ]
  },
  {
   "cell_type": "markdown",
   "id": "5a72fc25",
   "metadata": {},
   "source": [
    "# another way"
   ]
  },
  {
   "cell_type": "code",
   "execution_count": 31,
   "id": "547980d8",
   "metadata": {
    "ExecuteTime": {
     "end_time": "2023-02-02T22:01:13.758850Z",
     "start_time": "2023-02-02T22:00:12.139665Z"
    },
    "scrolled": true
   },
   "outputs": [
    {
     "name": "stdout",
     "output_type": "stream",
     "text": [
      "Requirement already satisfied: ArabicOcr in c:\\users\\hp\\anaconda3\\lib\\site-packages (1.1.6)\n",
      "Requirement already satisfied: easyocr in c:\\users\\hp\\anaconda3\\lib\\site-packages (from ArabicOcr) (1.6.2)\n",
      "Collecting opencv-python-headless<=4.5.4.60\n",
      "  Using cached opencv_python_headless-4.5.4.60-cp39-cp39-win_amd64.whl (35.0 MB)\n",
      "Requirement already satisfied: numpy in c:\\users\\hp\\anaconda3\\lib\\site-packages (from easyocr->ArabicOcr) (1.22.4)\n",
      "Requirement already satisfied: PyYAML in c:\\users\\hp\\anaconda3\\lib\\site-packages (from easyocr->ArabicOcr) (6.0)\n",
      "Requirement already satisfied: pyclipper in c:\\users\\hp\\anaconda3\\lib\\site-packages (from easyocr->ArabicOcr) (1.3.0.post4)\n",
      "Requirement already satisfied: ninja in c:\\users\\hp\\anaconda3\\lib\\site-packages (from easyocr->ArabicOcr) (1.11.1)\n",
      "Requirement already satisfied: scipy in c:\\users\\hp\\anaconda3\\lib\\site-packages (from easyocr->ArabicOcr) (1.7.3)\n",
      "Requirement already satisfied: python-bidi in c:\\users\\hp\\anaconda3\\lib\\site-packages (from easyocr->ArabicOcr) (0.4.2)\n",
      "Requirement already satisfied: Shapely in c:\\users\\hp\\anaconda3\\lib\\site-packages (from easyocr->ArabicOcr) (1.8.5.post1)\n",
      "Requirement already satisfied: Pillow in c:\\users\\hp\\anaconda3\\lib\\site-packages (from easyocr->ArabicOcr) (9.0.1)\n",
      "Requirement already satisfied: torch in c:\\users\\hp\\anaconda3\\lib\\site-packages (from easyocr->ArabicOcr) (1.13.0)\n",
      "Requirement already satisfied: torchvision>=0.5 in c:\\users\\hp\\anaconda3\\lib\\site-packages (from easyocr->ArabicOcr) (0.14.0)\n",
      "Requirement already satisfied: scikit-image in c:\\users\\hp\\anaconda3\\lib\\site-packages (from easyocr->ArabicOcr) (0.19.2)\n",
      "Requirement already satisfied: requests in c:\\users\\hp\\anaconda3\\lib\\site-packages (from torchvision>=0.5->easyocr->ArabicOcr) (2.27.1)\n",
      "Requirement already satisfied: typing-extensions in c:\\users\\hp\\anaconda3\\lib\\site-packages (from torchvision>=0.5->easyocr->ArabicOcr) (4.1.1)\n",
      "Requirement already satisfied: six in c:\\users\\hp\\anaconda3\\lib\\site-packages (from python-bidi->easyocr->ArabicOcr) (1.16.0)\n",
      "Requirement already satisfied: imageio>=2.4.1 in c:\\users\\hp\\anaconda3\\lib\\site-packages (from scikit-image->easyocr->ArabicOcr) (2.9.0)\n",
      "Requirement already satisfied: networkx>=2.2 in c:\\users\\hp\\anaconda3\\lib\\site-packages (from scikit-image->easyocr->ArabicOcr) (2.7.1)\n",
      "Requirement already satisfied: tifffile>=2019.7.26 in c:\\users\\hp\\anaconda3\\lib\\site-packages (from scikit-image->easyocr->ArabicOcr) (2021.7.2)\n",
      "Requirement already satisfied: packaging>=20.0 in c:\\users\\hp\\anaconda3\\lib\\site-packages (from scikit-image->easyocr->ArabicOcr) (21.3)\n",
      "Requirement already satisfied: PyWavelets>=1.1.1 in c:\\users\\hp\\anaconda3\\lib\\site-packages (from scikit-image->easyocr->ArabicOcr) (1.3.0)\n",
      "Requirement already satisfied: pyparsing!=3.0.5,>=2.0.2 in c:\\users\\hp\\anaconda3\\lib\\site-packages (from packaging>=20.0->scikit-image->easyocr->ArabicOcr) (3.0.4)\n",
      "Requirement already satisfied: certifi>=2017.4.17 in c:\\users\\hp\\anaconda3\\lib\\site-packages (from requests->torchvision>=0.5->easyocr->ArabicOcr) (2021.10.8)\n",
      "Requirement already satisfied: charset-normalizer~=2.0.0 in c:\\users\\hp\\anaconda3\\lib\\site-packages (from requests->torchvision>=0.5->easyocr->ArabicOcr) (2.0.4)\n",
      "Requirement already satisfied: idna<4,>=2.5 in c:\\users\\hp\\anaconda3\\lib\\site-packages (from requests->torchvision>=0.5->easyocr->ArabicOcr) (2.10)\n",
      "Requirement already satisfied: urllib3<1.27,>=1.21.1 in c:\\users\\hp\\anaconda3\\lib\\site-packages (from requests->torchvision>=0.5->easyocr->ArabicOcr) (1.26.9)\n",
      "Installing collected packages: opencv-python-headless\n",
      "Successfully installed opencv-python-headless-4.5.4.60\n"
     ]
    },
    {
     "name": "stderr",
     "output_type": "stream",
     "text": [
      "WARNING: Ignoring invalid distribution -pencv-python-headless (c:\\users\\hp\\anaconda3\\lib\\site-packages)\n",
      "WARNING: Ignoring invalid distribution -pencv-python-headless (c:\\users\\hp\\anaconda3\\lib\\site-packages)\n",
      "WARNING: Ignoring invalid distribution -pencv-python-headless (c:\\users\\hp\\anaconda3\\lib\\site-packages)\n",
      "WARNING: Ignoring invalid distribution -pencv-python-headless (c:\\users\\hp\\anaconda3\\lib\\site-packages)\n",
      "WARNING: Ignoring invalid distribution -pencv-python-headless (c:\\users\\hp\\anaconda3\\lib\\site-packages)\n",
      "WARNING: Ignoring invalid distribution -pencv-python-headless (c:\\users\\hp\\anaconda3\\lib\\site-packages)\n",
      "WARNING: Ignoring invalid distribution -pencv-python-headless (c:\\users\\hp\\anaconda3\\lib\\site-packages)\n",
      "\n",
      "[notice] A new release of pip available: 22.3.1 -> 23.0\n",
      "[notice] To update, run: python.exe -m pip install --upgrade pip\n"
     ]
    }
   ],
   "source": [
    "!pip install ArabicOcr"
   ]
  },
  {
   "cell_type": "code",
   "execution_count": 37,
   "id": "1c8b963b",
   "metadata": {
    "ExecuteTime": {
     "end_time": "2023-02-02T22:17:35.601990Z",
     "start_time": "2023-02-02T22:17:35.384576Z"
    }
   },
   "outputs": [
    {
     "ename": "ModuleNotFoundError",
     "evalue": "No module named 'torch.backends'",
     "output_type": "error",
     "traceback": [
      "\u001b[1;31m---------------------------------------------------------------------------\u001b[0m",
      "\u001b[1;31mModuleNotFoundError\u001b[0m                       Traceback (most recent call last)",
      "Input \u001b[1;32mIn [37]\u001b[0m, in \u001b[0;36m<cell line: 1>\u001b[1;34m()\u001b[0m\n\u001b[1;32m----> 1\u001b[0m \u001b[38;5;28;01mfrom\u001b[39;00m \u001b[38;5;21;01mArabicOcr\u001b[39;00m \u001b[38;5;28;01mimport\u001b[39;00m arabicocr\n\u001b[0;32m      2\u001b[0m image_path\u001b[38;5;241m=\u001b[39m\u001b[38;5;124m'\u001b[39m\u001b[38;5;124mWhatsApp Image 2023-02-02 at 22.14.35.jpeg\u001b[39m\u001b[38;5;124m'\u001b[39m\n\u001b[0;32m      3\u001b[0m out_image\u001b[38;5;241m=\u001b[39m\u001b[38;5;124m'\u001b[39m\u001b[38;5;124mout.jpeg\u001b[39m\u001b[38;5;124m'\u001b[39m\n",
      "File \u001b[1;32m~\\anaconda3\\lib\\site-packages\\ArabicOcr\\arabicocr.py:1\u001b[0m, in \u001b[0;36m<module>\u001b[1;34m\u001b[0m\n\u001b[1;32m----> 1\u001b[0m \u001b[38;5;28;01mfrom\u001b[39;00m \u001b[38;5;21;01measyocr\u001b[39;00m \u001b[38;5;28;01mimport\u001b[39;00m Reader\n\u001b[0;32m      2\u001b[0m \u001b[38;5;28;01mimport\u001b[39;00m \u001b[38;5;21;01mcv2\u001b[39;00m\n\u001b[0;32m      3\u001b[0m \u001b[38;5;28;01mdef\u001b[39;00m \u001b[38;5;21mcleanup_text\u001b[39m(text):\n\u001b[0;32m      4\u001b[0m \t\u001b[38;5;66;03m# strip out non-ASCII text so we can draw the text on the image\u001b[39;00m\n\u001b[0;32m      5\u001b[0m \t\u001b[38;5;66;03m# using OpenCV\u001b[39;00m\n",
      "File \u001b[1;32m~\\anaconda3\\lib\\site-packages\\easyocr\\__init__.py:1\u001b[0m, in \u001b[0;36m<module>\u001b[1;34m\u001b[0m\n\u001b[1;32m----> 1\u001b[0m \u001b[38;5;28;01mfrom\u001b[39;00m \u001b[38;5;21;01m.\u001b[39;00m\u001b[38;5;21;01measyocr\u001b[39;00m \u001b[38;5;28;01mimport\u001b[39;00m Reader\n\u001b[0;32m      3\u001b[0m __version__ \u001b[38;5;241m=\u001b[39m \u001b[38;5;124m'\u001b[39m\u001b[38;5;124m1.6.2\u001b[39m\u001b[38;5;124m'\u001b[39m\n",
      "File \u001b[1;32m~\\anaconda3\\lib\\site-packages\\easyocr\\easyocr.py:3\u001b[0m, in \u001b[0;36m<module>\u001b[1;34m\u001b[0m\n\u001b[0;32m      1\u001b[0m \u001b[38;5;66;03m# -*- coding: utf-8 -*-\u001b[39;00m\n\u001b[1;32m----> 3\u001b[0m \u001b[38;5;28;01mfrom\u001b[39;00m \u001b[38;5;21;01m.\u001b[39;00m\u001b[38;5;21;01mrecognition\u001b[39;00m \u001b[38;5;28;01mimport\u001b[39;00m get_recognizer, get_text\n\u001b[0;32m      4\u001b[0m \u001b[38;5;28;01mfrom\u001b[39;00m \u001b[38;5;21;01m.\u001b[39;00m\u001b[38;5;21;01mutils\u001b[39;00m \u001b[38;5;28;01mimport\u001b[39;00m group_text_box, get_image_list, calculate_md5, get_paragraph,\\\n\u001b[0;32m      5\u001b[0m                    download_and_unzip, printProgressBar, diff, reformat_input,\\\n\u001b[0;32m      6\u001b[0m                    make_rotated_img_list, set_result_with_confidence,\\\n\u001b[0;32m      7\u001b[0m                    reformat_input_batched\n\u001b[0;32m      8\u001b[0m \u001b[38;5;28;01mfrom\u001b[39;00m \u001b[38;5;21;01m.\u001b[39;00m\u001b[38;5;21;01mconfig\u001b[39;00m \u001b[38;5;28;01mimport\u001b[39;00m \u001b[38;5;241m*\u001b[39m\n",
      "File \u001b[1;32m~\\anaconda3\\lib\\site-packages\\easyocr\\recognition.py:3\u001b[0m, in \u001b[0;36m<module>\u001b[1;34m\u001b[0m\n\u001b[0;32m      1\u001b[0m \u001b[38;5;28;01mfrom\u001b[39;00m \u001b[38;5;21;01mPIL\u001b[39;00m \u001b[38;5;28;01mimport\u001b[39;00m Image\n\u001b[0;32m      2\u001b[0m \u001b[38;5;28;01mimport\u001b[39;00m \u001b[38;5;21;01mtorch\u001b[39;00m\n\u001b[1;32m----> 3\u001b[0m \u001b[38;5;28;01mimport\u001b[39;00m \u001b[38;5;21;01mtorch\u001b[39;00m\u001b[38;5;21;01m.\u001b[39;00m\u001b[38;5;21;01mbackends\u001b[39;00m\u001b[38;5;21;01m.\u001b[39;00m\u001b[38;5;21;01mcudnn\u001b[39;00m \u001b[38;5;28;01mas\u001b[39;00m \u001b[38;5;21;01mcudnn\u001b[39;00m\n\u001b[0;32m      4\u001b[0m \u001b[38;5;28;01mimport\u001b[39;00m \u001b[38;5;21;01mtorch\u001b[39;00m\u001b[38;5;21;01m.\u001b[39;00m\u001b[38;5;21;01mutils\u001b[39;00m\u001b[38;5;21;01m.\u001b[39;00m\u001b[38;5;21;01mdata\u001b[39;00m\n\u001b[0;32m      5\u001b[0m \u001b[38;5;28;01mimport\u001b[39;00m \u001b[38;5;21;01mtorch\u001b[39;00m\u001b[38;5;21;01m.\u001b[39;00m\u001b[38;5;21;01mnn\u001b[39;00m\u001b[38;5;21;01m.\u001b[39;00m\u001b[38;5;21;01mfunctional\u001b[39;00m \u001b[38;5;28;01mas\u001b[39;00m \u001b[38;5;21;01mF\u001b[39;00m\n",
      "\u001b[1;31mModuleNotFoundError\u001b[0m: No module named 'torch.backends'"
     ]
    }
   ],
   "source": [
    "from ArabicOcr import arabicocr\n",
    "image_path='WhatsApp Image 2023-02-02 at 22.14.35.jpeg'\n",
    "out_image='out.jpeg'\n",
    "results=arabicocr.arabic_ocr(image_path,out_image)\n",
    "print(results)\n",
    "words=[]\n",
    "for i in range(len(results)):\t\n",
    "\t\tword=results[i][1] \n",
    "\t\twords.append(word)\n",
    "with open ('file.txt','w',encoding='utf-8')as myfile:\n",
    "\t\tmyfile.write(str(words))"
   ]
  },
  {
   "cell_type": "markdown",
   "id": "8518952f",
   "metadata": {},
   "source": [
    "# video to text"
   ]
  },
  {
   "cell_type": "code",
   "execution_count": 26,
   "id": "6e9aa60f",
   "metadata": {
    "ExecuteTime": {
     "end_time": "2023-02-02T21:29:50.645878Z",
     "start_time": "2023-02-02T21:27:22.616945Z"
    }
   },
   "outputs": [
    {
     "name": "stdout",
     "output_type": "stream",
     "text": [
      "Collecting speechrecognition\n",
      "  Downloading SpeechRecognition-3.9.0-py2.py3-none-any.whl (32.8 MB)\n",
      "     -------------------------------------- 32.8/32.8 MB 453.0 kB/s eta 0:00:00\n",
      "Requirement already satisfied: requests>=2.26.0 in c:\\users\\hp\\anaconda3\\lib\\site-packages (from speechrecognition) (2.27.1)\n",
      "Requirement already satisfied: idna<4,>=2.5 in c:\\users\\hp\\anaconda3\\lib\\site-packages (from requests>=2.26.0->speechrecognition) (2.10)\n",
      "Requirement already satisfied: urllib3<1.27,>=1.21.1 in c:\\users\\hp\\anaconda3\\lib\\site-packages (from requests>=2.26.0->speechrecognition) (1.26.9)\n",
      "Requirement already satisfied: charset-normalizer~=2.0.0 in c:\\users\\hp\\anaconda3\\lib\\site-packages (from requests>=2.26.0->speechrecognition) (2.0.4)\n",
      "Requirement already satisfied: certifi>=2017.4.17 in c:\\users\\hp\\anaconda3\\lib\\site-packages (from requests>=2.26.0->speechrecognition) (2021.10.8)\n",
      "Installing collected packages: speechrecognition\n",
      "Successfully installed speechrecognition-3.9.0\n"
     ]
    },
    {
     "name": "stderr",
     "output_type": "stream",
     "text": [
      "WARNING: Ignoring invalid distribution -pencv-python-headless (c:\\users\\hp\\anaconda3\\lib\\site-packages)\n",
      "WARNING: Ignoring invalid distribution -pencv-python-headless (c:\\users\\hp\\anaconda3\\lib\\site-packages)\n",
      "WARNING: Ignoring invalid distribution -pencv-python-headless (c:\\users\\hp\\anaconda3\\lib\\site-packages)\n",
      "WARNING: Ignoring invalid distribution -pencv-python-headless (c:\\users\\hp\\anaconda3\\lib\\site-packages)\n",
      "WARNING: Ignoring invalid distribution -pencv-python-headless (c:\\users\\hp\\anaconda3\\lib\\site-packages)\n",
      "WARNING: Ignoring invalid distribution -pencv-python-headless (c:\\users\\hp\\anaconda3\\lib\\site-packages)\n",
      "WARNING: Ignoring invalid distribution -pencv-python-headless (c:\\users\\hp\\anaconda3\\lib\\site-packages)\n",
      "\n",
      "[notice] A new release of pip available: 22.3.1 -> 23.0\n",
      "[notice] To update, run: python.exe -m pip install --upgrade pip\n"
     ]
    }
   ],
   "source": [
    "!pip install speechrecognition"
   ]
  },
  {
   "cell_type": "code",
   "execution_count": 27,
   "id": "6d36c53e",
   "metadata": {
    "ExecuteTime": {
     "end_time": "2023-02-02T21:34:31.636398Z",
     "start_time": "2023-02-02T21:30:02.195569Z"
    }
   },
   "outputs": [
    {
     "name": "stdout",
     "output_type": "stream",
     "text": [
      "Requirement already satisfied: speechrecognition in c:\\users\\hp\\anaconda3\\lib\\site-packages (3.9.0)\n",
      "Collecting moviepy\n",
      "  Downloading moviepy-1.0.3.tar.gz (388 kB)\n",
      "     ------------------------------------ 388.3/388.3 kB 671.5 kB/s eta 0:00:00\n"
     ]
    },
    {
     "name": "stderr",
     "output_type": "stream",
     "text": [
      "WARNING: Ignoring invalid distribution -pencv-python-headless (c:\\users\\hp\\anaconda3\\lib\\site-packages)\n",
      "WARNING: Ignoring invalid distribution -pencv-python-headless (c:\\users\\hp\\anaconda3\\lib\\site-packages)\n",
      "WARNING: Ignoring invalid distribution -pencv-python-headless (c:\\users\\hp\\anaconda3\\lib\\site-packages)\n",
      "    WARNING: Ignoring invalid distribution -pencv-python-headless (c:\\users\\hp\\anaconda3\\lib\\site-packages)\n",
      "WARNING: Ignoring invalid distribution -pencv-python-headless (c:\\users\\hp\\anaconda3\\lib\\site-packages)\n",
      "WARNING: Ignoring invalid distribution -pencv-python-headless (c:\\users\\hp\\anaconda3\\lib\\site-packages)\n",
      "WARNING: Ignoring invalid distribution -pencv-python-headless (c:\\users\\hp\\anaconda3\\lib\\site-packages)\n",
      "WARNING: Ignoring invalid distribution -pencv-python-headless (c:\\users\\hp\\anaconda3\\lib\\site-packages)\n",
      "WARNING: Ignoring invalid distribution -pencv-python-headless (c:\\users\\hp\\anaconda3\\lib\\site-packages)\n",
      "WARNING: Ignoring invalid distribution -pencv-python-headless (c:\\users\\hp\\anaconda3\\lib\\site-packages)\n",
      "WARNING: Ignoring invalid distribution -pencv-python-headless (c:\\users\\hp\\anaconda3\\lib\\site-packages)\n",
      "\n",
      "[notice] A new release of pip available: 22.3.1 -> 23.0\n",
      "[notice] To update, run: python.exe -m pip install --upgrade pip\n"
     ]
    },
    {
     "name": "stdout",
     "output_type": "stream",
     "text": [
      "  Preparing metadata (setup.py): started\n",
      "  Preparing metadata (setup.py): finished with status 'done'\n",
      "Requirement already satisfied: requests>=2.26.0 in c:\\users\\hp\\anaconda3\\lib\\site-packages (from speechrecognition) (2.27.1)\n",
      "Collecting decorator<5.0,>=4.0.2\n",
      "  Downloading decorator-4.4.2-py2.py3-none-any.whl (9.2 kB)\n",
      "Requirement already satisfied: tqdm<5.0,>=4.11.2 in c:\\users\\hp\\anaconda3\\lib\\site-packages (from moviepy) (4.64.0)\n",
      "Collecting proglog<=1.0.0\n",
      "  Downloading proglog-0.1.10-py3-none-any.whl (6.1 kB)\n",
      "Requirement already satisfied: numpy>=1.17.3 in c:\\users\\hp\\anaconda3\\lib\\site-packages (from moviepy) (1.22.4)\n",
      "Requirement already satisfied: imageio<3.0,>=2.5 in c:\\users\\hp\\anaconda3\\lib\\site-packages (from moviepy) (2.9.0)\n",
      "Collecting imageio_ffmpeg>=0.2.0\n",
      "  Downloading imageio_ffmpeg-0.4.8-py3-none-win_amd64.whl (22.6 MB)\n",
      "     -------------------------------------- 22.6/22.6 MB 545.6 kB/s eta 0:00:00\n",
      "Requirement already satisfied: pillow in c:\\users\\hp\\anaconda3\\lib\\site-packages (from imageio<3.0,>=2.5->moviepy) (9.0.1)\n",
      "Requirement already satisfied: urllib3<1.27,>=1.21.1 in c:\\users\\hp\\anaconda3\\lib\\site-packages (from requests>=2.26.0->speechrecognition) (1.26.9)\n",
      "Requirement already satisfied: charset-normalizer~=2.0.0 in c:\\users\\hp\\anaconda3\\lib\\site-packages (from requests>=2.26.0->speechrecognition) (2.0.4)\n",
      "Requirement already satisfied: certifi>=2017.4.17 in c:\\users\\hp\\anaconda3\\lib\\site-packages (from requests>=2.26.0->speechrecognition) (2021.10.8)\n",
      "Requirement already satisfied: idna<4,>=2.5 in c:\\users\\hp\\anaconda3\\lib\\site-packages (from requests>=2.26.0->speechrecognition) (2.10)\n",
      "Requirement already satisfied: colorama in c:\\users\\hp\\anaconda3\\lib\\site-packages (from tqdm<5.0,>=4.11.2->moviepy) (0.4.4)\n",
      "Building wheels for collected packages: moviepy\n",
      "  Building wheel for moviepy (setup.py): started\n",
      "  Building wheel for moviepy (setup.py): finished with status 'done'\n",
      "  Created wheel for moviepy: filename=moviepy-1.0.3-py3-none-any.whl size=110743 sha256=3233104ed40300c57d12ffa3bbfc57ae0bf036802fcc858dcfefa16d7bba978d\n",
      "  Stored in directory: c:\\users\\hp\\appdata\\local\\pip\\cache\\wheels\\f0\\23\\29\\c6379bde05643dcb1cd56f5ad432f26acb3ca7db075dc0c35f\n",
      "Successfully built moviepy\n",
      "Installing collected packages: imageio_ffmpeg, decorator, proglog, moviepy\n",
      "  Attempting uninstall: decorator\n",
      "    Found existing installation: decorator 5.1.1\n",
      "    Uninstalling decorator-5.1.1:\n",
      "      Successfully uninstalled decorator-5.1.1\n",
      "Successfully installed decorator-4.4.2 imageio_ffmpeg-0.4.8 moviepy-1.0.3 proglog-0.1.10\n"
     ]
    }
   ],
   "source": [
    "!pip install speechrecognition moviepy"
   ]
  },
  {
   "cell_type": "code",
   "execution_count": 28,
   "id": "b14ef9f4",
   "metadata": {
    "ExecuteTime": {
     "end_time": "2023-02-02T21:45:39.989937Z",
     "start_time": "2023-02-02T21:43:48.896491Z"
    }
   },
   "outputs": [
    {
     "name": "stdout",
     "output_type": "stream",
     "text": [
      "MoviePy - Writing audio in WhatsApp Video 2023-02-02 at 23.39.10.wav\n"
     ]
    },
    {
     "name": "stderr",
     "output_type": "stream",
     "text": [
      "                                                                                                                       \r"
     ]
    },
    {
     "name": "stdout",
     "output_type": "stream",
     "text": [
      "MoviePy - Done.\n",
      "result2:\n",
      "{   'alternative': [   {   'confidence': 0.80572939,\n",
      "                           'transcript': 'تعالي اختي تعالي ده انت فتحت في '\n",
      "                                         'الوقت المناسب انت فاتحه دلوقتي عشان '\n",
      "                                         'الدعوه دي من نصيبك روحي يا شيخه يا '\n",
      "                                         'رب لو كنت مريضه اشفيك ويعافيك ولو '\n",
      "                                         'كنت مهمومه وحزينه يفرج همك ويسعد '\n",
      "                                         'قلبك ويرضى عنك ويراضيك ولو كنت '\n",
      "                                         'بتعاني من ظلمهم وحفظهم وسوء ظنهم '\n",
      "                                         'فاسال الله من حقدهم وسوء ظنهم ينجيكي '\n",
      "                                         'روحي يا شيخه لبيتك ويبارك فيهم وفيك '\n",
      "                                         'ولو كنت غير متزوجه فاسال الله لك زوج '\n",
      "                                         'صالح يسعدك ويهنيك ويتقي الله فيك لو '\n",
      "                                         'كنت بتخرجي من بيتك لشغله او لدراسه '\n",
      "                                         'فاسال الله من شر الطريق وشر ولاد '\n",
      "                                         'الحرام يحفظك ويحميك يا رب يبعث لك '\n",
      "                                         'فرحه تنسيكي كل الهم اللي شفتيه يا رب '\n",
      "                                         'يا رب يا رب سعاده وراحه بال يا رب '\n",
      "                                         'سعاده وراحه بال وبركه في رزق حلال '\n",
      "                                         'ليه ولمن قال امين ولمن نشر هذا '\n",
      "                                         'المقطع من المسلمات والمسلمين'},\n",
      "                       {   'transcript': 'تعالي اختي تعالي ده انت فتحت في '\n",
      "                                         'الوقت المناسب انت فاتحه دلوقتي عشان '\n",
      "                                         'الدعوه دي من نصيبك روحي يا شيخه يا '\n",
      "                                         'رب لو كنت مريضه اشفيك ويعافيك ولو '\n",
      "                                         'كنت مهمومه وحزينه يفرج همك ويسعد '\n",
      "                                         'قلبك ويرضى عنك ويراضيك ولو كنت '\n",
      "                                         'بتعاني من ظلمهم وحفظهم وسوء ظنهم '\n",
      "                                         'فاسال الله من حقدهم وسوء ظنهم ينجيكي '\n",
      "                                         'روحي يا شيخه لبيتك ويبارك فيهم وفيك '\n",
      "                                         'ولو كنت غير متزوجه فاسال الله لك زوج '\n",
      "                                         'صالح يسعدك ويهنيك ويتقي الله فيك لو '\n",
      "                                         'كنت بتخرجي من بيتك لشغله او لدراسه '\n",
      "                                         'فاسال الله من شر الطريق وشر ولاد '\n",
      "                                         'الحرام يحفظك ويحميكي يا رب يبعث لك '\n",
      "                                         'فرحه تنسيكي كل الهم اللي شفتيه يا رب '\n",
      "                                         'يا رب يا رب سعاده وراحه بال يا رب '\n",
      "                                         'سعاده وراحه بال وبركه في رزق حلال '\n",
      "                                         'ليه ولمن قال امين ولمن نشر هذا '\n",
      "                                         'المقطع من المسلمات والمسلمين'},\n",
      "                       {   'transcript': 'تعالي اختي تعالي ده انت فتحت في '\n",
      "                                         'الوقت المناسب انت فاتحه دلوقتي عشان '\n",
      "                                         'الدعوه دي من نصيبك روحي يا شيخه يا '\n",
      "                                         'رب لو كنت مريضه اشفيك ويعافيك ولو '\n",
      "                                         'كنت مهمومه وحزينه يفرج همك ويسعد '\n",
      "                                         'قلبك ويرضى عنك ويراضيك ولو كنت '\n",
      "                                         'بتعاني من ظلمهم وحفظهم وسوء ظنهم '\n",
      "                                         'فاسال الله من حقدهم وسوء ظنهم ينجيكي '\n",
      "                                         'روحي يا شيخه لبيتك ويبارك فيهم وفيك '\n",
      "                                         'ولو كنت غير متزوجه فاسال الله لك زوج '\n",
      "                                         'صالح يسعدك ويهنيك ويتقي الله فيك لو '\n",
      "                                         'كنت بتخرجي من بيتك لشغله او لدراسه '\n",
      "                                         'فاسال الله من شر الطريق وشر ولاد '\n",
      "                                         'الحرام يحفظك ويحميك يا رب يبعث لك '\n",
      "                                         'فرحه تنسيكي كل الهم اللي شفتيه يا رب '\n",
      "                                         'يا رب يا رب سعاده وراحه بال يا رب '\n",
      "                                         'سعاده وراحه بال وبركه في رزق حلال '\n",
      "                                         'ليه ولمن قال امين ولمن نشر هذا '\n",
      "                                         'المقطع من المسلمات والمسلم'},\n",
      "                       {   'transcript': 'تعالي اختي تعالي ده انت فتحت في '\n",
      "                                         'الوقت المناسب انت فاتحه دلوقتي عشان '\n",
      "                                         'الدعوه دي من نصيبك روحي يا شيخه يا '\n",
      "                                         'رب لو كنت مريضه اشفيك ويعافيك ولو '\n",
      "                                         'كنت مهمومه وحزينه يفرج همك ويسعد '\n",
      "                                         'قلبك ويرضى عنك ويراضيك ولو كنت '\n",
      "                                         'بتعاني من ظلمهم وحفظهم وسوء ظنهم '\n",
      "                                         'فاسال الله من حقدهم وسوء ظنهم ينجيكي '\n",
      "                                         'روحي يا شيخه لبيتك ويبارك فيهم وفيك '\n",
      "                                         'ولو كنت غير متزوجه فاسال الله لك زوج '\n",
      "                                         'صالح يسعدك ويهنيك ويتقي الله فيك لو '\n",
      "                                         'كنت بتخرجي من بيتك لشغله او لدراسه '\n",
      "                                         'فاسال الله من شر الطريق وشر ولاد '\n",
      "                                         'الحرام يحفظك ويحميك يا رب يبعث لك '\n",
      "                                         'فرحه تنسيكي كل الهم اللي شفتيه ويحقق '\n",
      "                                         'لك مرادك وكل اللي بتتمنيه يا رب يا '\n",
      "                                         'رب يا رب سعاده وراحه بال يا رب سعاده '\n",
      "                                         'وراحه بال وبركه في رزق حلال ليه ولمن '\n",
      "                                         'قال امين ولمن نشر هذا المقطع من '\n",
      "                                         'المسلمات والمسلمين'},\n",
      "                       {   'transcript': 'تعالي اختي تعالي ده انت فتحت في '\n",
      "                                         'الوقت المناسب انت فاتحه دلوقتي عشان '\n",
      "                                         'الدعوه دي من نصيبك روحي يا شيخه يا '\n",
      "                                         'رب لو كنت مريضه اشفيك ويعافيك ولو '\n",
      "                                         'كنت مهمومه وحزينه يفرج همك ويسعد '\n",
      "                                         'قلبك ويرضى عنك ويراضيك ولو كنت '\n",
      "                                         'بتعاني من ظلمهم وحفظهم وسوء ظنهم '\n",
      "                                         'فاسال الله من حقدهم وسوء ظنهم ينجيكي '\n",
      "                                         'روحي يا شيخه لبيتك ويبارك فيهم وفيك '\n",
      "                                         'ولو كنت غير متزوجه فاسال الله لك زوج '\n",
      "                                         'صالح يسعدك ويهنيك ويتقي الله فيك لو '\n",
      "                                         'كنت بتخرجي من بيتك لشغله او لدراسه '\n",
      "                                         'فاسال الله من شر الطريق وشر ولاد '\n",
      "                                         'الحرام يحفظك ويحميكي يا رب يبعث لك '\n",
      "                                         'فرحه تنسيكي كل الهم اللي شفتيه يا رب '\n",
      "                                         'يا رب يا رب سعاده وراحه بال يا رب '\n",
      "                                         'سعاده وراحه بال وبركه في رزق حلال '\n",
      "                                         'ليه ولمن قال امين ولمن نشر هذا '\n",
      "                                         'المقطع من المسلمات والمسلم'}],\n",
      "    'final': True}\n",
      "تعالي اختي تعالي ده انت فتحت في الوقت المناسب انت فاتحه دلوقتي عشان الدعوه دي من نصيبك روحي يا شيخه يا رب لو كنت مريضه اشفيك ويعافيك ولو كنت مهمومه وحزينه يفرج همك ويسعد قلبك ويرضى عنك ويراضيك ولو كنت بتعاني من ظلمهم وحفظهم وسوء ظنهم فاسال الله من حقدهم وسوء ظنهم ينجيكي روحي يا شيخه لبيتك ويبارك فيهم وفيك ولو كنت غير متزوجه فاسال الله لك زوج صالح يسعدك ويهنيك ويتقي الله فيك لو كنت بتخرجي من بيتك لشغله او لدراسه فاسال الله من شر الطريق وشر ولاد الحرام يحفظك ويحميك يا رب يبعث لك فرحه تنسيكي كل الهم اللي شفتيه يا رب يا رب يا رب سعاده وراحه بال يا رب سعاده وراحه بال وبركه في رزق حلال ليه ولمن قال امين ولمن نشر هذا المقطع من المسلمات والمسلمين\n"
     ]
    }
   ],
   "source": [
    "import speech_recognition as sr\n",
    "import  moviepy.editor as mp\n",
    "clip=mp.VideoFileClip(r'WhatsApp Video 2023-02-02 at 23.39.10.mp4')\n",
    "clip.audio.write_audiofile(r'WhatsApp Video 2023-02-02 at 23.39.10.wav')\n",
    "r=sr.Recognizer()\n",
    "audio=sr.AudioFile('WhatsApp Video 2023-02-02 at 23.39.10.wav')\n",
    "with audio as source:\n",
    "    audio_file=r.record(source)\n",
    "try:\n",
    "    t=r.recognize_google(audio_file,language='ar-AR')\n",
    "    print(t)\n",
    "    f=open('text.txt','a',encoding='utf-8')\n",
    "    f.writelines(t)\n",
    "    f.close()\n",
    "except sr.UnknownValueError as u:\n",
    "    print(u)\n",
    "except sr.RequestError as r:\n",
    "    print(r)"
   ]
  },
  {
   "cell_type": "code",
   "execution_count": 33,
   "id": "8879e849",
   "metadata": {
    "ExecuteTime": {
     "end_time": "2023-02-02T22:07:10.730196Z",
     "start_time": "2023-02-02T22:06:42.920052Z"
    }
   },
   "outputs": [
    {
     "name": "stdout",
     "output_type": "stream",
     "text": [
      "MoviePy - Writing audio in WhatsApp Video 2023-02-02 at 23.55.50.wav\n"
     ]
    },
    {
     "name": "stderr",
     "output_type": "stream",
     "text": [
      "                                                                                                                       \r"
     ]
    },
    {
     "name": "stdout",
     "output_type": "stream",
     "text": [
      "MoviePy - Done.\n",
      "result2:\n",
      "{   'alternative': [   {   'confidence': 0.93344438,\n",
      "                           'transcript': 'that has perfect timing never early '\n",
      "                                         'never late it just takes a little '\n",
      "                                         'patience and a whole lot of faith '\n",
      "                                         \"but it's worth the wait God's plans \"\n",
      "                                         'is always the best sometimes the '\n",
      "                                         'process is painful and hard but '\n",
      "                                         \"don't forget to make God is silent \"\n",
      "                                         \"he's doing something God closes \"\n",
      "                                         'doors because you see he knows you '\n",
      "                                         \"won't move circumstances force you \"\n",
      "                                         'to God answers all prayers in three '\n",
      "                                         'ways yes because you deserve it no '\n",
      "                                         'because you deserve better'},\n",
      "                       {   'transcript': 'that has perfect timing never early '\n",
      "                                         'never late it just takes a little '\n",
      "                                         'patience and a whole lot of faith '\n",
      "                                         \"but it's worth the wait God's plans \"\n",
      "                                         'is always the best sometimes the '\n",
      "                                         'process is painful and hard but '\n",
      "                                         \"don't forget he's doing something \"\n",
      "                                         'God closes doors because you see he '\n",
      "                                         \"knows you won't move circumstances \"\n",
      "                                         'force you to God answers all prayers '\n",
      "                                         'in three ways yes because you '\n",
      "                                         'deserve it no because you deserve '\n",
      "                                         'better'},\n",
      "                       {   'transcript': 'what has perfect timing never early '\n",
      "                                         'never late it just takes a little '\n",
      "                                         'patience and a whole lot of faith '\n",
      "                                         \"but it's worth the wait God's plans \"\n",
      "                                         'is always the best sometimes the '\n",
      "                                         'process is painful and hard but '\n",
      "                                         \"don't forget to make God is silent \"\n",
      "                                         \"he's doing something God closes \"\n",
      "                                         'doors because you see he knows you '\n",
      "                                         \"won't move circumstances force you \"\n",
      "                                         'to God answers all prayers in three '\n",
      "                                         'ways yes because you deserve it no '\n",
      "                                         'because you deserve better'},\n",
      "                       {   'transcript': 'what has perfect timing never early '\n",
      "                                         'never late it just takes a little '\n",
      "                                         'patience and a whole lot of faith '\n",
      "                                         \"but it's worth the wait God's plans \"\n",
      "                                         'is always the best sometimes the '\n",
      "                                         'process is painful and hard but '\n",
      "                                         \"don't forget he's doing something \"\n",
      "                                         'God closes doors because you see he '\n",
      "                                         \"knows you won't move circumstances \"\n",
      "                                         'force you to God answers all prayers '\n",
      "                                         'in three ways yes because you '\n",
      "                                         'deserve it no because you deserve '\n",
      "                                         'better'},\n",
      "                       {   'transcript': 'that has perfect timing never early '\n",
      "                                         'never late it just takes a little '\n",
      "                                         'patience and a whole lot of faith '\n",
      "                                         \"but it's worth the wait God's plans \"\n",
      "                                         'is always the best sometimes the '\n",
      "                                         'process is painful and hard but '\n",
      "                                         \"don't forget to make God is silent \"\n",
      "                                         \"he's doing something God closes \"\n",
      "                                         'doors because you see he knows you '\n",
      "                                         \"won't move circumstances for you to \"\n",
      "                                         'God answers all prayers in three '\n",
      "                                         'ways yes because you deserve it no '\n",
      "                                         'because you deserve better'}],\n",
      "    'final': True}\n",
      "that has perfect timing never early never late it just takes a little patience and a whole lot of faith but it's worth the wait God's plans is always the best sometimes the process is painful and hard but don't forget to make God is silent he's doing something God closes doors because you see he knows you won't move circumstances force you to God answers all prayers in three ways yes because you deserve it no because you deserve better\n"
     ]
    }
   ],
   "source": [
    "import speech_recognition as sr\n",
    "import  moviepy.editor as mp\n",
    "clip=mp.VideoFileClip(r'WhatsApp Video 2023-02-02 at 23.55.50.mp4')\n",
    "clip.audio.write_audiofile(r'WhatsApp Video 2023-02-02 at 23.55.50.wav')\n",
    "r=sr.Recognizer()\n",
    "audio=sr.AudioFile('WhatsApp Video 2023-02-02 at 23.55.50.wav')\n",
    "with audio as source:\n",
    "    audio_file=r.record(source)\n",
    "try:\n",
    "    t=r.recognize_google(audio_file,language='eng')\n",
    "    print(t)\n",
    "    f=open('text.txt','a',encoding='utf-8')\n",
    "    f.writelines(t)\n",
    "    f.close()\n",
    "except sr.UnknownValueError as u:\n",
    "    print(u)\n",
    "except sr.RequestError as r:\n",
    "    print(r)"
   ]
  },
  {
   "cell_type": "code",
   "execution_count": null,
   "id": "2be6568a",
   "metadata": {},
   "outputs": [],
   "source": []
  }
 ],
 "metadata": {
  "kernelspec": {
   "display_name": "Python 3 (ipykernel)",
   "language": "python",
   "name": "python3"
  },
  "language_info": {
   "codemirror_mode": {
    "name": "ipython",
    "version": 3
   },
   "file_extension": ".py",
   "mimetype": "text/x-python",
   "name": "python",
   "nbconvert_exporter": "python",
   "pygments_lexer": "ipython3",
   "version": "3.9.12"
  },
  "toc": {
   "base_numbering": 1,
   "nav_menu": {},
   "number_sections": true,
   "sideBar": true,
   "skip_h1_title": false,
   "title_cell": "Table of Contents",
   "title_sidebar": "Contents",
   "toc_cell": false,
   "toc_position": {},
   "toc_section_display": true,
   "toc_window_display": false
  },
  "varInspector": {
   "cols": {
    "lenName": 16,
    "lenType": 16,
    "lenVar": 40
   },
   "kernels_config": {
    "python": {
     "delete_cmd_postfix": "",
     "delete_cmd_prefix": "del ",
     "library": "var_list.py",
     "varRefreshCmd": "print(var_dic_list())"
    },
    "r": {
     "delete_cmd_postfix": ") ",
     "delete_cmd_prefix": "rm(",
     "library": "var_list.r",
     "varRefreshCmd": "cat(var_dic_list()) "
    }
   },
   "types_to_exclude": [
    "module",
    "function",
    "builtin_function_or_method",
    "instance",
    "_Feature"
   ],
   "window_display": false
  }
 },
 "nbformat": 4,
 "nbformat_minor": 5
}
