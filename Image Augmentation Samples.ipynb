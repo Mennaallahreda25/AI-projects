{
 "cells": [
  {
   "cell_type": "markdown",
   "id": "9c0682bc",
   "metadata": {},
   "source": [
    "# Image Augmentation Samples\n",
    "How to Configure Image Data Augmentation in Keras"
   ]
  },
  {
   "cell_type": "markdown",
   "id": "6b173217",
   "metadata": {},
   "source": [
    "Image data augmentation is a technique that can be used to artificially expand the size of a training dataset by creating modified versions of images in the dataset. Training deep learning neural network models on more data can result in more skillful models, and the augmentation techniques can create variations of the images that can improve the ability of the fit models to generalize what they have learned to new images.\n",
    "The Keras deep learning neural network library provides the capability to fit models using image data augmentation via the ImageDataGenerator class."
   ]
  },
  {
   "cell_type": "markdown",
   "id": "fb093376",
   "metadata": {},
   "source": [
    "A shift to an image means moving all pixels of the image in one direction, such as horizontally or vertically, while , keeping the image dimensions the same."
   ]
  },
  {
   "cell_type": "markdown",
   "id": "d48ac894",
   "metadata": {},
   "source": [
    "# width_shift_range"
   ]
  },
  {
   "cell_type": "code",
   "execution_count": 2,
   "id": "4c4a7065",
   "metadata": {
    "ExecuteTime": {
     "end_time": "2023-02-23T21:59:42.661287Z",
     "start_time": "2023-02-23T21:59:37.465603Z"
    }
   },
   "outputs": [
    {
     "name": "stdout",
     "output_type": "stream",
     "text": [
      "Requirement already satisfied: keras in c:\\users\\hp\\anaconda3\\lib\\site-packages (2.11.0)\n"
     ]
    },
    {
     "name": "stderr",
     "output_type": "stream",
     "text": [
      "WARNING: Ignoring invalid distribution -pencv-python-headless (c:\\users\\hp\\anaconda3\\lib\\site-packages)\n",
      "WARNING: Ignoring invalid distribution -pencv-python-headless (c:\\users\\hp\\anaconda3\\lib\\site-packages)\n",
      "WARNING: Ignoring invalid distribution -pencv-python-headless (c:\\users\\hp\\anaconda3\\lib\\site-packages)\n",
      "WARNING: Ignoring invalid distribution -pencv-python-headless (c:\\users\\hp\\anaconda3\\lib\\site-packages)\n",
      "WARNING: Ignoring invalid distribution -pencv-python-headless (c:\\users\\hp\\anaconda3\\lib\\site-packages)\n",
      "WARNING: Ignoring invalid distribution -pencv-python-headless (c:\\users\\hp\\anaconda3\\lib\\site-packages)\n",
      "\n",
      "[notice] A new release of pip available: 22.3.1 -> 23.0.1\n",
      "[notice] To update, run: python.exe -m pip install --upgrade pip\n"
     ]
    }
   ],
   "source": [
    "!pip install keras"
   ]
  },
  {
   "cell_type": "code",
   "execution_count": null,
   "id": "a1801405",
   "metadata": {
    "ExecuteTime": {
     "end_time": "2023-02-23T21:59:49.808923Z",
     "start_time": "2023-02-23T21:59:49.757795Z"
    }
   },
   "outputs": [],
   "source": [
    "# example of horizontal shift image augmentation\n",
    "from numpy import expand_dims\n",
    "from keras.preprocessing.image import load_img\n",
    "from keras.preprocessing.image import img_to_array\n",
    "from keras.preprocessing.image import ImageDataGenerator\n",
    "from matplotlib import pyplot\n",
    "# load the image\n",
    "img = load_img('C:/Users/hp/Downloads/bird.jpg')\n",
    "# convert to numpy array\n",
    "data = img_to_array(img)\n",
    "# expand dimension to one sample\n",
    "samples = expand_dims(data, 0)\n",
    "# create image data augmentation generator\n",
    "datagen = ImageDataGenerator(width_shift_range=[-200,200])\n",
    "# prepare iterator\n",
    "it = datagen.flow(samples, batch_size=1)\n",
    "# generate samples and plot\n",
    "for i in range(9):\n",
    " # define subplot\n",
    " pyplot.subplot(330 + 1 + i)\n",
    " # generate batch of images\n",
    " batch = it.next()\n",
    " # convert to unsigned integers for viewing\n",
    " image = batch[0].astype('uint8')\n",
    " # plot raw pixel data\n",
    " pyplot.imshow(image)\n",
    "# show the figure\n",
    "pyplot.show()"
   ]
  },
  {
   "cell_type": "markdown",
   "id": "76b6b367",
   "metadata": {},
   "source": [
    "# height_shift_range"
   ]
  },
  {
   "cell_type": "code",
   "execution_count": null,
   "id": "49bd3968",
   "metadata": {},
   "outputs": [],
   "source": [
    "from numpy import expand_dims\n",
    "from keras.preprocessing.image import load_img\n",
    "from keras.preprocessing.image import img_to_array\n",
    "from keras.preprocessing.image import ImageDataGenerator\n",
    "from matplotlib import pyplot\n",
    "# load the image\n",
    "img = load_img('C:/Users/hp/Downloads/bird.jpg')\n",
    "# convert to numpy array\n",
    "data = img_to_array(img)\n",
    "# expand dimension to one sample\n",
    "samples = expand_dims(data, 0)\n",
    "# create image data augmentation generator\n",
    "datagen = ImageDataGenerator(height_shift_range=0.5)\n",
    "# prepare iterator\n",
    "it = datagen.flow(samples, batch_size=1)\n",
    "# generate samples and plot\n",
    "for i in range(9):\n",
    " # define subplot\n",
    " pyplot.subplot(330 + 1 + i)\n",
    " # generate batch of images\n",
    " batch = it.next()\n",
    " # convert to unsigned integers for viewing\n",
    " image = batch[0].astype('uint8')\n",
    " # plot raw pixel data\n",
    " pyplot.imshow(image)\n",
    "# show the figure\n",
    "pyplot.show()"
   ]
  },
  {
   "cell_type": "markdown",
   "id": "b7573858",
   "metadata": {},
   "source": [
    "# horizontal_flip"
   ]
  },
  {
   "cell_type": "code",
   "execution_count": null,
   "id": "0a21095c",
   "metadata": {},
   "outputs": [],
   "source": [
    "from numpy import expand_dims\n",
    "from keras.preprocessing.image import load_img\n",
    "from keras.preprocessing.image import img_to_array\n",
    "from keras.preprocessing.image import ImageDataGenerator\n",
    "from matplotlib import pyplot\n",
    "# load the image\n",
    "img = load_img('C:/Users/hp/Downloads/bird.jpg')\n",
    "# convert to numpy array\n",
    "data = img_to_array(img)\n",
    "# expand dimension to one sample\n",
    "samples = expand_dims(data, 0)\n",
    "# create image data augmentation generator\n",
    "datagen = ImageDataGenerator(horizontal_flip=True)\n",
    "# prepare iterator\n",
    "it = datagen.flow(samples, batch_size=1)\n",
    "# generate samples and plot\n",
    "for i in range(9):\n",
    " # define subplot\n",
    " pyplot.subplot(330 + 1 + i)\n",
    " # generate batch of images\n",
    " batch = it.next()\n",
    " # convert to unsigned integers for viewing\n",
    " image = batch[0].astype('uint8')\n",
    " # plot raw pixel data\n",
    " pyplot.imshow(image)\n",
    "# show the figure\n",
    "pyplot.show()"
   ]
  },
  {
   "cell_type": "markdown",
   "id": "f8ea1af3",
   "metadata": {},
   "source": [
    "# rotation_range"
   ]
  },
  {
   "cell_type": "code",
   "execution_count": null,
   "id": "23f20935",
   "metadata": {},
   "outputs": [],
   "source": [
    "from numpy import expand_dims\n",
    "from keras.preprocessing.image import load_img\n",
    "from keras.preprocessing.image import img_to_array\n",
    "from keras.preprocessing.image import ImageDataGenerator\n",
    "from matplotlib import pyplot\n",
    "# load the image\n",
    "img = load_img('C:/Users/hp/Downloads/bird.jpg')\n",
    "# convert to numpy array\n",
    "data = img_to_array(img)\n",
    "# expand dimension to one sample\n",
    "samples = expand_dims(data, 0)\n",
    "# create image data augmentation generator\n",
    "datagen = ImageDataGenerator(rotation_range=90)\n",
    "# prepare iterator\n",
    "it = datagen.flow(samples, batch_size=1)\n",
    "# generate samples and plot\n",
    "for i in range(9):\n",
    " # define subplot\n",
    " pyplot.subplot(330 + 1 + i)\n",
    " # generate batch of images\n",
    " batch = it.next()\n",
    " # convert to unsigned integers for viewing\n",
    " image = batch[0].astype('uint8')\n",
    " # plot raw pixel data\n",
    " pyplot.imshow(image)\n",
    "# show the figure\n",
    "pyplot.show()"
   ]
  },
  {
   "cell_type": "markdown",
   "id": "0d9a8863",
   "metadata": {},
   "source": [
    "# brightness_range"
   ]
  },
  {
   "cell_type": "code",
   "execution_count": null,
   "id": "ff1fb058",
   "metadata": {},
   "outputs": [],
   "source": [
    "from numpy import expand_dims\n",
    "from keras.preprocessing.image import load_img\n",
    "from keras.preprocessing.image import img_to_array\n",
    "from keras.preprocessing.image import ImageDataGenerator\n",
    "from matplotlib import pyplot\n",
    "# load the image\n",
    "img = load_img('C:/Users/hp/Downloads/bird.jpg')\n",
    "# convert to numpy array\n",
    "data = img_to_array(img)\n",
    "# expand dimension to one sample\n",
    "samples = expand_dims(data, 0)\n",
    "# create image data augmentation generator\n",
    "datagen = ImageDataGenerator(brightness_range=[0.2,1.0])\n",
    "# prepare iterator\n",
    "it = datagen.flow(samples, batch_size=1)\n",
    "# generate samples and plot\n",
    "for i in range(9):\n",
    " # define subplot\n",
    " pyplot.subplot(330 + 1 + i)\n",
    " # generate batch of images\n",
    " batch = it.next()\n",
    " # convert to unsigned integers for viewing\n",
    " image = batch[0].astype('uint8')\n",
    " # plot raw pixel data\n",
    " pyplot.imshow(image)\n",
    "# show the figure\n",
    "pyplot.show()"
   ]
  },
  {
   "cell_type": "markdown",
   "id": "263e7803",
   "metadata": {},
   "source": [
    "# zoom_range"
   ]
  },
  {
   "cell_type": "code",
   "execution_count": null,
   "id": "0371f231",
   "metadata": {},
   "outputs": [],
   "source": [
    "from numpy import expand_dims\n",
    "from keras.preprocessing.image import load_img\n",
    "from keras.preprocessing.image import img_to_array\n",
    "from keras.preprocessing.image import ImageDataGenerator\n",
    "from matplotlib import pyplot\n",
    "# load the image\n",
    "img = load_img('C:/Users/hp/Downloads/bird.jpg')\n",
    "# convert to numpy array\n",
    "data = img_to_array(img)\n",
    "# expand dimension to one sample\n",
    "samples = expand_dims(data, 0)\n",
    "# create image data augmentation generator\n",
    "datagen = ImageDataGenerator(zoom_range=[0.5,1.0])\n",
    "# prepare iterator\n",
    "it = datagen.flow(samples, batch_size=1)\n",
    "# generate samples and plot\n",
    "for i in range(9):\n",
    " # define subplot\n",
    " pyplot.subplot(330 + 1 + i)\n",
    " # generate batch of images\n",
    " batch = it.next()\n",
    " # convert to unsigned integers for viewing\n",
    " image = batch[0].astype('uint8')\n",
    " # plot raw pixel data\n",
    " pyplot.imshow(image)\n",
    "# show the figure\n",
    "pyplot.show()"
   ]
  },
  {
   "cell_type": "markdown",
   "id": "dcd5ac21",
   "metadata": {},
   "source": [
    "# Multiple Image Augmentation"
   ]
  },
  {
   "cell_type": "code",
   "execution_count": null,
   "id": "9346df88",
   "metadata": {},
   "outputs": [],
   "source": [
    "from tensorflow.python.keras.applications.resnet50 import preprocess_input\n",
    "from tensorflow.python.keras.preprocessing.image import ImageDataGenerator\n",
    "\n",
    "image_size = 224\n",
    "\n",
    "data_generator_with_aug = ImageDataGenerator(preprocessing_function=preprocess_input,\n",
    "                                   horizontal_flip=True,\n",
    "                                   width_shift_range = 0.2,\n",
    "                                   height_shift_range = 0.2)\n",
    "train_generator = data_generator_with_aug.flow_from_directory(\n",
    "        '../input/urban-and-rural-photos/urban_and_rural_photos/train',\n",
    "        target_size=(image_size, image_size),\n",
    "        batch_size=24,\n",
    "        class_mode='categorical')\n",
    "\n",
    "data_generator_no_aug = ImageDataGenerator(preprocessing_function=preprocess_input)\n",
    "validation_generator = data_generator_no_aug.flow_from_directory(\n",
    "        '../input/urban-and-rural-photos/urban_and_rural_photos/val',\n",
    "        target_size=(image_size, image_size),\n",
    "        class_mode='categorical')\n",
    "\n",
    "my_new_model.fit_generator(\n",
    "        train_generator,\n",
    "        steps_per_epoch=3,\n",
    "        epochs=2,\n",
    "        validation_data=validation_generator,\n",
    "        validation_steps=1)"
   ]
  },
  {
   "cell_type": "markdown",
   "id": "90b9d8f8",
   "metadata": {},
   "source": [
    "# examples for how doing augumentation in some disease projects"
   ]
  },
  {
   "cell_type": "code",
   "execution_count": null,
   "id": "23179c61",
   "metadata": {},
   "outputs": [],
   "source": [
    "#Detecting Malaria's Disease\n",
    "# Deffining the Training and Testing Datasets\n",
    "from keras.preprocessing. image import ImageDataGenerator\n",
    "train_datagen = ImageDataGenerator (rescale=1./255, shear_range=0.2, zoom_range=0.2, horizontal_flip=True)\n",
    "#####################################################################\n",
    "#Detecting Coronavirus COVID-19 in X-ray images\n",
    "# initialize the training data augmentation object\n",
    "trainAug = ImageDataGenerator (rotation_range=15, fill mode=\"nearest\")\n",
    "#####################################################################\n",
    "#Brain Tumor Detection\n",
    "# set the paramters we want to change randomly\n",
    "demo_datagen = ImageDataGenerator (\n",
    "rotation_range=15, width_shift_range=0.05, height_shift_range=0.05, rescale=1./255, shear_range=0.05,\n",
    "brightness_range= [0.1, 1.5], horizontal_flip=True, vertical_flip=True)\n",
    "#####################################################################\n",
    "#Derma Diseases Detection\n",
    "train_datagen = ImageDataGenerator(\n",
    "rescale=1./255, width_shift_range=0.2, height_shift_range=0.2, horizontal flip=True, fill mode='nearest')\n",
    "#####################################################################\n",
    "#Histopathologic Cancer Detection\n",
    "# Data augmentation\n",
    "training_data_generator = ImageDataGenerator (rescale=1./255,\n",
    "horizontal_flip=True, vertical_flip=True, rotation_range=180, zoom_range=0.4, width_shift_range=0.3, height_shift_range=0.3,\n",
    "shear_range=0.3, channel_shift_range=0.3)"
   ]
  },
  {
   "cell_type": "markdown",
   "id": "b62d0240",
   "metadata": {},
   "source": [
    "# data photo"
   ]
  },
  {
   "attachments": {
    "bird.jpg": {
     "image/jpeg": "[encoded data removed]"
    }
   },
   "cell_type": "markdown",
   "id": "4881ed4d",
   "metadata": {},
   "source": [
    "![bird.jpg](attachment:bird.jpg)"
   ]
  },
  {
   "cell_type": "code",
   "execution_count": null,
   "id": "393b159b",
   "metadata": {},
   "outputs": [],
   "source": []
  }
 ],
 "metadata": {
  "kernelspec": {
   "display_name": "Python 3 (ipykernel)",
   "language": "python",
   "name": "python3"
  },
  "language_info": {
   "codemirror_mode": {
    "name": "ipython",
    "version": 3
   },
   "file_extension": ".py",
   "mimetype": "text/x-python",
   "name": "python",
   "nbconvert_exporter": "python",
   "pygments_lexer": "ipython3",
   "version": "3.9.12"
  },
  "toc": {
   "base_numbering": 1,
   "nav_menu": {},
   "number_sections": true,
   "sideBar": true,
   "skip_h1_title": false,
   "title_cell": "Table of Contents",
   "title_sidebar": "Contents",
   "toc_cell": false,
   "toc_position": {},
   "toc_section_display": true,
   "toc_window_display": false
  },
  "varInspector": {
   "cols": {
    "lenName": 16,
    "lenType": 16,
    "lenVar": 40
   },
   "kernels_config": {
    "python": {
     "delete_cmd_postfix": "",
     "delete_cmd_prefix": "del ",
     "library": "var_list.py",
     "varRefreshCmd": "print(var_dic_list())"
    },
    "r": {
     "delete_cmd_postfix": ") ",
     "delete_cmd_prefix": "rm(",
     "library": "var_list.r",
     "varRefreshCmd": "cat(var_dic_list()) "
    }
   },
   "types_to_exclude": [
    "module",
    "function",
    "builtin_function_or_method",
    "instance",
    "_Feature"
   ],
   "window_display": false
  }
 },
 "nbformat": 4,
 "nbformat_minor": 5
}
