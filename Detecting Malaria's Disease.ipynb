{
 "cells": [
  {
   "cell_type": "markdown",
   "id": "39fae07e",
   "metadata": {},
   "source": [
    "# Detecting Malaria's Disease\n",
    "Malaria.py\n",
    "\n",
    "Prediction Model on Cell Images for Detecting Malaria:\n",
    "https://github.com/ap-101/Disease-Prediction-Model                         \n",
    "https://www.kaggle.com/miracle9to9/malaria-pred\n",
    "\n",
    "Dataset:\n",
    "https://www.kaggle.com/miracle9to9/files1                                   \n",
    "https://www.kaggle.com/dataset/aa9f1bfebef540839f22863cbd9f6222a380916faa1b5bc59b4283b409640bd\n",
    "\n",
    "\n",
    "Malaria.py dataset:                 \n",
    "-single _prediction             \n",
    "    -testing_set                  \n",
    "        -Parasitized                 \n",
    "        -Uninfected                    \n",
    "    -training_set                \n",
    "        -Parasitized                 \n",
    "        -Uninfected                 "
   ]
  },
  {
   "cell_type": "code",
   "execution_count": null,
   "id": "cc096641",
   "metadata": {},
   "outputs": [],
   "source": [
    "from keras.models import Sequential\n",
    "from keras.layers import Convolution2D \n",
    "from keras.layers import MaxPooling20 \n",
    "from keras. layers import Flatten \n",
    "from keras.layers import Dense \n",
    "import warnings\n",
    "warnings.filterwarnings(\"ignore\")\n",
    "# Initialising the CNN\n",
    "elassifier = Sequential ()\n",
    "# Stepi - Convolution\n",
    "# Input Layer/dimensions\n",
    "# Step-1 Convolution\n",
    "# 64 is number of output filters in the convolution\n",
    "# 3,3 is filter matrix that will multiply to input_shapes (64, 64, 3)\n",
    "# 64,64 is image size we provide\n",
    "# 3 is rgb \n",
    "classifier.add(Convolution2D(64,3,3, input_shapes (64,64,3), activations'relu'))\n",
    "# Step2 - Pooling\n",
    "#Processing\n",
    "# Hidden Layer 1\n",
    "# 2,2 matrix rotates, tilts, etc to all the images\n",
    "classifier.add(MaxPooling2D (pool_size= (2,2)))\n",
    "\n",
    "# Adding a second convolution Layer\n",
    "# Hidden Layer 2\n",
    "# relu turns negative images to e\n",
    "classifier.add(Convolution20(64,3,3, activations'relu')) \n",
    "classifier.add(MaxPooling2D(pool_sizes (2,2)))\n",
    "# step3 - Flattening\n",
    "# converts the matrix in a singe array\n",
    "classifier.add(Flatten ())\n",
    "# Stead - Full COnnection\n",
    "# 128 is the final layer of outputs & from that 1 will be considered ie dog or cat\n",
    "classifier.add(Dense (output_dim=128, activations'relu')) \n",
    "classifier.add(Dense (output_dimal, activations'sigmoid'))\n",
    "# sigmoid helps in 0 1 classification\n",
    "# Compiling the CNN\n",
    "classifier.compile (optimizer ='adam', loss='binary _crossentropy', metrics=['accuracy'])\n",
    "# Deffining the Training and Testing Datasets \n",
    "from keras.preprocessing. image import ImageDataGenerator\n",
    "# Generate batches of tensor image data with real-time data augmentation\n",
    "train_datagen = ImageDataGenerator (rescale=1./255,shear_range=0.2, zoom_range=0.2, horizontal_flip=True)\n",
    "test_datagen = ImageDataGenerator (rescale=1./255)\n",
    "training_set = train_datagen.flow_from_directory('dataset/training_set', target_size=(64, 64), batch_size=32, class_modes='binary')\n",
    "test_set = test_datagen.flow_from_directory('dataset/testing_ set', target_sizen(64, 64), batch_sizem32, class_modes 'binary')\n",
    "# nb_epochs how much times you want to back propogate\n",
    "# steps_per_epoch it will transfer that many images at 1 time\n",
    "# & epochs means 'steps_per_epoch' will repeat that many times \n",
    "classifier.fit_generator( training_set, steps_per_epoch=5000, b_epochale, validation_datastest_set,nb_val_samples=1000)\n",
    "\n",
    "import numpy as np \n",
    "from keras-preprocessing import image\n",
    "#versing our Model by giving samples of cell to detect malaria\n",
    "test_image = image.load_img('dataset/single_prediction/Parasitised.png', target_size = (64, 64))\n",
    "test_image = image.img_to_array(test_image)\n",
    "test_image = mp.expand_dims(test_image, axis = 0)\n",
    "result = classifier.predict(test_image)\n",
    "print (training_set.class_indices)\n",
    "if result[0][0] == 1:\n",
    "    prediction = 'Uninfected'\n",
    "else:\n",
    "    prediction = 'Parasitised'\n",
    "print (\"The prediction result is :\", prediction)\n"
   ]
  },
  {
   "cell_type": "markdown",
   "id": "7d701e85",
   "metadata": {},
   "source": [
    "# References:\n",
    "\n",
    "https://github.com/ap-101/Disease-Prediction-Model       \n",
    "\n",
    "https://www.kaggle.com/miracle9to9/malaria-pred\n",
    "\n",
    "https://www.kaggle.com/miracle9to9/files1\n",
    "\n",
    "https://www.kaggle.com/dataset/aa9f1bfebef540839f22863cbd9f6222a380916faa1b5bc59b4283b409640bd\n",
    "\n",
    "https://github.com/ap-101/Disease-Prediction-Model\n",
    "\n",
    "https://github.com/rtflynn/Heart-Disease-Model\n"
   ]
  },
  {
   "cell_type": "code",
   "execution_count": null,
   "id": "aa65f85a",
   "metadata": {},
   "outputs": [],
   "source": []
  }
 ],
 "metadata": {
  "kernelspec": {
   "display_name": "Python 3 (ipykernel)",
   "language": "python",
   "name": "python3"
  },
  "language_info": {
   "codemirror_mode": {
    "name": "ipython",
    "version": 3
   },
   "file_extension": ".py",
   "mimetype": "text/x-python",
   "name": "python",
   "nbconvert_exporter": "python",
   "pygments_lexer": "ipython3",
   "version": "3.9.12"
  },
  "toc": {
   "base_numbering": 1,
   "nav_menu": {},
   "number_sections": true,
   "sideBar": true,
   "skip_h1_title": false,
   "title_cell": "Table of Contents",
   "title_sidebar": "Contents",
   "toc_cell": false,
   "toc_position": {},
   "toc_section_display": true,
   "toc_window_display": false
  },
  "varInspector": {
   "cols": {
    "lenName": 16,
    "lenType": 16,
    "lenVar": 40
   },
   "kernels_config": {
    "python": {
     "delete_cmd_postfix": "",
     "delete_cmd_prefix": "del ",
     "library": "var_list.py",
     "varRefreshCmd": "print(var_dic_list())"
    },
    "r": {
     "delete_cmd_postfix": ") ",
     "delete_cmd_prefix": "rm(",
     "library": "var_list.r",
     "varRefreshCmd": "cat(var_dic_list()) "
    }
   },
   "types_to_exclude": [
    "module",
    "function",
    "builtin_function_or_method",
    "instance",
    "_Feature"
   ],
   "window_display": false
  }
 },
 "nbformat": 4,
 "nbformat_minor": 5
}
