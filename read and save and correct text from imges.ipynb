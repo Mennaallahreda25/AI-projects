{
 "cells": [
  {
   "cell_type": "code",
   "execution_count": null,
   "id": "bbe6f110",
   "metadata": {
    "ExecuteTime": {
     "start_time": "2022-11-26T23:10:10.591Z"
    }
   },
   "outputs": [],
   "source": [
    "!pip install tensorflow"
   ]
  },
  {
   "cell_type": "code",
   "execution_count": null,
   "id": "4845ef31",
   "metadata": {},
   "outputs": [],
   "source": [
    "import tensorflow as tf\n",
    "import cv2 as cv\n",
    "import utils\n",
    "# path = input('Input Image Path: ')\n",
    "path = \"WhatsApp Image 2021-07-17 at 20.04.23.jpeg\"\n",
    "image = cv.imread(path)\n",
    "# Loading Model\n",
    "sess = tf.Session()\n",
    "model = tf.saved_model.loader.load(sess ,tags = ['serve'], export_dir = 'model_pb')\n",
    "# Get Predicted Text\n",
    "resized_image = tf.image.resize_image_with_pad(image, 64, 1024).eval(session = sess)\n",
    "img_gray = cv.cvtColor(resized_image, cv.COLOR_RGB2GRAY).reshape(64,1024,1)\n",
    "\n",
    "output = sess.run('Dense-Decoded/SparseToDense:0', \n",
    "         feed_dict = {\n",
    "             'Deep-CNN/Placeholder:0':img_gray\n",
    "         })\n",
    "output_text = utils.dense_to_text(output[0])\n",
    "output_text\n",
    "# cv.imshow('image',image)\n",
    "# cv.waitKey(0)\n",
    "# cv.destroyAllWindows()"
   ]
  }
 ],
 "metadata": {
  "kernelspec": {
   "display_name": "Python 3 (ipykernel)",
   "language": "python",
   "name": "python3"
  },
  "language_info": {
   "codemirror_mode": {
    "name": "ipython",
    "version": 3
   },
   "file_extension": ".py",
   "mimetype": "text/x-python",
   "name": "python",
   "nbconvert_exporter": "python",
   "pygments_lexer": "ipython3",
   "version": "3.9.12"
  },
  "toc": {
   "base_numbering": 1,
   "nav_menu": {},
   "number_sections": true,
   "sideBar": true,
   "skip_h1_title": false,
   "title_cell": "Table of Contents",
   "title_sidebar": "Contents",
   "toc_cell": false,
   "toc_position": {},
   "toc_section_display": true,
   "toc_window_display": false
  },
  "varInspector": {
   "cols": {
    "lenName": 16,
    "lenType": 16,
    "lenVar": 40
   },
   "kernels_config": {
    "python": {
     "delete_cmd_postfix": "",
     "delete_cmd_prefix": "del ",
     "library": "var_list.py",
     "varRefreshCmd": "print(var_dic_list())"
    },
    "r": {
     "delete_cmd_postfix": ") ",
     "delete_cmd_prefix": "rm(",
     "library": "var_list.r",
     "varRefreshCmd": "cat(var_dic_list()) "
    }
   },
   "types_to_exclude": [
    "module",
    "function",
    "builtin_function_or_method",
    "instance",
    "_Feature"
   ],
   "window_display": false
  }
 },
 "nbformat": 4,
 "nbformat_minor": 5
}
