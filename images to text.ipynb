{
 "cells": [
  {
   "cell_type": "markdown",
   "id": "3fa50e16",
   "metadata": {},
   "source": [
    "# to english"
   ]
  },
  {
   "cell_type": "code",
   "execution_count": 2,
   "id": "b25db903",
   "metadata": {
    "ExecuteTime": {
     "end_time": "2023-02-19T19:28:51.335209Z",
     "start_time": "2023-02-19T19:28:47.387257Z"
    }
   },
   "outputs": [
    {
     "name": "stdout",
     "output_type": "stream",
     "text": [
      "CY)\n",
      "\n",
      "©\n",
      "\n",
      "LFS\n",
      "\n",
      "[=\n",
      "\n",
      "&\n",
      ".\n",
      "\n",
      "FER CRISPS OIF SPOOF OP OFOUGHE\n",
      "ay\n",
      "\n",
      "Mtr/s. Menna Allah Reda Abd El-wahed Hassan Mostafa has completed\n",
      "the certified Course in ICDL (International Computer Driving License)\n",
      "Program in a training period (30) Thirty Contact Hours , and her/ his Grade\n",
      "is (Excellent), in the period from aoe to 30/5/2022.\n",
      "\n",
      "This certificate from us so,,,\n",
      "\n",
      "\\\n",
      "D\n",
      "\n",
      "DQROLR LEFT LOG LEE LLD.\n",
      "\n",
      "&\n",
      "\n",
      "\n"
     ]
    }
   ],
   "source": [
    "import pytesseract\n",
    "pytesseract.pytesseract.tesseract_cmd = \"C:\\\\Program Files\\\\Tesseract-OCR\\\\tesseract.exe\"\n",
    "text = pytesseract.image_to_string('WhatsApp Image 2023-02-02 at 02.20.06.jpeg')\n",
    "print(text)  "
   ]
  },
  {
   "cell_type": "code",
   "execution_count": 3,
   "id": "a5e36b42",
   "metadata": {
    "ExecuteTime": {
     "end_time": "2023-02-19T19:30:11.050980Z",
     "start_time": "2023-02-19T19:30:09.343766Z"
    }
   },
   "outputs": [
    {
     "data": {
      "text/plain": [
       "'Program in a training period (30) Thirty Contact Hours , and her/ his Grade\\nis (Excellent), in the period from aoe to 30/5/2022.'"
      ]
     },
     "execution_count": 3,
     "metadata": {},
     "output_type": "execute_result"
    }
   ],
   "source": [
    "#summarize text\n",
    "import summa\n",
    "from summa.summarizer import summarize\n",
    "summarize(text, ratio=0.20, language =\"english\")"
   ]
  },
  {
   "cell_type": "code",
   "execution_count": 4,
   "id": "dc1749e1",
   "metadata": {
    "ExecuteTime": {
     "end_time": "2023-02-19T19:35:47.674888Z",
     "start_time": "2023-02-19T19:35:46.767365Z"
    }
   },
   "outputs": [],
   "source": [
    "#correct text\n",
    "from spellchecker import SpellChecker\n",
    "corrector = SpellChecker()\n",
    "\n",
    "word = text \n"
   ]
  },
  {
   "cell_type": "code",
   "execution_count": 5,
   "id": "5f8dc310",
   "metadata": {
    "ExecuteTime": {
     "end_time": "2023-02-19T19:35:49.055115Z",
     "start_time": "2023-02-19T19:35:49.045143Z"
    },
    "scrolled": true
   },
   "outputs": [
    {
     "name": "stdout",
     "output_type": "stream",
     "text": [
      "Correct Spelling is  CY)\n",
      "\n",
      "©\n",
      "\n",
      "LFS\n",
      "\n",
      "[=\n",
      "\n",
      "&\n",
      ".\n",
      "\n",
      "FER CRISPS OIF SPOOF OP OFOUGHE\n",
      "ay\n",
      "\n",
      "Mtr/s. Menna Allah Reda Abd El-wahed Hassan Mostafa has completed\n",
      "the certified Course in ICDL (International Computer Driving License)\n",
      "Program in a training period (30) Thirty Contact Hours , and her/ his Grade\n",
      "is (Excellent), in the period from aoe to 30/5/2022.\n",
      "\n",
      "This certificate from us so,,,\n",
      "\n",
      "\\\n",
      "D\n",
      "\n",
      "DQROLR LEFT LOG LEE LLD.\n",
      "\n",
      "&\n",
      "\n",
      "\n"
     ]
    }
   ],
   "source": [
    "if word in corrector:\n",
    "    print(\"Correct\")\n",
    "else:\n",
    "    correct_word = corrector.correction(word)\n",
    "    print(\"Correct Spelling is \", correct_word)"
   ]
  },
  {
   "cell_type": "code",
   "execution_count": 6,
   "id": "0ddcb35d",
   "metadata": {
    "ExecuteTime": {
     "end_time": "2023-02-19T19:38:21.621424Z",
     "start_time": "2023-02-19T19:38:21.598484Z"
    }
   },
   "outputs": [],
   "source": [
    "#save model\n",
    "import pickle  # .pickle extension model \n",
    "with open('model_pickle','wb') as file: # write binary \n",
    "    pickle.dump(text ,file) # put model into file\n",
    "#Load Saved Model\n",
    "with open('model_pickle','rb') as file: # read binary \n",
    "    ourModel = pickle.load(file)"
   ]
  },
  {
   "cell_type": "code",
   "execution_count": null,
   "id": "acf96a4d",
   "metadata": {},
   "outputs": [],
   "source": []
  },
  {
   "cell_type": "markdown",
   "id": "d01d0a6f",
   "metadata": {},
   "source": [
    "# to arabic"
   ]
  },
  {
   "cell_type": "code",
   "execution_count": null,
   "id": "6fdba446",
   "metadata": {},
   "outputs": [],
   "source": [
    "from ArabicOcr import arabicocr\n",
    "image_path='WhatsApp Image 2023-02-02 at 22.14.35.jpeg'\n",
    "out_image='out.jpeg'\n",
    "results=arabicocr.arabic_ocr(image_path,out_image)\n",
    "print(results)\n",
    "words=[]\n",
    "for i in range(len(results)):\t\n",
    "\t\tword=results[i][1] \n",
    "\t\twords.append(word)\n",
    "with open ('file.txt','w',encoding='utf-8')as myfile:\n",
    "\t\tmyfile.write(str(words))"
   ]
  },
  {
   "cell_type": "code",
   "execution_count": null,
   "id": "6200492c",
   "metadata": {},
   "outputs": [],
   "source": [
    "#summarize text\n",
    "import summa\n",
    "from summa.summarizer import summarize\n",
    "summarize(words, ratio=0.20, language =\"arabic\")"
   ]
  },
  {
   "cell_type": "code",
   "execution_count": null,
   "id": "8144f87a",
   "metadata": {},
   "outputs": [],
   "source": [
    "#correct text\n",
    "corrector = SpellChecker()\n",
    "\n",
    "word = words"
   ]
  },
  {
   "cell_type": "code",
   "execution_count": null,
   "id": "d3589d74",
   "metadata": {},
   "outputs": [],
   "source": [
    "if word in corrector:\n",
    "    print(\"Correct\")\n",
    "else:\n",
    "    correct_word = corrector.correction(word)\n",
    "    print(\"Correct Spelling is \", correct_word)"
   ]
  },
  {
   "cell_type": "code",
   "execution_count": null,
   "id": "25e60ceb",
   "metadata": {},
   "outputs": [],
   "source": [
    "#save model\n",
    "import pickle  # .pickle extension model , h5. or .json,  games or programs.exe\n",
    "with open('model_pickle','wb') as file: # write binary \n",
    "    pickle.dump(words ,file) # put model into file\n",
    "#Load Saved Model\n",
    "with open('model_pickle','rb') as file: # read binary \n",
    "    ourModel = pickle.load(file)"
   ]
  }
 ],
 "metadata": {
  "kernelspec": {
   "display_name": "Python 3 (ipykernel)",
   "language": "python",
   "name": "python3"
  },
  "language_info": {
   "codemirror_mode": {
    "name": "ipython",
    "version": 3
   },
   "file_extension": ".py",
   "mimetype": "text/x-python",
   "name": "python",
   "nbconvert_exporter": "python",
   "pygments_lexer": "ipython3",
   "version": "3.9.12"
  },
  "toc": {
   "base_numbering": 1,
   "nav_menu": {},
   "number_sections": true,
   "sideBar": true,
   "skip_h1_title": false,
   "title_cell": "Table of Contents",
   "title_sidebar": "Contents",
   "toc_cell": false,
   "toc_position": {},
   "toc_section_display": true,
   "toc_window_display": false
  },
  "varInspector": {
   "cols": {
    "lenName": 16,
    "lenType": 16,
    "lenVar": 40
   },
   "kernels_config": {
    "python": {
     "delete_cmd_postfix": "",
     "delete_cmd_prefix": "del ",
     "library": "var_list.py",
     "varRefreshCmd": "print(var_dic_list())"
    },
    "r": {
     "delete_cmd_postfix": ") ",
     "delete_cmd_prefix": "rm(",
     "library": "var_list.r",
     "varRefreshCmd": "cat(var_dic_list()) "
    }
   },
   "types_to_exclude": [
    "module",
    "function",
    "builtin_function_or_method",
    "instance",
    "_Feature"
   ],
   "window_display": false
  }
 },
 "nbformat": 4,
 "nbformat_minor": 5
}
