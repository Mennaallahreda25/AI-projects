{
 "cells": [
  {
   "cell_type": "markdown",
   "id": "36c195f3",
   "metadata": {},
   "source": [
    "prerequirements : \n",
    "(Detecting malaria's Disease project)\n",
    " \n",
    "the links:\n",
    "https://github.com/ap-101/Disease-Prediction-Model                 \n",
    "https://www.kaggle.com/miracle9to9/malaria-pred\n",
    "\n",
    "\n",
    "Dataset project link:\n",
    "https://www.kaggle.com/emmarex/plantdisease\n",
    "\n",
    "Dataset:    \n",
    " Main.py    \n",
    "  -Dataset    \n",
    "    -single_prediction    \n",
    "    -testing_set     \n",
    "        -Pepper__bell__Bacterial _spot -> 150      \n",
    "        -Pepper__ bell__healthy -> 150     \n",
    "    -training set      \n",
    "        -Pepper__bellBacterial_spot -> 846      \n",
    "        -Pepper__bellhealthy -> 1327       "
   ]
  },
  {
   "cell_type": "markdown",
   "id": "c0626494",
   "metadata": {},
   "source": [
    "# Plant Disease Detection\n",
    "Main.py"
   ]
  },
  {
   "cell_type": "code",
   "execution_count": null,
   "id": "7d3c439f",
   "metadata": {},
   "outputs": [],
   "source": [
    "from keras.models import Sequential \n",
    "from keras.layers import Convolution2D \n",
    "from keras.layers import MaxPooling20 \n",
    "from keras.layers import Flatten \n",
    "from keras.layers import Dense \n",
    "import warnings\n",
    "warnings.filterwarnings(\"ignore\")\n",
    "# Initialising the CNN\n",
    "classifier = Sequential ()\n",
    "# Step! - ConvoLution\n",
    "# Input Layer/dimensions\n",
    "# Step-1 Convolution\n",
    "# 64 is number of output filters in the convolution\n",
    "# 3,3 is filter matrix that will multiply to input_shapes (64,64, 3)\n",
    "# 64,64 is image size we provide\n",
    "# 3 is rgb\n",
    "classifier.add(Convolution20(64,3,3, input_shapes (64,64,3), activations'relu'))\n",
    "# Step2 - Pooling\n",
    "#Processing\n",
    "# Hidden Layer 1\n",
    "# 2,2 matrix rotates, tilts, etc to all the images\n",
    "classifier.add(MaxPooling2D (pool_size=(2,2)))\n",
    "\n",
    "\n",
    "# Adding a second convolution layer\n",
    "# Hidden Layer 2\n",
    "# relu turns negative images to 0\n",
    "classifier.add(Convolution20(64,3,3, activations'relu')) \n",
    "classifier.add(MaxPooling2D(pool_size: (2,2)))\n",
    "# step3 - Flattening\n",
    "# converts the matrix in a singe array\n",
    "classifier.add(Flatten())\n",
    "# Step4 - Full COnnection\n",
    "# 128 is the final layer of outputs & from that 1 will be considered fe dog or cat\n",
    "classifier.add(Dense (output_dim=128, activations'relu')) \n",
    "classifier.add(Dense(output_dim=1, activations'sigmoid'))\n",
    "# sigmoid helps in 0 1 classification\n",
    "# Compiling the CNN\n",
    "classifier. compile(optimizer ='adam', loss='binary_crossentropy', metrics=['accuracy'])\n",
    "# Deffining the Training and Testing Datasets\n",
    "from keras.preprocessing.image import ImageDataGenerator\n",
    "train_datagen = ImageDataGenerator (rescale=1. /255,shear_range=0.2, zoom_range=0. 2,horizontal_flip=True)\n",
    "\n",
    "\n",
    "test_datagen = ImageDataGenerator (rescale=1./255)\n",
    "training_set = train_datagen.flow_from_directory('dataset/training_set', target_size=(64, 64), batch_size=32, class_mode='binary')\n",
    "\n",
    "test_set = test_datagen.flow_from_directory('dataset/testing_set', target_size= (64, 64), batch_size=32, class_mode= 'binary')\n",
    "# nb_epochs how much times you want to back propogate\n",
    "# steps_per_epoch it will transfer that many images at 1 time\n",
    "# & epochs means 'steps_per_epoch' will repeat that many times\n",
    "classifier.fit_generator ( training_set, steps_per_epoch=5ee, b_epoch=5, validation_datastest_set, nb_val_samples=500)\n",
    "\n",
    "\n",
    "import numpy as np \n",
    "from keras.preprocessing import image\n",
    "# Verifing ovor Model by giving samples of cell to detect malaria\n",
    "test_image = image.load_img ('dataset/single_prediction/Pepper_bell_healthy.JPG', target_size = (64, 64))\n",
    "test_image = image.img_to_array(test_image)\n",
    "test_image = np.expand_dims (test_image, axis = 0)\n",
    "result = classifier.predict(test_image)\n",
    "print (training_set.class_indices)\n",
    "if result[0][0] ==1:\n",
    "    prediction = 'Pepper_bell__healthy'\n",
    "else:\n",
    "    prediction = 'Pepper_bell__Bacterial_spot'\n",
    "print (\"The prediction result is :\", prediction)"
   ]
  },
  {
   "cell_type": "markdown",
   "id": "da6d8fa0",
   "metadata": {},
   "source": [
    "# References:\n",
    "\n",
    "https://github.com/ap-101/Disease-Prediction-Model\n",
    "    \n",
    "https://www.kaggle.com/miracle9to9/malaria-pred\n",
    "\n",
    "https://www.kaggle.com/emmarex/plantdisease"
   ]
  },
  {
   "cell_type": "code",
   "execution_count": null,
   "id": "9408328d",
   "metadata": {},
   "outputs": [],
   "source": []
  }
 ],
 "metadata": {
  "kernelspec": {
   "display_name": "Python 3 (ipykernel)",
   "language": "python",
   "name": "python3"
  },
  "language_info": {
   "codemirror_mode": {
    "name": "ipython",
    "version": 3
   },
   "file_extension": ".py",
   "mimetype": "text/x-python",
   "name": "python",
   "nbconvert_exporter": "python",
   "pygments_lexer": "ipython3",
   "version": "3.9.12"
  },
  "toc": {
   "base_numbering": 1,
   "nav_menu": {},
   "number_sections": true,
   "sideBar": true,
   "skip_h1_title": false,
   "title_cell": "Table of Contents",
   "title_sidebar": "Contents",
   "toc_cell": false,
   "toc_position": {},
   "toc_section_display": true,
   "toc_window_display": false
  },
  "varInspector": {
   "cols": {
    "lenName": 16,
    "lenType": 16,
    "lenVar": 40
   },
   "kernels_config": {
    "python": {
     "delete_cmd_postfix": "",
     "delete_cmd_prefix": "del ",
     "library": "var_list.py",
     "varRefreshCmd": "print(var_dic_list())"
    },
    "r": {
     "delete_cmd_postfix": ") ",
     "delete_cmd_prefix": "rm(",
     "library": "var_list.r",
     "varRefreshCmd": "cat(var_dic_list()) "
    }
   },
   "types_to_exclude": [
    "module",
    "function",
    "builtin_function_or_method",
    "instance",
    "_Feature"
   ],
   "window_display": false
  }
 },
 "nbformat": 4,
 "nbformat_minor": 5
}
