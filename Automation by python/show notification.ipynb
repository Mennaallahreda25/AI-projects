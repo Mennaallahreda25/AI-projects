{
 "cells": [
  {
   "cell_type": "markdown",
   "id": "73b93fbc",
   "metadata": {},
   "source": [
    "# first way"
   ]
  },
  {
   "cell_type": "code",
   "execution_count": 2,
   "id": "ad5e68eb",
   "metadata": {
    "ExecuteTime": {
     "end_time": "2023-02-23T00:22:56.496784Z",
     "start_time": "2023-02-23T00:22:50.782748Z"
    }
   },
   "outputs": [
    {
     "name": "stdout",
     "output_type": "stream",
     "text": [
      "Requirement already satisfied: win10toast in c:\\users\\hp\\anaconda3\\lib\\site-packages (0.9)\n",
      "Requirement already satisfied: pypiwin32 in c:\\users\\hp\\anaconda3\\lib\\site-packages (from win10toast) (223)\n",
      "Requirement already satisfied: setuptools in c:\\users\\hp\\anaconda3\\lib\\site-packages (from win10toast) (61.2.0)\n",
      "Requirement already satisfied: pywin32>=223 in c:\\users\\hp\\anaconda3\\lib\\site-packages (from pypiwin32->win10toast) (302)\n"
     ]
    },
    {
     "name": "stderr",
     "output_type": "stream",
     "text": [
      "WARNING: Ignoring invalid distribution -pencv-python-headless (c:\\users\\hp\\anaconda3\\lib\\site-packages)\n",
      "WARNING: Ignoring invalid distribution -pencv-python-headless (c:\\users\\hp\\anaconda3\\lib\\site-packages)\n",
      "WARNING: Ignoring invalid distribution -pencv-python-headless (c:\\users\\hp\\anaconda3\\lib\\site-packages)\n",
      "WARNING: Ignoring invalid distribution -pencv-python-headless (c:\\users\\hp\\anaconda3\\lib\\site-packages)\n",
      "WARNING: Ignoring invalid distribution -pencv-python-headless (c:\\users\\hp\\anaconda3\\lib\\site-packages)\n",
      "WARNING: Ignoring invalid distribution -pencv-python-headless (c:\\users\\hp\\anaconda3\\lib\\site-packages)\n",
      "\n",
      "[notice] A new release of pip available: 22.3.1 -> 23.0.1\n",
      "[notice] To update, run: python.exe -m pip install --upgrade pip\n"
     ]
    }
   ],
   "source": [
    "!pip install win10toast"
   ]
  },
  {
   "cell_type": "code",
   "execution_count": 3,
   "id": "3233ebcd",
   "metadata": {
    "ExecuteTime": {
     "end_time": "2023-02-23T00:23:02.926939Z",
     "start_time": "2023-02-23T00:23:02.911980Z"
    }
   },
   "outputs": [],
   "source": [
    "from win10toast import ToastNotifier"
   ]
  },
  {
   "cell_type": "code",
   "execution_count": 4,
   "id": "7d83ffb5",
   "metadata": {
    "ExecuteTime": {
     "end_time": "2023-02-23T00:25:48.895754Z",
     "start_time": "2023-02-23T00:25:38.545666Z"
    },
    "scrolled": true
   },
   "outputs": [
    {
     "name": "stderr",
     "output_type": "stream",
     "text": [
      "ERROR:root:Some trouble with the icon (C:\\Users\\hp\\custom.ico): (2, 'LoadImage', 'The system cannot find the file specified.')\n"
     ]
    },
    {
     "data": {
      "text/plain": [
       "True"
      ]
     },
     "execution_count": 4,
     "metadata": {},
     "output_type": "execute_result"
    }
   ],
   "source": [
    "toaster = ToastNotifier()\n",
    "toaster.show_toast(\"Hello World!!!\",\n",
    "\"Python is 10 seconds awsm!\",\n",
    "icon_path=\"custom.ico\",\n",
    "duration=10)"
   ]
  },
  {
   "cell_type": "code",
   "execution_count": 7,
   "id": "568b82ee",
   "metadata": {
    "ExecuteTime": {
     "end_time": "2023-02-23T00:29:08.757575Z",
     "start_time": "2023-02-23T00:29:08.740620Z"
    }
   },
   "outputs": [],
   "source": [
    "import time"
   ]
  },
  {
   "cell_type": "code",
   "execution_count": 8,
   "id": "eca7158a",
   "metadata": {
    "ExecuteTime": {
     "end_time": "2023-02-23T00:29:16.607520Z",
     "start_time": "2023-02-23T00:29:11.367257Z"
    }
   },
   "outputs": [],
   "source": [
    "toaster.show_toast(\"Example two\",\n",
    "\"This notification is in it's own thread!\",\n",
    "icon_path=None,\n",
    "duration=5,\n",
    "threaded=True)\n",
    "# Wait for threaded notification to finish\n",
    "while toaster.notification_active():\n",
    "    time.sleep(0.1)"
   ]
  },
  {
   "cell_type": "code",
   "execution_count": null,
   "id": "cc04cc59",
   "metadata": {},
   "outputs": [],
   "source": [
    "'''\n",
    "## Requirements\n",
    "\n",
    "### Installation of pywin32\n",
    "```\n",
    "pypiwin32\n",
    "setuptools\n",
    "'''"
   ]
  },
  {
   "cell_type": "markdown",
   "id": "7b4da4fd",
   "metadata": {},
   "source": [
    "# second way"
   ]
  },
  {
   "cell_type": "code",
   "execution_count": 9,
   "id": "47c6f956",
   "metadata": {
    "ExecuteTime": {
     "end_time": "2023-02-23T00:37:21.745173Z",
     "start_time": "2023-02-23T00:36:45.695299Z"
    }
   },
   "outputs": [
    {
     "name": "stdout",
     "output_type": "stream",
     "text": [
      "Collecting plyer"
     ]
    },
    {
     "name": "stderr",
     "output_type": "stream",
     "text": [
      "WARNING: Ignoring invalid distribution -pencv-python-headless (c:\\users\\hp\\anaconda3\\lib\\site-packages)\n",
      "WARNING: Ignoring invalid distribution -pencv-python-headless (c:\\users\\hp\\anaconda3\\lib\\site-packages)\n",
      "WARNING: Ignoring invalid distribution -pencv-python-headless (c:\\users\\hp\\anaconda3\\lib\\site-packages)\n",
      "WARNING: Ignoring invalid distribution -pencv-python-headless (c:\\users\\hp\\anaconda3\\lib\\site-packages)\n",
      "WARNING: Ignoring invalid distribution -pencv-python-headless (c:\\users\\hp\\anaconda3\\lib\\site-packages)\n",
      "WARNING: Ignoring invalid distribution -pencv-python-headless (c:\\users\\hp\\anaconda3\\lib\\site-packages)\n",
      "WARNING: Ignoring invalid distribution -pencv-python-headless (c:\\users\\hp\\anaconda3\\lib\\site-packages)\n",
      "\n",
      "[notice] A new release of pip available: 22.3.1 -> 23.0.1\n",
      "[notice] To update, run: python.exe -m pip install --upgrade pip\n"
     ]
    },
    {
     "name": "stdout",
     "output_type": "stream",
     "text": [
      "\n",
      "  Downloading plyer-2.1.0-py2.py3-none-any.whl (142 kB)\n",
      "     ------------------------------------- 142.3/142.3 kB 11.7 kB/s eta 0:00:00\n",
      "Installing collected packages: plyer\n",
      "Successfully installed plyer-2.1.0\n"
     ]
    }
   ],
   "source": [
    "!pip install plyer"
   ]
  },
  {
   "cell_type": "code",
   "execution_count": 11,
   "id": "bd1d15f9",
   "metadata": {
    "ExecuteTime": {
     "end_time": "2023-02-23T00:42:33.851155Z",
     "start_time": "2023-02-23T00:42:26.781691Z"
    }
   },
   "outputs": [],
   "source": [
    "import time\n",
    "from plyer import notification\n",
    "\n",
    "\n",
    "if __name__==\"__main__\":\n",
    "\n",
    "\t\tnotification.notify(\n",
    "\t\t\ttitle = \"HEADING HERE\",\n",
    "\t\t\tmessage=\" DESCRIPTION HERE\" ,\n",
    "\t\t    app_icon=None,\n",
    "\t\t\t# displaying time\n",
    "\t\t\ttimeout=2\n",
    ")\n",
    "\t\t# waiting time\n",
    "\t\ttime.sleep(7)\n"
   ]
  },
  {
   "cell_type": "code",
   "execution_count": null,
   "id": "bb5f1c9d",
   "metadata": {},
   "outputs": [],
   "source": []
  }
 ],
 "metadata": {
  "kernelspec": {
   "display_name": "Python 3 (ipykernel)",
   "language": "python",
   "name": "python3"
  },
  "language_info": {
   "codemirror_mode": {
    "name": "ipython",
    "version": 3
   },
   "file_extension": ".py",
   "mimetype": "text/x-python",
   "name": "python",
   "nbconvert_exporter": "python",
   "pygments_lexer": "ipython3",
   "version": "3.9.12"
  },
  "toc": {
   "base_numbering": 1,
   "nav_menu": {},
   "number_sections": true,
   "sideBar": true,
   "skip_h1_title": false,
   "title_cell": "Table of Contents",
   "title_sidebar": "Contents",
   "toc_cell": false,
   "toc_position": {},
   "toc_section_display": true,
   "toc_window_display": false
  },
  "varInspector": {
   "cols": {
    "lenName": 16,
    "lenType": 16,
    "lenVar": 40
   },
   "kernels_config": {
    "python": {
     "delete_cmd_postfix": "",
     "delete_cmd_prefix": "del ",
     "library": "var_list.py",
     "varRefreshCmd": "print(var_dic_list())"
    },
    "r": {
     "delete_cmd_postfix": ") ",
     "delete_cmd_prefix": "rm(",
     "library": "var_list.r",
     "varRefreshCmd": "cat(var_dic_list()) "
    }
   },
   "types_to_exclude": [
    "module",
    "function",
    "builtin_function_or_method",
    "instance",
    "_Feature"
   ],
   "window_display": false
  }
 },
 "nbformat": 4,
 "nbformat_minor": 5
}
