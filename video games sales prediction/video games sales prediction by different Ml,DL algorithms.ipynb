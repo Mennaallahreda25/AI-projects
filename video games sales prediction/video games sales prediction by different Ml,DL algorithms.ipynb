{
 "cells": [
  {
   "cell_type": "code",
   "execution_count": null,
   "id": "b6f9f868",
   "metadata": {},
   "outputs": [],
   "source": [
    "import numpy as np # linear algebra\n",
    "import pandas as pd # data processing, CSV file I/O (e.g. pd.read_csv)\n",
    "from sklearn.preprocessing import LabelEncoder\n",
    "from sklearn import linear_model\n",
    "from sklearn.model_selection import train_test_split\n",
    "from sklearn.preprocessing import StandardScaler\n",
    "\n",
    "df = pd.read_csv(\"C:/Users/hp/Downloads/vgsales.csv\")\n",
    "#using labelEncoder convert categorical data into numerical data\n",
    "number = LabelEncoder()\n",
    "df['Platform'] = number.fit_transform(df['Platform'].astype('str'))\n",
    "df['Genre'] = number.fit_transform(df['Genre'].astype('str'))\n",
    "df['Publisher'] = number.fit_transform(df['Publisher'].astype('str'))\n",
    "\n",
    "dff = df.drop(['Rank','Name', 'Year'], axis =1)\n",
    "\n",
    "df3 = dff.drop(['NA_Sales','EU_Sales', 'JP_Sales', 'Other_Sales'], axis =1)\n",
    "\n",
    "#columns = [\"Platform\", \"Genre\", \"Publisher\"]\n",
    "#columns = [\"Platform\", \"Genre\", \"Publisher\", \"NA_Sales\", \"EU_Sales\"]\n",
    "columns = [\"Platform\", \"Genre\", \"Publisher\", \"NA_Sales\", \"EU_Sales\"]\n",
    "  \n",
    "labels = df3[\"Global_Sales\"].values\n",
    "features = dff[list(columns)].values\n",
    "\n",
    "regr = linear_model.LinearRegression()\n",
    "\n",
    "X = features\n",
    "y = labels\n",
    "\n",
    "X_train, X_test, y_train, y_test = train_test_split(X, y, test_size=0.30)\n",
    "\n",
    "scaler = StandardScaler()\n",
    "#scaler = preprocessing.MinMaxScaler()\n",
    "\n",
    "# Fit only on training data\n",
    "scaler.fit(X_train)\n",
    "X_train = scaler.transform(X_train)\n",
    "# apply same transformation to test data\n",
    "X_test = scaler.transform(X_test)\n",
    "\n",
    "regr.fit(X_train, y_train)\n",
    "\n",
    "Accuracy = regr.score(X_train, y_train)\n",
    "print (\"Accuracy in the training data: \", Accuracy*100, \"%\")\n",
    "\n",
    "accuracy = regr.score(X_test, y_test)\n",
    "print (\"Accuracy in the test data\", accuracy*100, \"%\")"
   ]
  },
  {
   "cell_type": "code",
   "execution_count": null,
   "id": "35989f11",
   "metadata": {},
   "outputs": [],
   "source": [
    "from sklearn.ensemble import GradientBoostingRegressor\n",
    "M= GradientBoostingRegressor ()\n",
    "M.fit(X_train, y_train)\n",
    "Accuracy = M.score (X_train, y_train)\n",
    "print (\"GradientBoostingRegressor Accuracy in the training data: \", Accuracy * 100, \"%\")\n",
    "accuracy = M.score (X_test, y_test)\n",
    "print(\"GradientBoostingRegressor Accuracy in the test data\", accuracy * 100, \"%\")"
   ]
  },
  {
   "cell_type": "code",
   "execution_count": null,
   "id": "04e5eec5",
   "metadata": {},
   "outputs": [],
   "source": [
    "from sklearn.tree import DecisionTreeRegressor\n",
    "M2=DecisionTreeRegressor ()\n",
    "M2. fit(X_train, y_train)\n",
    "Accuracy = M2.score(X_train, y_train)\n",
    "print(\"DecisionTreeRegressor Accuracy in the training data: \", Accuracy * 100, \"%\")\n",
    "accuracy = M2.score (X_test, _test)\n",
    "print (\"DecisionTreeRegressor Accuracy in the test data\", accuracy * 100, \"%\")"
   ]
  },
  {
   "cell_type": "code",
   "execution_count": null,
   "id": "ca51c6ab",
   "metadata": {},
   "outputs": [],
   "source": [
    "from sklearn.ensemble import RandomForestRegressor\n",
    "M3 = RandomForestRegressor ( )\n",
    "M3. fit (X_train, y_train)\n",
    "Accuracy = M3.score (X_train, y_train)\n",
    "print(\"RandomForestRegressor Accuracy in the training data: \", Accuracy * 100, \"%')\n",
    "accuracy = M3.score (X_test, Y_test)\n",
    "print (\"RandomForestRegressor Accuracy in the test data\", accuracy * 100, \"%\")"
   ]
  },
  {
   "cell_type": "code",
   "execution_count": null,
   "id": "9e065d55",
   "metadata": {},
   "outputs": [],
   "source": [
    "from sklearn.svm import SVR\n",
    "M4 = SVR ( )\n",
    "M4. fit (X_train, y_train)\n",
    "Accuracy = M4.score (X_train, y_train)\n",
    "print (\"Support Vector Regression Accuracy in the training data: \", Accuracy * 100, \"%\")\n",
    "accuracy = M4.score(X_test, y_test)\n",
    "print(\"Support Vector Regression Accuracy in the test data\", accuracy * 100, \"%\")"
   ]
  },
  {
   "cell_type": "code",
   "execution_count": null,
   "id": "5ebbad6a",
   "metadata": {},
   "outputs": [],
   "source": [
    "from sklearn.neighbors import KNeighborsRegressor\n",
    "M5 = KNeighborsRegressor ()\n",
    "M5. fit (X_train, y_train)\n",
    "Accuracy = M5.score (X_train, y_train)\n",
    "print (\"KNeighborsRegressor Accuracy in the training data: \", Accuracy * 100, \"%\")\n",
    "accuracy = M5. score (X_test, y_test)\n",
    "print (\"KNeighborsRegressor Accuracy in the test data\", accuracy * 100, \"%\")"
   ]
  },
  {
   "cell_type": "code",
   "execution_count": null,
   "id": "c856a4bc",
   "metadata": {},
   "outputs": [],
   "source": [
    "from tensorflow.keras.models import Sequential from tensorflow. keras. layers import Dense, Activation from tensorflow.keras.optimizers import Adam import matplotlib.pyplot as plt\n",
    "model = Sequential ()\n",
    "model. add (Dense (19, activation='relu')) model.add(Dense (19,activation='relu')) model.add(Dense (19, activation='relu')° model.add(Dense (19, activation='relu\")) model.add(Dense (1))\n",
    "model. compile (optimizer='adam',loss='mse')\n",
    "model.fit (x=X_train,y=y_train,\n",
    "validation_data=(X_test,y_test), batch_size=128,epochs=200)\n",
    "losses = pd.DataFrame (model.history.history)\n",
    "losses.plot ()\n",
    "plt.show()"
   ]
  },
  {
   "cell_type": "code",
   "execution_count": null,
   "id": "1cbc08d2",
   "metadata": {},
   "outputs": [],
   "source": [
    "from sklearn.metrics import mean_squared_error, mean_absolute_error, explained_variance_score,r2_score\n",
    "predictions = model.predict (X_test)\n",
    "print (\"Deep learning :\")\n",
    "print ( mean_absolute_error (_test,predictions))\n",
    "print ( p.sqrt (mean_squared_error (y_test,predictions)))\n",
    "print (explained_variance_score (y_test,predictions))\n",
    "print (r2 score(y_ test‚predictions))"
   ]
  },
  {
   "cell_type": "code",
   "execution_count": null,
   "id": "aedb3da5",
   "metadata": {},
   "outputs": [],
   "source": [
    "from tensorflow.keras.models import Sequential\n",
    "from tensorflow.keras. layers import Input, Dense, Activation, Dropout from tensorflow.keras.optimizers import Adam\n",
    "mode12 = Sequential ()\n",
    "model2.add (Dense(X_train.shape[1],activation='relu'))\n",
    "model2.add(Dense (32,activation='relu\"))\n",
    "mode12.add(Dense (64,activation='relu'))\n",
    "model2.add (Dense (128, activation='relu')) model2.add(Dropout (0.2)) model2.add(Dense(1)) mode12.compile(optimizer=Adam(0.001), loss='mse',metrics=[metrics.mae])\n",
    "r = model2. fit (X_train, y_train,\n",
    "validation_data=(X_test,y_test), batch_size=128, epochs=500)\n",
    "losses = pd. DataFrame (mode12.history.history)\n",
    "losses.plot ()\n",
    "pit.show()"
   ]
  },
  {
   "cell_type": "code",
   "execution_count": null,
   "id": "8c40ddb7",
   "metadata": {},
   "outputs": [],
   "source": [
    "predictions = model2.predict(X_test)\n",
    "print (\"Deep learning :\")\n",
    "print ( mean_absolute_error (y_test‚predictions))\n",
    "print ( np.sqrt (mean_squared_error (_test,predictions)))\n",
    "print (explained_variance_score (y_test‚predictions))\n",
    "print (r2_score (_test,predictions))"
   ]
  }
 ],
 "metadata": {
  "kernelspec": {
   "display_name": "Python 3 (ipykernel)",
   "language": "python",
   "name": "python3"
  },
  "language_info": {
   "codemirror_mode": {
    "name": "ipython",
    "version": 3
   },
   "file_extension": ".py",
   "mimetype": "text/x-python",
   "name": "python",
   "nbconvert_exporter": "python",
   "pygments_lexer": "ipython3",
   "version": "3.9.12"
  },
  "toc": {
   "base_numbering": 1,
   "nav_menu": {},
   "number_sections": true,
   "sideBar": true,
   "skip_h1_title": false,
   "title_cell": "Table of Contents",
   "title_sidebar": "Contents",
   "toc_cell": false,
   "toc_position": {},
   "toc_section_display": true,
   "toc_window_display": false
  },
  "varInspector": {
   "cols": {
    "lenName": 16,
    "lenType": 16,
    "lenVar": 40
   },
   "kernels_config": {
    "python": {
     "delete_cmd_postfix": "",
     "delete_cmd_prefix": "del ",
     "library": "var_list.py",
     "varRefreshCmd": "print(var_dic_list())"
    },
    "r": {
     "delete_cmd_postfix": ") ",
     "delete_cmd_prefix": "rm(",
     "library": "var_list.r",
     "varRefreshCmd": "cat(var_dic_list()) "
    }
   },
   "types_to_exclude": [
    "module",
    "function",
    "builtin_function_or_method",
    "instance",
    "_Feature"
   ],
   "window_display": false
  }
 },
 "nbformat": 4,
 "nbformat_minor": 5
}
