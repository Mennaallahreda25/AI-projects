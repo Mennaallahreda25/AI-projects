{
 "cells": [
  {
   "cell_type": "markdown",
   "id": "ebde44c2",
   "metadata": {},
   "source": [
    "# summarize text by python"
   ]
  },
  {
   "cell_type": "code",
   "execution_count": 4,
   "id": "5155995a",
   "metadata": {
    "ExecuteTime": {
     "end_time": "2023-02-02T18:51:58.335613Z",
     "start_time": "2023-02-02T18:51:48.762632Z"
    }
   },
   "outputs": [
    {
     "name": "stdout",
     "output_type": "stream",
     "text": [
      "Collecting summa\n",
      "  Using cached summa-1.2.0-py3-none-any.whl\n",
      "Requirement already satisfied: scipy>=0.19 in c:\\users\\hp\\anaconda3\\lib\\site-packages (from summa) (1.7.3)\n",
      "Requirement already satisfied: numpy<1.23.0,>=1.16.5 in c:\\users\\hp\\anaconda3\\lib\\site-packages (from scipy>=0.19->summa) (1.22.4)\n",
      "Installing collected packages: summa\n",
      "Successfully installed summa-1.2.0\n"
     ]
    },
    {
     "name": "stderr",
     "output_type": "stream",
     "text": [
      "WARNING: Ignoring invalid distribution -pencv-python-headless (c:\\users\\hp\\anaconda3\\lib\\site-packages)\n",
      "WARNING: Ignoring invalid distribution -pencv-python-headless (c:\\users\\hp\\anaconda3\\lib\\site-packages)\n",
      "WARNING: Ignoring invalid distribution -pencv-python-headless (c:\\users\\hp\\anaconda3\\lib\\site-packages)\n",
      "WARNING: Ignoring invalid distribution -pencv-python-headless (c:\\users\\hp\\anaconda3\\lib\\site-packages)\n",
      "WARNING: Ignoring invalid distribution -pencv-python-headless (c:\\users\\hp\\anaconda3\\lib\\site-packages)\n",
      "WARNING: Ignoring invalid distribution -pencv-python-headless (c:\\users\\hp\\anaconda3\\lib\\site-packages)\n",
      "WARNING: Ignoring invalid distribution -pencv-python-headless (c:\\users\\hp\\anaconda3\\lib\\site-packages)\n",
      "\n",
      "[notice] A new release of pip available: 22.3.1 -> 23.0\n",
      "[notice] To update, run: python.exe -m pip install --upgrade pip\n"
     ]
    }
   ],
   "source": [
    "!pip install summa"
   ]
  },
  {
   "cell_type": "code",
   "execution_count": 5,
   "id": "bec12cc0",
   "metadata": {
    "ExecuteTime": {
     "end_time": "2023-02-02T18:52:08.708310Z",
     "start_time": "2023-02-02T18:51:58.354974Z"
    }
   },
   "outputs": [
    {
     "name": "stderr",
     "output_type": "stream",
     "text": [
      "C:\\Users\\hp\\anaconda3\\lib\\site-packages\\scipy\\__init__.py:146: UserWarning: A NumPy version >=1.16.5 and <1.23.0 is required for this version of SciPy (detected version 1.23.5\n",
      "  warnings.warn(f\"A NumPy version >={np_minversion} and <{np_maxversion}\"\n"
     ]
    }
   ],
   "source": [
    "import summa"
   ]
  },
  {
   "cell_type": "code",
   "execution_count": 6,
   "id": "f895f9c6",
   "metadata": {
    "ExecuteTime": {
     "end_time": "2023-02-02T18:53:04.425589Z",
     "start_time": "2023-02-02T18:53:04.411946Z"
    }
   },
   "outputs": [],
   "source": [
    "from summa.summarizer import summarize"
   ]
  },
  {
   "cell_type": "code",
   "execution_count": 9,
   "id": "f39dc806",
   "metadata": {
    "ExecuteTime": {
     "end_time": "2023-02-02T18:57:12.888150Z",
     "start_time": "2023-02-02T18:56:43.760790Z"
    }
   },
   "outputs": [
    {
     "name": "stdout",
     "output_type": "stream",
     "text": [
      "please enter the textمفهوم الذكاء الاصطناعي يرتبط مفهوم الذكاء الاصطناعي (بالإنجليزية: Artificial Intelligence) بالذكاء المرتبط بالأجهزة الرقمية أو الإلكترونية مثل؛ الكمبيوتر، الأجهزة الخلوية أو الروبوتات، ويعبر الذكاء الاصطناعي عن قدرة هذه الأجهزة الرقمية على أداء المهمات المرتبطة بالكائنات الذكية.[١] ينطبق مصطلح الذكاء الاصطناعي على الأنظمة التي تتمتع بالعمليات الفكرية للإنسان مثل؛ القدرة على التفكير، واكتشاف المعنى والتعلم من التجارب السابقة.[١] ومن الأمثلة على العمليات التي تؤديها الأجهزة الرقمية والتي تعود لوجود الذكاء الاصطناعي؛ اكتشاف البراهين للنظريات الرياضية، ولعب الشطرنج، والتشخيص الطبي، ومحركات البحث على الشبكة، والتعرف على الصوت أو خط اليد.[١] تاريخ الذكاء الاصطناعي يعود تاريخ الذكاء الاصطناعي إلى الفلاسفة الكلاسيكيين في اليونان، وبدأت دراسة موضوع وجود الذكاء الاصطناعي في عام 1940 م في مدرسة فكرية تسمى الاتصالية، بحيث بدأت دراسة عملية التفكير فيها، وقدّم آلان تورينج ورقة بحثية يدرس فيها آلة للتفكير تقلد الإنسان دون وجود اختلافات ملحوظة فيها في عام 1950 م.[٢] جاء هودجكين هكسلي بعده ليقدم نموذج يحاكي دماغ الإنسان على شكل شبكة كهربائية تمثل الخلايا العصبية، وتيار كهربائي يحاكي النبضات التي تشغل أو توقف الخلايا، وساعدت هذه النماذج والدراسات على إطلاق مفهوم الذكاء الاصطناعي عام 1956م في مؤتمر أقامته كلية دارتموث.[٢] نظرًا لعدم توفر السرعات والسعات التخزينية العالية توقفت أبحاث الذكاء الاصطناعي لفترة طويلة، ثم استؤنفت في الثمانينات بعد تقديم الولايات المتحدة الأمريكية وبريطانيا مشروع الجيل الخامس في تكنولوجيا الكمبيوتر.[٢] في بداية التسعينات حولت أبحاث الذكاء الاصطناعي مجالها إلى ما يسمى بالوكيل الذكي، والذي يستخدم في خدمات استرداد الأخبار، والتسوق عبر الإنترنت وتصفح الويب، ولا يزال الباحثون يحاولون استخدام الذكاء الاصطناعي في مجالات غير مسبوقة مثل؛ المساعدات المادية التي تقدمها الروبوتات، وبرامج خدمة العملاء، والرد على الهاتف وغيرها.[٢] آلية عمل الذكاء الاصطناعي يعمل الذكاء الاصطناعي في البيئة الرقمية من خلال توفر الأجهزة الرقمية والبرامج المتخصصة لتحليل وتصميم خوارزميات، والتعلم الآلي، وبشكل عام فإنّ نظام الذكاء الاصطناعي يستوعب كميات كبيرة من البيانات التدريبية.[٣] تستخدم البيانات التدريبية في تكوين الارتباطات والأنماط التي تستخدم فيما بعد في بناء التنبؤات المستقبلية، مثل الرد الآلي في الروبوتات الذكية، وعملية تحديد الكائنات في الصور ووصفها من خلال مراجعة ملايين الأمثلة المحفوظة لدى الجهاز الذكي.[٣] فئات الذكاء الاصطناعي يدخل الذكاء الاصطناعي في العديد من المجالات الإلكترونية والرقمية، وهو موجود على أشكال مختلفة وفي أجهزة كثيرة، بحيث يحاكي الذكاء الموجود في العقل البشري، ويندرج الذكاء الاصطناعي تحت فئتين رئيسيتين، وهما كالآتي: الذكاء الاصطناعي الضيق (Narrow AI) يعرف الذكاء الاصطناعي الضيق أيضًا باسم الذكاء الاصطناعي الضعيف، وهو نوع من أنواع الذكاء التي تحاكي الذكاء البشري ولكنه يختص بنوع واحد ومحدود من الذكاء، ويركز الذكاء الاصطناعي الضيق على أداء نوع واحد من المهمات ولكن بشكل جيد جدًا، بحيث يركز على تنفيذ مهمة واحدة باحترافية، ولكنه يعمل في ظل قيود أكثر بكثير من الذكاء البشري.[٤] ومن الأمثلة على الذكاء الاصطناعي الضيق:[٤]  محرك بحث جوجل. برامج التعرف على الصورة. المساعدات الشخصية، مثل ألكسا وسيري. السيارات ذاتية القيادة. الذكاء الاصطناعي العام (Artificial General Intelligence) يعرف الذكاء الاصطناعي العام أيضًا باسم الذكاء الاصطناعي القوي، وهو نوع من أنواع الذكاء الموجود في الآلات والأجهزة الذكية، ويمتاز الذكاء الاصطناعي العام بأنه نوع من الذكاء الموجود في الآلة والتي يكسبها ذكاءً عامًا مثل الإنسان، بحيث يستخدم هذا الذكاء في حل أي مشكلة.[٤] ومن أمثلة الأجهزة التي تتمتع بالذكاء الاصطناعي العام؛ الروبوتات التي تستخدم لإنجاز مهام عديدة والتي تتخذ قراراتها بناءً على الموقف، ولكن بناء الروبوتات التي تتمتع بذكاء شبيه بالموجود لدى الإنسان لا زال أمرًا صعبًا وبحاجة لبناء شبكات عصبية كبيرة ومعقدة كالموجودة في الدماغ.[٤] أنواع الذكاء الاصطناعي فيما يأتي أنواع الذكاء الاصطناعي: الآلات التفاعلية (reactive machines) تعرف الآلات التفاعلية بأنها أبسط مستوى موجود للروبوت، إذ إنّها آلة مصممة للتعامل مع نوع واحد من البيانات والرد على المواقف الحالية فقط،[٥] وهي آلات غير قادرة على إنشاء الذكريات أو استخدام المعلومات الحالية لبناء واتخاذ القرارات المستقبلية للتحسين من مستواها أو تطوير ذكائها، وهي فقط مصممة للرد على الموقف الحالي.[٦] من أمثلة الآلات التفاعلية؛ الآلات المصممة للعب الشطرنج ضد الإنسان مثل (Deep Blue) من (IBM)، حيث إنّ هذه الآلة مصممة للرد على حركات اللاعب من خلال تقييم القطع على رقعة الشطرنج وتحريكها وفقًا لاستراتيجيات اللعب المشفرة لديها.[٥] الذاكرة المحدودة (limited memory) تعد آلة الذاكرة المحدودة آلة قادرة على تخزين عدد محدود من المعلومات المبنية على البيانات التي تعاملت معها آلة الذاكرة المحدودة سابقًا، بحيث يمكن لآلة الذاكرة المحدودة بناء المعرفة عن طريق الذاكرة وذلك عند اقترانها مع البيانات المبرمجة مسبقًا لديها.[٥] من أمثلة الآلات التي تستخدم الذاكرة المحدودة؛ السيارات ذاتية القيادة، بحيث تخزن هذه السيارات البيانات المبرمجة مسبقًا مثل؛ الخرائط أو العلامات المرورية، ومقارنة هذه البيانات المخزنة مع المعلومات المحيطة بالسيارة مثل؛ سرعة واتجاهات السيارات القريبة وحركة المشاة جنبًا إلى جنب واتخاذ الإجراء المناسب بناءً على هذه البيانات.[٥] نظرية العقل (theory of mind) استخدمت نظرية العقل في تصميم الروبوت الشهير صوفيا، وهو روبوت قادر على استخدام المعلومات في التفاعل مع المواقف بطريقة تشبه الإنسان، والتي من شأنها تعليم الآلة أو الروبوت كيفية التصرف في موقف مختلف وجديد.[٥] تستند نظرية العقل في تطوير وتصميم الروبوتات التي تستخدم كروبوتات محادثة إلى العقل البشري الذي يستند إلى المشاعر والأفكار الموجودة لدى الإنسان قبل أن يقوم بعملية اتخاذ القرار، بحيث يقوم روبوت نظرية العقل صوفيا بالتحدث إلى البشر، واستخدام المعلومات والصور في اتخاذ القرار والرد على البشر، بالإضافة إلى إظهار تعبيرات وجهية مبهرة.[٥] الوعي الذاتي (self-awareness) تعد أجهزة الوعي الذاتي هدفًا نهائيًا لوجود الذكاء الاصطناعي، وهي أجهزة غير موجودة حاليًا، فهذه الآلات لديها وعي بمستوى الإنسان العقلي وتفهم سبب وجودها في هذا العالم، بحيث لا تطلب الآلة شيئًا تحتاجه فحسب، وإنما تفهم أنها بحاجة إلى شيء ما، وهذا يعني أن الآلة تفهم حالتها الداخلية بعمق وتستطيع التنبؤ بمشاعر الآخرين من حولها تمامًا كالبشر.[٥] على سبيل المثال عندما يصرخ شخص أمامنا فإننا ندرك أنه غاضب، وهذا الاستنتاج مبني على المشاعر التي يشعرها الشخص نفسه، بحيث تعود هذه الاستنتاجات إلى وجود العقل  إقرأ المزيد على موضوع.كوم\n"
     ]
    }
   ],
   "source": [
    "text= input(\"please enter the text\")"
   ]
  },
  {
   "cell_type": "code",
   "execution_count": 10,
   "id": "1a454f45",
   "metadata": {
    "ExecuteTime": {
     "end_time": "2023-02-02T18:57:20.943133Z",
     "start_time": "2023-02-02T18:57:20.894243Z"
    }
   },
   "outputs": [
    {
     "data": {
      "text/plain": [
       "'الذكاء الاصطناعي العام (Artificial General Intelligence) يعرف الذكاء الاصطناعي العام أيضًا باسم الذكاء الاصطناعي القوي، وهو نوع من أنواع الذكاء الموجود في الآلات والأجهزة الذكية، ويمتاز الذكاء الاصطناعي العام بأنه نوع من الذكاء الموجود في الآلة والتي يكسبها ذكاءً عامًا مثل الإنسان، بحيث يستخدم هذا الذكاء في حل أي مشكلة.[٤] ومن أمثلة الأجهزة التي تتمتع بالذكاء الاصطناعي العام؛ الروبوتات التي تستخدم لإنجاز مهام عديدة والتي تتخذ قراراتها بناءً على الموقف، ولكن بناء الروبوتات التي تتمتع بذكاء شبيه بالموجود لدى الإنسان لا زال أمرًا صعبًا وبحاجة لبناء شبكات عصبية كبيرة ومعقدة كالموجودة في الدماغ.[٤] أنواع الذكاء الاصطناعي فيما يأتي أنواع الذكاء الاصطناعي: الآلات التفاعلية (reactive machines) تعرف الآلات التفاعلية بأنها أبسط مستوى موجود للروبوت، إذ إنّها آلة مصممة للتعامل مع نوع واحد من البيانات والرد على المواقف الحالية فقط،[٥] وهي آلات غير قادرة على إنشاء الذكريات أو استخدام المعلومات الحالية لبناء واتخاذ القرارات المستقبلية للتحسين من مستواها أو تطوير ذكائها، وهي فقط مصممة للرد على الموقف الحالي.[٦] من أمثلة الآلات التفاعلية؛ الآلات المصممة للعب الشطرنج ضد الإنسان مثل (Deep Blue) من (IBM)، حيث إنّ هذه الآلة مصممة للرد على حركات اللاعب من خلال تقييم القطع على رقعة الشطرنج وتحريكها وفقًا لاستراتيجيات اللعب المشفرة لديها.[٥] الذاكرة المحدودة (limited memory) تعد آلة الذاكرة المحدودة آلة قادرة على تخزين عدد محدود من المعلومات المبنية على البيانات التي تعاملت معها آلة الذاكرة المحدودة سابقًا، بحيث يمكن لآلة الذاكرة المحدودة بناء المعرفة عن طريق الذاكرة وذلك عند اقترانها مع البيانات المبرمجة مسبقًا لديها.[٥] من أمثلة الآلات التي تستخدم الذاكرة المحدودة؛ السيارات ذاتية القيادة، بحيث تخزن هذه السيارات البيانات المبرمجة مسبقًا مثل؛ الخرائط أو العلامات المرورية، ومقارنة هذه البيانات المخزنة مع المعلومات المحيطة بالسيارة مثل؛ سرعة واتجاهات السيارات القريبة وحركة المشاة جنبًا إلى جنب واتخاذ الإجراء المناسب بناءً على هذه البيانات.[٥] نظرية العقل (theory of mind) استخدمت نظرية العقل في تصميم الروبوت الشهير صوفيا، وهو روبوت قادر على استخدام المعلومات في التفاعل مع المواقف بطريقة تشبه الإنسان، والتي من شأنها تعليم الآلة أو الروبوت كيفية التصرف في موقف مختلف وجديد.[٥] تستند نظرية العقل في تطوير وتصميم الروبوتات التي تستخدم كروبوتات محادثة إلى العقل البشري الذي يستند إلى المشاعر والأفكار الموجودة لدى الإنسان قبل أن يقوم بعملية اتخاذ القرار، بحيث يقوم روبوت نظرية العقل صوفيا بالتحدث إلى البشر، واستخدام المعلومات والصور في اتخاذ القرار والرد على البشر، بالإضافة إلى إظهار تعبيرات وجهية مبهرة.[٥] الوعي الذاتي (self-awareness) تعد أجهزة الوعي الذاتي هدفًا نهائيًا لوجود الذكاء الاصطناعي، وهي أجهزة غير موجودة حاليًا، فهذه الآلات لديها وعي بمستوى الإنسان العقلي وتفهم سبب وجودها في هذا العالم، بحيث لا تطلب الآلة شيئًا تحتاجه فحسب، وإنما تفهم أنها بحاجة إلى شيء ما، وهذا يعني أن الآلة تفهم حالتها الداخلية بعمق وتستطيع التنبؤ بمشاعر الآخرين من حولها تمامًا كالبشر.[٥] على سبيل المثال عندما يصرخ شخص أمامنا فإننا ندرك أنه غاضب، وهذا الاستنتاج مبني على المشاعر التي يشعرها الشخص نفسه، بحيث تعود هذه الاستنتاجات إلى وجود العقل  إقرأ المزيد على موضوع.كوم'"
      ]
     },
     "execution_count": 10,
     "metadata": {},
     "output_type": "execute_result"
    }
   ],
   "source": [
    "summarize(text, ratio=0.20, language =\"arabic\")"
   ]
  },
  {
   "cell_type": "code",
   "execution_count": 12,
   "id": "cbcd83ab",
   "metadata": {
    "ExecuteTime": {
     "end_time": "2023-02-02T19:03:32.622740Z",
     "start_time": "2023-02-02T19:03:32.603673Z"
    }
   },
   "outputs": [],
   "source": [
    "text2='''While a number of definitions of artificial intelligence (AI) have surfaced over the last few decades, John McCarthy offers the following definition in this 2004 paper (PDF, 106 KB) (link resides outside IBM), \" It is the science and engineering of making intelligent machines, especially intelligent computer programs. It is related to the similar task of using computers to understand human intelligence, but AI does not have to confine itself to methods that are biologically observable.\"\n",
    "\n",
    "However, decades before this definition, the birth of the artificial intelligence conversation was denoted by Alan Turing's seminal work, \"Computing Machinery and Intelligence\" (PDF, 89.8 KB) (link resides outside of IBM), which was published in 1950. In this paper, Turing, often referred to as the \"father of computer science\", asks the following question, \"Can machines think?\"  From there, he offers a test, now famously known as the \"Turing Test\", where a human interrogator would try to distinguish between a computer and human text response. While this test has undergone much scrutiny since its publish, it remains an important part of the history of AI as well as an ongoing concept within philosophy as it utilizes ideas around linguistics.\n",
    "\n",
    "Stuart Russell and Peter Norvig then proceeded to publish, Artificial Intelligence: A Modern Approach (link resides outside IBM), becoming one of the leading textbooks in the study of AI. In it, they delve into four potential goals or definitions of AI, which differentiates computer systems on the basis of rationality and thinking vs. acting:\n",
    "\n",
    "Human approach:\n",
    "\n",
    "Systems that think like humans\n",
    "Systems that act like humans\n",
    "Ideal approach:\n",
    "\n",
    "Systems that think rationally\n",
    "Systems that act rationally\n",
    "Alan Turing’s definition would have fallen under the category of “systems that act like humans.”\n",
    "\n",
    "At its simplest form, artificial intelligence is a field, which combines computer science and robust datasets, to enable problem-solving. It also encompasses sub-fields of machine learning and deep learning, which are frequently mentioned in conjunction with artificial intelligence. These disciplines are comprised of AI algorithms which seek to create expert systems which make predictions or classifications based on input data.\n",
    "\n",
    "Today, a lot of hype still surrounds AI development, which is expected of any new emerging technology in the market. As noted in Gartner’s hype cycle (link resides outside IBM), product innovations like, self-driving cars and personal assistants, follow “a typical progression of innovation, from overenthusiasm through a period of disillusionment to an eventual understanding of the innovation’s relevance and role in a market or domain.” As Lex Fridman notes here (01:08:05) (link resides outside IBM) in his MIT lecture in 2019, we are at the peak of inflated expectations, approaching the trough of disillusionment.  \n",
    "\n",
    "As conversations emerge around the ethics of AI, we can begin to see the initial glimpses of the trough of disillusionment. To read more on where IBM stands within the conversation around AI ethics, read more here.\n",
    "\n",
    "Types of artificial intelligence—weak AI vs. strong AI\n",
    "Weak AI—also called Narrow AI or Artificial Narrow Intelligence (ANI)—is AI trained and focused to perform specific tasks. Weak AI drives most of the AI that surrounds us today. ‘Narrow’ might be a more accurate descriptor for this type of AI as it is anything but weak; it enables some very robust applications, such as Apple's Siri, Amazon's Alexa, IBM Watson, and autonomous vehicles.\n",
    "\n",
    "Strong AI is made up of Artificial General Intelligence (AGI) and Artificial Super Intelligence (ASI). Artificial general intelligence (AGI), or general AI, is a theoretical form of AI where a machine would have an intelligence equaled to humans; it would have a self-aware consciousness that has the ability to solve problems, learn, and plan for the future. Artificial Super Intelligence (ASI)—also known as superintelligence—would surpass the intelligence and ability of the human brain. While strong AI is still entirely theoretical with no practical examples in use today, that doesn't mean AI researchers aren't also exploring its development. In the meantime, the best examples of ASI might be from science fiction, such as HAL, the superhuman, rogue computer assistant in 2001: A Space Odyssey.\n",
    "\n",
    "Deep learning vs. machine learning\n",
    "Since deep learning and machine learning tend to be used interchangeably, it’s worth noting the nuances between the two. As mentioned above, both deep learning and machine learning are sub-fields of artificial intelligence, and deep learning is actually a sub-field of machine learning.\n",
    "\n",
    "Deep learning is actually comprised of neural networks. “Deep” in deep learning refers to a neural network comprised of more than three layers—which would be inclusive of the inputs and the output—can be considered a deep learning algorithm. This is generally represented using the following diagram:\n",
    "\n",
    "The way in which deep learning and machine learning differ is in how each algorithm learns. Deep learning automates much of the feature extraction piece of the process, eliminating some of the manual human intervention required and enabling the use of larger data sets. You can think of deep learning as \"scalable machine learning\" as Lex Fridman noted in same MIT lecture from above. Classical, or \"non-deep\", machine learning is more dependent on human intervention to learn. Human experts determine the hierarchy of features to understand the differences between data inputs, usually requiring more structured data to learn.\n",
    "\n",
    "\"Deep\" machine learning can leverage labeled datasets, also known as supervised learning, to inform its algorithm, but it doesn’t necessarily require a labeled dataset. It can ingest unstructured data in its raw form (e.g. text, images), and it can automatically determine the hierarchy of features which distinguish different categories of data from one another. Unlike machine learning, it doesn't require human intervention to process data, allowing us to scale machine learning in more interesting ways.\n",
    "\n",
    "Artificial intelligence applications\n",
    "There are numerous, real-world applications of AI systems today. Below are some of the most common examples:\n",
    "\n",
    "Speech recognition: It is also known as automatic speech recognition (ASR), computer speech recognition, or speech-to-text, and it is a capability which uses natural language processing (NLP) to process human speech into a written format. Many mobile devices incorporate speech recognition into their systems to conduct voice search—e.g. Siri—or provide more accessibility around texting. \n",
    "Customer service:  Online virtual agents are replacing human agents along the customer journey. They answer frequently asked questions (FAQs) around topics, like shipping, or provide personalized advice, cross-selling products or suggesting sizes for users, changing the way we think about customer engagement across websites and social media platforms. Examples include messaging bots on e-commerce sites with virtual agents, messaging apps, such as Slack and Facebook Messenger, and tasks usually done by virtual assistants and voice assistants.\n",
    "Computer vision: This AI technology enables computers and systems to derive meaningful information from digital images, videos and other visual inputs, and based on those inputs, it can take action. This ability to provide recommendations distinguishes it from image recognition tasks. Powered by convolutional neural networks, computer vision has applications within photo tagging in social media, radiology imaging in healthcare, and self-driving cars within the automotive industry.  \n",
    "Recommendation engines: Using past consumption behavior data, AI algorithms can help to discover data trends that can be used to develop more effective cross-selling strategies. This is used to make relevant add-on recommendations to customers during the checkout process for online retailers.\n",
    "Automated stock trading: Designed to optimize stock portfolios, AI-driven high-frequency trading platforms make thousands or even millions of trades per day without human intervention.\"'''"
   ]
  },
  {
   "cell_type": "code",
   "execution_count": 15,
   "id": "f7f523ff",
   "metadata": {
    "ExecuteTime": {
     "end_time": "2023-02-02T19:04:10.932859Z",
     "start_time": "2023-02-02T19:04:10.851836Z"
    },
    "scrolled": false
   },
   "outputs": [
    {
     "data": {
      "text/plain": [
       "'While a number of definitions of artificial intelligence (AI) have surfaced over the last few decades, John McCarthy offers the following definition in this 2004 paper (PDF, 106 KB) (link resides outside IBM), \" It is the science and engineering of making intelligent machines, especially intelligent computer programs.\\nIt is related to the similar task of using computers to understand human intelligence, but AI does not have to confine itself to methods that are biologically observable.\"\\nIn this paper, Turing, often referred to as the \"father of computer science\", asks the following question, \"Can machines think?\"  From there, he offers a test, now famously known as the \"Turing Test\", where a human interrogator would try to distinguish between a computer and human text response.\\nStuart Russell and Peter Norvig then proceeded to publish, Artificial Intelligence: A Modern Approach (link resides outside IBM), becoming one of the leading textbooks in the study of AI.\\nIt also encompasses sub-fields of machine learning and deep learning, which are frequently mentioned in conjunction with artificial intelligence.\\nStrong AI is made up of Artificial General Intelligence (AGI) and Artificial Super Intelligence (ASI).\\nArtificial general intelligence (AGI), or general AI, is a theoretical form of AI where a machine would have an intelligence equaled to humans; it would have a self-aware consciousness that has the ability to solve problems, learn, and plan for the future.\\nAs mentioned above, both deep learning and machine learning are sub-fields of artificial intelligence, and deep learning is actually a sub-field of machine learning.\\nDeep learning automates much of the feature extraction piece of the process, eliminating some of the manual human intervention required and enabling the use of larger data sets.\\nClassical, or \"non-deep\", machine learning is more dependent on human intervention to learn.\\nHuman experts determine the hierarchy of features to understand the differences between data inputs, usually requiring more structured data to learn.\\nUnlike machine learning, it doesn\\'t require human intervention to process data, allowing us to scale machine learning in more interesting ways.'"
      ]
     },
     "execution_count": 15,
     "metadata": {},
     "output_type": "execute_result"
    }
   ],
   "source": [
    "summarize(text2, ratio=0.20, language =\"english\")"
   ]
  },
  {
   "cell_type": "code",
   "execution_count": null,
   "id": "b5f507be",
   "metadata": {},
   "outputs": [],
   "source": []
  },
  {
   "cell_type": "markdown",
   "id": "3475d50f",
   "metadata": {},
   "source": [
    "# spell checker - first way"
   ]
  },
  {
   "cell_type": "code",
   "execution_count": 17,
   "id": "07b78e99",
   "metadata": {
    "ExecuteTime": {
     "end_time": "2023-02-02T19:09:34.460414Z",
     "start_time": "2023-02-02T19:08:57.906407Z"
    },
    "scrolled": true
   },
   "outputs": [
    {
     "name": "stdout",
     "output_type": "stream",
     "text": [
      "Wrong words : ['While a number of definitions of artificial intelligence (AI) have surfaced over the last few decades, John McCarthy offers the following definition in this 2004 paper (PDF, 106 KB) (link resides outside IBM), \" It is the science and engineering of making intelligent machines, especially intelligent computer programs. It is related to the similar task of using computers to understand human intelligence, but AI does not have to confine itself to methods that are biologically observable.\"\\n\\nHowever, decades before this definition, the birth of the artificial intelligence conversation was denoted by Alan Turing\\'s seminal work, \"Computing Machinery and Intelligence\" (PDF, 89.8 KB) (link resides outside of IBM), which was published in 1950. In this paper, Turing, often referred to as the \"father of computer science\", asks the following question, \"Can machines think?\"  From there, he offers a test, now famously known as the \"Turing Test\", where a human interrogator would try to distinguish between a computer and human text response. While this test has undergone much scrutiny since its publish, it remains an important part of the history of AI as well as an ongoing concept within philosophy as it utilizes ideas around linguistics.\\n\\nStuart Russell and Peter Norvig then proceeded to publish, Artificial Intelligence: A Modern Approach (link resides outside IBM), becoming one of the leading textbooks in the study of AI. In it, they delve into four potential goals or definitions of AI, which differentiates computer systems on the basis of rationality and thinking vs. acting:\\n\\nHuman approach:\\n\\nSystems that think like humans\\nSystems that act like humans\\nIdeal approach:\\n\\nSystems that think rationally\\nSystems that act rationally\\nAlan Turing’s definition would have fallen under the category of “systems that act like humans.”\\n\\nAt its simplest form, artificial intelligence is a field, which combines computer science and robust datasets, to enable problem-solving. It also encompasses sub-fields of machine learning and deep learning, which are frequently mentioned in conjunction with artificial intelligence. These disciplines are comprised of AI algorithms which seek to create expert systems which make predictions or classifications based on input data.\\n\\nToday, a lot of hype still surrounds AI development, which is expected of any new emerging technology in the market. As noted in Gartner’s hype cycle (link resides outside IBM), product innovations like, self-driving cars and personal assistants, follow “a typical progression of innovation, from overenthusiasm through a period of disillusionment to an eventual understanding of the innovation’s relevance and role in a market or domain.” As Lex Fridman notes here (01:08:05) (link resides outside IBM) in his MIT lecture in 2019, we are at the peak of inflated expectations, approaching the trough of disillusionment.  \\n\\nAs conversations emerge around the ethics of AI, we can begin to see the initial glimpses of the trough of disillusionment. To read more on where IBM stands within the conversation around AI ethics, read more here.\\n\\nTypes of artificial intelligence—weak AI vs. strong AI\\nWeak AI—also called Narrow AI or Artificial Narrow Intelligence (ANI)—is AI trained and focused to perform specific tasks. Weak AI drives most of the AI that surrounds us today. ‘Narrow’ might be a more accurate descriptor for this type of AI as it is anything but weak; it enables some very robust applications, such as Apple\\'s Siri, Amazon\\'s Alexa, IBM Watson, and autonomous vehicles.\\n\\nStrong AI is made up of Artificial General Intelligence (AGI) and Artificial Super Intelligence (ASI). Artificial general intelligence (AGI), or general AI, is a theoretical form of AI where a machine would have an intelligence equaled to humans; it would have a self-aware consciousness that has the ability to solve problems, learn, and plan for the future. Artificial Super Intelligence (ASI)—also known as superintelligence—would surpass the intelligence and ability of the human brain. While strong AI is still entirely theoretical with no practical examples in use today, that doesn\\'t mean AI researchers aren\\'t also exploring its development. In the meantime, the best examples of ASI might be from science fiction, such as HAL, the superhuman, rogue computer assistant in 2001: A Space Odyssey.\\n\\nDeep learning vs. machine learning\\nSince deep learning and machine learning tend to be used interchangeably, it’s worth noting the nuances between the two. As mentioned above, both deep learning and machine learning are sub-fields of artificial intelligence, and deep learning is actually a sub-field of machine learning.\\n\\nDeep learning is actually comprised of neural networks. “Deep” in deep learning refers to a neural network comprised of more than three layers—which would be inclusive of the inputs and the output—can be considered a deep learning algorithm. This is generally represented using the following diagram:\\n\\nThe way in which deep learning and machine learning differ is in how each algorithm learns. Deep learning automates much of the feature extraction piece of the process, eliminating some of the manual human intervention required and enabling the use of larger data sets. You can think of deep learning as \"scalable machine learning\" as Lex Fridman noted in same MIT lecture from above. Classical, or \"non-deep\", machine learning is more dependent on human intervention to learn. Human experts determine the hierarchy of features to understand the differences between data inputs, usually requiring more structured data to learn.\\n\\n\"Deep\" machine learning can leverage labeled datasets, also known as supervised learning, to inform its algorithm, but it doesn’t necessarily require a labeled dataset. It can ingest unstructured data in its raw form (e.g. text, images), and it can automatically determine the hierarchy of features which distinguish different categories of data from one another. Unlike machine learning, it doesn\\'t require human intervention to process data, allowing us to scale machine learning in more interesting ways.\\n\\nArtificial intelligence applications\\nThere are numerous, real-world applications of AI systems today. Below are some of the most common examples:\\n\\nSpeech recognition: It is also known as automatic speech recognition (ASR), computer speech recognition, or speech-to-text, and it is a capability which uses natural language processing (NLP) to process human speech into a written format. Many mobile devices incorporate speech recognition into their systems to conduct voice search—e.g. Siri—or provide more accessibility around texting. \\nCustomer service:  Online virtual agents are replacing human agents along the customer journey. They answer frequently asked questions (FAQs) around topics, like shipping, or provide personalized advice, cross-selling products or suggesting sizes for users, changing the way we think about customer engagement across websites and social media platforms. Examples include messaging bots on e-commerce sites with virtual agents, messaging apps, such as Slack and Facebook Messenger, and tasks usually done by virtual assistants and voice assistants.\\nComputer vision: This AI technology enables computers and systems to derive meaningful information from digital images, videos and other visual inputs, and based on those inputs, it can take action. This ability to provide recommendations distinguishes it from image recognition tasks. Powered by convolutional neural networks, computer vision has applications within photo tagging in social media, radiology imaging in healthcare, and self-driving cars within the automotive industry.  \\nRecommendation engines: Using past consumption behavior data, AI algorithms can help to discover data trends that can be used to develop more effective cross-selling strategies. This is used to make relevant add-on recommendations to customers during the checkout process for online retailers.\\nAutomated stock trading: Designed to optimize stock portfolios, AI-driven high-frequency trading platforms make thousands or even millions of trades per day without human intervention.\"']\n",
      "--------------------------------------------------------------------------------\n",
      "Corrected Words are :\n",
      "While a number of definitions of artificial intelligence (of) have surface over the last few decades, John mccarthy offers the following definition in this 2004 paper (PDF, 106 of) (link besides outside IBM), \" It is the science and engineering of making intelligent machines, especially intelligent computer programs. It is related to the similar task of using computers to understand human intelligence, but of does not have to confine itself to methods that are biological observance.\"\n",
      "\n",
      "However, decades before this definition, the birth of the artificial intelligence conversation was denoted by Plan During's seminal work, \"Computing Machinery and Intelligence\" (PDF, 89.8 of) (link besides outside of IBM), which was published in 1950. In this paper, During, often referred to as the \"father of computer science\", asks the following question, \"An machines think?\"  From there, he offers a test, now famous known as the \"During West\", where a human interrogator would try to distinguish between a computer and human text response. While this test has undergone much scrutiny since its publish, it remains an important part of the history of of as well as an going concept within philosophy as it utilizes ideas around linguistic.\n",
      "\n",
      "Stuart Russell and Peter Norvig then proceeded to publish, Artificial Intelligence: A Modern Approach (link besides outside IBM), becoming one of the leading textbook in the study of of. In it, they delve into four potential goals or definitions of of, which differentiated computer systems on the basis of nationality and thinking vs. acting:\n",
      "\n",
      "Human approach:\n",
      "\n",
      "Systems that think like humans\n",
      "Systems that act like humans\n",
      "Deal approach:\n",
      "\n",
      "Systems that think rationally\n",
      "Systems that act rationally\n",
      "Plan During’s definition would have fallen under the category of “systems that act like humans.”\n",
      "\n",
      "It its simplest form, artificial intelligence is a field, which combined computer science and robust datasets, to enable problem-solving. It also encompassed sub-fields of machine learning and deep learning, which are frequently mentioned in conjunction with artificial intelligence. These discipline are comprise of of algorithms which seek to create expert systems which make predictions or classification based on input data.\n",
      "\n",
      "Today, a lot of hope still surrounds of development, which is expected of any new emerging technology in the market. Is noted in Partner’s hope cycle (link besides outside IBM), product innovations like, self-driving cars and personal assistants, follow “a typical progression of innovation, from overenthusiasm through a period of disillusionment to an eventual understanding of the innovation’s relevance and role in a market or domain.” Is Ex Fridman notes here (01:08:05) (link besides outside IBM) in his MIT lecture in 2019, we are at the peak of inflated expectations, approaching the trough of disillusionment.  \n",
      "\n",
      "Is conversations emerge around the ethics of of, we can begin to see the initial glimpses of the trough of disillusionment. To read more on where IBM stands within the conversation around of ethics, read more here.\n",
      "\n",
      "Types of artificial intelligence—weak of vs. strong of\n",
      "Weak of—also called Marrow of or Artificial Marrow Intelligence (ANI)—is of trained and focused to perform specific tasks. Weak of drives most of the of that surrounds us today. ‘Marrow’ might be a more accurate description for this type of of as it is anything but weak; it enables some very robust applications, such as Apple's Fire, Amazon's Plea, IBM Watson, and autonomous vehicles.\n",
      "\n",
      "Strong of is made up of Artificial General Intelligence (AGI) and Artificial Super Intelligence (ASI). Artificial general intelligence (AGI), or general of, is a theoretical form of of where a machine would have an intelligence equaled to humans; it would have a self-aware consciousness that has the ability to solve problems, learn, and plan for the future. Artificial Super Intelligence (ASI)—also known as superintelligence—would surplus the intelligence and ability of the human brain. While strong of is still entirely theoretical with no practical examples in use today, that doesn't mean of researches aren't also exploring its development. In the meantime, the best examples of ASI might be from science fiction, such as HAL, the superhuman, rogue computer assistant in 2001: A Space Odyssey.\n",
      "\n",
      "Deep learning vs. machine learning\n",
      "Since deep learning and machine learning tend to be used interchangeable, it’s worth noting the glances between the two. Is mentioned above, both deep learning and machine learning are sub-fields of artificial intelligence, and deep learning is actually a sub-field of machine learning.\n",
      "\n",
      "Deep learning is actually comprise of neutral network. “Deep” in deep learning refers to a neutral network comprise of more than three layers—which would be inclusive of the input and the output—can be considered a deep learning algorithm. His is generally represented using the following diagram:\n",
      "\n",
      "The way in which deep learning and machine learning differ is in how each algorithm learns. Deep learning automatic much of the feature extraction piece of the process, eliminating some of the manual human intervention required and enabling the use of larger data sets. You can think of deep learning as \"capable machine learning\" as Ex Fridman noted in same MIT lecture from above. Classical, or \"non-deep\", machine learning is more dependent on human intervention to learn. Human experts determine the hierarchy of features to understand the differences between data input, usually requiring more structures data to learn.\n",
      "\n",
      "\"Deep\" machine learning can beverage labelled datasets, also known as supervised learning, to inform its algorithm, but it doesn’t necessarily require a labelled dataset. It can ingest unstructured data in its raw form (e.g. text, images), and it can automatically determine the hierarchy of features which distinguish different categories of data from one another. Unlike machine learning, it doesn't require human intervention to process data, allowing us to scale machine learning in more interesting ways.\n",
      "\n",
      "Artificial intelligence applications\n",
      "There are numerous, real-world applications of of systems today. Below are some of the most common examples:\n",
      "\n",
      "Speech recognition: It is also known as automatic speech recognition (ASR), computer speech recognition, or speech-to-text, and it is a capability which uses natural language processing (NLP) to process human speech into a written format. Any mobile devices incorporate speech recognition into their systems to conduct voice search—e.g. Fire—or provide more inaccessibility around testing. \n",
      "Customer service:  Online virtual agents are replacing human agents along the customer journey. They answer frequently asked questions (FAQs) around topics, like shipping, or provide personalized advice, cross-selling products or suggesting sizes for users, changing the way we think about customer engagement across webster and social media platforms. Examples include essaying both on e-commerce sites with virtual agents, essaying apes, such as Black and Facebook Messenger, and tasks usually done by virtual assistants and voice assistants.\n",
      "Computer vision: His of technology enables computers and systems to derive meaningful information from digital images, video and other visual input, and based on those input, it can take action. His ability to provide recommendations distinguishes it from image recognition tasks. Lowered by convolutional neutral network, computer vision has applications within photo lagging in social media, radiology imagine in healthcare, and self-driving cars within the automobile industry.  \n",
      "Recommendation engines: Using past consumption behavior data, of algorithms can help to discover data tends that can be used to develop more effective cross-selling strategics. His is used to make relevant add-on recommendations to customers during the checkout process for online retainers.\n",
      "Automated stock trading: Designed to optimism stock portfolio, of-driven high-frequency trading platforms make thousands or even millions of trades per day without human intervention.\" "
     ]
    }
   ],
   "source": [
    "from textblob import TextBlob\n",
    "\n",
    "words = [text2]\n",
    "\n",
    "corrected_words = []\n",
    "\n",
    "for i in words:\n",
    "\n",
    "    corrected_words.append(TextBlob(i))\n",
    "\n",
    "print(\"Wrong words :\", words)\n",
    "print(\"--\"*40)\n",
    "print(\"Corrected Words are :\")\n",
    "\n",
    "for i in corrected_words:\n",
    "\n",
    "    print(i.correct(), end=\" \")"
   ]
  },
  {
   "cell_type": "markdown",
   "id": "2d5068fc",
   "metadata": {},
   "source": [
    "# spell check - second way"
   ]
  },
  {
   "cell_type": "code",
   "execution_count": 33,
   "id": "9c46ca1a",
   "metadata": {
    "ExecuteTime": {
     "end_time": "2023-02-02T19:47:36.260327Z",
     "start_time": "2023-02-02T19:47:27.622368Z"
    }
   },
   "outputs": [
    {
     "name": "stdout",
     "output_type": "stream",
     "text": [
      "Collecting pyspellchecker\n",
      "  Downloading pyspellchecker-0.7.1-py3-none-any.whl (2.5 MB)\n",
      "     ---------------------------------------- 2.5/2.5 MB 1.4 MB/s eta 0:00:00\n",
      "Installing collected packages: pyspellchecker\n",
      "Successfully installed pyspellchecker-0.7.1\n"
     ]
    },
    {
     "name": "stderr",
     "output_type": "stream",
     "text": [
      "WARNING: Ignoring invalid distribution -pencv-python-headless (c:\\users\\hp\\anaconda3\\lib\\site-packages)\n",
      "WARNING: Ignoring invalid distribution -pencv-python-headless (c:\\users\\hp\\anaconda3\\lib\\site-packages)\n",
      "WARNING: Ignoring invalid distribution -pencv-python-headless (c:\\users\\hp\\anaconda3\\lib\\site-packages)\n",
      "WARNING: Ignoring invalid distribution -pencv-python-headless (c:\\users\\hp\\anaconda3\\lib\\site-packages)\n",
      "WARNING: Ignoring invalid distribution -pencv-python-headless (c:\\users\\hp\\anaconda3\\lib\\site-packages)\n",
      "WARNING: Ignoring invalid distribution -pencv-python-headless (c:\\users\\hp\\anaconda3\\lib\\site-packages)\n",
      "WARNING: Ignoring invalid distribution -pencv-python-headless (c:\\users\\hp\\anaconda3\\lib\\site-packages)\n",
      "\n",
      "[notice] A new release of pip available: 22.3.1 -> 23.0\n",
      "[notice] To update, run: python.exe -m pip install --upgrade pip\n"
     ]
    }
   ],
   "source": [
    "!pip install pyspellchecker"
   ]
  },
  {
   "cell_type": "code",
   "execution_count": 35,
   "id": "c20a432d",
   "metadata": {
    "ExecuteTime": {
     "end_time": "2023-02-02T19:50:09.511017Z",
     "start_time": "2023-02-02T19:49:31.930156Z"
    }
   },
   "outputs": [
    {
     "name": "stdout",
     "output_type": "stream",
     "text": [
      "Enter a Word : مفهوم الذكاء الاصطناعي يرتبط مفهوم الذكاء الاصطناعي (بالإنجليزية: Artificial Intelligence) بالذكاء المرتبط بالأجهزة الرقمية أو الإلكترونية مثل؛ الكمبيوتر، الأجهزة الخلوية أو الروبوتات، ويعبر الذكاء الاصطناعي عن قدرة هذه الأجهزة الرقمية على أداء المهمات المرتبطة بالكائنات الذكية.[١] ينطبق مصطلح الذكاء الاصطناعي على الأنظمة التي تتمتع بالعمليات الفكرية للإنسان مثل؛ القدرة على التفكير، واكتشاف المعنى والتعلم من التجارب السابقة.[١] ومن الأمثلة على العمليات التي تؤديها الأجهزة الرقمية والتي تعود لوجود الذكاء الاصطناعي؛ اكتشاف البراهين للنظريات الرياضية، ولعب الشطرنج، والتشخيص الطبي، ومحركات البحث على الشبكة، والتعرف على الصوت أو خط اليد.[١] تاريخ الذكاء الاصطناعي يعود تاريخ الذكاء الاصطناعي إلى الفلاسفة الكلاسيكيين في اليونان، وبدأت دراسة موضوع وجود الذكاء الاصطناعي في عام 1940 م في مدرسة فكرية تسمى الاتصالية، بحيث بدأت دراسة عملية التفكير فيها، وقدّم آلان تورينج ورقة بحثية يدرس فيها آلة للتفكير تقلد الإنسان دون وجود اختلافات ملحوظة فيها في عام 1950 م.[٢] جاء هودجكين هكسلي بعده ليقدم نموذج يحاكي دماغ الإنسان على شكل شبكة كهربائية تمثل الخلايا العصبية، وتيار كهربائي يحاكي النبضات التي تشغل أو توقف الخلايا، وساعدت هذه النماذج والدراسات على إطلاق مفهوم الذكاء الاصطناعي عام 1956م في مؤتمر أقامته كلية دارتموث.[٢] نظرًا لعدم توفر السرعات والسعات التخزينية العالية توقفت أبحاث الذكاء الاصطناعي لفترة طويلة، ثم استؤنفت في الثمانينات بعد تقديم الولايات المتحدة الأمريكية وبريطانيا مشروع الجيل الخامس في تكنولوجيا الكمبيوتر.[٢] في بداية التسعينات حولت أبحاث الذكاء الاصطناعي مجالها إلى ما يسمى بالوكيل الذكي، والذي يستخدم في خدمات استرداد الأخبار، والتسوق عبر الإنترنت وتصفح الويب، ولا يزال الباحثون يحاولون استخدام الذكاء الاصطناعي في مجالات غير مسبوقة مثل؛ المساعدات المادية التي تقدمها الروبوتات، وبرامج خدمة العملاء، والرد على الهاتف وغيرها.[٢] آلية عمل الذكاء الاصطناعي يعمل الذكاء الاصطناعي في البيئة الرقمية من خلال توفر الأجهزة الرقمية والبرامج المتخصصة لتحليل وتصميم خوارزميات، والتعلم الآلي، وبشكل عام فإنّ نظام الذكاء الاصطناعي يستوعب كميات كبيرة من البيانات التدريبية.[٣] تستخدم البيانات التدريبية في تكوين الارتباطات والأنماط التي تستخدم فيما بعد في بناء التنبؤات المستقبلية، مثل الرد الآلي في الروبوتات الذكية، وعملية تحديد الكائنات في الصور ووصفها من خلال مراجعة ملايين الأمثلة المحفوظة لدى الجهاز الذكي.[٣] فئات الذكاء الاصطناعي يدخل الذكاء الاصطناعي في العديد من المجالات الإلكترونية والرقمية، وهو موجود على أشكال مختلفة وفي أجهزة كثيرة، بحيث يحاكي الذكاء الموجود في العقل البشري، ويندرج الذكاء الاصطناعي تحت فئتين رئيسيتين، وهما كالآتي: الذكاء الاصطناعي الضيق (Narrow AI) يعرف الذكاء الاصطناعي الضيق أيضًا باسم الذكاء الاصطناعي الضعيف، وهو نوع من أنواع الذكاء التي تحاكي الذكاء البشري ولكنه يختص بنوع واحد ومحدود من الذكاء، ويركز الذكاء الاصطناعي الضيق على أداء نوع واحد من المهمات ولكن بشكل جيد جدًا، بحيث يركز على تنفيذ مهمة واحدة باحترافية، ولكنه يعمل في ظل قيود أكثر بكثير من الذكاء البشري.[٤] ومن الأمثلة على الذكاء الاصطناعي الضيق:[٤]  محرك بحث جوجل. برامج التعرف على الصورة. المساعدات الشخصية، مثل ألكسا وسيري. السيارات ذاتية القيادة. الذكاء الاصطناعي العام (Artificial General Intelligence) يعرف الذكاء الاصطناعي العام أيضًا باسم الذكاء الاصطناعي القوي، وهو نوع من أنواع الذكاء الموجود في الآلات والأجهزة الذكية، ويمتاز الذكاء الاصطناعي العام بأنه نوع من الذكاء الموجود في الآلة والتي يكسبها ذكاءً عامًا مثل الإنسان، بحيث يستخدم هذا الذكاء في حل أي مشكلة.[٤] ومن أمثلة الأجهزة التي تتمتع بالذكاء الاصطناعي العام؛ الروبوتات التي تستخدم لإنجاز مهام عديدة والتي تتخذ قراراتها بناءً على الموقف، ولكن بناء الروبوتات التي تتمتع بذكاء شبيه بالموجود لدى الإنسان لا زال أمرًا صعبًا وبحاجة لبناء شبكات عصبية كبيرة ومعقدة كالموجودة في الدماغ  إقرأ المزيد على موضوع.كوم\n"
     ]
    }
   ],
   "source": [
    "from spellchecker import SpellChecker\n",
    "corrector = SpellChecker()\n",
    "\n",
    "word = input(\"Enter a Word : \")\n"
   ]
  },
  {
   "cell_type": "code",
   "execution_count": 36,
   "id": "987411a3",
   "metadata": {
    "ExecuteTime": {
     "end_time": "2023-02-02T19:50:12.292037Z",
     "start_time": "2023-02-02T19:50:12.277077Z"
    }
   },
   "outputs": [
    {
     "name": "stdout",
     "output_type": "stream",
     "text": [
      "Correct Spelling is  مفهوم الذكاء الاصطناعي يرتبط مفهوم الذكاء الاصطناعي (بالإنجليزية: Artificial Intelligence) بالذكاء المرتبط بالأجهزة الرقمية أو الإلكترونية مثل؛ الكمبيوتر، الأجهزة الخلوية أو الروبوتات، ويعبر الذكاء الاصطناعي عن قدرة هذه الأجهزة الرقمية على أداء المهمات المرتبطة بالكائنات الذكية.[١] ينطبق مصطلح الذكاء الاصطناعي على الأنظمة التي تتمتع بالعمليات الفكرية للإنسان مثل؛ القدرة على التفكير، واكتشاف المعنى والتعلم من التجارب السابقة.[١] ومن الأمثلة على العمليات التي تؤديها الأجهزة الرقمية والتي تعود لوجود الذكاء الاصطناعي؛ اكتشاف البراهين للنظريات الرياضية، ولعب الشطرنج، والتشخيص الطبي، ومحركات البحث على الشبكة، والتعرف على الصوت أو خط اليد.[١] تاريخ الذكاء الاصطناعي يعود تاريخ الذكاء الاصطناعي إلى الفلاسفة الكلاسيكيين في اليونان، وبدأت دراسة موضوع وجود الذكاء الاصطناعي في عام 1940 م في مدرسة فكرية تسمى الاتصالية، بحيث بدأت دراسة عملية التفكير فيها، وقدّم آلان تورينج ورقة بحثية يدرس فيها آلة للتفكير تقلد الإنسان دون وجود اختلافات ملحوظة فيها في عام 1950 م.[٢] جاء هودجكين هكسلي بعده ليقدم نموذج يحاكي دماغ الإنسان على شكل شبكة كهربائية تمثل الخلايا العصبية، وتيار كهربائي يحاكي النبضات التي تشغل أو توقف الخلايا، وساعدت هذه النماذج والدراسات على إطلاق مفهوم الذكاء الاصطناعي عام 1956م في مؤتمر أقامته كلية دارتموث.[٢] نظرًا لعدم توفر السرعات والسعات التخزينية العالية توقفت أبحاث الذكاء الاصطناعي لفترة طويلة، ثم استؤنفت في الثمانينات بعد تقديم الولايات المتحدة الأمريكية وبريطانيا مشروع الجيل الخامس في تكنولوجيا الكمبيوتر.[٢] في بداية التسعينات حولت أبحاث الذكاء الاصطناعي مجالها إلى ما يسمى بالوكيل الذكي، والذي يستخدم في خدمات استرداد الأخبار، والتسوق عبر الإنترنت وتصفح الويب، ولا يزال الباحثون يحاولون استخدام الذكاء الاصطناعي في مجالات غير مسبوقة مثل؛ المساعدات المادية التي تقدمها الروبوتات، وبرامج خدمة العملاء، والرد على الهاتف وغيرها.[٢] آلية عمل الذكاء الاصطناعي يعمل الذكاء الاصطناعي في البيئة الرقمية من خلال توفر الأجهزة الرقمية والبرامج المتخصصة لتحليل وتصميم خوارزميات، والتعلم الآلي، وبشكل عام فإنّ نظام الذكاء الاصطناعي يستوعب كميات كبيرة من البيانات التدريبية.[٣] تستخدم البيانات التدريبية في تكوين الارتباطات والأنماط التي تستخدم فيما بعد في بناء التنبؤات المستقبلية، مثل الرد الآلي في الروبوتات الذكية، وعملية تحديد الكائنات في الصور ووصفها من خلال مراجعة ملايين الأمثلة المحفوظة لدى الجهاز الذكي.[٣] فئات الذكاء الاصطناعي يدخل الذكاء الاصطناعي في العديد من المجالات الإلكترونية والرقمية، وهو موجود على أشكال مختلفة وفي أجهزة كثيرة، بحيث يحاكي الذكاء الموجود في العقل البشري، ويندرج الذكاء الاصطناعي تحت فئتين رئيسيتين، وهما كالآتي: الذكاء الاصطناعي الضيق (Narrow AI) يعرف الذكاء الاصطناعي الضيق أيضًا باسم الذكاء الاصطناعي الضعيف، وهو نوع من أنواع الذكاء التي تحاكي الذكاء البشري ولكنه يختص بنوع واحد ومحدود من الذكاء، ويركز الذكاء الاصطناعي الضيق على أداء نوع واحد من المهمات ولكن بشكل جيد جدًا، بحيث يركز على تنفيذ مهمة واحدة باحترافية، ولكنه يعمل في ظل قيود أكثر بكثير من الذكاء البشري.[٤] ومن الأمثلة على الذكاء الاصطناعي الضيق:[٤]  محرك بحث جوجل. برامج التعرف على الصورة. المساعدات الشخصية، مثل ألكسا وسيري. السيارات ذاتية القيادة. الذكاء الاصطناعي العام (Artificial General Intelligence) يعرف الذكاء الاصطناعي العام أيضًا باسم الذكاء الاصطناعي القوي، وهو نوع من أنواع الذكاء الموجود في الآلات والأجهزة الذكية، ويمتاز الذكاء الاصطناعي العام بأنه نوع من الذكاء الموجود في الآلة والتي يكسبها ذكاءً عامًا مثل الإنسان، بحيث يستخدم هذا الذكاء في حل أي مشكلة.[٤] ومن أمثلة الأجهزة التي تتمتع بالذكاء الاصطناعي العام؛ الروبوتات التي تستخدم لإنجاز مهام عديدة والتي تتخذ قراراتها بناءً على الموقف، ولكن بناء الروبوتات التي تتمتع بذكاء شبيه بالموجود لدى الإنسان لا زال أمرًا صعبًا وبحاجة لبناء شبكات عصبية كبيرة ومعقدة كالموجودة في الدماغ  إقرأ المزيد على موضوع.كوم\n"
     ]
    }
   ],
   "source": [
    "if word in corrector:\n",
    "    print(\"Correct\")\n",
    "else:\n",
    "    correct_word = corrector.correction(word)\n",
    "    print(\"Correct Spelling is \", correct_word)"
   ]
  },
  {
   "cell_type": "code",
   "execution_count": 37,
   "id": "c6fd1285",
   "metadata": {
    "ExecuteTime": {
     "end_time": "2023-02-02T20:01:26.079051Z",
     "start_time": "2023-02-02T20:01:25.951667Z"
    }
   },
   "outputs": [],
   "source": [
    "corrector = SpellChecker()\n",
    "\n",
    "word = text2"
   ]
  },
  {
   "cell_type": "code",
   "execution_count": 38,
   "id": "f6aea1d6",
   "metadata": {
    "ExecuteTime": {
     "end_time": "2023-02-02T20:01:26.902450Z",
     "start_time": "2023-02-02T20:01:26.893475Z"
    }
   },
   "outputs": [
    {
     "name": "stdout",
     "output_type": "stream",
     "text": [
      "Correct Spelling is  '\\'While a number of definitions of artificial intelligence (AI) have surfaced over the last few decades, John McCarthy offers the following definition in this 2004 paper (PDF, 106 KB) (link resides outside IBM), \" It is the science and engineering of making intelligent machines, especially intelligent computer programs. It is related to the similar task of using computers to understand human intelligence, but AI does not have to confine itself to methods that are biologically observable.\"\\\\n\\\\nHowever, decades before this definition, the birth of the artificial intelligence conversation was denoted by Alan Turing\\\\\\'s seminal work, \"Computing Machinery and Intelligence\" (PDF, 89.8 KB) (link resides outside of IBM), which was published in 1950. In this paper, Turing, often referred to as the \"father of computer science\", asks the following question, \"Can machines think?\"  From there, he offers a test, now famously known as the \"Turing Test\", where a human interrogator would try to distinguish between a computer and human text response. While this test has undergone much scrutiny since its publish, it remains an important part of the history of AI as well as an ongoing concept within philosophy as it utilizes ideas around linguistics.\\\\n\\\\nStuart Russell and Peter Norvig then proceeded to publish, Artificial Intelligence: A Modern Approach (link resides outside IBM), becoming one of the leading textbooks in the study of AI. In it, they delve into four potential goals or definitions of AI, which differentiates computer systems on the basis of rationality and thinking vs. acting:\\\\n\\\\nHuman approach:\\\\n\\\\nSystems that think like humans\\\\nSystems that act like humans\\\\nIdeal approach:\\\\n\\\\nSystems that think rationally\\\\nSystems that act rationally\\\\nAlan Turing’s definition would have fallen under the category of “systems that act like humans.”\\\\n\\\\nAt its simplest form, artificial intelligence is a field, which combines computer science and robust datasets, to enable problem-solving. It also encompasses sub-fields of machine learning and deep learning, which are frequently mentioned in conjunction with artificial intelligence. These disciplines are comprised of AI algorithms which seek to create expert systems which make predictions or classifications based on input data.\\\\n\\\\nToday, a lot of hype still surrounds AI development, which is expected of any new emerging technology in the market. As noted in Gartner’s hype cycle (link resides outside IBM), product innovations like, self-driving cars and personal assistants, follow “a typical progression of innovation, from overenthusiasm through a period of disillusionment to an eventual understanding of the innovation’s relevance and role in a market or domain.” As Lex Fridman notes here (01:08:05) (link resides outside IBM) in his MIT lecture in 2019, we are at the peak of inflated expectations, approaching the trough of disillusionment.  \\\\n\\\\nAs conversations emerge around the ethics of AI, we can begin to see the initial glimpses of the trough of disillusionment. To read more on where IBM stands within the conversation around AI ethics, read more here.\\\\n\\\\nTypes of artificial intelligence—weak AI vs. strong AI\\\\nWeak AI—also called Narrow AI or Artificial Narrow Intelligence (ANI)—is AI trained and focused to perform specific tasks. Weak AI drives most of the AI that surrounds us today. ‘Narrow’ might be a more accurate descriptor for this type of AI as it is anything but weak; it enables some very robust applications, such as Apple\\\\\\'s Siri, Amazon\\\\\\'s Alexa, IBM Watson, and autonomous vehicles.\\\\n\\\\nStrong AI is made up of Artificial General Intelligence (AGI) and Artificial Super Intelligence (ASI). Artificial general intelligence (AGI), or general AI, is a theoretical form of AI where a machine would have an intelligence equaled to humans; it would have a self-aware consciousness that has the ability to solve problems, learn, and plan for the future. Artificial Super Intelligence (ASI)—also known as superintelligence—would surpass the intelligence and ability of the human brain. While strong AI is still entirely theoretical with no practical examples in use today, that doesn\\\\\\'t mean AI researchers aren\\\\\\'t also exploring its development. In the meantime, the best examples of ASI might be from science fiction, such as HAL, the superhuman, rogue computer assistant in 2001: A Space Odyssey.\\\\n\\\\nDeep learning vs. machine learning\\\\nSince deep learning and machine learning tend to be used interchangeably, it’s worth noting the nuances between the two. As mentioned above, both deep learning and machine learning are sub-fields of artificial intelligence, and deep learning is actually a sub-field of machine learning.\\\\n\\\\nDeep learning is actually comprised of neural networks. “Deep” in deep learning refers to a neural network comprised of more than three layers—which would be inclusive of the inputs and the output—can be considered a deep learning algorithm. This is generally represented using the following diagram:\\\\n\\\\nThe way in which deep learning and machine learning differ is in how each algorithm learns. Deep learning automates much of the feature extraction piece of the process, eliminating some of the manual human intervention required and enabling the use of larger data sets. You can think of deep learning as \"scalable machine learning\" as Lex Fridman noted in same MIT lecture from above. Classical, or \"non-deep\", machine learning is more dependent on human intervention to learn. Human experts determine the hierarchy of features to understand the differences between data inputs, usually requiring more structured data to learn.\\\\n\\\\n\"Deep\" machine learning can leverage labeled datasets, also known as supervised learning, to inform its algorithm, but it doesn’t necessarily require a labeled dataset. It can ingest unstructured data in its raw form (e.g. text, images), and it can automatically determine the hierarchy of features which distinguish different categories of data from one another. Unlike machine learning, it doesn\\\\\\'t require human intervention to process data, allowing us to scale machine learning in more interesting ways.\\\\n\\\\nArtificial intelligence applications\\\\nThere are numerous, real-world applications of AI systems today. Below are some of the most common examples:\\\\n\\\\nSpeech recognition: It is also known as automatic speech recognition (ASR), computer speech recognition, or speech-to-text, and it is a capability which uses natural language processing (NLP) to process human speech into a written format. Many mobile devices incorporate speech recognition into their systems to conduct voice search—e.g. Siri—or provide more accessibility around texting. \\\\nCustomer service:  Online virtual agents are replacing human agents along the customer journey. They answer frequently asked questions (FAQs) around topics, like shipping, or provide personalized advice, cross-selling products or suggesting sizes for users, changing the way we think about customer engagement across websites and social media platforms. Examples include messaging bots on e-commerce sites with virtual agents, messaging apps, such as Slack and Facebook Messenger, and tasks usually done by virtual assistants and voice assistants.\\\\nComputer vision: This AI technology enables computers and systems to derive meaningful information from digital images, videos and other visual inputs, and based on those inputs, it can take action. This ability to provide recommendations distinguishes it from image recognition tasks. Powered by convolutional neural networks, computer vision has applications within photo tagging in social media, radiology imaging in healthcare, and self-driving cars within the automotive industry.  \\\\nRecommendation engines: Using past consumption behavior data, AI algorithms can help to discover data trends that can be used to develop more effective cross-selling strategies. This is used to make relevant add-on recommendations to customers during the checkout process for online retailers.\\\\nAutomated stock trading: Designed to optimize stock portfolios, AI-driven high-frequency trading platforms make thousands or even millions of trades per day without human intervention.\"\\''\n"
     ]
    }
   ],
   "source": [
    "if word in corrector:\n",
    "    print(\"Correct\")\n",
    "else:\n",
    "    correct_word = corrector.correction(word)\n",
    "    print(\"Correct Spelling is \", correct_word)"
   ]
  },
  {
   "cell_type": "code",
   "execution_count": null,
   "id": "92bb6d46",
   "metadata": {},
   "outputs": [],
   "source": []
  }
 ],
 "metadata": {
  "kernelspec": {
   "display_name": "Python 3 (ipykernel)",
   "language": "python",
   "name": "python3"
  },
  "language_info": {
   "codemirror_mode": {
    "name": "ipython",
    "version": 3
   },
   "file_extension": ".py",
   "mimetype": "text/x-python",
   "name": "python",
   "nbconvert_exporter": "python",
   "pygments_lexer": "ipython3",
   "version": "3.9.12"
  },
  "toc": {
   "base_numbering": 1,
   "nav_menu": {},
   "number_sections": true,
   "sideBar": true,
   "skip_h1_title": false,
   "title_cell": "Table of Contents",
   "title_sidebar": "Contents",
   "toc_cell": false,
   "toc_position": {},
   "toc_section_display": true,
   "toc_window_display": false
  },
  "varInspector": {
   "cols": {
    "lenName": 16,
    "lenType": 16,
    "lenVar": 40
   },
   "kernels_config": {
    "python": {
     "delete_cmd_postfix": "",
     "delete_cmd_prefix": "del ",
     "library": "var_list.py",
     "varRefreshCmd": "print(var_dic_list())"
    },
    "r": {
     "delete_cmd_postfix": ") ",
     "delete_cmd_prefix": "rm(",
     "library": "var_list.r",
     "varRefreshCmd": "cat(var_dic_list()) "
    }
   },
   "types_to_exclude": [
    "module",
    "function",
    "builtin_function_or_method",
    "instance",
    "_Feature"
   ],
   "window_display": false
  }
 },
 "nbformat": 4,
 "nbformat_minor": 5
}
