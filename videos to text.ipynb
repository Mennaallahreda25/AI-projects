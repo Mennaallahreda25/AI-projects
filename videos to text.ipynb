{
 "cells": [
  {
   "cell_type": "markdown",
   "id": "21befc9d",
   "metadata": {},
   "source": [
    "# to english"
   ]
  },
  {
   "cell_type": "code",
   "execution_count": null,
   "id": "f2ab5776",
   "metadata": {},
   "outputs": [],
   "source": [
    "import speech_recognition as sr\n",
    "import  moviepy.editor as mp\n",
    "clip=mp.VideoFileClip(r'WhatsApp Video 2023-02-02 at 23.55.50.mp4')\n",
    "clip.audio.write_audiofile(r'WhatsApp Video 2023-02-02 at 23.55.50.wav')\n",
    "r=sr.Recognizer()\n",
    "audio=sr.AudioFile('WhatsApp Video 2023-02-02 at 23.55.50.wav')\n",
    "with audio as source:\n",
    "    audio_file=r.record(source)\n",
    "try:\n",
    "    t=r.recognize_google(audio_file,language='eng')\n",
    "    print(t)\n",
    "    f=open('text.txt','a',encoding='utf-8')\n",
    "    f.writelines(t)\n",
    "    f.close()\n",
    "except sr.UnknownValueError as u:\n",
    "    print(u)\n",
    "except sr.RequestError as r:\n",
    "    print(r)"
   ]
  },
  {
   "cell_type": "code",
   "execution_count": null,
   "id": "f0b0638e",
   "metadata": {},
   "outputs": [],
   "source": [
    "#summarize text\n",
    "import summa\n",
    "from summa.summarizer import summarize\n",
    "summarize(t, ratio=0.20, language =\"english\")"
   ]
  },
  {
   "cell_type": "code",
   "execution_count": null,
   "id": "3ac700da",
   "metadata": {},
   "outputs": [],
   "source": [
    "#correct text\n",
    "from spellchecker import SpellChecker\n",
    "corrector = SpellChecker()\n",
    "\n",
    "word = t \n"
   ]
  },
  {
   "cell_type": "code",
   "execution_count": null,
   "id": "1692da63",
   "metadata": {},
   "outputs": [],
   "source": [
    "if word in corrector:\n",
    "    print(\"Correct\")\n",
    "else:\n",
    "    correct_word = corrector.correction(word)\n",
    "    print(\"Correct Spelling is \", correct_word)"
   ]
  },
  {
   "cell_type": "code",
   "execution_count": null,
   "id": "8b341a32",
   "metadata": {},
   "outputs": [],
   "source": [
    "#save model\n",
    "import pickle  # .pickle extension model \n",
    "with open('model_pickle','wb') as file: # write binary \n",
    "    pickle.dump(t ,file) # put model into file\n",
    "#Load Saved Model\n",
    "with open('model_pickle','rb') as file: # read binary \n",
    "    ourModel = pickle.load(file)"
   ]
  },
  {
   "cell_type": "code",
   "execution_count": null,
   "id": "de9913c1",
   "metadata": {},
   "outputs": [],
   "source": []
  },
  {
   "cell_type": "markdown",
   "id": "dc6b37b1",
   "metadata": {},
   "source": [
    "# to arabic"
   ]
  },
  {
   "cell_type": "code",
   "execution_count": null,
   "id": "37ee69bf",
   "metadata": {},
   "outputs": [],
   "source": [
    "import speech_recognition as sr\n",
    "import  moviepy.editor as mp\n",
    "clip=mp.VideoFileClip(r'WhatsApp Video 2023-02-02 at 23.39.10.mp4')\n",
    "clip.audio.write_audiofile(r'WhatsApp Video 2023-02-02 at 23.39.10.wav')\n",
    "r=sr.Recognizer()\n",
    "audio=sr.AudioFile('WhatsApp Video 2023-02-02 at 23.39.10.wav')\n",
    "with audio as source:\n",
    "    audio_file=r.record(source)\n",
    "try:\n",
    "    t=r.recognize_google(audio_file,language='ar-AR')\n",
    "    print(t)\n",
    "    f=open('text.txt','a',encoding='utf-8')\n",
    "    f.writelines(t)\n",
    "    f.close()\n",
    "except sr.UnknownValueError as u:\n",
    "    print(u)\n",
    "except sr.RequestError as r:\n",
    "    print(r)"
   ]
  },
  {
   "cell_type": "code",
   "execution_count": null,
   "id": "4974b49a",
   "metadata": {},
   "outputs": [],
   "source": [
    "#summarize text\n",
    "import summa\n",
    "from summa.summarizer import summarize\n",
    "summarize(t, ratio=0.20, language =\"arabic\")"
   ]
  },
  {
   "cell_type": "code",
   "execution_count": null,
   "id": "5b0d14af",
   "metadata": {},
   "outputs": [],
   "source": [
    "#correct text\n",
    "corrector = SpellChecker()\n",
    "​\n",
    "word = t\n",
    "if word in corrector:\n",
    "    print(\"Correct\")\n",
    "else:\n",
    "    correct_word = corrector.correction(word)\n",
    "    print(\"Correct Spelling is \", correct_word)"
   ]
  },
  {
   "cell_type": "code",
   "execution_count": null,
   "id": "2d19b8f7",
   "metadata": {},
   "outputs": [],
   "source": [
    "#save model\n",
    "import pickle  # .pickle extension model \n",
    "with open('model_pickle','wb') as file: # write binary \n",
    "    pickle.dump(t ,file) # put model into file\n",
    "#Load Saved Model\n",
    "with open('model_pickle','rb') as file: # read binary \n",
    "    ourModel = pickle.load(file)"
   ]
  }
 ],
 "metadata": {
  "kernelspec": {
   "display_name": "Python 3 (ipykernel)",
   "language": "python",
   "name": "python3"
  },
  "language_info": {
   "codemirror_mode": {
    "name": "ipython",
    "version": 3
   },
   "file_extension": ".py",
   "mimetype": "text/x-python",
   "name": "python",
   "nbconvert_exporter": "python",
   "pygments_lexer": "ipython3",
   "version": "3.9.12"
  },
  "toc": {
   "base_numbering": 1,
   "nav_menu": {},
   "number_sections": true,
   "sideBar": true,
   "skip_h1_title": false,
   "title_cell": "Table of Contents",
   "title_sidebar": "Contents",
   "toc_cell": false,
   "toc_position": {},
   "toc_section_display": true,
   "toc_window_display": false
  },
  "varInspector": {
   "cols": {
    "lenName": 16,
    "lenType": 16,
    "lenVar": 40
   },
   "kernels_config": {
    "python": {
     "delete_cmd_postfix": "",
     "delete_cmd_prefix": "del ",
     "library": "var_list.py",
     "varRefreshCmd": "print(var_dic_list())"
    },
    "r": {
     "delete_cmd_postfix": ") ",
     "delete_cmd_prefix": "rm(",
     "library": "var_list.r",
     "varRefreshCmd": "cat(var_dic_list()) "
    }
   },
   "types_to_exclude": [
    "module",
    "function",
    "builtin_function_or_method",
    "instance",
    "_Feature"
   ],
   "window_display": false
  }
 },
 "nbformat": 4,
 "nbformat_minor": 5
}
