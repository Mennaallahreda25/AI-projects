{
 "cells": [
  {
   "cell_type": "markdown",
   "id": "19ac8239",
   "metadata": {},
   "source": [
    "# from speech to text - english"
   ]
  },
  {
   "cell_type": "code",
   "execution_count": 1,
   "id": "cec527c7",
   "metadata": {
    "ExecuteTime": {
     "end_time": "2023-02-23T21:38:17.860946Z",
     "start_time": "2023-02-23T21:38:12.489615Z"
    },
    "scrolled": true
   },
   "outputs": [
    {
     "name": "stdout",
     "output_type": "stream",
     "text": [
      "Requirement already satisfied: SpeechRecognition in c:\\users\\hp\\anaconda3\\lib\\site-packages (3.9.0)\n",
      "Requirement already satisfied: requests>=2.26.0 in c:\\users\\hp\\anaconda3\\lib\\site-packages (from SpeechRecognition) (2.27.1)\n",
      "Requirement already satisfied: urllib3<1.27,>=1.21.1 in c:\\users\\hp\\anaconda3\\lib\\site-packages (from requests>=2.26.0->SpeechRecognition) (1.26.9)\n",
      "Requirement already satisfied: certifi>=2017.4.17 in c:\\users\\hp\\anaconda3\\lib\\site-packages (from requests>=2.26.0->SpeechRecognition) (2021.10.8)\n",
      "Requirement already satisfied: charset-normalizer~=2.0.0 in c:\\users\\hp\\anaconda3\\lib\\site-packages (from requests>=2.26.0->SpeechRecognition) (2.0.4)\n",
      "Requirement already satisfied: idna<4,>=2.5 in c:\\users\\hp\\anaconda3\\lib\\site-packages (from requests>=2.26.0->SpeechRecognition) (2.10)\n"
     ]
    },
    {
     "name": "stderr",
     "output_type": "stream",
     "text": [
      "WARNING: Ignoring invalid distribution -pencv-python-headless (c:\\users\\hp\\anaconda3\\lib\\site-packages)\n",
      "WARNING: Ignoring invalid distribution -pencv-python-headless (c:\\users\\hp\\anaconda3\\lib\\site-packages)\n",
      "WARNING: Ignoring invalid distribution -pencv-python-headless (c:\\users\\hp\\anaconda3\\lib\\site-packages)\n",
      "WARNING: Ignoring invalid distribution -pencv-python-headless (c:\\users\\hp\\anaconda3\\lib\\site-packages)\n",
      "WARNING: Ignoring invalid distribution -pencv-python-headless (c:\\users\\hp\\anaconda3\\lib\\site-packages)\n",
      "WARNING: Ignoring invalid distribution -pencv-python-headless (c:\\users\\hp\\anaconda3\\lib\\site-packages)\n",
      "\n",
      "[notice] A new release of pip available: 22.3.1 -> 23.0.1\n",
      "[notice] To update, run: python.exe -m pip install --upgrade pip\n"
     ]
    }
   ],
   "source": [
    "!pip install SpeechRecognition"
   ]
  },
  {
   "cell_type": "code",
   "execution_count": 2,
   "id": "41bf5f9f",
   "metadata": {
    "ExecuteTime": {
     "end_time": "2023-02-23T21:38:22.724570Z",
     "start_time": "2023-02-23T21:38:17.863909Z"
    }
   },
   "outputs": [
    {
     "name": "stdout",
     "output_type": "stream",
     "text": [
      "Requirement already satisfied: pyaudio in c:\\users\\hp\\anaconda3\\lib\\site-packages (0.2.13)"
     ]
    },
    {
     "name": "stderr",
     "output_type": "stream",
     "text": [
      "WARNING: Ignoring invalid distribution -pencv-python-headless (c:\\users\\hp\\anaconda3\\lib\\site-packages)\n",
      "WARNING: Ignoring invalid distribution -pencv-python-headless (c:\\users\\hp\\anaconda3\\lib\\site-packages)\n",
      "WARNING: Ignoring invalid distribution -pencv-python-headless (c:\\users\\hp\\anaconda3\\lib\\site-packages)\n",
      "WARNING: Ignoring invalid distribution -pencv-python-headless (c:\\users\\hp\\anaconda3\\lib\\site-packages)\n",
      "WARNING: Ignoring invalid distribution -pencv-python-headless (c:\\users\\hp\\anaconda3\\lib\\site-packages)\n",
      "WARNING: Ignoring invalid distribution -pencv-python-headless (c:\\users\\hp\\anaconda3\\lib\\site-packages)\n",
      "\n",
      "[notice] A new release of pip available: 22.3.1 -> 23.0.1\n",
      "[notice] To update, run: python.exe -m pip install --upgrade pip\n"
     ]
    },
    {
     "name": "stdout",
     "output_type": "stream",
     "text": [
      "\n"
     ]
    }
   ],
   "source": [
    "!pip install pyaudio"
   ]
  },
  {
   "cell_type": "code",
   "execution_count": null,
   "id": "1986c049",
   "metadata": {
    "ExecuteTime": {
     "start_time": "2023-02-23T21:56:37.471Z"
    }
   },
   "outputs": [
    {
     "name": "stdout",
     "output_type": "stream",
     "text": [
      "Speak Anything :\n"
     ]
    }
   ],
   "source": [
    "import speech_recognition as sr     # import the library\n",
    " \n",
    "r = sr.Recognizer()                 # initialize recognizer\n",
    "with sr.Microphone() as source:     # mention source it will be either Microphone or audio files.\n",
    "    print(\"Speak Anything :\")\n",
    "    audio = r.listen(source)        # listen to the source\n",
    "    try:\n",
    "        text = r.recognize_google(audio)    # use recognizer to convert our audio into text part.\n",
    "        print(\"You said : {}\".format(text))\n",
    "    except:\n",
    "        print(\"Sorry could not recognize your voice\")    # In case of voice not recognized  clearly"
   ]
  },
  {
   "cell_type": "markdown",
   "id": "3dfdeb71",
   "metadata": {},
   "source": [
    "# from speech to text - arabic"
   ]
  },
  {
   "cell_type": "code",
   "execution_count": null,
   "id": "fd94774e",
   "metadata": {
    "ExecuteTime": {
     "end_time": "2023-02-23T21:48:32.549398Z",
     "start_time": "2023-02-23T21:48:32.549398Z"
    }
   },
   "outputs": [],
   "source": [
    "import speech_recognition as sr\n",
    "# Record Audio\n",
    "r = sr.Recognizer ()\n",
    "with sr.Microphone() as source:\n",
    "    print (\"Say something!\")\n",
    "    audio = r.listen(source)\n",
    "    # Speech recognition using Google Speech Recognition\n",
    "    try:\n",
    "        print(\"You said:\" + r.recognize_google(audio,language =\"ar-AR\"))\n",
    "    except sr.UnknownValueError:\n",
    "        print(\"Google Speech Recognition could not understand audio\")\n",
    "    except sr.RequestError as e:\n",
    "        print(\"Could not request results from Google Speech Recognition service; {0}\".format(e))"
   ]
  },
  {
   "cell_type": "markdown",
   "id": "7ad43cf5",
   "metadata": {},
   "source": [
    "# speech recognition - expections "
   ]
  },
  {
   "cell_type": "code",
   "execution_count": null,
   "id": "33283a2a",
   "metadata": {
    "ExecuteTime": {
     "end_time": "2023-02-23T21:48:32.551881Z",
     "start_time": "2023-02-23T21:48:32.551881Z"
    }
   },
   "outputs": [],
   "source": [
    "import speech_recognition as sr  \n",
    "\n",
    "# get audio from the microphone                                                                       \n",
    "r = sr.Recognizer()                                                                                   \n",
    "with sr.Microphone() as source:                                                                       \n",
    "    print(\"Speak:\")                                                                                   \n",
    "    audio = r.listen(source)   \n",
    "\n",
    "try:\n",
    "    print(\"You said \" + r.recognize_google(audio))\n",
    "except sr.UnknownValueError:\n",
    "    print(\"Could not understand audio\")\n",
    "except sr.RequestError as e:\n",
    "    print(\"Could not request results; {0}\".format(e))"
   ]
  },
  {
   "cell_type": "markdown",
   "id": "a43d6412",
   "metadata": {},
   "source": [
    "# jarvis"
   ]
  },
  {
   "cell_type": "markdown",
   "id": "b1f83d66",
   "metadata": {},
   "source": [
    "Speech recognition can by done using the Python SpeechRecognition module. We make use of the Google Speech API because of it’s great quality.\n",
    "Answer in spoken voice (Text To Speech)\n",
    "\n",
    "Various APIs and programs are available for text to speech applications. Espeak and pyttsx work out of the box but sound very robotic. We decided to go with the Google Text To Speech API, gTTS."
   ]
  },
  {
   "cell_type": "code",
   "execution_count": null,
   "id": "f231e384",
   "metadata": {
    "ExecuteTime": {
     "end_time": "2023-02-23T21:48:32.554850Z",
     "start_time": "2023-02-23T21:48:32.554850Z"
    }
   },
   "outputs": [],
   "source": [
    "!pip install gTTS"
   ]
  },
  {
   "cell_type": "code",
   "execution_count": null,
   "id": "35c363b4",
   "metadata": {
    "ExecuteTime": {
     "end_time": "2023-02-23T21:48:32.559837Z",
     "start_time": "2023-02-23T21:48:32.559837Z"
    }
   },
   "outputs": [],
   "source": [
    "# Requires PyAudio and PySpeech.\n",
    "\n",
    "import speech_recognition as sr\n",
    "from time import ctime\n",
    "import time\n",
    "import os\n",
    "from gtts import gTTS\n",
    "\n",
    "def speak(audioString):\n",
    "    print(audioString)\n",
    "    tts = gTTS(text=audioString, lang='en')\n",
    "    tts.save(\"audio.mp3\")\n",
    "    os.system(\"mpg321 audio.mp3\")\n",
    "\n",
    "def recordAudio():\n",
    "    # Record Audio\n",
    "    r = sr.Recognizer()\n",
    "    with sr.Microphone() as source:\n",
    "    print(\"Say something!\")\n",
    "    audio = r.listen(source)\n",
    "\n",
    "    # Speech recognition using Google Speech Recognition\n",
    "    data = \"\"\n",
    "    try:\n",
    "        # Uses the default API key\n",
    "        # To use another API key: `r.recognize_google(audio, key=\"GOOGLE_SPEECH_RECOGNITION_API_KEY\")`\n",
    "        data = r.recognize_google(audio)\n",
    "        print(\"You said: \" + data)\n",
    "    except sr.UnknownValueError:\n",
    "        print(\"Google Speech Recognition could not understand audio\")\n",
    "    except sr.RequestError as e:\n",
    "        print(\"Could not request results from Google Speech Recognition service; {0}\".format(e))\n",
    "\n",
    "    return data\n",
    "\n",
    "def jarvis(data):\n",
    "    if \"how are you\" in data:\n",
    "        speak(\"I am fine\")\n",
    "\n",
    "    if \"what time is it\" in data:\n",
    "        speak(ctime())\n",
    "\n",
    "    if \"where is\" in data:\n",
    "        data = data.split(\" \")\n",
    "        location = data[2]\n",
    "        speak(\"Hold on Frank, I will show you where \" + location + \" is.\")\n",
    "        os.system(\"chromium-browser https://www.google.nl/maps/place/\" + location + \"/&amp;\")\n",
    "\n",
    "# initialization\n",
    "time.sleep(2)\n",
    "speak(\"Hi Frank, what can I do for you?\")\n",
    "while 1:\n",
    "    data = recordAudio()\n",
    "    jarvis(data)"
   ]
  },
  {
   "cell_type": "code",
   "execution_count": null,
   "id": "52a58c50",
   "metadata": {
    "ExecuteTime": {
     "end_time": "2023-02-23T21:48:32.561832Z",
     "start_time": "2023-02-23T21:48:32.561832Z"
    }
   },
   "outputs": [],
   "source": [
    "################################################################################################################################"
   ]
  },
  {
   "cell_type": "markdown",
   "id": "61651516",
   "metadata": {},
   "source": [
    "# text to speech - english"
   ]
  },
  {
   "cell_type": "code",
   "execution_count": null,
   "id": "4484bb40",
   "metadata": {
    "ExecuteTime": {
     "end_time": "2023-02-23T21:48:32.564822Z",
     "start_time": "2023-02-23T21:48:32.564822Z"
    }
   },
   "outputs": [],
   "source": [
    "from gtts import gTTS\n",
    "tts = gTTS('hello')\n",
    "tts.save('hello.mp3')"
   ]
  },
  {
   "cell_type": "code",
   "execution_count": null,
   "id": "864546b3",
   "metadata": {
    "ExecuteTime": {
     "end_time": "2023-02-23T21:48:32.568812Z",
     "start_time": "2023-02-23T21:48:32.568812Z"
    }
   },
   "outputs": [],
   "source": [
    "from gtts import gTTS\n",
    "import os\n",
    "tts = gTTS('hello')\n",
    "tts.save('hello.mp3')\n",
    "os.systems('hello.mp3')"
   ]
  },
  {
   "cell_type": "markdown",
   "id": "69914fb0",
   "metadata": {},
   "source": [
    "# text to speech - arabic"
   ]
  },
  {
   "cell_type": "code",
   "execution_count": null,
   "id": "e3fdffcc",
   "metadata": {
    "ExecuteTime": {
     "end_time": "2023-02-23T21:48:32.573815Z",
     "start_time": "2023-02-23T21:48:32.573815Z"
    }
   },
   "outputs": [],
   "source": [
    "from gtts import gTTS\n",
    "tts = gTTS('انا اسمى منة', lang=\"ar\")\n",
    "tts.save('hello2.mp3')"
   ]
  },
  {
   "cell_type": "markdown",
   "id": "d6403615",
   "metadata": {},
   "source": [
    "# Text to Speech - in Arabic - play sound"
   ]
  },
  {
   "cell_type": "code",
   "execution_count": null,
   "id": "25cb216c",
   "metadata": {
    "ExecuteTime": {
     "end_time": "2023-02-23T21:48:32.576794Z",
     "start_time": "2023-02-23T21:48:32.576794Z"
    }
   },
   "outputs": [],
   "source": [
    "from gtts import gTTS\n",
    "from pygame import mixer\n",
    "from tempfile import TemporaryFile\n",
    "tts = gTTS('انا اسمى منة', lang= 'ar')\n",
    "mixer.init()\n",
    "sf = TemporaryFile()\n",
    "tts.write_to_fp(sf)\n",
    "sf. seek(0)\n",
    "mixer.music.load(sf)\n",
    "mixer.music.play ()"
   ]
  },
  {
   "cell_type": "markdown",
   "id": "0b7a97ed",
   "metadata": {},
   "source": [
    "# Text to Speech - in English and French"
   ]
  },
  {
   "cell_type": "code",
   "execution_count": null,
   "id": "891dd069",
   "metadata": {
    "ExecuteTime": {
     "end_time": "2023-02-23T21:48:32.579782Z",
     "start_time": "2023-02-23T21:48:32.579782Z"
    }
   },
   "outputs": [],
   "source": [
    "from gtts import gTTS\n",
    "tts_en = gTTS('hello', lang='en')\n",
    "tts_fr = gTTS('bonjour', lang= 'fr')\n",
    "with open('hello_ bonjour.mp3', 'w') as f:\n",
    "    tts_en.write_to_fp(f)\n",
    "    tts_fr.write to_fp(f)"
   ]
  },
  {
   "cell_type": "markdown",
   "id": "402064dc",
   "metadata": {},
   "source": [
    "# Translate and convert"
   ]
  },
  {
   "cell_type": "code",
   "execution_count": null,
   "id": "ab9d5fc6",
   "metadata": {
    "ExecuteTime": {
     "end_time": "2023-02-23T21:48:32.581776Z",
     "start_time": "2023-02-23T21:48:32.581776Z"
    }
   },
   "outputs": [],
   "source": [
    "from googletrans import Translator\n",
    "from gtts import gTTS\n",
    "from pygame import mixer\n",
    "from tempfile import TemporaryFile\n",
    "\n",
    "translator = Translator()\n",
    "tts = gTTS(text=translator.translate(\"مرحبا و انا اسمى منة\", dest=\"en\"). text, lang=\"en\")\n",
    "mixer.init()\n",
    "\n",
    "sf = TemporaryFile()\n",
    "tts.write_to_fp(sf)\n",
    "sf.seek(0)\n",
    "mixer.music.load(sf)\n",
    "mixer.music.play ()"
   ]
  },
  {
   "cell_type": "markdown",
   "id": "ea8c9233",
   "metadata": {},
   "source": [
    "# Speech corrections (word substitution)"
   ]
  },
  {
   "cell_type": "markdown",
   "id": "f79d505b",
   "metadata": {},
   "source": [
    "The default substitutions are defined by the gtts.tokenizer.symbols.SUB_PAIRS list. Add a custom one by appending to it:"
   ]
  },
  {
   "cell_type": "code",
   "execution_count": null,
   "id": "a89d6ded",
   "metadata": {
    "ExecuteTime": {
     "end_time": "2023-02-23T21:48:32.583773Z",
     "start_time": "2023-02-23T21:48:32.583773Z"
    }
   },
   "outputs": [],
   "source": [
    "from gtts.tokenizer import pre_processors\n",
    "import gtts.tokenizer.symbols\n",
    "\n",
    "gtts.tokenizer.symbols.SUB_PAIRS.append(('sub.', 'submarine'))\n",
    "test_text = \"Have you seen the Queen's new sub.?\"\n",
    "pre_processors.word_sub(test_text)"
   ]
  },
  {
   "cell_type": "markdown",
   "id": "5220caa8",
   "metadata": {},
   "source": [
    "# Microsoft speech engine"
   ]
  },
  {
   "cell_type": "markdown",
   "id": "d3ff2185",
   "metadata": {},
   "source": [
    "If you use Microsoft Windows 10, it has a speech engine included.\n",
    "Install the module win32com, then you can use this code:"
   ]
  },
  {
   "cell_type": "code",
   "execution_count": null,
   "id": "f732f588",
   "metadata": {
    "ExecuteTime": {
     "end_time": "2023-02-23T21:48:32.586763Z",
     "start_time": "2023-02-23T21:48:32.586763Z"
    }
   },
   "outputs": [],
   "source": [
    "#To install the win32com.client module , open terminal and write\n",
    "!pip install pypiwin32"
   ]
  },
  {
   "cell_type": "code",
   "execution_count": null,
   "id": "4301ce1a",
   "metadata": {
    "ExecuteTime": {
     "end_time": "2023-02-23T21:48:32.589755Z",
     "start_time": "2023-02-23T21:48:32.589755Z"
    }
   },
   "outputs": [],
   "source": [
    "import win32com.client as winc1\n",
    "speaker = win32com.client.Dispatch(\"SAPI.SpVoice\")\n",
    "speak.Speak=(\"hello, my name is Menna\")"
   ]
  },
  {
   "cell_type": "code",
   "execution_count": null,
   "id": "3417009d",
   "metadata": {
    "ExecuteTime": {
     "end_time": "2023-02-23T21:48:32.591764Z",
     "start_time": "2023-02-23T21:48:32.591764Z"
    }
   },
   "outputs": [],
   "source": [
    "# Python program to convert\n",
    "# text to speech\n",
    "\n",
    "# import the required module from text to speech conversion\n",
    "import win32com.client\n",
    "\n",
    "# Calling the Dispatch method of the module which\n",
    "# interact with Microsoft Speech SDK to speak\n",
    "# the given input from the keyboard\n",
    "\n",
    "speaker = win32com.client.Dispatch(\"SAPI.SpVoice\")\n",
    "\n",
    "while 1:\n",
    "\tprint(\"Enter the word you want to speak it out by computer\")\n",
    "\ts = input()\n",
    "\tspeaker.Speak(s)\n",
    "    if s== \"exit\" : break \n",
    "# To stop the program press\n",
    "# CTRL + Z\n"
   ]
  }
 ],
 "metadata": {
  "kernelspec": {
   "display_name": "Python 3 (ipykernel)",
   "language": "python",
   "name": "python3"
  },
  "language_info": {
   "codemirror_mode": {
    "name": "ipython",
    "version": 3
   },
   "file_extension": ".py",
   "mimetype": "text/x-python",
   "name": "python",
   "nbconvert_exporter": "python",
   "pygments_lexer": "ipython3",
   "version": "3.9.12"
  },
  "toc": {
   "base_numbering": 1,
   "nav_menu": {},
   "number_sections": true,
   "sideBar": true,
   "skip_h1_title": false,
   "title_cell": "Table of Contents",
   "title_sidebar": "Contents",
   "toc_cell": false,
   "toc_position": {},
   "toc_section_display": true,
   "toc_window_display": false
  },
  "varInspector": {
   "cols": {
    "lenName": 16,
    "lenType": 16,
    "lenVar": 40
   },
   "kernels_config": {
    "python": {
     "delete_cmd_postfix": "",
     "delete_cmd_prefix": "del ",
     "library": "var_list.py",
     "varRefreshCmd": "print(var_dic_list())"
    },
    "r": {
     "delete_cmd_postfix": ") ",
     "delete_cmd_prefix": "rm(",
     "library": "var_list.r",
     "varRefreshCmd": "cat(var_dic_list()) "
    }
   },
   "types_to_exclude": [
    "module",
    "function",
    "builtin_function_or_method",
    "instance",
    "_Feature"
   ],
   "window_display": false
  }
 },
 "nbformat": 4,
 "nbformat_minor": 5
}
