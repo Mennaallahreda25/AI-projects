{
 "cells": [
  {
   "cell_type": "markdown",
   "id": "36d113ef",
   "metadata": {},
   "source": [
    "# scrap english video and save in text file"
   ]
  },
  {
   "cell_type": "code",
   "execution_count": 21,
   "id": "1203b17e",
   "metadata": {
    "ExecuteTime": {
     "end_time": "2023-03-28T20:52:46.265501Z",
     "start_time": "2023-03-28T20:52:41.841367Z"
    }
   },
   "outputs": [
    {
     "name": "stdout",
     "output_type": "stream",
     "text": [
      " choose video: WhatsApp Video 2023-02-02 at 23.55.50.mp4\n"
     ]
    }
   ],
   "source": [
    "#take your file path from user\n",
    "import os\n",
    "user_input = input(\" choose video: \")\n",
    "assert os.path.exists(user_input), \"I did not find the file at, \"+str(user_input)\n",
    "f = open(user_input,'r+') \n",
    "f.close()"
   ]
  },
  {
   "cell_type": "code",
   "execution_count": 22,
   "id": "d9e65276",
   "metadata": {
    "ExecuteTime": {
     "end_time": "2023-03-28T20:52:48.922562Z",
     "start_time": "2023-03-28T20:52:48.906608Z"
    }
   },
   "outputs": [
    {
     "data": {
      "text/plain": [
       "'WhatsApp Video 2023-02-02 at 23.55.50.wav'"
      ]
     },
     "execution_count": 22,
     "metadata": {},
     "output_type": "execute_result"
    }
   ],
   "source": [
    "#modify the extension to wav\n",
    "path= os.path.splitext(user_input)[0]+'.wav'\n",
    "path "
   ]
  },
  {
   "cell_type": "code",
   "execution_count": 23,
   "id": "948c5331",
   "metadata": {
    "ExecuteTime": {
     "end_time": "2023-03-28T20:53:42.587342Z",
     "start_time": "2023-03-28T20:52:50.756484Z"
    },
    "scrolled": true
   },
   "outputs": [
    {
     "name": "stdout",
     "output_type": "stream",
     "text": [
      "MoviePy - Writing audio in WhatsApp Video 2023-02-02 at 23.55.50.wav\n"
     ]
    },
    {
     "name": "stderr",
     "output_type": "stream",
     "text": [
      "                                                                                                                       \r"
     ]
    },
    {
     "name": "stdout",
     "output_type": "stream",
     "text": [
      "MoviePy - Done.\n",
      "result2:\n",
      "{   'alternative': [   {   'confidence': 0.93344438,\n",
      "                           'transcript': 'that has perfect timing never early '\n",
      "                                         'never late it just takes a little '\n",
      "                                         'patience and a whole lot of faith '\n",
      "                                         \"but it's worth the wait God's plans \"\n",
      "                                         'is always the best sometimes the '\n",
      "                                         'process is painful and hard but '\n",
      "                                         \"don't forget to make God is silent \"\n",
      "                                         \"he's doing something God closes \"\n",
      "                                         'doors because you see he knows you '\n",
      "                                         \"won't move circumstances force you \"\n",
      "                                         'to God answers all prayers in three '\n",
      "                                         'ways yes because you deserve it no '\n",
      "                                         'because you deserve better'},\n",
      "                       {   'transcript': 'that has perfect timing never early '\n",
      "                                         'never late it just takes a little '\n",
      "                                         'patience and a whole lot of faith '\n",
      "                                         \"but it's worth the wait God's plans \"\n",
      "                                         'is always the best sometimes the '\n",
      "                                         'process is painful and hard but '\n",
      "                                         \"don't forget he's doing something \"\n",
      "                                         'God closes doors because you see he '\n",
      "                                         \"knows you won't move circumstances \"\n",
      "                                         'force you to God answers all prayers '\n",
      "                                         'in three ways yes because you '\n",
      "                                         'deserve it no because you deserve '\n",
      "                                         'better'},\n",
      "                       {   'transcript': 'what has perfect timing never early '\n",
      "                                         'never late it just takes a little '\n",
      "                                         'patience and a whole lot of faith '\n",
      "                                         \"but it's worth the wait God's plans \"\n",
      "                                         'is always the best sometimes the '\n",
      "                                         'process is painful and hard but '\n",
      "                                         \"don't forget to make God is silent \"\n",
      "                                         \"he's doing something God closes \"\n",
      "                                         'doors because you see he knows you '\n",
      "                                         \"won't move circumstances force you \"\n",
      "                                         'to God answers all prayers in three '\n",
      "                                         'ways yes because you deserve it no '\n",
      "                                         'because you deserve better'},\n",
      "                       {   'transcript': 'what has perfect timing never early '\n",
      "                                         'never late it just takes a little '\n",
      "                                         'patience and a whole lot of faith '\n",
      "                                         \"but it's worth the wait God's plans \"\n",
      "                                         'is always the best sometimes the '\n",
      "                                         'process is painful and hard but '\n",
      "                                         \"don't forget he's doing something \"\n",
      "                                         'God closes doors because you see he '\n",
      "                                         \"knows you won't move circumstances \"\n",
      "                                         'force you to God answers all prayers '\n",
      "                                         'in three ways yes because you '\n",
      "                                         'deserve it no because you deserve '\n",
      "                                         'better'},\n",
      "                       {   'transcript': 'that has perfect timing never early '\n",
      "                                         'never late it just takes a little '\n",
      "                                         'patience and a whole lot of faith '\n",
      "                                         \"but it's worth the wait God's plans \"\n",
      "                                         'is always the best sometimes the '\n",
      "                                         'process is painful and hard but '\n",
      "                                         \"don't forget to make God is silent \"\n",
      "                                         \"he's doing something God closes \"\n",
      "                                         'doors because you see he knows you '\n",
      "                                         \"won't move circumstances for you to \"\n",
      "                                         'God answers all prayers in three '\n",
      "                                         'ways yes because you deserve it no '\n",
      "                                         'because you deserve better'}],\n",
      "    'final': True}\n",
      "the video contains : that has perfect timing never early never late it just takes a little patience and a whole lot of faith but it's worth the wait God's plans is always the best sometimes the process is painful and hard but don't forget to make God is silent he's doing something God closes doors because you see he knows you won't move circumstances force you to God answers all prayers in three ways yes because you deserve it no because you deserve better\n"
     ]
    }
   ],
   "source": [
    "import speech_recognition as sr\n",
    "import  moviepy.editor as mp\n",
    "clip=mp.VideoFileClip(user_input)\n",
    "clip.audio.write_audiofile(path)\n",
    "r=sr.Recognizer()\n",
    "audio=sr.AudioFile(path)\n",
    "with audio as source:\n",
    "    audio_file=r.record(source)\n",
    "try:\n",
    "    t=r.recognize_google(audio_file,language='eng')\n",
    "    print(\"the video contains : \"+ t)\n",
    "except sr.UnknownValueError as u:\n",
    "    print(u)\n",
    "except sr.RequestError as r:\n",
    "    print(r)"
   ]
  },
  {
   "cell_type": "code",
   "execution_count": 24,
   "id": "428084f7",
   "metadata": {
    "ExecuteTime": {
     "end_time": "2023-03-28T20:53:48.240450Z",
     "start_time": "2023-03-28T20:53:48.220499Z"
    }
   },
   "outputs": [
    {
     "name": "stdout",
     "output_type": "stream",
     "text": [
      "Done\n"
     ]
    }
   ],
   "source": [
    "#save the actual video text in txt file\n",
    "f4=open('videoText_EN.txt','a',encoding='utf-8')\n",
    "f4.writelines(\"The video text : \\n\"+t+\"\\n\\n\") \n",
    "f4.close()\n",
    "print(\"Done\")"
   ]
  },
  {
   "cell_type": "code",
   "execution_count": 25,
   "id": "8813601b",
   "metadata": {
    "ExecuteTime": {
     "end_time": "2023-03-28T20:53:49.898914Z",
     "start_time": "2023-03-28T20:53:49.876973Z"
    }
   },
   "outputs": [
    {
     "data": {
      "text/plain": [
       "''"
      ]
     },
     "execution_count": 25,
     "metadata": {},
     "output_type": "execute_result"
    }
   ],
   "source": [
    "#summarize text\n",
    "#sometimes if the text not big it will make empty text\n",
    "#text must not be too small\n",
    "import summa\n",
    "from summa.summarizer import summarize\n",
    "summarize(t, ratio=0.20, language =\"english\")"
   ]
  },
  {
   "cell_type": "code",
   "execution_count": 26,
   "id": "b838447c",
   "metadata": {
    "ExecuteTime": {
     "end_time": "2023-03-28T20:54:26.835473Z",
     "start_time": "2023-03-28T20:54:26.693988Z"
    }
   },
   "outputs": [
    {
     "name": "stdout",
     "output_type": "stream",
     "text": [
      "Correct Spelling is:  that has perfect timing never early never late it just takes a little patience and a whole lot of faith but it's worth the wait God's plans is always the best sometimes the process is painful and hard but don't forget to make God is silent he's doing something God closes doors because you see he knows you won't move circumstances force you to God answers all prayers in three ways yes because you deserve it no because you deserve better\n"
     ]
    }
   ],
   "source": [
    "#correct text\n",
    "from spellchecker import SpellChecker\n",
    "corrector = SpellChecker()\n",
    "word = t \n",
    "if word in corrector:\n",
    "    print(\"Correct\")\n",
    "else:\n",
    "    correct_word = corrector.correction(word)\n",
    "    print(\"Correct Spelling is: \", correct_word)"
   ]
  },
  {
   "cell_type": "code",
   "execution_count": 27,
   "id": "91d4e0f1",
   "metadata": {
    "ExecuteTime": {
     "end_time": "2023-03-28T20:54:28.493100Z",
     "start_time": "2023-03-28T20:54:28.476145Z"
    }
   },
   "outputs": [
    {
     "name": "stdout",
     "output_type": "stream",
     "text": [
      "Done\n"
     ]
    }
   ],
   "source": [
    "#save the corrected video text in txt file\n",
    "f4=open('videoText_EN.txt','a',encoding='utf-8')\n",
    "f4.writelines(\"The corrected text : \\n\"+correct_word+\"\\n\\n\") \n",
    "f4.close()\n",
    "print(\"Done\")"
   ]
  },
  {
   "cell_type": "code",
   "execution_count": 28,
   "id": "b9a75fbc",
   "metadata": {
    "ExecuteTime": {
     "end_time": "2023-03-28T20:54:30.954838Z",
     "start_time": "2023-03-28T20:54:30.348919Z"
    }
   },
   "outputs": [
    {
     "name": "stdout",
     "output_type": "stream",
     "text": [
      "هذا له توقيت مثالي لا يتأخر أبدًا ، لا يتطلب الأمر سوى القليل من الصبر والكثير من الإيمان ، لكن الأمر يستحق الانتظار ، خطط الله هي الأفضل دائمًا في بعض الأحيان تكون العملية مؤلمة وصعبة ولكن لا تنسَ أن تجعل الله صامتًا يفعله شيء يغلق الابواب الله لانك ترى انه يعلم انك لن تتحرك الظروف تجبرك على الله يجيب كل الصلوات بثلاث طرق نعم لانك تستحقها لا لانك تستحق الافضل.\n"
     ]
    }
   ],
   "source": [
    "#from english to arabic\n",
    "#text must not be too big\n",
    "from python_translator import Translator\n",
    "translator = Translator()\n",
    "result = translator.translate(t, \"arabic\", \"english\")\n",
    "print(result)"
   ]
  },
  {
   "cell_type": "code",
   "execution_count": 29,
   "id": "3a4e9c53",
   "metadata": {
    "ExecuteTime": {
     "end_time": "2023-03-28T20:54:32.421747Z",
     "start_time": "2023-03-28T20:54:32.401833Z"
    }
   },
   "outputs": [
    {
     "name": "stdout",
     "output_type": "stream",
     "text": [
      "Done\n"
     ]
    }
   ],
   "source": [
    "#save the translated video text in txt file\n",
    "f4=open('videoText_EN.txt','a',encoding='utf-8')\n",
    "f4.writelines(\"The translated text : \\n\"+str(result)+\"\\n\\n\") \n",
    "f4.close()\n",
    "print(\"Done\")"
   ]
  },
  {
   "cell_type": "code",
   "execution_count": 30,
   "id": "fad9b047",
   "metadata": {
    "ExecuteTime": {
     "end_time": "2023-03-28T20:54:37.283922Z",
     "start_time": "2023-03-28T20:54:33.661688Z"
    }
   },
   "outputs": [],
   "source": [
    "#to audio in English\n",
    "from gtts import gTTS\n",
    "to_aud = gTTS(t)\n",
    "to_aud.save('videoText_EN.mp3')"
   ]
  },
  {
   "cell_type": "code",
   "execution_count": 31,
   "id": "966871a8",
   "metadata": {
    "ExecuteTime": {
     "end_time": "2023-03-28T20:54:39.375720Z",
     "start_time": "2023-03-28T20:54:39.356772Z"
    }
   },
   "outputs": [],
   "source": [
    "###############################################################################################################################"
   ]
  },
  {
   "cell_type": "code",
   "execution_count": 32,
   "id": "ce92a8e4",
   "metadata": {
    "ExecuteTime": {
     "end_time": "2023-03-28T20:54:40.773669Z",
     "start_time": "2023-03-28T20:54:40.761726Z"
    }
   },
   "outputs": [],
   "source": [
    "#save model\n",
    "import pickle  # .pickle extension model \n",
    "with open('vidEN_model','wb') as file: # write binary \n",
    "    pickle.dump(t ,file) # put model into file"
   ]
  },
  {
   "cell_type": "code",
   "execution_count": 33,
   "id": "2b72ca1d",
   "metadata": {
    "ExecuteTime": {
     "end_time": "2023-03-28T20:54:41.472938Z",
     "start_time": "2023-03-28T20:54:41.459973Z"
    }
   },
   "outputs": [],
   "source": [
    "#Load Saved Model\n",
    "with open('vidEN_model','rb') as file: # read binary \n",
    "    vidModel = pickle.load(file)"
   ]
  },
  {
   "cell_type": "markdown",
   "id": "55124c98",
   "metadata": {},
   "source": [
    "# scrap arabic video and save in text file"
   ]
  },
  {
   "cell_type": "code",
   "execution_count": 34,
   "id": "d77ed238",
   "metadata": {
    "ExecuteTime": {
     "end_time": "2023-03-28T20:55:21.021990Z",
     "start_time": "2023-03-28T20:54:43.069540Z"
    }
   },
   "outputs": [
    {
     "name": "stdout",
     "output_type": "stream",
     "text": [
      " أختر فيديو: WhatsApp Video 2023-03-09 at 22.27.33.mp4\n"
     ]
    }
   ],
   "source": [
    "#take your file path from user\n",
    "import os\n",
    "user_input2 = input(\" أختر فيديو: \")\n",
    "assert os.path.exists(user_input2), \" لم أعثر على املف فى \"+str(user_input2)\n",
    "f3 = open(user_input2,'r+')\n",
    "f3.close()"
   ]
  },
  {
   "cell_type": "code",
   "execution_count": 35,
   "id": "3e7300cb",
   "metadata": {
    "ExecuteTime": {
     "end_time": "2023-03-28T20:55:24.095686Z",
     "start_time": "2023-03-28T20:55:24.072749Z"
    }
   },
   "outputs": [
    {
     "data": {
      "text/plain": [
       "'WhatsApp Video 2023-03-09 at 22.27.33.wav'"
      ]
     },
     "execution_count": 35,
     "metadata": {},
     "output_type": "execute_result"
    }
   ],
   "source": [
    "#modify the extension to wav\n",
    "path2= os.path.splitext(user_input2)[0]+'.wav'\n",
    "path2 "
   ]
  },
  {
   "cell_type": "code",
   "execution_count": 36,
   "id": "e448efab",
   "metadata": {
    "ExecuteTime": {
     "end_time": "2023-03-28T20:55:50.498376Z",
     "start_time": "2023-03-28T20:55:25.871241Z"
    },
    "scrolled": true
   },
   "outputs": [
    {
     "name": "stdout",
     "output_type": "stream",
     "text": [
      "MoviePy - Writing audio in WhatsApp Video 2023-03-09 at 22.27.33.wav\n"
     ]
    },
    {
     "name": "stderr",
     "output_type": "stream",
     "text": [
      "                                                                                                                       \r"
     ]
    },
    {
     "name": "stdout",
     "output_type": "stream",
     "text": [
      "MoviePy - Done.\n",
      "result2:\n",
      "{   'alternative': [   {   'confidence': 0.80575705,\n",
      "                           'transcript': 'رمضان ان شاء الله يوم الخميس 23/3 '\n",
      "                                         'والفجر هياذن الساعه 4:15 والمغرب '\n",
      "                                         'هياذن الساعه 6:19 وقال رسول الله صلى '\n",
      "                                         'الله عليه وسلم من ابلغ عن يوم رمضان '\n",
      "                                         'حرمت عليه النار يوم القيامه ما تبخلش '\n",
      "                                         'على نفسك بالكنز العظيم'},\n",
      "                       {   'transcript': 'رمضان ان شاء الله يوم الخميس 23/3 '\n",
      "                                         'والفجر هياذن الساعه 4:15 والمغرب '\n",
      "                                         'هياذن الساعه 6:19 وقال رسول الله صلى '\n",
      "                                         'الله عليه وسلم من ابلغ عن يوم رمضان '\n",
      "                                         'حرمت عليه النار يوم القيامه ما تبخلش '\n",
      "                                         'على نفسك بالكنز العظيم وصلوا على '\n",
      "                                         'سيدنا محمد'}],\n",
      "    'final': True}\n",
      "يحتوى الفيديو على : رمضان ان شاء الله يوم الخميس 23/3 والفجر هياذن الساعه 4:15 والمغرب هياذن الساعه 6:19 وقال رسول الله صلى الله عليه وسلم من ابلغ عن يوم رمضان حرمت عليه النار يوم القيامه ما تبخلش على نفسك بالكنز العظيم\n"
     ]
    }
   ],
   "source": [
    "import speech_recognition as sr\n",
    "import  moviepy.editor as mp\n",
    "clip=mp.VideoFileClip(user_input2)\n",
    "clip.audio.write_audiofile(path2)\n",
    "r=sr.Recognizer()\n",
    "audio=sr.AudioFile(path2)\n",
    "with audio as source:\n",
    "    audio_file=r.record(source)\n",
    "try:\n",
    "    t2=r.recognize_google(audio_file,language='ar-AR')\n",
    "    print(\"يحتوى الفيديو على : \" + t2)\n",
    "except sr.UnknownValueError as u:\n",
    "    print(u)\n",
    "except sr.RequestError as r:\n",
    "    print(r)"
   ]
  },
  {
   "cell_type": "code",
   "execution_count": 37,
   "id": "7081c21f",
   "metadata": {
    "ExecuteTime": {
     "end_time": "2023-03-28T20:55:58.362663Z",
     "start_time": "2023-03-28T20:55:58.250113Z"
    }
   },
   "outputs": [
    {
     "name": "stdout",
     "output_type": "stream",
     "text": [
      "تم\n"
     ]
    }
   ],
   "source": [
    "#save the actual video text in txt file\n",
    "f2=open('videoText_AR.txt','a',encoding='utf-8')\n",
    "f2.writelines(t2)\n",
    "f2.close()\n",
    "print(\"تم\")"
   ]
  },
  {
   "cell_type": "code",
   "execution_count": 38,
   "id": "aaf2217a",
   "metadata": {
    "ExecuteTime": {
     "end_time": "2023-03-28T20:55:58.880307Z",
     "start_time": "2023-03-28T20:55:58.869336Z"
    }
   },
   "outputs": [
    {
     "data": {
      "text/plain": [
       "''"
      ]
     },
     "execution_count": 38,
     "metadata": {},
     "output_type": "execute_result"
    }
   ],
   "source": [
    "#summarize text\n",
    "#sometimes if the text not big it will make empty text\n",
    "#text must not be too small\n",
    "import summa\n",
    "from summa.summarizer import summarize\n",
    "summarize(t2, ratio=0.20, language =\"arabic\")"
   ]
  },
  {
   "cell_type": "code",
   "execution_count": 39,
   "id": "28a75777",
   "metadata": {
    "ExecuteTime": {
     "end_time": "2023-03-28T20:55:59.994119Z",
     "start_time": "2023-03-28T20:55:59.881852Z"
    }
   },
   "outputs": [
    {
     "name": "stdout",
     "output_type": "stream",
     "text": [
      "الكتابة الصحيحة :  رمضان ان شاء الله يوم الخميس 23/3 والفجر هياذن الساعه 4:15 والمغرب هياذن الساعه 6:19 وقال رسول الله صلى الله عليه وسلم من ابلغ عن يوم رمضان حرمت عليه النار يوم القيامه ما تبخلش على نفسك بالكنز العظيم\n"
     ]
    }
   ],
   "source": [
    "#correct text\n",
    "from spellchecker import SpellChecker\n",
    "corrector = SpellChecker()\n",
    "word = t2\n",
    "if word in corrector:\n",
    "    print(\"صحيح\")\n",
    "else:\n",
    "    correct_word2 = corrector.correction(word)\n",
    "    print(\"الكتابة الصحيحة : \", correct_word2)"
   ]
  },
  {
   "cell_type": "code",
   "execution_count": 40,
   "id": "8f939bbb",
   "metadata": {
    "ExecuteTime": {
     "end_time": "2023-03-28T20:56:00.789054Z",
     "start_time": "2023-03-28T20:56:00.772095Z"
    }
   },
   "outputs": [
    {
     "name": "stdout",
     "output_type": "stream",
     "text": [
      "تم\n"
     ]
    }
   ],
   "source": [
    "#save the corrected video text in txt file\n",
    "f2=open('videoText_AR.txt','a',encoding='utf-8')\n",
    "f2.writelines(\"النص بعد التصحيح : \\n\"+correct_word2+\"\\n\\n\")\n",
    "f2.close()\n",
    "print(\"تم\")"
   ]
  },
  {
   "cell_type": "code",
   "execution_count": 41,
   "id": "06b733c1",
   "metadata": {
    "ExecuteTime": {
     "end_time": "2023-03-28T20:56:04.019665Z",
     "start_time": "2023-03-28T20:56:01.811827Z"
    }
   },
   "outputs": [
    {
     "name": "stdout",
     "output_type": "stream",
     "text": [
      "Ramadan, God willing, on Thursday 3/23, and Fajr will call at 4:15, and Maghrib will call at 6:19.\n"
     ]
    }
   ],
   "source": [
    "#from Arabic to English\n",
    "#text must not be too big\n",
    "from python_translator import Translator\n",
    "translator = Translator()\n",
    "result2 = translator.translate(t2, \"english\", \"arabic\")\n",
    "print(result2)"
   ]
  },
  {
   "cell_type": "code",
   "execution_count": 42,
   "id": "f4ecc442",
   "metadata": {
    "ExecuteTime": {
     "end_time": "2023-03-28T20:56:05.577853Z",
     "start_time": "2023-03-28T20:56:05.567875Z"
    }
   },
   "outputs": [
    {
     "name": "stdout",
     "output_type": "stream",
     "text": [
      "تم\n"
     ]
    }
   ],
   "source": [
    "#save the translated video text in txt file\n",
    "f2=open('videoText_AR.txt','a',encoding='utf-8')\n",
    "f2.writelines(\"النص بعد الترجمة : \\n\"+str(result2)+\"\\n\\n\")\n",
    "f2.close()\n",
    "print(\"تم\")"
   ]
  },
  {
   "cell_type": "code",
   "execution_count": 43,
   "id": "e1b68889",
   "metadata": {
    "ExecuteTime": {
     "end_time": "2023-03-28T20:56:08.176075Z",
     "start_time": "2023-03-28T20:56:06.307328Z"
    }
   },
   "outputs": [],
   "source": [
    "#to audio in Arabic\n",
    "from gtts import gTTS\n",
    "to_aud2 = gTTS(t2, lang=\"ar\")\n",
    "to_aud2.save('videoText_AR.mp3') "
   ]
  },
  {
   "cell_type": "code",
   "execution_count": 44,
   "id": "b273d281",
   "metadata": {
    "ExecuteTime": {
     "end_time": "2023-03-28T20:56:09.223782Z",
     "start_time": "2023-03-28T20:56:09.216831Z"
    }
   },
   "outputs": [],
   "source": [
    "###############################################################################################################################"
   ]
  },
  {
   "cell_type": "code",
   "execution_count": 45,
   "id": "aa08311b",
   "metadata": {
    "ExecuteTime": {
     "end_time": "2023-03-28T20:56:09.694947Z",
     "start_time": "2023-03-28T20:56:09.682980Z"
    }
   },
   "outputs": [],
   "source": [
    "#save model\n",
    "import pickle  # .pickle extension model \n",
    "with open('vidAR_model','wb') as file: # write binary \n",
    "    pickle.dump(t2 ,file) # put model into file"
   ]
  },
  {
   "cell_type": "code",
   "execution_count": 46,
   "id": "04264a24",
   "metadata": {
    "ExecuteTime": {
     "end_time": "2023-03-28T20:56:10.210815Z",
     "start_time": "2023-03-28T20:56:10.195164Z"
    }
   },
   "outputs": [],
   "source": [
    "#Load Saved Model\n",
    "with open('vidAR_model','rb') as file: # read binary \n",
    "    vidModel2 = pickle.load(file)"
   ]
  },
  {
   "cell_type": "code",
   "execution_count": null,
   "id": "1af9556f",
   "metadata": {},
   "outputs": [],
   "source": []
  }
 ],
 "metadata": {
  "kernelspec": {
   "display_name": "Python 3 (ipykernel)",
   "language": "python",
   "name": "python3"
  },
  "language_info": {
   "codemirror_mode": {
    "name": "ipython",
    "version": 3
   },
   "file_extension": ".py",
   "mimetype": "text/x-python",
   "name": "python",
   "nbconvert_exporter": "python",
   "pygments_lexer": "ipython3",
   "version": "3.9.12"
  },
  "toc": {
   "base_numbering": 1,
   "nav_menu": {},
   "number_sections": true,
   "sideBar": true,
   "skip_h1_title": false,
   "title_cell": "Table of Contents",
   "title_sidebar": "Contents",
   "toc_cell": false,
   "toc_position": {},
   "toc_section_display": true,
   "toc_window_display": false
  },
  "varInspector": {
   "cols": {
    "lenName": 16,
    "lenType": 16,
    "lenVar": 40
   },
   "kernels_config": {
    "python": {
     "delete_cmd_postfix": "",
     "delete_cmd_prefix": "del ",
     "library": "var_list.py",
     "varRefreshCmd": "print(var_dic_list())"
    },
    "r": {
     "delete_cmd_postfix": ") ",
     "delete_cmd_prefix": "rm(",
     "library": "var_list.r",
     "varRefreshCmd": "cat(var_dic_list()) "
    }
   },
   "types_to_exclude": [
    "module",
    "function",
    "builtin_function_or_method",
    "instance",
    "_Feature"
   ],
   "window_display": false
  }
 },
 "nbformat": 4,
 "nbformat_minor": 5
}
