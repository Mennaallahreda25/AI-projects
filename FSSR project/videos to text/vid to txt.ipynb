{
 "cells": [
  {
   "cell_type": "markdown",
   "id": "36d113ef",
   "metadata": {},
   "source": [
    "# scrap english video and save in text file"
   ]
  },
  {
   "cell_type": "code",
   "execution_count": 1,
   "id": "1203b17e",
   "metadata": {
    "ExecuteTime": {
     "end_time": "2023-03-27T18:13:32.087275Z",
     "start_time": "2023-03-27T18:13:15.480290Z"
    }
   },
   "outputs": [
    {
     "name": "stdout",
     "output_type": "stream",
     "text": [
      " choose video: WhatsApp Video 2023-02-02 at 23.55.50.mp4\n"
     ]
    }
   ],
   "source": [
    "#take your file path from user\n",
    "import os\n",
    "user_input = input(\" choose video: \")\n",
    "assert os.path.exists(user_input), \"I did not find the file at, \"+str(user_input)\n",
    "f = open(user_input,'r+') \n",
    "f.close()"
   ]
  },
  {
   "cell_type": "code",
   "execution_count": 2,
   "id": "d9e65276",
   "metadata": {
    "ExecuteTime": {
     "end_time": "2023-03-27T18:13:40.624447Z",
     "start_time": "2023-03-27T18:13:40.597528Z"
    }
   },
   "outputs": [
    {
     "data": {
      "text/plain": [
       "'WhatsApp Video 2023-02-02 at 23.55.50.wav'"
      ]
     },
     "execution_count": 2,
     "metadata": {},
     "output_type": "execute_result"
    }
   ],
   "source": [
    "#modify the extension to wav\n",
    "path= os.path.splitext(user_input)[0]+'.wav'\n",
    "path "
   ]
  },
  {
   "cell_type": "code",
   "execution_count": 3,
   "id": "948c5331",
   "metadata": {
    "ExecuteTime": {
     "end_time": "2023-03-27T18:14:50.971551Z",
     "start_time": "2023-03-27T18:13:46.494132Z"
    },
    "scrolled": false
   },
   "outputs": [
    {
     "name": "stdout",
     "output_type": "stream",
     "text": [
      "MoviePy - Writing audio in WhatsApp Video 2023-02-02 at 23.55.50.wav\n"
     ]
    },
    {
     "name": "stderr",
     "output_type": "stream",
     "text": [
      "                                                                                                                       \r"
     ]
    },
    {
     "name": "stdout",
     "output_type": "stream",
     "text": [
      "MoviePy - Done.\n",
      "result2:\n",
      "{   'alternative': [   {   'confidence': 0.93344438,\n",
      "                           'transcript': 'that has perfect timing never early '\n",
      "                                         'never late it just takes a little '\n",
      "                                         'patience and a whole lot of faith '\n",
      "                                         \"but it's worth the wait God's plans \"\n",
      "                                         'is always the best sometimes the '\n",
      "                                         'process is painful and hard but '\n",
      "                                         \"don't forget to make God is silent \"\n",
      "                                         \"he's doing something God closes \"\n",
      "                                         'doors because you see he knows you '\n",
      "                                         \"won't move circumstances force you \"\n",
      "                                         'to God answers all prayers in three '\n",
      "                                         'ways yes because you deserve it no '\n",
      "                                         'because you deserve better'},\n",
      "                       {   'transcript': 'that has perfect timing never early '\n",
      "                                         'never late it just takes a little '\n",
      "                                         'patience and a whole lot of faith '\n",
      "                                         \"but it's worth the wait God's plans \"\n",
      "                                         'is always the best sometimes the '\n",
      "                                         'process is painful and hard but '\n",
      "                                         \"don't forget he's doing something \"\n",
      "                                         'God closes doors because you see he '\n",
      "                                         \"knows you won't move circumstances \"\n",
      "                                         'force you to God answers all prayers '\n",
      "                                         'in three ways yes because you '\n",
      "                                         'deserve it no because you deserve '\n",
      "                                         'better'},\n",
      "                       {   'transcript': 'what has perfect timing never early '\n",
      "                                         'never late it just takes a little '\n",
      "                                         'patience and a whole lot of faith '\n",
      "                                         \"but it's worth the wait God's plans \"\n",
      "                                         'is always the best sometimes the '\n",
      "                                         'process is painful and hard but '\n",
      "                                         \"don't forget to make God is silent \"\n",
      "                                         \"he's doing something God closes \"\n",
      "                                         'doors because you see he knows you '\n",
      "                                         \"won't move circumstances force you \"\n",
      "                                         'to God answers all prayers in three '\n",
      "                                         'ways yes because you deserve it no '\n",
      "                                         'because you deserve better'},\n",
      "                       {   'transcript': 'what has perfect timing never early '\n",
      "                                         'never late it just takes a little '\n",
      "                                         'patience and a whole lot of faith '\n",
      "                                         \"but it's worth the wait God's plans \"\n",
      "                                         'is always the best sometimes the '\n",
      "                                         'process is painful and hard but '\n",
      "                                         \"don't forget he's doing something \"\n",
      "                                         'God closes doors because you see he '\n",
      "                                         \"knows you won't move circumstances \"\n",
      "                                         'force you to God answers all prayers '\n",
      "                                         'in three ways yes because you '\n",
      "                                         'deserve it no because you deserve '\n",
      "                                         'better'},\n",
      "                       {   'transcript': 'that has perfect timing never early '\n",
      "                                         'never late it just takes a little '\n",
      "                                         'patience and a whole lot of faith '\n",
      "                                         \"but it's worth the wait God's plans \"\n",
      "                                         'is always the best sometimes the '\n",
      "                                         'process is painful and hard but '\n",
      "                                         \"don't forget to make God is silent \"\n",
      "                                         \"he's doing something God closes \"\n",
      "                                         'doors because you see he knows you '\n",
      "                                         \"won't move circumstances for you to \"\n",
      "                                         'God answers all prayers in three '\n",
      "                                         'ways yes because you deserve it no '\n",
      "                                         'because you deserve better'}],\n",
      "    'final': True}\n",
      "the video contains : that has perfect timing never early never late it just takes a little patience and a whole lot of faith but it's worth the wait God's plans is always the best sometimes the process is painful and hard but don't forget to make God is silent he's doing something God closes doors because you see he knows you won't move circumstances force you to God answers all prayers in three ways yes because you deserve it no because you deserve better\n"
     ]
    }
   ],
   "source": [
    "import speech_recognition as sr\n",
    "import  moviepy.editor as mp\n",
    "clip=mp.VideoFileClip(user_input)\n",
    "clip.audio.write_audiofile(path)\n",
    "r=sr.Recognizer()\n",
    "audio=sr.AudioFile(path)\n",
    "with audio as source:\n",
    "    audio_file=r.record(source)\n",
    "try:\n",
    "    t=r.recognize_google(audio_file,language='eng')\n",
    "    print(\"the video contains : \"+ t)\n",
    "    f2=open('videoText_EN.txt','a',encoding='utf-8')\n",
    "    f2.writelines(t)\n",
    "    f2.close()\n",
    "except sr.UnknownValueError as u:\n",
    "    print(u)\n",
    "except sr.RequestError as r:\n",
    "    print(r)"
   ]
  },
  {
   "cell_type": "code",
   "execution_count": 4,
   "id": "8813601b",
   "metadata": {
    "ExecuteTime": {
     "end_time": "2023-03-27T18:15:11.704474Z",
     "start_time": "2023-03-27T18:15:11.190776Z"
    }
   },
   "outputs": [
    {
     "data": {
      "text/plain": [
       "''"
      ]
     },
     "execution_count": 4,
     "metadata": {},
     "output_type": "execute_result"
    }
   ],
   "source": [
    "#summarize text\n",
    "#sometimes if the text not big it will make empty text\n",
    "#text must not be too small\n",
    "import summa\n",
    "from summa.summarizer import summarize\n",
    "summarize(t, ratio=0.20, language =\"english\")"
   ]
  },
  {
   "cell_type": "code",
   "execution_count": 5,
   "id": "b838447c",
   "metadata": {
    "ExecuteTime": {
     "end_time": "2023-03-27T18:15:14.312944Z",
     "start_time": "2023-03-27T18:15:13.879192Z"
    }
   },
   "outputs": [
    {
     "name": "stdout",
     "output_type": "stream",
     "text": [
      "Correct Spelling is:  that has perfect timing never early never late it just takes a little patience and a whole lot of faith but it's worth the wait God's plans is always the best sometimes the process is painful and hard but don't forget to make God is silent he's doing something God closes doors because you see he knows you won't move circumstances force you to God answers all prayers in three ways yes because you deserve it no because you deserve better\n"
     ]
    }
   ],
   "source": [
    "#correct text\n",
    "from spellchecker import SpellChecker\n",
    "corrector = SpellChecker()\n",
    "word = t \n",
    "if word in corrector:\n",
    "    print(\"Correct\")\n",
    "else:\n",
    "    correct_word = corrector.correction(word)\n",
    "    print(\"Correct Spelling is: \", correct_word)"
   ]
  },
  {
   "cell_type": "code",
   "execution_count": 6,
   "id": "b9a75fbc",
   "metadata": {
    "ExecuteTime": {
     "end_time": "2023-03-27T18:15:22.251957Z",
     "start_time": "2023-03-27T18:15:20.993925Z"
    }
   },
   "outputs": [
    {
     "name": "stdout",
     "output_type": "stream",
     "text": [
      "هذا له توقيت مثالي لا يتأخر أبدًا ، لا يتطلب الأمر سوى القليل من الصبر والكثير من الإيمان ، لكن الأمر يستحق الانتظار ، خطط الله هي الأفضل دائمًا في بعض الأحيان تكون العملية مؤلمة وصعبة ولكن لا تنسَ أن تجعل الله صامتًا يفعله شيء يغلق الابواب الله لانك ترى انه يعلم انك لن تتحرك الظروف تجبرك على الله يجيب كل الصلوات بثلاث طرق نعم لانك تستحقها لا لانك تستحق الافضل.\n"
     ]
    }
   ],
   "source": [
    "#from english to arabic\n",
    "#text must not be too big\n",
    "from python_translator import Translator\n",
    "translator = Translator()\n",
    "result = translator.translate(t, \"arabic\", \"english\")\n",
    "print(result)"
   ]
  },
  {
   "cell_type": "code",
   "execution_count": 7,
   "id": "fad9b047",
   "metadata": {
    "ExecuteTime": {
     "end_time": "2023-03-27T18:15:27.585825Z",
     "start_time": "2023-03-27T18:15:23.493783Z"
    }
   },
   "outputs": [],
   "source": [
    "#to audio in English\n",
    "from gtts import gTTS\n",
    "to_aud = gTTS(t)\n",
    "to_aud.save('videoText_EN.mp3')"
   ]
  },
  {
   "cell_type": "code",
   "execution_count": 8,
   "id": "966871a8",
   "metadata": {
    "ExecuteTime": {
     "end_time": "2023-03-27T18:15:32.489969Z",
     "start_time": "2023-03-27T18:15:32.474012Z"
    }
   },
   "outputs": [],
   "source": [
    "###############################################################################################################################"
   ]
  },
  {
   "cell_type": "code",
   "execution_count": 9,
   "id": "ce92a8e4",
   "metadata": {
    "ExecuteTime": {
     "end_time": "2023-03-27T18:15:33.596753Z",
     "start_time": "2023-03-27T18:15:33.581767Z"
    }
   },
   "outputs": [],
   "source": [
    "#save model\n",
    "import pickle  # .pickle extension model \n",
    "with open('vidEN_model','wb') as file: # write binary \n",
    "    pickle.dump(t ,file) # put model into file"
   ]
  },
  {
   "cell_type": "code",
   "execution_count": 10,
   "id": "2b72ca1d",
   "metadata": {
    "ExecuteTime": {
     "end_time": "2023-03-27T18:15:34.248742Z",
     "start_time": "2023-03-27T18:15:34.233782Z"
    }
   },
   "outputs": [],
   "source": [
    "#Load Saved Model\n",
    "with open('vidEN_model','rb') as file: # read binary \n",
    "    vidModel = pickle.load(file)"
   ]
  },
  {
   "cell_type": "markdown",
   "id": "55124c98",
   "metadata": {},
   "source": [
    "# scrap arabic video and save in text file"
   ]
  },
  {
   "cell_type": "code",
   "execution_count": 11,
   "id": "d77ed238",
   "metadata": {
    "ExecuteTime": {
     "end_time": "2023-03-27T18:16:42.648485Z",
     "start_time": "2023-03-27T18:15:42.826607Z"
    }
   },
   "outputs": [
    {
     "name": "stdout",
     "output_type": "stream",
     "text": [
      " أختر فيديو: WhatsApp Video 2023-03-09 at 22.27.33.mp4\n"
     ]
    }
   ],
   "source": [
    "#take your file path from user\n",
    "import os\n",
    "user_input2 = input(\" أختر فيديو: \")\n",
    "assert os.path.exists(user_input2), \" لم أعثر على املف فى \"+str(user_input2)\n",
    "f3 = open(user_input2,'r+')\n",
    "f3.close()"
   ]
  },
  {
   "cell_type": "code",
   "execution_count": 12,
   "id": "3e7300cb",
   "metadata": {
    "ExecuteTime": {
     "end_time": "2023-03-27T18:16:55.534108Z",
     "start_time": "2023-03-27T18:16:55.524762Z"
    }
   },
   "outputs": [
    {
     "data": {
      "text/plain": [
       "'WhatsApp Video 2023-03-09 at 22.27.33.wav'"
      ]
     },
     "execution_count": 12,
     "metadata": {},
     "output_type": "execute_result"
    }
   ],
   "source": [
    "#modify the extension to wav\n",
    "path2= os.path.splitext(user_input2)[0]+'.wav'\n",
    "path2 "
   ]
  },
  {
   "cell_type": "code",
   "execution_count": 13,
   "id": "e448efab",
   "metadata": {
    "ExecuteTime": {
     "end_time": "2023-03-27T18:17:26.951518Z",
     "start_time": "2023-03-27T18:17:04.458325Z"
    },
    "scrolled": true
   },
   "outputs": [
    {
     "name": "stdout",
     "output_type": "stream",
     "text": [
      "MoviePy - Writing audio in WhatsApp Video 2023-03-09 at 22.27.33.wav\n"
     ]
    },
    {
     "name": "stderr",
     "output_type": "stream",
     "text": [
      "                                                                                                                       \r"
     ]
    },
    {
     "name": "stdout",
     "output_type": "stream",
     "text": [
      "MoviePy - Done.\n",
      "result2:\n",
      "{   'alternative': [   {   'confidence': 0.80575705,\n",
      "                           'transcript': 'رمضان ان شاء الله يوم الخميس 23/3 '\n",
      "                                         'والفجر هياذن الساعه 4:15 والمغرب '\n",
      "                                         'هياذن الساعه 6:19 وقال رسول الله صلى '\n",
      "                                         'الله عليه وسلم من ابلغ عن يوم رمضان '\n",
      "                                         'حرمت عليه النار يوم القيامه ما تبخلش '\n",
      "                                         'على نفسك بالكنز العظيم'},\n",
      "                       {   'transcript': 'رمضان ان شاء الله يوم الخميس 23/3 '\n",
      "                                         'والفجر هياذن الساعه 4:15 والمغرب '\n",
      "                                         'هياذن الساعه 6:19 وقال رسول الله صلى '\n",
      "                                         'الله عليه وسلم من ابلغ عن يوم رمضان '\n",
      "                                         'حرمت عليه النار يوم القيامه ما تبخلش '\n",
      "                                         'على نفسك بالكنز العظيم وصلوا على '\n",
      "                                         'سيدنا محمد'}],\n",
      "    'final': True}\n",
      "يحتوى الفيديو على : رمضان ان شاء الله يوم الخميس 23/3 والفجر هياذن الساعه 4:15 والمغرب هياذن الساعه 6:19 وقال رسول الله صلى الله عليه وسلم من ابلغ عن يوم رمضان حرمت عليه النار يوم القيامه ما تبخلش على نفسك بالكنز العظيم\n"
     ]
    }
   ],
   "source": [
    "import speech_recognition as sr\n",
    "import  moviepy.editor as mp\n",
    "clip=mp.VideoFileClip(user_input2)\n",
    "clip.audio.write_audiofile(path2)\n",
    "r=sr.Recognizer()\n",
    "audio=sr.AudioFile(path2)\n",
    "with audio as source:\n",
    "    audio_file=r.record(source)\n",
    "try:\n",
    "    t2=r.recognize_google(audio_file,language='ar-AR')\n",
    "    print(\"يحتوى الفيديو على : \" + t2)\n",
    "    f4=open('videoText_AR.txt','a',encoding='utf-8')\n",
    "    f4.writelines(t2)\n",
    "    f4.close()\n",
    "except sr.UnknownValueError as u:\n",
    "    print(u)\n",
    "except sr.RequestError as r:\n",
    "    print(r)"
   ]
  },
  {
   "cell_type": "code",
   "execution_count": 14,
   "id": "aaf2217a",
   "metadata": {
    "ExecuteTime": {
     "end_time": "2023-03-27T18:21:22.232651Z",
     "start_time": "2023-03-27T18:21:22.222654Z"
    }
   },
   "outputs": [
    {
     "data": {
      "text/plain": [
       "''"
      ]
     },
     "execution_count": 14,
     "metadata": {},
     "output_type": "execute_result"
    }
   ],
   "source": [
    "#summarize text\n",
    "#sometimes if the text not big it will make empty text\n",
    "#text must not be too small\n",
    "import summa\n",
    "from summa.summarizer import summarize\n",
    "summarize(t2, ratio=0.20, language =\"arabic\")"
   ]
  },
  {
   "cell_type": "code",
   "execution_count": 15,
   "id": "28a75777",
   "metadata": {
    "ExecuteTime": {
     "end_time": "2023-03-27T18:21:22.977970Z",
     "start_time": "2023-03-27T18:21:22.881229Z"
    }
   },
   "outputs": [
    {
     "name": "stdout",
     "output_type": "stream",
     "text": [
      "الكتابة الصحيحة :  رمضان ان شاء الله يوم الخميس 23/3 والفجر هياذن الساعه 4:15 والمغرب هياذن الساعه 6:19 وقال رسول الله صلى الله عليه وسلم من ابلغ عن يوم رمضان حرمت عليه النار يوم القيامه ما تبخلش على نفسك بالكنز العظيم\n"
     ]
    }
   ],
   "source": [
    "#correct text\n",
    "from spellchecker import SpellChecker\n",
    "corrector = SpellChecker()\n",
    "word = t2\n",
    "if word in corrector:\n",
    "    print(\"صحيح\")\n",
    "else:\n",
    "    correct_word = corrector.correction(word)\n",
    "    print(\"الكتابة الصحيحة : \", correct_word)"
   ]
  },
  {
   "cell_type": "code",
   "execution_count": 16,
   "id": "06b733c1",
   "metadata": {
    "ExecuteTime": {
     "end_time": "2023-03-27T18:21:27.782242Z",
     "start_time": "2023-03-27T18:21:23.627921Z"
    }
   },
   "outputs": [
    {
     "name": "stdout",
     "output_type": "stream",
     "text": [
      "Ramadan, God willing, on Thursday 3/23, and Fajr will call at 4:15, and Maghrib will call at 6:19.\n"
     ]
    }
   ],
   "source": [
    "#from Arabic to English\n",
    "#text must not be too big\n",
    "from python_translator import Translator\n",
    "translator = Translator()\n",
    "result2 = translator.translate(t2, \"english\", \"arabic\")\n",
    "print(result2)"
   ]
  },
  {
   "cell_type": "code",
   "execution_count": 17,
   "id": "e1b68889",
   "metadata": {
    "ExecuteTime": {
     "end_time": "2023-03-27T18:21:30.554989Z",
     "start_time": "2023-03-27T18:21:27.835748Z"
    }
   },
   "outputs": [],
   "source": [
    "#to audio in Arabic\n",
    "from gtts import gTTS\n",
    "to_aud2 = gTTS(t2, lang=\"ar\")\n",
    "to_aud2.save('videoText_AR.mp3') "
   ]
  },
  {
   "cell_type": "code",
   "execution_count": 18,
   "id": "b273d281",
   "metadata": {
    "ExecuteTime": {
     "end_time": "2023-03-27T18:21:31.502115Z",
     "start_time": "2023-03-27T18:21:31.498125Z"
    }
   },
   "outputs": [],
   "source": [
    "###############################################################################################################################"
   ]
  },
  {
   "cell_type": "code",
   "execution_count": 19,
   "id": "aa08311b",
   "metadata": {
    "ExecuteTime": {
     "end_time": "2023-03-27T18:21:32.456358Z",
     "start_time": "2023-03-27T18:21:32.434403Z"
    }
   },
   "outputs": [],
   "source": [
    "#save model\n",
    "import pickle  # .pickle extension model \n",
    "with open('vidAR_model','wb') as file: # write binary \n",
    "    pickle.dump(t2 ,file) # put model into file"
   ]
  },
  {
   "cell_type": "code",
   "execution_count": 20,
   "id": "04264a24",
   "metadata": {
    "ExecuteTime": {
     "end_time": "2023-03-27T18:21:33.023866Z",
     "start_time": "2023-03-27T18:21:33.012896Z"
    }
   },
   "outputs": [],
   "source": [
    "#Load Saved Model\n",
    "with open('vidAR_model','rb') as file: # read binary \n",
    "    vidModel2 = pickle.load(file)"
   ]
  },
  {
   "cell_type": "code",
   "execution_count": null,
   "id": "1af9556f",
   "metadata": {},
   "outputs": [],
   "source": []
  }
 ],
 "metadata": {
  "kernelspec": {
   "display_name": "Python 3 (ipykernel)",
   "language": "python",
   "name": "python3"
  },
  "language_info": {
   "codemirror_mode": {
    "name": "ipython",
    "version": 3
   },
   "file_extension": ".py",
   "mimetype": "text/x-python",
   "name": "python",
   "nbconvert_exporter": "python",
   "pygments_lexer": "ipython3",
   "version": "3.9.12"
  },
  "toc": {
   "base_numbering": 1,
   "nav_menu": {},
   "number_sections": true,
   "sideBar": true,
   "skip_h1_title": false,
   "title_cell": "Table of Contents",
   "title_sidebar": "Contents",
   "toc_cell": false,
   "toc_position": {},
   "toc_section_display": true,
   "toc_window_display": false
  },
  "varInspector": {
   "cols": {
    "lenName": 16,
    "lenType": 16,
    "lenVar": 40
   },
   "kernels_config": {
    "python": {
     "delete_cmd_postfix": "",
     "delete_cmd_prefix": "del ",
     "library": "var_list.py",
     "varRefreshCmd": "print(var_dic_list())"
    },
    "r": {
     "delete_cmd_postfix": ") ",
     "delete_cmd_prefix": "rm(",
     "library": "var_list.r",
     "varRefreshCmd": "cat(var_dic_list()) "
    }
   },
   "types_to_exclude": [
    "module",
    "function",
    "builtin_function_or_method",
    "instance",
    "_Feature"
   ],
   "window_display": false
  }
 },
 "nbformat": 4,
 "nbformat_minor": 5
}
