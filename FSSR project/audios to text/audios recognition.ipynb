{
 "cells": [
  {
   "cell_type": "markdown",
   "id": "99576ee4",
   "metadata": {},
   "source": [
    "# audios to english Text and save in txt file"
   ]
  },
  {
   "cell_type": "markdown",
   "id": "c4213c70",
   "metadata": {},
   "source": [
    "record must be .wav "
   ]
  },
  {
   "cell_type": "code",
   "execution_count": 1,
   "id": "0dd133fa",
   "metadata": {
    "ExecuteTime": {
     "end_time": "2023-03-09T21:43:46.581386Z",
     "start_time": "2023-03-09T21:43:43.460572Z"
    }
   },
   "outputs": [
    {
     "name": "stdout",
     "output_type": "stream",
     "text": [
      "Notice that .. The Record extension must be .wav\n",
      " choose audio: WhatsApp Video 2023-02-02 at 23.55.50.wav\n"
     ]
    }
   ],
   "source": [
    "#take your file path from user\n",
    "import sys\n",
    "import os\n",
    "print(\"Notice that .. The Record extension must be .wav\")\n",
    "user_input = input(\" choose audio: \")\n",
    "assert os.path.exists(user_input), \"I did not find the file at, \"+str(user_input)\n",
    "f = open(user_input,'r+') \n",
    "f.close()"
   ]
  },
  {
   "cell_type": "code",
   "execution_count": 2,
   "id": "4850f587",
   "metadata": {
    "ExecuteTime": {
     "end_time": "2023-03-09T21:44:38.402166Z",
     "start_time": "2023-03-09T21:43:47.465903Z"
    },
    "scrolled": true
   },
   "outputs": [
    {
     "name": "stdout",
     "output_type": "stream",
     "text": [
      "result2:\n",
      "{   'alternative': [   {   'confidence': 0.9332844,\n",
      "                           'transcript': \"perfect I'm never early never leave \"\n",
      "                                         \"and holiday face but it's worth the \"\n",
      "                                         \"way this is always the best don't \"\n",
      "                                         \"forget the week God is Silent he's \"\n",
      "                                         'doing something for you sometimes '\n",
      "                                         \"got stores because it's time to \"\n",
      "                                         'afford circumstances god answers our '\n",
      "                                         'prayers in three ways yes or no '\n",
      "                                         'because you deserve better and not '\n",
      "                                         'yet because the Best is Yet to Come'},\n",
      "                       {   'transcript': \"perfect I'm never early never leave \"\n",
      "                                         \"and holiday face but it's worth the \"\n",
      "                                         \"way this is always the best don't \"\n",
      "                                         \"forget the week God is saying he's \"\n",
      "                                         'doing something for you sometimes '\n",
      "                                         \"got stores because it's time to \"\n",
      "                                         'afford circumstances god answers '\n",
      "                                         'prayers in three ways yes or no '\n",
      "                                         'because you deserve better and not '\n",
      "                                         'yet because the Best is Yet to Come'},\n",
      "                       {   'transcript': \"perfect I'm never early never leave \"\n",
      "                                         \"and holiday face but it's worth the \"\n",
      "                                         \"way it's always the best don't \"\n",
      "                                         \"forget the week God is Silent he's \"\n",
      "                                         'doing something for you sometimes '\n",
      "                                         \"got stores because it's time to \"\n",
      "                                         'afford circumstances god answers our '\n",
      "                                         'prayers in three ways yes or no '\n",
      "                                         'because you deserve better and not '\n",
      "                                         'yet because the Best is Yet to Come'},\n",
      "                       {   'transcript': \"perfect I'm never early never leave \"\n",
      "                                         \"and holiday face but it's worth the \"\n",
      "                                         \"way this is always the best don't \"\n",
      "                                         \"forget the way god is Silent he's \"\n",
      "                                         'doing something for you sometimes '\n",
      "                                         \"got stores because it's time to \"\n",
      "                                         'afford circumstances god answers '\n",
      "                                         'prayers in three ways yes or no '\n",
      "                                         'because you deserve better and not '\n",
      "                                         'yet because the Best is Yet to Come'},\n",
      "                       {   'transcript': \"perfect I'm never early never leave \"\n",
      "                                         \"and holiday face but it's worth the \"\n",
      "                                         \"way it's always the best don't \"\n",
      "                                         \"forget the way god is Silent he's \"\n",
      "                                         'doing something for you sometimes '\n",
      "                                         \"got stores because it's time to \"\n",
      "                                         'afford circumstances god answers '\n",
      "                                         'prayers in three ways yes or no '\n",
      "                                         'because you deserve better and not '\n",
      "                                         'yet because the Best is Yet to '\n",
      "                                         'Come'}],\n",
      "    'final': True}\n",
      "the audio file contains: perfect I'm never early never leave and holiday face but it's worth the way this is always the best don't forget the week God is Silent he's doing something for you sometimes got stores because it's time to afford circumstances god answers our prayers in three ways yes or no because you deserve better and not yet because the Best is Yet to Come\n"
     ]
    }
   ],
   "source": [
    "import speech_recognition as sr\n",
    "r= sr.Recognizer()\n",
    "with sr.AudioFile(user_input) as source:\n",
    "    aud= r.record(source)\n",
    "try:\n",
    "    t= r.recognize_google(aud)\n",
    "    print(\"the audio file contains: \" + t )\n",
    "    f4=open('audText_EN.txt','a',encoding='utf-8')\n",
    "    f4.writelines(t) \n",
    "    f4.close()   \n",
    "except sr.UnknownValueError:\n",
    "    print(\" google could not recognize the audio\")\n",
    "except sr.RequestError as e:\n",
    "    print(\" could not request result ; {0}\".format(e)) "
   ]
  },
  {
   "cell_type": "code",
   "execution_count": 3,
   "id": "8cf1ec74",
   "metadata": {
    "ExecuteTime": {
     "end_time": "2023-03-09T21:45:16.263040Z",
     "start_time": "2023-03-09T21:45:16.135417Z"
    }
   },
   "outputs": [
    {
     "data": {
      "text/plain": [
       "''"
      ]
     },
     "execution_count": 3,
     "metadata": {},
     "output_type": "execute_result"
    }
   ],
   "source": [
    "#summarize text\n",
    "#sometimes if the text not big it will make empty text\n",
    "#text must not be too small\n",
    "import summa\n",
    "from summa.summarizer import summarize\n",
    "summarize(t, ratio=0.20, language =\"english\")"
   ]
  },
  {
   "cell_type": "code",
   "execution_count": 4,
   "id": "c4131d2d",
   "metadata": {
    "ExecuteTime": {
     "end_time": "2023-03-09T21:45:16.948366Z",
     "start_time": "2023-03-09T21:45:16.837508Z"
    }
   },
   "outputs": [
    {
     "name": "stdout",
     "output_type": "stream",
     "text": [
      "Correct Spelling is:  perfect I'm never early never leave and holiday face but it's worth the way this is always the best don't forget the week God is Silent he's doing something for you sometimes got stores because it's time to afford circumstances god answers our prayers in three ways yes or no because you deserve better and not yet because the Best is Yet to Come\n"
     ]
    }
   ],
   "source": [
    "#correct text\n",
    "from spellchecker import SpellChecker\n",
    "corrector = SpellChecker()\n",
    "word = t \n",
    "if word in corrector:\n",
    "    print(\"Correct\")\n",
    "else:\n",
    "    correct_word = corrector.correction(word)\n",
    "    print(\"Correct Spelling is: \", correct_word)"
   ]
  },
  {
   "cell_type": "code",
   "execution_count": 5,
   "id": "c982e4f6",
   "metadata": {
    "ExecuteTime": {
     "end_time": "2023-03-09T21:45:18.819153Z",
     "start_time": "2023-03-09T21:45:18.035587Z"
    },
    "scrolled": true
   },
   "outputs": [
    {
     "name": "stdout",
     "output_type": "stream",
     "text": [
      "مثالي ، أنا لا أذهب مبكرًا أبدًا وأواجه العطلة ، لكن الأمر يستحق الطريقة التي دائمًا ما تكون الأفضل. طرق نعم أم لا لأنك تستحق الأفضل وليس بعد لأن الأفضل لم يأت بعد\n"
     ]
    }
   ],
   "source": [
    "#from English to Arabic\n",
    "#text must not be too big\n",
    "from python_translator import Translator\n",
    "translator = Translator()\n",
    "result = translator.translate( t, \"arabic\", \"english\")\n",
    "print(result)"
   ]
  },
  {
   "cell_type": "code",
   "execution_count": 6,
   "id": "85b299a1",
   "metadata": {
    "ExecuteTime": {
     "end_time": "2023-03-09T21:45:20.023536Z",
     "start_time": "2023-03-09T21:45:20.012194Z"
    }
   },
   "outputs": [],
   "source": [
    "###############################################################################################################################"
   ]
  },
  {
   "cell_type": "code",
   "execution_count": 7,
   "id": "c096c889",
   "metadata": {
    "ExecuteTime": {
     "end_time": "2023-03-09T21:45:23.402911Z",
     "start_time": "2023-03-09T21:45:23.397625Z"
    }
   },
   "outputs": [],
   "source": [
    "#save model\n",
    "import pickle  # .pickle extension model \n",
    "with open('audEN_model','wb') as file: # write binary \n",
    "    pickle.dump(t ,file) # put model into file"
   ]
  },
  {
   "cell_type": "code",
   "execution_count": 8,
   "id": "9f832a05",
   "metadata": {
    "ExecuteTime": {
     "end_time": "2023-03-09T21:45:24.266408Z",
     "start_time": "2023-03-09T21:45:24.257123Z"
    }
   },
   "outputs": [],
   "source": [
    "#Load Saved Model\n",
    "with open('audEN_model','rb') as file: # read binary \n",
    "    audModel = pickle.load(file)"
   ]
  },
  {
   "cell_type": "markdown",
   "id": "f82f6953",
   "metadata": {},
   "source": [
    "# speech recognition by Arabic"
   ]
  },
  {
   "cell_type": "code",
   "execution_count": 9,
   "id": "628da506",
   "metadata": {
    "ExecuteTime": {
     "end_time": "2023-03-09T21:47:54.463148Z",
     "start_time": "2023-03-09T21:46:42.541056Z"
    }
   },
   "outputs": [
    {
     "name": "stdout",
     "output_type": "stream",
     "text": [
      "لاحظ أن امتداد التسجيل يجب ان يكون .wav\n",
      " أختر تسجيل : WhatsApp Video 2023-02-02 at 23.39.10.wav\n"
     ]
    }
   ],
   "source": [
    "#take your file path from user\n",
    "import sys\n",
    "import os\n",
    "print(\"لاحظ أن امتداد التسجيل يجب ان يكون .wav\")\n",
    "user_input2 = input(\" أختر تسجيل : \")\n",
    "assert os.path.exists(user_input2), \" لم أعثر على املف فى \"+str(user_input2)\n",
    "f3 = open(user_input2,'r+') \n",
    "f3.close()"
   ]
  },
  {
   "cell_type": "code",
   "execution_count": 10,
   "id": "5573280f",
   "metadata": {
    "ExecuteTime": {
     "end_time": "2023-03-09T21:48:59.606339Z",
     "start_time": "2023-03-09T21:48:00.799420Z"
    },
    "scrolled": true
   },
   "outputs": [
    {
     "name": "stdout",
     "output_type": "stream",
     "text": [
      "result2:\n",
      "{   'alternative': [   {   'confidence': 0.80572939,\n",
      "                           'transcript': 'تعالي اختي تعالي ده انت فتحت في '\n",
      "                                         'الوقت المناسب انت فاتحه دلوقتي عشان '\n",
      "                                         'الدعوه دي من نصيبك روحي يا شيخه يا '\n",
      "                                         'رب لو كنت مريضه اشفيك ويعافيك ولو '\n",
      "                                         'كنت مهمومه وحزينه يفرج همك ويسعد '\n",
      "                                         'قلبك ويرضى عنك ويراضيك ولو كنت '\n",
      "                                         'بتعاني من ظلمهم وحفظهم وسوء ظنهم '\n",
      "                                         'فاسال الله من حقدهم وسوء ظنهم ينجيكي '\n",
      "                                         'روحي يا شيخه لبيتك ويبارك فيهم وفيك '\n",
      "                                         'ولو كنت غير متزوجه فاسال الله لك زوج '\n",
      "                                         'صالح يسعدك ويهنيك ويتقي الله فيك لو '\n",
      "                                         'كنت بتخرجي من بيتك لشغله او لدراسه '\n",
      "                                         'فاسال الله من شر الطريق وشر ولاد '\n",
      "                                         'الحرام يحفظك ويحميك يا رب يبعث لك '\n",
      "                                         'فرحه تنسيكي كل الهم اللي شفتيه يا رب '\n",
      "                                         'يا رب يا رب سعاده وراحه بال يا رب '\n",
      "                                         'سعاده وراحه بال وبركه في رزق حلال '\n",
      "                                         'ليه ولمن قال امين ولمن نشر هذا '\n",
      "                                         'المقطع من المسلمات والمسلمين'},\n",
      "                       {   'transcript': 'تعالي اختي تعالي ده انت فتحت في '\n",
      "                                         'الوقت المناسب انت فاتحه دلوقتي عشان '\n",
      "                                         'الدعوه دي من نصيبك روحي يا شيخه يا '\n",
      "                                         'رب لو كنت مريضه اشفيك ويعافيك ولو '\n",
      "                                         'كنت مهمومه وحزينه يفرج همك ويسعد '\n",
      "                                         'قلبك ويرضى عنك ويراضيك ولو كنت '\n",
      "                                         'بتعاني من ظلمهم وحفظهم وسوء ظنهم '\n",
      "                                         'فاسال الله من حقدهم وسوء ظنهم ينجيكي '\n",
      "                                         'روحي يا شيخه لبيتك ويبارك فيهم وفيك '\n",
      "                                         'ولو كنت غير متزوجه فاسال الله لك زوج '\n",
      "                                         'صالح يسعدك ويهنيك ويتقي الله فيك لو '\n",
      "                                         'كنت بتخرجي من بيتك لشغله او لدراسه '\n",
      "                                         'فاسال الله من شر الطريق وشر ولاد '\n",
      "                                         'الحرام يحفظك ويحميكي يا رب يبعث لك '\n",
      "                                         'فرحه تنسيكي كل الهم اللي شفتيه يا رب '\n",
      "                                         'يا رب يا رب سعاده وراحه بال يا رب '\n",
      "                                         'سعاده وراحه بال وبركه في رزق حلال '\n",
      "                                         'ليه ولمن قال امين ولمن نشر هذا '\n",
      "                                         'المقطع من المسلمات والمسلمين'},\n",
      "                       {   'transcript': 'تعالي اختي تعالي ده انت فتحت في '\n",
      "                                         'الوقت المناسب انت فاتحه دلوقتي عشان '\n",
      "                                         'الدعوه دي من نصيبك روحي يا شيخه يا '\n",
      "                                         'رب لو كنت مريضه اشفيك ويعافيك ولو '\n",
      "                                         'كنت مهمومه وحزينه يفرج همك ويسعد '\n",
      "                                         'قلبك ويرضى عنك ويراضيك ولو كنت '\n",
      "                                         'بتعاني من ظلمهم وحفظهم وسوء ظنهم '\n",
      "                                         'فاسال الله من حقدهم وسوء ظنهم ينجيكي '\n",
      "                                         'روحي يا شيخه لبيتك ويبارك فيهم وفيك '\n",
      "                                         'ولو كنت غير متزوجه فاسال الله لك زوج '\n",
      "                                         'صالح يسعدك ويهنيك ويتقي الله فيك لو '\n",
      "                                         'كنت بتخرجي من بيتك لشغله او لدراسه '\n",
      "                                         'فاسال الله من شر الطريق وشر ولاد '\n",
      "                                         'الحرام يحفظك ويحميك يا رب يبعث لك '\n",
      "                                         'فرحه تنسيكي كل الهم اللي شفتيه يا رب '\n",
      "                                         'يا رب يا رب سعاده وراحه بال يا رب '\n",
      "                                         'سعاده وراحه بال وبركه في رزق حلال '\n",
      "                                         'ليه ولمن قال امين ولمن نشر هذا '\n",
      "                                         'المقطع من المسلمات والمسلم'},\n",
      "                       {   'transcript': 'تعالي اختي تعالي ده انت فتحت في '\n",
      "                                         'الوقت المناسب انت فاتحه دلوقتي عشان '\n",
      "                                         'الدعوه دي من نصيبك روحي يا شيخه يا '\n",
      "                                         'رب لو كنت مريضه اشفيك ويعافيك ولو '\n",
      "                                         'كنت مهمومه وحزينه يفرج همك ويسعد '\n",
      "                                         'قلبك ويرضى عنك ويراضيك ولو كنت '\n",
      "                                         'بتعاني من ظلمهم وحفظهم وسوء ظنهم '\n",
      "                                         'فاسال الله من حقدهم وسوء ظنهم ينجيكي '\n",
      "                                         'روحي يا شيخه لبيتك ويبارك فيهم وفيك '\n",
      "                                         'ولو كنت غير متزوجه فاسال الله لك زوج '\n",
      "                                         'صالح يسعدك ويهنيك ويتقي الله فيك لو '\n",
      "                                         'كنت بتخرجي من بيتك لشغله او لدراسه '\n",
      "                                         'فاسال الله من شر الطريق وشر ولاد '\n",
      "                                         'الحرام يحفظك ويحميك يا رب يبعث لك '\n",
      "                                         'فرحه تنسيكي كل الهم اللي شفتيه ويحقق '\n",
      "                                         'لك مرادك وكل اللي بتتمنيه يا رب يا '\n",
      "                                         'رب يا رب سعاده وراحه بال يا رب سعاده '\n",
      "                                         'وراحه بال وبركه في رزق حلال ليه ولمن '\n",
      "                                         'قال امين ولمن نشر هذا المقطع من '\n",
      "                                         'المسلمات والمسلمين'},\n",
      "                       {   'transcript': 'تعالي اختي تعالي ده انت فتحت في '\n",
      "                                         'الوقت المناسب انت فاتحه دلوقتي عشان '\n",
      "                                         'الدعوه دي من نصيبك روحي يا شيخه يا '\n",
      "                                         'رب لو كنت مريضه اشفيك ويعافيك ولو '\n",
      "                                         'كنت مهمومه وحزينه يفرج همك ويسعد '\n",
      "                                         'قلبك ويرضى عنك ويراضيك ولو كنت '\n",
      "                                         'بتعاني من ظلمهم وحفظهم وسوء ظنهم '\n",
      "                                         'فاسال الله من حقدهم وسوء ظنهم ينجيكي '\n",
      "                                         'روحي يا شيخه لبيتك ويبارك فيهم وفيك '\n",
      "                                         'ولو كنت غير متزوجه فاسال الله لك زوج '\n",
      "                                         'صالح يسعدك ويهنيك ويتقي الله فيك لو '\n",
      "                                         'كنت بتخرجي من بيتك لشغله او لدراسه '\n",
      "                                         'فاسال الله من شر الطريق وشر ولاد '\n",
      "                                         'الحرام يحفظك ويحميكي يا رب يبعث لك '\n",
      "                                         'فرحه تنسيكي كل الهم اللي شفتيه يا رب '\n",
      "                                         'يا رب يا رب سعاده وراحه بال يا رب '\n",
      "                                         'سعاده وراحه بال وبركه في رزق حلال '\n",
      "                                         'ليه ولمن قال امين ولمن نشر هذا '\n",
      "                                         'المقطع من المسلمات والمسلم'}],\n",
      "    'final': True}\n",
      "الملف الصوتى يحتوي على : تعالي اختي تعالي ده انت فتحت في الوقت المناسب انت فاتحه دلوقتي عشان الدعوه دي من نصيبك روحي يا شيخه يا رب لو كنت مريضه اشفيك ويعافيك ولو كنت مهمومه وحزينه يفرج همك ويسعد قلبك ويرضى عنك ويراضيك ولو كنت بتعاني من ظلمهم وحفظهم وسوء ظنهم فاسال الله من حقدهم وسوء ظنهم ينجيكي روحي يا شيخه لبيتك ويبارك فيهم وفيك ولو كنت غير متزوجه فاسال الله لك زوج صالح يسعدك ويهنيك ويتقي الله فيك لو كنت بتخرجي من بيتك لشغله او لدراسه فاسال الله من شر الطريق وشر ولاد الحرام يحفظك ويحميك يا رب يبعث لك فرحه تنسيكي كل الهم اللي شفتيه يا رب يا رب يا رب سعاده وراحه بال يا رب سعاده وراحه بال وبركه في رزق حلال ليه ولمن قال امين ولمن نشر هذا المقطع من المسلمات والمسلمين\n"
     ]
    }
   ],
   "source": [
    "import speech_recognition as sr\n",
    "r= sr.Recognizer()\n",
    "with sr.AudioFile(user_input2) as source:\n",
    "    aud= r.record(source) \n",
    "try:\n",
    "    t2=r.recognize_google(aud, language=\"ar-AR\")\n",
    "    print(\"الملف الصوتى يحتوي على : \" + t2 )\n",
    "    f2=open('audText_AR.txt','a',encoding='utf-8')\n",
    "    f2.writelines(t2) \n",
    "    f2.close()\n",
    "except sr.UnknownValueError:\n",
    "    print(\" جوجل لا يستطيع التعرف على التسجيل\")\n",
    "except sr.RequestError as e:\n",
    "    print(\" لا يستطيع طلب نتيجة ; {0}\".format(e)) "
   ]
  },
  {
   "cell_type": "code",
   "execution_count": 11,
   "id": "5da453a9",
   "metadata": {
    "ExecuteTime": {
     "end_time": "2023-03-09T21:49:30.416402Z",
     "start_time": "2023-03-09T21:49:30.403787Z"
    }
   },
   "outputs": [
    {
     "data": {
      "text/plain": [
       "''"
      ]
     },
     "execution_count": 11,
     "metadata": {},
     "output_type": "execute_result"
    }
   ],
   "source": [
    "#summarize text\n",
    "#sometimes if the text not big it will make empty text\n",
    "#text must not be too small\n",
    "import summa\n",
    "from summa.summarizer import summarize\n",
    "summarize( t2, ratio=0.20, language =\"arabic\")"
   ]
  },
  {
   "cell_type": "code",
   "execution_count": 12,
   "id": "fd397fdb",
   "metadata": {
    "ExecuteTime": {
     "end_time": "2023-03-09T21:49:31.265973Z",
     "start_time": "2023-03-09T21:49:31.156018Z"
    }
   },
   "outputs": [
    {
     "name": "stdout",
     "output_type": "stream",
     "text": [
      "الكتابة الصحيحة:   تعالي اختي تعالي ده انت فتحت في الوقت المناسب انت فاتحه دلوقتي عشان الدعوه دي من نصيبك روحي يا شيخه يا رب لو كنت مريضه اشفيك ويعافيك ولو كنت مهمومه وحزينه يفرج همك ويسعد قلبك ويرضى عنك ويراضيك ولو كنت بتعاني من ظلمهم وحفظهم وسوء ظنهم فاسال الله من حقدهم وسوء ظنهم ينجيكي روحي يا شيخه لبيتك ويبارك فيهم وفيك ولو كنت غير متزوجه فاسال الله لك زوج صالح يسعدك ويهنيك ويتقي الله فيك لو كنت بتخرجي من بيتك لشغله او لدراسه فاسال الله من شر الطريق وشر ولاد الحرام يحفظك ويحميك يا رب يبعث لك فرحه تنسيكي كل الهم اللي شفتيه يا رب يا رب يا رب سعاده وراحه بال يا رب سعاده وراحه بال وبركه في رزق حلال ليه ولمن قال امين ولمن نشر هذا المقطع من المسلمات والمسلمين\n"
     ]
    }
   ],
   "source": [
    "#correct text\n",
    "from spellchecker import SpellChecker\n",
    "corrector = SpellChecker()\n",
    "word = t2\n",
    "if word in corrector:\n",
    "    print(\"صحيح\")\n",
    "else:\n",
    "    correct_word = corrector.correction(word)\n",
    "    print(\"الكتابة الصحيحة:  \", correct_word)"
   ]
  },
  {
   "cell_type": "code",
   "execution_count": 13,
   "id": "bf7db6cf",
   "metadata": {
    "ExecuteTime": {
     "end_time": "2023-03-09T21:49:33.565143Z",
     "start_time": "2023-03-09T21:49:31.985972Z"
    }
   },
   "outputs": [
    {
     "name": "stdout",
     "output_type": "stream",
     "text": [
      "Come, my sister, come. You opened at the right time. You are opening it now, because this invitation is for you. My soul, O Sheikh. Oh Lord, if you were sick, I would heal you and heal you. And their misconceptions save you, my soul, old man, to your house, and bless them and you, even if you are not married, so ask God for you a good husband who will make you happy, congratulate you, and fear God in you. What you saw, O Lord, O Lord, O Lord, is happiness and peace of mind, O Lord, happiness, peace of mind, and blessing in lawful sustenance.\n"
     ]
    }
   ],
   "source": [
    "#from Arabic to English\n",
    "#text must not be too big\n",
    "from python_translator import Translator\n",
    "translator = Translator()\n",
    "result2 = translator.translate(t2, \"english\", \"arabic\")\n",
    "print(result2)"
   ]
  },
  {
   "cell_type": "code",
   "execution_count": 14,
   "id": "ba63d039",
   "metadata": {
    "ExecuteTime": {
     "end_time": "2023-03-09T21:49:35.982749Z",
     "start_time": "2023-03-09T21:49:35.976023Z"
    }
   },
   "outputs": [],
   "source": [
    "###############################################################################################################################"
   ]
  },
  {
   "cell_type": "code",
   "execution_count": 15,
   "id": "95ba3b31",
   "metadata": {
    "ExecuteTime": {
     "end_time": "2023-03-09T21:49:36.854554Z",
     "start_time": "2023-03-09T21:49:36.837055Z"
    }
   },
   "outputs": [],
   "source": [
    "#save model\n",
    "import pickle  # .pickle extension model \n",
    "with open('audAR_model','wb') as file: # write binary \n",
    "    pickle.dump(t2 ,file) # put model into file"
   ]
  },
  {
   "cell_type": "code",
   "execution_count": 16,
   "id": "36b2cec6",
   "metadata": {
    "ExecuteTime": {
     "end_time": "2023-03-09T21:49:38.395871Z",
     "start_time": "2023-03-09T21:49:38.387584Z"
    }
   },
   "outputs": [],
   "source": [
    "#Load Saved Model\n",
    "with open('audAR_model','rb') as file: # read binary \n",
    "    audModel2 = pickle.load(file)"
   ]
  },
  {
   "cell_type": "code",
   "execution_count": null,
   "id": "71135557",
   "metadata": {},
   "outputs": [],
   "source": []
  }
 ],
 "metadata": {
  "kernelspec": {
   "display_name": "Python 3 (ipykernel)",
   "language": "python",
   "name": "python3"
  },
  "language_info": {
   "codemirror_mode": {
    "name": "ipython",
    "version": 3
   },
   "file_extension": ".py",
   "mimetype": "text/x-python",
   "name": "python",
   "nbconvert_exporter": "python",
   "pygments_lexer": "ipython3",
   "version": "3.9.12"
  },
  "toc": {
   "base_numbering": 1,
   "nav_menu": {},
   "number_sections": true,
   "sideBar": true,
   "skip_h1_title": false,
   "title_cell": "Table of Contents",
   "title_sidebar": "Contents",
   "toc_cell": false,
   "toc_position": {},
   "toc_section_display": true,
   "toc_window_display": false
  },
  "varInspector": {
   "cols": {
    "lenName": 16,
    "lenType": 16,
    "lenVar": 40
   },
   "kernels_config": {
    "python": {
     "delete_cmd_postfix": "",
     "delete_cmd_prefix": "del ",
     "library": "var_list.py",
     "varRefreshCmd": "print(var_dic_list())"
    },
    "r": {
     "delete_cmd_postfix": ") ",
     "delete_cmd_prefix": "rm(",
     "library": "var_list.r",
     "varRefreshCmd": "cat(var_dic_list()) "
    }
   },
   "types_to_exclude": [
    "module",
    "function",
    "builtin_function_or_method",
    "instance",
    "_Feature"
   ],
   "window_display": false
  }
 },
 "nbformat": 4,
 "nbformat_minor": 5
}
