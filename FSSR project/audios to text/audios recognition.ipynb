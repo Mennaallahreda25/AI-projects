{
 "cells": [
  {
   "cell_type": "markdown",
   "id": "99576ee4",
   "metadata": {},
   "source": [
    "# audios to english Text and save in txt file"
   ]
  },
  {
   "cell_type": "markdown",
   "id": "c4213c70",
   "metadata": {},
   "source": [
    "record must be .wav or mp3 or m4a"
   ]
  },
  {
   "cell_type": "code",
   "execution_count": 2,
   "id": "0dd133fa",
   "metadata": {
    "ExecuteTime": {
     "end_time": "2023-03-27T19:40:53.500796Z",
     "start_time": "2023-03-27T19:40:50.191420Z"
    }
   },
   "outputs": [
    {
     "name": "stdout",
     "output_type": "stream",
     "text": [
      "Notice that .. The Record extension must be .wav\n",
      " choose audio: downloaded_aud.mp3\n"
     ]
    }
   ],
   "source": [
    "#take your file path from user\n",
    "import os\n",
    "print(\"Notice that .. The Record extension must be .wav\")\n",
    "user_input = input(\" choose audio: \")\n",
    "assert os.path.exists(user_input), \"I did not find the file at, \"+str(user_input)\n",
    "f = open(user_input,'r+') \n",
    "f.close()"
   ]
  },
  {
   "cell_type": "code",
   "execution_count": 3,
   "id": "4850f587",
   "metadata": {
    "ExecuteTime": {
     "end_time": "2023-03-27T19:41:28.483257Z",
     "start_time": "2023-03-27T19:40:54.493929Z"
    },
    "scrolled": true
   },
   "outputs": [
    {
     "name": "stdout",
     "output_type": "stream",
     "text": [
      "result2:\n",
      "{   'alternative': [   {   'confidence': 0.93409795,\n",
      "                           'transcript': 'perfect timing patience in the whole '\n",
      "                                         'lot of plans is the best sometimes '\n",
      "                                         \"the process is painful don't forget \"\n",
      "                                         'to make circumstances prayers in '\n",
      "                                         'three ways yes because you deserve '\n",
      "                                         'it no because you deserve better '\n",
      "                                         \"that has perfect it just but it's \"\n",
      "                                         \"always the best but don't forget to \"\n",
      "                                         \"make sure he's doing something god \"\n",
      "                                         'closes doors because he knows you go '\n",
      "                                         'downstairs because you deserve it no '\n",
      "                                         'because you deserve better'},\n",
      "                       {   'transcript': 'perfect timing patients in the whole '\n",
      "                                         'lot of plans is the best sometimes '\n",
      "                                         \"the process is painful don't forget \"\n",
      "                                         'to make circumstances prayers in '\n",
      "                                         'three ways yes because you deserve '\n",
      "                                         'it no because you deserve better '\n",
      "                                         \"that has perfect it just but it's \"\n",
      "                                         \"always the best but don't forget to \"\n",
      "                                         \"make sure he's doing something god \"\n",
      "                                         'closes doors because he knows you go '\n",
      "                                         'downstairs because you deserve it no '\n",
      "                                         'because you deserve better'},\n",
      "                       {   'transcript': 'perfect timing patients in the whole '\n",
      "                                         'lot of plans is the best sometimes '\n",
      "                                         \"the process is painful don't forget \"\n",
      "                                         'to make circumstances prayers in '\n",
      "                                         'three ways yes because you deserve '\n",
      "                                         'it no because you deserve better '\n",
      "                                         \"that has perfect it just but it's \"\n",
      "                                         \"hard but don't forget to make he's \"\n",
      "                                         'doing something god closes doors '\n",
      "                                         'because he knows you go downstairs '\n",
      "                                         'because you deserve it no because '\n",
      "                                         'you deserve better'},\n",
      "                       {   'transcript': 'perfect timing patients in the whole '\n",
      "                                         'lot of plans is the best sometimes '\n",
      "                                         \"the process is painful don't forget \"\n",
      "                                         'to make circumstances prayers in '\n",
      "                                         'three ways yes because you deserve '\n",
      "                                         'it no because you deserve better '\n",
      "                                         \"that has perfect it just but it's \"\n",
      "                                         \"hard but don't forget to make God \"\n",
      "                                         \"he's doing something god closes \"\n",
      "                                         'doors because he knows you go '\n",
      "                                         'downstairs because you deserve it no '\n",
      "                                         'because you deserve better'},\n",
      "                       {   'transcript': 'perfect timing in the whole lot of '\n",
      "                                         'plans is the best sometimes the '\n",
      "                                         \"process is painful don't forget to \"\n",
      "                                         'make circumstances prayers in three '\n",
      "                                         'ways yes because you deserve it no '\n",
      "                                         'because you deserve better that has '\n",
      "                                         \"perfect it just but it's always the \"\n",
      "                                         \"best but don't forget to make he's \"\n",
      "                                         'doing something god closes doors '\n",
      "                                         'because he knows you go downstairs '\n",
      "                                         'because you deserve it no because '\n",
      "                                         'you deserve better'}],\n",
      "    'final': True}\n",
      "the audio file contains: perfect timing patience in the whole lot of plans is the best sometimes the process is painful don't forget to make circumstances prayers in three ways yes because you deserve it no because you deserve better that has perfect it just but it's always the best but don't forget to make sure he's doing something god closes doors because he knows you go downstairs because you deserve it no because you deserve better\n"
     ]
    }
   ],
   "source": [
    "import speech_recognition as sr\n",
    "from os import path\n",
    "from pydub import AudioSegment\n",
    "\n",
    "#for mp3 extension \n",
    "#it will download also the audio by wax extension\n",
    "if user_input.endswith('.mp3'):\n",
    "    input_file = user_input\n",
    "    output_file = \"Aud_WAV_E1.wav\"\n",
    "    # convert mp3 file to wav file\n",
    "    sound = AudioSegment.from_mp3(input_file)\n",
    "    sound.export(output_file, format=\"wav\")\n",
    "    \n",
    "    r= sr.Recognizer()\n",
    "    with sr.AudioFile(output_file) as source:\n",
    "        aud= r.record(source)\n",
    "    try:\n",
    "        t= r.recognize_google(aud)\n",
    "        print(\"the audio file contains: \" + t )\n",
    "        f4=open('audText_EN.txt','a',encoding='utf-8')\n",
    "        f4.writelines(t) \n",
    "        f4.close()   \n",
    "    except sr.UnknownValueError:\n",
    "        print(\" google could not recognize the audio\")\n",
    "    except sr.RequestError as e:\n",
    "        print(\" could not request result ; {0}\".format(e)) \n",
    "        \n",
    "#for m4a extension        \n",
    "#it will download also the audio by wax extension\n",
    "elif user_input.endswith('.m4a'):\n",
    "    m4a_file = user_input\n",
    "    wav_filename = \"Aud_WAV_E2.wav\"\n",
    "    track = AudioSegment.from_file(m4a_file,  format= 'm4a')\n",
    "    file_handle = track.export(wav_filename, format='wav')\n",
    "    r= sr.Recognizer()\n",
    "    with sr.AudioFile(output_file) as source:\n",
    "        aud= r.record(source)\n",
    "    try:\n",
    "        t= r.recognize_google(aud)\n",
    "        print(\"the audio file contains: \" + t )\n",
    "        f4=open('audText_EN.txt','a',encoding='utf-8')\n",
    "        f4.writelines(t) \n",
    "        f4.close()   \n",
    "    except sr.UnknownValueError:\n",
    "        print(\" google could not recognize the audio\")\n",
    "    except sr.RequestError as e:\n",
    "        print(\" could not request result ; {0}\".format(e))     \n",
    "#for wav extension  \n",
    "else :\n",
    "    r= sr.Recognizer()\n",
    "    with sr.AudioFile(user_input) as source:\n",
    "        aud= r.record(source)\n",
    "    try:\n",
    "        t= r.recognize_google(aud)\n",
    "        print(\"the audio file contains: \" + t )\n",
    "        f4=open('audText_EN.txt','a',encoding='utf-8')\n",
    "        f4.writelines(t) \n",
    "        f4.close()   \n",
    "    except sr.UnknownValueError:\n",
    "        print(\" google could not recognize the audio\")\n",
    "    except sr.RequestError as e:\n",
    "        print(\" could not request result ; {0}\".format(e)) "
   ]
  },
  {
   "cell_type": "code",
   "execution_count": 4,
   "id": "8cf1ec74",
   "metadata": {
    "ExecuteTime": {
     "end_time": "2023-03-27T19:41:54.171642Z",
     "start_time": "2023-03-27T19:41:50.754357Z"
    }
   },
   "outputs": [
    {
     "data": {
      "text/plain": [
       "''"
      ]
     },
     "execution_count": 4,
     "metadata": {},
     "output_type": "execute_result"
    }
   ],
   "source": [
    "#summarize text\n",
    "#sometimes if the text not big it will make empty text\n",
    "#text must not be too small\n",
    "import summa\n",
    "from summa.summarizer import summarize\n",
    "summarize(t, ratio=0.20, language =\"english\")"
   ]
  },
  {
   "cell_type": "code",
   "execution_count": 5,
   "id": "c4131d2d",
   "metadata": {
    "ExecuteTime": {
     "end_time": "2023-03-27T19:41:57.644363Z",
     "start_time": "2023-03-27T19:41:57.180405Z"
    }
   },
   "outputs": [
    {
     "name": "stdout",
     "output_type": "stream",
     "text": [
      "Correct Spelling is:  perfect timing patience in the whole lot of plans is the best sometimes the process is painful don't forget to make circumstances prayers in three ways yes because you deserve it no because you deserve better that has perfect it just but it's always the best but don't forget to make sure he's doing something god closes doors because he knows you go downstairs because you deserve it no because you deserve better\n"
     ]
    }
   ],
   "source": [
    "#correct text\n",
    "from spellchecker import SpellChecker\n",
    "corrector = SpellChecker()\n",
    "word = t \n",
    "if word in corrector:\n",
    "    print(\"Correct\")\n",
    "else:\n",
    "    correct_word = corrector.correction(word)\n",
    "    print(\"Correct Spelling is: \", correct_word)"
   ]
  },
  {
   "cell_type": "code",
   "execution_count": 6,
   "id": "c982e4f6",
   "metadata": {
    "ExecuteTime": {
     "end_time": "2023-03-27T19:42:03.263368Z",
     "start_time": "2023-03-27T19:42:00.581123Z"
    },
    "scrolled": true
   },
   "outputs": [
    {
     "name": "stdout",
     "output_type": "stream",
     "text": [
      "التوقيت المثالي الصبر في كل الخطط هو الأفضل في بعض الأحيان تكون العملية مؤلمة لا تنسى أن تصلي الظروف بثلاث طرق نعم لأنك تستحقها لا لأنك تستحق أفضل مما يجعلها مثالية ولكنها دائمًا الأفضل ولكن لا تفعل ذلك لا تنسى التأكد من أنه يفعل شيئًا يغلق الله الأبواب لأنه يعلم أنك تنزل إلى الطابق السفلي لأنك تستحقه لا لأنك تستحق الأفضل.\n"
     ]
    }
   ],
   "source": [
    "#from English to Arabic\n",
    "#text must not be too big\n",
    "from python_translator import Translator\n",
    "translator = Translator()\n",
    "result = translator.translate( t, \"arabic\", \"english\")\n",
    "print(result)"
   ]
  },
  {
   "cell_type": "code",
   "execution_count": 7,
   "id": "85b299a1",
   "metadata": {
    "ExecuteTime": {
     "end_time": "2023-03-27T19:42:05.326203Z",
     "start_time": "2023-03-27T19:42:05.313206Z"
    }
   },
   "outputs": [],
   "source": [
    "###############################################################################################################################"
   ]
  },
  {
   "cell_type": "code",
   "execution_count": 8,
   "id": "c096c889",
   "metadata": {
    "ExecuteTime": {
     "end_time": "2023-03-27T19:42:07.742621Z",
     "start_time": "2023-03-27T19:42:07.728634Z"
    }
   },
   "outputs": [],
   "source": [
    "#save model\n",
    "import pickle  # .pickle extension model \n",
    "with open('audEN_model','wb') as file: # write binary \n",
    "    pickle.dump(t ,file) # put model into file"
   ]
  },
  {
   "cell_type": "code",
   "execution_count": 9,
   "id": "9f832a05",
   "metadata": {
    "ExecuteTime": {
     "end_time": "2023-03-27T19:42:08.371237Z",
     "start_time": "2023-03-27T19:42:08.357948Z"
    }
   },
   "outputs": [],
   "source": [
    "#Load Saved Model\n",
    "with open('audEN_model','rb') as file: # read binary \n",
    "    audModel = pickle.load(file)"
   ]
  },
  {
   "cell_type": "markdown",
   "id": "f82f6953",
   "metadata": {},
   "source": [
    "# speech recognition by Arabic"
   ]
  },
  {
   "cell_type": "markdown",
   "id": "3697eea1",
   "metadata": {},
   "source": [
    "record must be .wav or mp3 or m4a"
   ]
  },
  {
   "cell_type": "code",
   "execution_count": 15,
   "id": "628da506",
   "metadata": {
    "ExecuteTime": {
     "end_time": "2023-03-27T19:46:49.340321Z",
     "start_time": "2023-03-27T19:46:39.696301Z"
    }
   },
   "outputs": [
    {
     "name": "stdout",
     "output_type": "stream",
     "text": [
      "لاحظ أن امتداد التسجيل يجب ان يكون .wav\n",
      " أختر تسجيل : videoText_AR.mp3\n"
     ]
    }
   ],
   "source": [
    "#take your file path from user\n",
    "import os\n",
    "print(\"لاحظ أن امتداد التسجيل يجب ان يكون .wav\")\n",
    "user_input2 = input(\" أختر تسجيل : \")\n",
    "assert os.path.exists(user_input2), \" لم أعثر على املف فى \"+str(user_input2)\n",
    "f3 = open(user_input2,'r+') \n",
    "f3.close()"
   ]
  },
  {
   "cell_type": "code",
   "execution_count": 16,
   "id": "5573280f",
   "metadata": {
    "ExecuteTime": {
     "end_time": "2023-03-27T19:47:05.662363Z",
     "start_time": "2023-03-27T19:46:51.557628Z"
    },
    "scrolled": true
   },
   "outputs": [
    {
     "name": "stdout",
     "output_type": "stream",
     "text": [
      "result2:\n",
      "{   'alternative': [   {   'confidence': 0.80575699,\n",
      "                           'transcript': 'رمضان انوشاء الله يوم الخميس 23 ثلث '\n",
      "                                         'والفجر هياذن الساعه 4:15 والمغرب '\n",
      "                                         'هياذن الساعه السادسه وتسعه عشر دقيقه '\n",
      "                                         'وقال رسول الله صلى الله عليه وسلم من '\n",
      "                                         'يبلغ عن يوم رمضان حرمت عليه النار '\n",
      "                                         'يوم القيامه ما تبخلش على نفسك بالكنز '\n",
      "                                         'العظيم'}],\n",
      "    'final': True}\n",
      "الملف الصوتى يحتوي على : رمضان انوشاء الله يوم الخميس 23 ثلث والفجر هياذن الساعه 4:15 والمغرب هياذن الساعه السادسه وتسعه عشر دقيقه وقال رسول الله صلى الله عليه وسلم من يبلغ عن يوم رمضان حرمت عليه النار يوم القيامه ما تبخلش على نفسك بالكنز العظيم\n"
     ]
    }
   ],
   "source": [
    "import speech_recognition as sr\n",
    "from os import path\n",
    "from pydub import AudioSegment\n",
    "\n",
    "# convert mp3 file to wav file\n",
    "#it will download also the audio by wax extension\n",
    "if user_input2.endswith('.mp3'):\n",
    "    input_file2 = user_input2\n",
    "    output_file2 = \"Aud_WAV_A1.wav\"\n",
    "    sound = AudioSegment.from_mp3(input_file2)\n",
    "    sound.export(output_file2, format=\"wav\")\n",
    "    r= sr.Recognizer()\n",
    "    with sr.AudioFile(output_file2) as source:\n",
    "        aud= r.record(source) \n",
    "    try:\n",
    "        t2=r.recognize_google(aud, language=\"ar-AR\")\n",
    "        print(\"الملف الصوتى يحتوي على : \" + t2 )\n",
    "        f2=open('audText_AR.txt','a',encoding='utf-8')\n",
    "        f2.writelines(t2) \n",
    "        f2.close()\n",
    "    except sr.UnknownValueError:\n",
    "        print(\" جوجل لا يستطيع التعرف على التسجيل\")\n",
    "    except sr.RequestError as e:\n",
    "        print(\" لا يستطيع طلب نتيجة ; {0}\".format(e)) \n",
    "        \n",
    "#for m4a extension  \n",
    "#it will download also the audio by wax extension\n",
    "elif user_input.endswith('.m4a'):\n",
    "    m4a_file2 = user_input2\n",
    "    wav_filename2 = \"Aud_WAV_A2.wav\"\n",
    "    track = AudioSegment.from_file(m4a_file2,  format= 'm4a')\n",
    "    file_handle = track.export(wav_filename2, format='wav')\n",
    "    r= sr.Recognizer()\n",
    "    with sr.AudioFile(output_file2) as source:\n",
    "        aud= r.record(source) \n",
    "    try:\n",
    "        t2=r.recognize_google(aud, language=\"ar-AR\")\n",
    "        print(\"الملف الصوتى يحتوي على : \" + t2 )\n",
    "        f2=open('audText_AR.txt','a',encoding='utf-8')\n",
    "        f2.writelines(t2) \n",
    "        f2.close()\n",
    "    except sr.UnknownValueError:\n",
    "        print(\" جوجل لا يستطيع التعرف على التسجيل\")\n",
    "    except sr.RequestError as e:\n",
    "        print(\" لا يستطيع طلب نتيجة ; {0}\".format(e))      \n",
    "        \n",
    "#for wav extension  \n",
    "else :\n",
    "    r= sr.Recognizer()\n",
    "    with sr.AudioFile(user_input2) as source:\n",
    "        aud= r.record(source) \n",
    "    try:\n",
    "        t2=r.recognize_google(aud, language=\"ar-AR\")\n",
    "        print(\"الملف الصوتى يحتوي على : \" + t2 )\n",
    "        f2=open('audText_AR.txt','a',encoding='utf-8')\n",
    "        f2.writelines(t2) \n",
    "        f2.close()\n",
    "    except sr.UnknownValueError:\n",
    "        print(\" جوجل لا يستطيع التعرف على التسجيل\")\n",
    "    except sr.RequestError as e:\n",
    "        print(\" لا يستطيع طلب نتيجة ; {0}\".format(e)) "
   ]
  },
  {
   "cell_type": "code",
   "execution_count": 17,
   "id": "5da453a9",
   "metadata": {
    "ExecuteTime": {
     "end_time": "2023-03-27T19:47:23.653118Z",
     "start_time": "2023-03-27T19:47:23.642150Z"
    }
   },
   "outputs": [
    {
     "data": {
      "text/plain": [
       "''"
      ]
     },
     "execution_count": 17,
     "metadata": {},
     "output_type": "execute_result"
    }
   ],
   "source": [
    "#summarize text\n",
    "#sometimes if the text not big it will make empty text\n",
    "#text must not be too small\n",
    "import summa\n",
    "from summa.summarizer import summarize\n",
    "summarize( t2, ratio=0.20, language =\"arabic\")"
   ]
  },
  {
   "cell_type": "code",
   "execution_count": 18,
   "id": "fd397fdb",
   "metadata": {
    "ExecuteTime": {
     "end_time": "2023-03-27T19:47:25.716904Z",
     "start_time": "2023-03-27T19:47:25.605153Z"
    }
   },
   "outputs": [
    {
     "name": "stdout",
     "output_type": "stream",
     "text": [
      "الكتابة الصحيحة:   رمضان انوشاء الله يوم الخميس 23 ثلث والفجر هياذن الساعه 4:15 والمغرب هياذن الساعه السادسه وتسعه عشر دقيقه وقال رسول الله صلى الله عليه وسلم من يبلغ عن يوم رمضان حرمت عليه النار يوم القيامه ما تبخلش على نفسك بالكنز العظيم\n"
     ]
    }
   ],
   "source": [
    "#correct text\n",
    "from spellchecker import SpellChecker\n",
    "corrector = SpellChecker()\n",
    "word = t2\n",
    "if word in corrector:\n",
    "    print(\"صحيح\")\n",
    "else:\n",
    "    correct_word = corrector.correction(word)\n",
    "    print(\"الكتابة الصحيحة:  \", correct_word)"
   ]
  },
  {
   "cell_type": "code",
   "execution_count": 19,
   "id": "bf7db6cf",
   "metadata": {
    "ExecuteTime": {
     "end_time": "2023-03-27T19:47:34.004076Z",
     "start_time": "2023-03-27T19:47:32.301241Z"
    }
   },
   "outputs": [
    {
     "name": "stdout",
     "output_type": "stream",
     "text": [
      "Ramadan, God willing, on Thursday the 23rd of a third, and Fajr will come at 4:15, and Maghrib will call the call to prayer at 6:19 minutes.\n"
     ]
    }
   ],
   "source": [
    "#from Arabic to English\n",
    "#text must not be too big\n",
    "from python_translator import Translator\n",
    "translator = Translator()\n",
    "result2 = translator.translate(t2, \"english\", \"arabic\")\n",
    "print(result2)"
   ]
  },
  {
   "cell_type": "code",
   "execution_count": 20,
   "id": "ba63d039",
   "metadata": {
    "ExecuteTime": {
     "end_time": "2023-03-27T19:47:49.270052Z",
     "start_time": "2023-03-27T19:47:49.259083Z"
    }
   },
   "outputs": [],
   "source": [
    "###############################################################################################################################"
   ]
  },
  {
   "cell_type": "code",
   "execution_count": 21,
   "id": "95ba3b31",
   "metadata": {
    "ExecuteTime": {
     "end_time": "2023-03-27T19:47:49.945662Z",
     "start_time": "2023-03-27T19:47:49.822921Z"
    }
   },
   "outputs": [],
   "source": [
    "#save model\n",
    "import pickle  # .pickle extension model \n",
    "with open('audAR_model','wb') as file: # write binary \n",
    "    pickle.dump(t2 ,file) # put model into file"
   ]
  },
  {
   "cell_type": "code",
   "execution_count": 22,
   "id": "36b2cec6",
   "metadata": {
    "ExecuteTime": {
     "end_time": "2023-03-27T19:47:51.990220Z",
     "start_time": "2023-03-27T19:47:51.982238Z"
    }
   },
   "outputs": [],
   "source": [
    "#Load Saved Model\n",
    "with open('audAR_model','rb') as file: # read binary \n",
    "    audModel2 = pickle.load(file)"
   ]
  },
  {
   "cell_type": "code",
   "execution_count": null,
   "id": "71135557",
   "metadata": {},
   "outputs": [],
   "source": []
  }
 ],
 "metadata": {
  "kernelspec": {
   "display_name": "Python 3 (ipykernel)",
   "language": "python",
   "name": "python3"
  },
  "language_info": {
   "codemirror_mode": {
    "name": "ipython",
    "version": 3
   },
   "file_extension": ".py",
   "mimetype": "text/x-python",
   "name": "python",
   "nbconvert_exporter": "python",
   "pygments_lexer": "ipython3",
   "version": "3.9.12"
  },
  "toc": {
   "base_numbering": 1,
   "nav_menu": {},
   "number_sections": true,
   "sideBar": true,
   "skip_h1_title": false,
   "title_cell": "Table of Contents",
   "title_sidebar": "Contents",
   "toc_cell": false,
   "toc_position": {},
   "toc_section_display": true,
   "toc_window_display": false
  },
  "varInspector": {
   "cols": {
    "lenName": 16,
    "lenType": 16,
    "lenVar": 40
   },
   "kernels_config": {
    "python": {
     "delete_cmd_postfix": "",
     "delete_cmd_prefix": "del ",
     "library": "var_list.py",
     "varRefreshCmd": "print(var_dic_list())"
    },
    "r": {
     "delete_cmd_postfix": ") ",
     "delete_cmd_prefix": "rm(",
     "library": "var_list.r",
     "varRefreshCmd": "cat(var_dic_list()) "
    }
   },
   "types_to_exclude": [
    "module",
    "function",
    "builtin_function_or_method",
    "instance",
    "_Feature"
   ],
   "window_display": false
  }
 },
 "nbformat": 4,
 "nbformat_minor": 5
}
