{
 "cells": [
  {
   "cell_type": "markdown",
   "id": "72b26a6e",
   "metadata": {},
   "source": [
    "# English speech to text"
   ]
  },
  {
   "cell_type": "code",
   "execution_count": 6,
   "id": "22e0a757",
   "metadata": {
    "ExecuteTime": {
     "end_time": "2023-03-28T19:25:11.679364Z",
     "start_time": "2023-03-28T19:24:30.232332Z"
    }
   },
   "outputs": [
    {
     "name": "stdout",
     "output_type": "stream",
     "text": [
      "Speak Anything :\n",
      "result2:\n",
      "{   'alternative': [   {   'confidence': 0.86179167,\n",
      "                           'transcript': 'hello my name is Hannah and I am 22 '\n",
      "                                         'years old and I am tired and I have '\n",
      "                                         'had to thank you'},\n",
      "                       {   'transcript': 'hello my name is Hannah and I am 22 '\n",
      "                                         'years old and I am quite good and I '\n",
      "                                         'have had to thank you'},\n",
      "                       {   'transcript': 'hello my name is Anna and I am 22 '\n",
      "                                         'years old and I am practical and '\n",
      "                                         'that I have had to thank you'},\n",
      "                       {   'transcript': 'hello my name is Hannah and I am 22 '\n",
      "                                         'years old and I am practical and '\n",
      "                                         'that I have had to thank you'},\n",
      "                       {   'transcript': 'hello my name is Hannah and I am 22 '\n",
      "                                         'years old and I am happy and I have '\n",
      "                                         'had to thank you'}],\n",
      "    'final': True}\n",
      "You said : hello my name is Hannah and I am 22 years old and I am tired and I have had to thank you\n"
     ]
    }
   ],
   "source": [
    "import speech_recognition as sr     # import the library\n",
    " \n",
    "r = sr.Recognizer()                 # initialize recognizer\n",
    "with sr.Microphone() as source:     # mention source it will be either Microphone or audio files.\n",
    "    print(\"Speak Anything :\")\n",
    "    audio = r.listen(source)        # listen to the source\n",
    "    try:\n",
    "        text = r.recognize_google(audio)    # use recognizer to convert our audio into text part.\n",
    "        print(\"You said : {}\".format(text))\n",
    "    except:\n",
    "        print(\"Sorry could not recognize your voice\")    # In case of voice not recognized  clearly"
   ]
  },
  {
   "cell_type": "code",
   "execution_count": 21,
   "id": "39989179",
   "metadata": {
    "ExecuteTime": {
     "end_time": "2023-03-28T19:39:04.661226Z",
     "start_time": "2023-03-28T19:39:04.644643Z"
    }
   },
   "outputs": [
    {
     "name": "stdout",
     "output_type": "stream",
     "text": [
      "Done\n"
     ]
    }
   ],
   "source": [
    "#save the actual speech in txt file\n",
    "f4=open('spText_EN.txt','a',encoding='utf-8')\n",
    "f4.writelines(\"Your speech : \\n\"+text+\" \\n\\n\") \n",
    "f4.close()\n",
    "print(\"Done\")"
   ]
  },
  {
   "cell_type": "code",
   "execution_count": 22,
   "id": "a75cbffb",
   "metadata": {
    "ExecuteTime": {
     "end_time": "2023-03-28T19:39:14.130054Z",
     "start_time": "2023-03-28T19:39:14.118574Z"
    }
   },
   "outputs": [
    {
     "data": {
      "text/plain": [
       "''"
      ]
     },
     "execution_count": 22,
     "metadata": {},
     "output_type": "execute_result"
    }
   ],
   "source": [
    "#summarize text\n",
    "#sometimes if the text not big it will make empty text\n",
    "#text must not be too small\n",
    "import summa\n",
    "from summa import summarizer\n",
    "summaized_text=summarizer.summarize(text, language =\"english\")\n",
    "print(\"summarized text is: \"+ summaized_text)\n",
    "#save the summarized speech text in txt file\n",
    "f4=open('spText_EN.txt','a',encoding='utf-8')\n",
    "f4.writelines(\"The summarized text : \\n\"+summaized_text+\"\\n\\n\") \n",
    "f4.close()\n",
    "print (\"Done\")"
   ]
  },
  {
   "cell_type": "code",
   "execution_count": 23,
   "id": "6e67b7c1",
   "metadata": {
    "ExecuteTime": {
     "end_time": "2023-03-28T19:39:15.464118Z",
     "start_time": "2023-03-28T19:39:15.370539Z"
    }
   },
   "outputs": [
    {
     "name": "stdout",
     "output_type": "stream",
     "text": [
      "Correct Spelling is:  hello my name is Hannah and I am 22 years old and I am tired and I have had to thank you\n"
     ]
    }
   ],
   "source": [
    "#correct text\n",
    "from spellchecker import SpellChecker\n",
    "corrector = SpellChecker()\n",
    "word = text \n",
    "if word in corrector:\n",
    "    print(\"Correct\")\n",
    "else:\n",
    "    correct_word = corrector.correction(word)\n",
    "    print(\"Correct Spelling is: \", correct_word)"
   ]
  },
  {
   "cell_type": "code",
   "execution_count": 24,
   "id": "288b1d1d",
   "metadata": {
    "ExecuteTime": {
     "end_time": "2023-03-28T19:39:16.090231Z",
     "start_time": "2023-03-28T19:39:16.068138Z"
    }
   },
   "outputs": [
    {
     "name": "stdout",
     "output_type": "stream",
     "text": [
      "Done\n"
     ]
    }
   ],
   "source": [
    "#save the corrected text in txt file\n",
    "f4=open('spText_EN.txt','a',encoding='utf-8')\n",
    "f4.writelines(\"The corrected text: \\n\"+ correct_word+\"\\n\\n\") \n",
    "f4.close()\n",
    "print(\"Done\")"
   ]
  },
  {
   "cell_type": "code",
   "execution_count": 25,
   "id": "a76b0148",
   "metadata": {
    "ExecuteTime": {
     "end_time": "2023-03-28T19:39:22.700336Z",
     "start_time": "2023-03-28T19:39:18.635808Z"
    }
   },
   "outputs": [
    {
     "name": "stdout",
     "output_type": "stream",
     "text": [
      "مرحبا اسمي هانا وعمري 22 عاما وانا متعب وعلي ان اشكرك\n"
     ]
    }
   ],
   "source": [
    "#from English to Arabic\n",
    "#text must not be too big\n",
    "from python_translator import Translator\n",
    "translator = Translator()\n",
    "result = translator.translate( text, \"arabic\", \"english\")\n",
    "print(result)"
   ]
  },
  {
   "cell_type": "code",
   "execution_count": 31,
   "id": "094b00df",
   "metadata": {
    "ExecuteTime": {
     "end_time": "2023-03-28T19:41:49.744405Z",
     "start_time": "2023-03-28T19:41:49.734654Z"
    }
   },
   "outputs": [
    {
     "name": "stdout",
     "output_type": "stream",
     "text": [
      "Done\n"
     ]
    }
   ],
   "source": [
    "#save the translated text in txt file\n",
    "f4=open('spText_EN.txt','a',encoding='utf-8')\n",
    "f4.writelines(\"The translated text: \\n\"+ str(result)+\"\\n\\n\") \n",
    "f4.close()\n",
    "print(\"Done\")"
   ]
  },
  {
   "cell_type": "code",
   "execution_count": 32,
   "id": "5b4791ac",
   "metadata": {
    "ExecuteTime": {
     "end_time": "2023-03-28T19:48:21.585457Z",
     "start_time": "2023-03-28T19:48:21.564230Z"
    }
   },
   "outputs": [],
   "source": [
    "#save model\n",
    "import pickle  # .pickle extension model \n",
    "with open('spEN_model','wb') as file: # write binary \n",
    "    pickle.dump(text ,file) # put model into file"
   ]
  },
  {
   "cell_type": "code",
   "execution_count": 33,
   "id": "abcc7ee2",
   "metadata": {
    "ExecuteTime": {
     "end_time": "2023-03-28T19:48:22.825353Z",
     "start_time": "2023-03-28T19:48:22.807458Z"
    }
   },
   "outputs": [],
   "source": [
    "#Load Saved Model\n",
    "with open('spEN_model','rb') as file: # read binary \n",
    "    spModel = pickle.load(file)"
   ]
  },
  {
   "cell_type": "markdown",
   "id": "c299931d",
   "metadata": {},
   "source": [
    "# Arabic speech to text"
   ]
  },
  {
   "cell_type": "code",
   "execution_count": 70,
   "id": "184df3e2",
   "metadata": {
    "ExecuteTime": {
     "end_time": "2023-03-28T19:59:55.537725Z",
     "start_time": "2023-03-28T19:59:41.053745Z"
    }
   },
   "outputs": [
    {
     "name": "stdout",
     "output_type": "stream",
     "text": [
      "تحدث بأى شىء :\n",
      "result2:\n",
      "{   'alternative': [   {   'confidence': 0.78605616,\n",
      "                           'transcript': 'كليه علوم الحاسب واعمل في جامعه '\n",
      "                                         'القاهره'},\n",
      "                       {   'transcript': 'في كليه علوم الحاسب واعمل في جامعه '\n",
      "                                         'القاهره'}],\n",
      "    'final': True}\n",
      "الكلام هو :كليه علوم الحاسب واعمل في جامعه القاهره\n"
     ]
    }
   ],
   "source": [
    "import speech_recognition as sr\n",
    "# Record Audio\n",
    "r = sr.Recognizer ()\n",
    "with sr.Microphone() as source:\n",
    "    print (\"تحدث بأى شىء :\")\n",
    "    audio = r.listen(source)\n",
    "    # Speech recognition using Google Speech Recognition\n",
    "    try:\n",
    "        text2= r.recognize_google(audio,language =\"ar-AR\")\n",
    "        print(\"الكلام هو :\" + text2)\n",
    "    except sr.UnknownValueError:\n",
    "        print(\"لم نستطع التعرف على الكلام\")\n",
    "    except sr.RequestError as e:\n",
    "        print(\"لم يستطيع طلب نتيجة; {0}\".format(e))"
   ]
  },
  {
   "cell_type": "code",
   "execution_count": 71,
   "id": "a470c9a3",
   "metadata": {
    "ExecuteTime": {
     "end_time": "2023-03-28T20:00:03.306516Z",
     "start_time": "2023-03-28T20:00:03.283538Z"
    }
   },
   "outputs": [
    {
     "name": "stdout",
     "output_type": "stream",
     "text": [
      "تم\n"
     ]
    }
   ],
   "source": [
    "#save tha actual txt in txt file\n",
    "f5=open('spText_AR.txt','a',encoding='utf-8')\n",
    "f5.writelines(\" النص الخاص بك :\\n \"+text2+\" \\n\\n\") \n",
    "f5.close()\n",
    "print(\"تم\")"
   ]
  },
  {
   "cell_type": "code",
   "execution_count": 72,
   "id": "4057c361",
   "metadata": {
    "ExecuteTime": {
     "end_time": "2023-03-28T20:00:03.872160Z",
     "start_time": "2023-03-28T20:00:03.864728Z"
    }
   },
   "outputs": [
    {
     "data": {
      "text/plain": [
       "''"
      ]
     },
     "execution_count": 72,
     "metadata": {},
     "output_type": "execute_result"
    }
   ],
   "source": [
    "#summarize text\n",
    "#sometimes if the text not big it will make empty text\n",
    "#text must not be too small\n",
    "import summa\n",
    "from summa import summarizer\n",
    "summaized_text=summarizer.summarize(text2, language =\"arabic\")\n",
    "print(\"ملخص الحديث : \"+ summaized_text)\n",
    "#save the summarized speech text in txt file\n",
    "f4=open('spText_AR.txt','a',encoding='utf-8')\n",
    "f4.writelines(\"ملخص الحديث : \\n\"+summaized_text+\"\\n\\n\") \n",
    "f4.close()\n",
    "print (\"تم\")"
   ]
  },
  {
   "cell_type": "code",
   "execution_count": 73,
   "id": "e25a536b",
   "metadata": {
    "ExecuteTime": {
     "end_time": "2023-03-28T20:00:04.773136Z",
     "start_time": "2023-03-28T20:00:04.657593Z"
    }
   },
   "outputs": [
    {
     "name": "stdout",
     "output_type": "stream",
     "text": [
      "الكتابة الصحيحة:   كليه علوم الحاسب واعمل في جامعه القاهره\n"
     ]
    }
   ],
   "source": [
    "#correct text\n",
    "from spellchecker import SpellChecker\n",
    "corrector = SpellChecker()\n",
    "word = text2\n",
    "if word in corrector:\n",
    "    print(\"صحيح\")\n",
    "else:\n",
    "    correct_word2 = corrector.correction(word)\n",
    "    print(\"الكتابة الصحيحة:  \", correct_word2)"
   ]
  },
  {
   "cell_type": "code",
   "execution_count": 74,
   "id": "74809630",
   "metadata": {
    "ExecuteTime": {
     "end_time": "2023-03-28T20:00:06.782717Z",
     "start_time": "2023-03-28T20:00:06.767934Z"
    }
   },
   "outputs": [
    {
     "name": "stdout",
     "output_type": "stream",
     "text": [
      "تم\n"
     ]
    }
   ],
   "source": [
    "#save the corrected text in txt file\n",
    "f5=open('spText_AR.txt','a',encoding='utf-8')\n",
    "f5.writelines(\"النص بعد التصحيح : \\n\"+correct_word2+\" \\n\\n\") \n",
    "f5.close()\n",
    "print(\"تم\")"
   ]
  },
  {
   "cell_type": "code",
   "execution_count": 75,
   "id": "510112aa",
   "metadata": {
    "ExecuteTime": {
     "end_time": "2023-03-28T20:00:08.439608Z",
     "start_time": "2023-03-28T20:00:07.746266Z"
    }
   },
   "outputs": [
    {
     "name": "stdout",
     "output_type": "stream",
     "text": [
      "Faculty of Computer Science and work at Cairo University\n"
     ]
    }
   ],
   "source": [
    "#from Arabic to English\n",
    "#text must not be too big\n",
    "from python_translator import Translator\n",
    "translator = Translator()\n",
    "result2 = translator.translate(text2, \"english\", \"arabic\")\n",
    "print(result2)"
   ]
  },
  {
   "cell_type": "code",
   "execution_count": 76,
   "id": "e16508b6",
   "metadata": {
    "ExecuteTime": {
     "end_time": "2023-03-28T20:00:11.088895Z",
     "start_time": "2023-03-28T20:00:11.070268Z"
    }
   },
   "outputs": [
    {
     "name": "stdout",
     "output_type": "stream",
     "text": [
      "تم\n"
     ]
    }
   ],
   "source": [
    "#save the translated text in txt file\n",
    "f5=open('spText_AR.txt','a',encoding='utf-8')\n",
    "f5.writelines(\"النص بعد النرجمة : \\n\"+str(result2)+\" \\n\\n\") \n",
    "f5.close()\n",
    "print(\"تم\")"
   ]
  },
  {
   "cell_type": "code",
   "execution_count": 77,
   "id": "50ab6b7d",
   "metadata": {
    "ExecuteTime": {
     "end_time": "2023-03-28T20:00:12.081628Z",
     "start_time": "2023-03-28T20:00:12.063306Z"
    }
   },
   "outputs": [],
   "source": [
    "#save model\n",
    "import pickle  # .pickle extension model \n",
    "with open('spAR_model','wb') as file: # write binary \n",
    "    pickle.dump(text2 ,file) # put model into file"
   ]
  },
  {
   "cell_type": "code",
   "execution_count": 78,
   "id": "1d2cb124",
   "metadata": {
    "ExecuteTime": {
     "end_time": "2023-03-28T20:00:12.691917Z",
     "start_time": "2023-03-28T20:00:12.681863Z"
    }
   },
   "outputs": [],
   "source": [
    "#Load Saved Model\n",
    "with open('spAR_model','rb') as file: # read binary \n",
    "    audModel2 = pickle.load(file)"
   ]
  },
  {
   "cell_type": "code",
   "execution_count": null,
   "id": "9bba68d4",
   "metadata": {},
   "outputs": [],
   "source": []
  }
 ],
 "metadata": {
  "kernelspec": {
   "display_name": "Python 3 (ipykernel)",
   "language": "python",
   "name": "python3"
  },
  "language_info": {
   "codemirror_mode": {
    "name": "ipython",
    "version": 3
   },
   "file_extension": ".py",
   "mimetype": "text/x-python",
   "name": "python",
   "nbconvert_exporter": "python",
   "pygments_lexer": "ipython3",
   "version": "3.9.12"
  },
  "toc": {
   "base_numbering": 1,
   "nav_menu": {},
   "number_sections": true,
   "sideBar": true,
   "skip_h1_title": false,
   "title_cell": "Table of Contents",
   "title_sidebar": "Contents",
   "toc_cell": false,
   "toc_position": {},
   "toc_section_display": true,
   "toc_window_display": false
  },
  "varInspector": {
   "cols": {
    "lenName": 16,
    "lenType": 16,
    "lenVar": 40
   },
   "kernels_config": {
    "python": {
     "delete_cmd_postfix": "",
     "delete_cmd_prefix": "del ",
     "library": "var_list.py",
     "varRefreshCmd": "print(var_dic_list())"
    },
    "r": {
     "delete_cmd_postfix": ") ",
     "delete_cmd_prefix": "rm(",
     "library": "var_list.r",
     "varRefreshCmd": "cat(var_dic_list()) "
    }
   },
   "types_to_exclude": [
    "module",
    "function",
    "builtin_function_or_method",
    "instance",
    "_Feature"
   ],
   "window_display": false
  }
 },
 "nbformat": 4,
 "nbformat_minor": 5
}
