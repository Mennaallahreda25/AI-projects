{
 "cells": [
  {
   "cell_type": "markdown",
   "id": "e8954b27",
   "metadata": {},
   "source": [
    "# scrap english text from images and save in txt file"
   ]
  },
  {
   "cell_type": "code",
   "execution_count": 21,
   "id": "f7ca37be",
   "metadata": {
    "ExecuteTime": {
     "end_time": "2023-03-09T21:38:49.390079Z",
     "start_time": "2023-03-09T21:38:17.284613Z"
    }
   },
   "outputs": [
    {
     "name": "stdout",
     "output_type": "stream",
     "text": [
      " choose Image: WhatsApp Image 2023-02-02 at 02.20.06.jpeg\n"
     ]
    }
   ],
   "source": [
    "#take your file path from user\n",
    "import sys\n",
    "import os\n",
    "user_input = input(\" choose Image: \")\n",
    "assert os.path.exists(user_input), \"I did not find the file at, \"+str(user_input)\n",
    "f = open(user_input,'r+')\n",
    "f.close()"
   ]
  },
  {
   "cell_type": "code",
   "execution_count": 22,
   "id": "262c3437",
   "metadata": {
    "ExecuteTime": {
     "end_time": "2023-03-09T21:38:52.388713Z",
     "start_time": "2023-03-09T21:38:51.169171Z"
    }
   },
   "outputs": [
    {
     "name": "stdout",
     "output_type": "stream",
     "text": [
      "the img contains: CY)\n",
      "\n",
      " \n",
      "\n",
      "©\n",
      "\n",
      "LFS\n",
      "\n",
      " \n",
      "\n",
      " \n",
      "\n",
      "[=\n",
      "\n",
      "&\n",
      ".\n",
      "\n",
      "FER CRISPS OIF SPOOF OP OFOUGHE\n",
      "ay\n",
      "\n",
      " \n",
      "\n",
      "Mtr/s. Menna Allah Reda Abd El-wahed Hassan Mostafa has completed\n",
      "the certified Course in ICDL (International Computer Driving License)\n",
      "Program in a training period (30) Thirty Contact Hours , and her/ his Grade\n",
      "is (Excellent), in the period from aoe to 30/5/2022.\n",
      "\n",
      "This certificate from us so,,,\n",
      "\n",
      " \n",
      "\n",
      " \n",
      " \n",
      "\n",
      "\\\n",
      "D\n",
      "\n",
      "DQROLR LEFT LOG LEE LLD.\n",
      "\n",
      "&\n",
      "\n",
      " \n",
      "\n",
      " \n",
      "\n",
      " \n",
      "\f",
      "\n"
     ]
    }
   ],
   "source": [
    "import pytesseract\n",
    "pytesseract.pytesseract.tesseract_cmd = \"C:\\\\Program Files\\\\Tesseract-OCR\\\\tesseract.exe\"\n",
    "text1 = pytesseract.image_to_string(user_input)\n",
    "print(\"the img contains: \"+ text1)  \n",
    "#covert to txt file\n",
    "f3= open(\"imgText_EN.txt\", \"w\")\n",
    "t= repr(text1)\n",
    "f3.write(text1)\n",
    "f3.close()"
   ]
  },
  {
   "cell_type": "code",
   "execution_count": 23,
   "id": "a92bc640",
   "metadata": {
    "ExecuteTime": {
     "end_time": "2023-03-09T21:38:54.802327Z",
     "start_time": "2023-03-09T21:38:54.782245Z"
    }
   },
   "outputs": [
    {
     "data": {
      "text/plain": [
       "'Program in a training period (30) Thirty Contact Hours , and her/ his Grade\\nis (Excellent), in the period from aoe to 30/5/2022.'"
      ]
     },
     "execution_count": 23,
     "metadata": {},
     "output_type": "execute_result"
    }
   ],
   "source": [
    "#summarize text\n",
    "#sometimes if the text not big it will make empty text\n",
    "#text must not be too small\n",
    "import summa\n",
    "from summa.summarizer import summarize\n",
    "summarize(text1, ratio=0.20, language =\"english\")"
   ]
  },
  {
   "cell_type": "code",
   "execution_count": 24,
   "id": "077b40d7",
   "metadata": {
    "ExecuteTime": {
     "end_time": "2023-03-09T21:38:57.746162Z",
     "start_time": "2023-03-09T21:38:57.623338Z"
    }
   },
   "outputs": [
    {
     "name": "stdout",
     "output_type": "stream",
     "text": [
      "Correct Spelling is:  CY)\n",
      "\n",
      " \n",
      "\n",
      "©\n",
      "\n",
      "LFS\n",
      "\n",
      " \n",
      "\n",
      " \n",
      "\n",
      "[=\n",
      "\n",
      "&\n",
      ".\n",
      "\n",
      "FER CRISPS OIF SPOOF OP OFOUGHE\n",
      "ay\n",
      "\n",
      " \n",
      "\n",
      "Mtr/s. Menna Allah Reda Abd El-wahed Hassan Mostafa has completed\n",
      "the certified Course in ICDL (International Computer Driving License)\n",
      "Program in a training period (30) Thirty Contact Hours , and her/ his Grade\n",
      "is (Excellent), in the period from aoe to 30/5/2022.\n",
      "\n",
      "This certificate from us so,,,\n",
      "\n",
      " \n",
      "\n",
      " \n",
      " \n",
      "\n",
      "\\\n",
      "D\n",
      "\n",
      "DQROLR LEFT LOG LEE LLD.\n",
      "\n",
      "&\n",
      "\n",
      " \n",
      "\n",
      " \n",
      "\n",
      " \n",
      "\f",
      "\n"
     ]
    }
   ],
   "source": [
    "#correct text\n",
    "from spellchecker import SpellChecker\n",
    "corrector = SpellChecker()\n",
    "word = text1\n",
    "if word in corrector:\n",
    "    print(\"Correct\")\n",
    "else:\n",
    "    correct_word = corrector.correction(word)\n",
    "    print(\"Correct Spelling is: \", correct_word)"
   ]
  },
  {
   "cell_type": "code",
   "execution_count": 25,
   "id": "898a4904",
   "metadata": {
    "ExecuteTime": {
     "end_time": "2023-03-09T21:38:59.350595Z",
     "start_time": "2023-03-09T21:38:58.869986Z"
    }
   },
   "outputs": [
    {
     "name": "stdout",
     "output_type": "stream",
     "text": [
      "قبرصي)\n",
      "\n",
      " \n",
      "\n",
      "©\n",
      "\n",
      "LFS\n",
      "\n",
      " \n",
      "\n",
      " \n",
      "\n",
      "[=\n",
      "\n",
      "&\n",
      ".\n",
      "\n",
      "FER CRISPS OIF SPOOF OP OFOUGHE\n",
      "ay\n",
      "\n",
      " \n",
      "\n",
      "متر / ثانية. أكملت منة الله رضا عبد الواحد حسن مصطفى\n",
      "الدورة المعتمدة في ICDL (الرخصة الدولية لقيادة الكمبيوتر)\n",
      "برنامج في فترة تدريبية (30) ثلاثون ساعة اتصال وبتدرجتها\n",
      "هو (ممتاز) في الفترة من aoe إلى 30/5/2022.\n",
      "\n",
      "هذه الشهادة منا لذلك ،،،\n",
      "\n",
      " \n",
      "\n",
      " \n",
      " \n",
      "\n",
      "\\\n",
      "د\n",
      "\n",
      "DQROLR LEFT LOG LEE LLD.\n",
      "\n",
      "&\n"
     ]
    }
   ],
   "source": [
    "#from english to arabic\n",
    "#text must not be too big\n",
    "from python_translator import Translator\n",
    "translator = Translator()\n",
    "result = translator.translate( text1, \"arabic\", \"english\")\n",
    "print(result)"
   ]
  },
  {
   "cell_type": "code",
   "execution_count": 27,
   "id": "a38af17c",
   "metadata": {
    "ExecuteTime": {
     "end_time": "2023-03-09T21:39:57.713736Z",
     "start_time": "2023-03-09T21:39:41.527450Z"
    }
   },
   "outputs": [],
   "source": [
    "#to audio in English\n",
    "from gtts import gTTS\n",
    "to_aud = gTTS(text1)\n",
    "to_aud.save('imgText_EN.mp3')"
   ]
  },
  {
   "cell_type": "code",
   "execution_count": 28,
   "id": "e0824007",
   "metadata": {
    "ExecuteTime": {
     "end_time": "2023-03-09T21:39:59.253573Z",
     "start_time": "2023-03-09T21:39:59.239712Z"
    }
   },
   "outputs": [],
   "source": [
    "##############################################################################################################################"
   ]
  },
  {
   "cell_type": "code",
   "execution_count": 29,
   "id": "076f4242",
   "metadata": {
    "ExecuteTime": {
     "end_time": "2023-03-09T21:39:59.704996Z",
     "start_time": "2023-03-09T21:39:59.685600Z"
    }
   },
   "outputs": [],
   "source": [
    "#save model\n",
    "import pickle  # .pickle extension model \n",
    "with open('imgEN_model','wb') as file: # write binary \n",
    "    pickle.dump(text1 ,file) # put model into file"
   ]
  },
  {
   "cell_type": "code",
   "execution_count": 30,
   "id": "2f579404",
   "metadata": {
    "ExecuteTime": {
     "end_time": "2023-03-09T21:40:00.364924Z",
     "start_time": "2023-03-09T21:40:00.359871Z"
    }
   },
   "outputs": [],
   "source": [
    "#Load Saved Model\n",
    "with open('imgEN_model','rb') as file: # read binary \n",
    "    imgModel = pickle.load(file)"
   ]
  },
  {
   "cell_type": "markdown",
   "id": "5464ffd6",
   "metadata": {},
   "source": [
    "# scrap arabic text from images and save in txt file"
   ]
  },
  {
   "cell_type": "code",
   "execution_count": 31,
   "id": "2779eae1",
   "metadata": {
    "ExecuteTime": {
     "end_time": "2023-03-09T21:40:14.607531Z",
     "start_time": "2023-03-09T21:40:02.199674Z"
    }
   },
   "outputs": [
    {
     "name": "stdout",
     "output_type": "stream",
     "text": [
      " أختر صورة: WhatsApp Image 2021-07-17 at 20.04.23.jpeg\n"
     ]
    }
   ],
   "source": [
    "#take your file path from user\n",
    "import sys\n",
    "import os\n",
    "user_input2 = input(\" أختر صورة: \")\n",
    "assert os.path.exists(user_input2), \" لم أعثر على املف فى \"+str(user_input2)\n",
    "f2 = open(user_input2,'r+')\n",
    "f2.close()"
   ]
  },
  {
   "cell_type": "code",
   "execution_count": 32,
   "id": "34798f86",
   "metadata": {
    "ExecuteTime": {
     "end_time": "2023-03-09T21:40:17.005131Z",
     "start_time": "2023-03-09T21:40:16.373517Z"
    }
   },
   "outputs": [
    {
     "name": "stdout",
     "output_type": "stream",
     "text": [
      "تحتوى الصورة على : إلى أهانينا في الشرقية\n",
      "\n",
      "هنذا لم وكل را شتوزاو تقو إسعارك, فل عام وأنتم مني , فالناس\n",
      "دائما للناس وأتم بالنسية لنا ضير اناس\n",
      "\f",
      "\n"
     ]
    }
   ],
   "source": [
    "from PIL import Image\n",
    "from pytesseract import image_to_string\n",
    "image=Image .open (user_input2)\n",
    "text2=image_to_string(image, lang=\"ara\")\n",
    "print (\"تحتوى الصورة على : \"+ text2)\n",
    "#covert to txt file\n",
    "f4= open(\"imgText_AR.txt\", \"w\",encoding='utf-8')\n",
    "t2= repr(text2)\n",
    "f4.write(text2)\n",
    "f4.close()"
   ]
  },
  {
   "cell_type": "code",
   "execution_count": 33,
   "id": "7a352c92",
   "metadata": {
    "ExecuteTime": {
     "end_time": "2023-03-09T21:40:18.148114Z",
     "start_time": "2023-03-09T21:40:18.132176Z"
    }
   },
   "outputs": [
    {
     "data": {
      "text/plain": [
       "''"
      ]
     },
     "execution_count": 33,
     "metadata": {},
     "output_type": "execute_result"
    }
   ],
   "source": [
    "#summarize text\n",
    "#sometimes if the text not big it will make empty text\n",
    "#text must not be too small\n",
    "import summa\n",
    "from summa.summarizer import summarize\n",
    "summarize(text2, ratio=0.20, language =\"arabic\")"
   ]
  },
  {
   "cell_type": "code",
   "execution_count": 34,
   "id": "a654eb60",
   "metadata": {
    "ExecuteTime": {
     "end_time": "2023-03-09T21:40:19.006396Z",
     "start_time": "2023-03-09T21:40:18.892757Z"
    }
   },
   "outputs": [
    {
     "name": "stdout",
     "output_type": "stream",
     "text": [
      " الكتابة الصحيحة :  إلى أهانينا في الشرقية\n",
      "\n",
      "هنذا لم وكل را شتوزاو تقو إسعارك, فل عام وأنتم مني , فالناس\n",
      "دائما للناس وأتم بالنسية لنا ضير اناس\n",
      "\f",
      "\n"
     ]
    }
   ],
   "source": [
    "#correct text\n",
    "corrector = SpellChecker()\n",
    "word = text2\n",
    "if word in corrector:\n",
    "    print(\" صحيح \")\n",
    "else:\n",
    "    correct_word = corrector.correction(word)\n",
    "    print(\" الكتابة الصحيحة : \", correct_word)"
   ]
  },
  {
   "cell_type": "code",
   "execution_count": 35,
   "id": "e24a1126",
   "metadata": {
    "ExecuteTime": {
     "end_time": "2023-03-09T21:40:20.431898Z",
     "start_time": "2023-03-09T21:40:19.833315Z"
    }
   },
   "outputs": [
    {
     "name": "stdout",
     "output_type": "stream",
     "text": [
      "To our insults in the East\n",
      "\n",
      "Here I did not eat all of Schutzau and strengthen your prices, for a year and you are from me, so the people\n",
      "Always for the people and complete forgetting to us hurt people\n"
     ]
    }
   ],
   "source": [
    "#from Arabic to English\n",
    "#text must not be too big\n",
    "from python_translator import Translator\n",
    "translator = Translator()\n",
    "result2 = translator.translate(text2, \"english\", \"arabic\")\n",
    "print(result2)"
   ]
  },
  {
   "cell_type": "code",
   "execution_count": 36,
   "id": "cfda0d09",
   "metadata": {
    "ExecuteTime": {
     "end_time": "2023-03-09T21:40:28.931815Z",
     "start_time": "2023-03-09T21:40:22.084199Z"
    }
   },
   "outputs": [],
   "source": [
    "#to audio in Arabic\n",
    "from gtts import gTTS\n",
    "to_aud2 = gTTS(text2, lang=\"ar\")\n",
    "to_aud2.save('imgText_AR.mp3')"
   ]
  },
  {
   "cell_type": "code",
   "execution_count": 37,
   "id": "57bbf9de",
   "metadata": {
    "ExecuteTime": {
     "end_time": "2023-03-09T21:40:31.761903Z",
     "start_time": "2023-03-09T21:40:31.757012Z"
    }
   },
   "outputs": [],
   "source": [
    "##############################################################################################################################"
   ]
  },
  {
   "cell_type": "code",
   "execution_count": 38,
   "id": "53e1070f",
   "metadata": {
    "ExecuteTime": {
     "end_time": "2023-03-09T21:40:32.990498Z",
     "start_time": "2023-03-09T21:40:32.977644Z"
    }
   },
   "outputs": [],
   "source": [
    "#save model\n",
    "import pickle  # .pickle extension model , h5. or .json,  games or programs.exe\n",
    "with open('imgAR_model','wb') as file: # write binary \n",
    "    pickle.dump(text2 ,file) # put model into file"
   ]
  },
  {
   "cell_type": "code",
   "execution_count": 39,
   "id": "9daa0a25",
   "metadata": {
    "ExecuteTime": {
     "end_time": "2023-03-09T21:40:33.820123Z",
     "start_time": "2023-03-09T21:40:33.811333Z"
    }
   },
   "outputs": [],
   "source": [
    "#Load Saved Model\n",
    "with open('imgAR_model','rb') as file: # read binary \n",
    "    imgModel2 = pickle.load(file)"
   ]
  },
  {
   "cell_type": "code",
   "execution_count": null,
   "id": "2d0356ef",
   "metadata": {},
   "outputs": [],
   "source": []
  }
 ],
 "metadata": {
  "kernelspec": {
   "display_name": "Python 3 (ipykernel)",
   "language": "python",
   "name": "python3"
  },
  "language_info": {
   "codemirror_mode": {
    "name": "ipython",
    "version": 3
   },
   "file_extension": ".py",
   "mimetype": "text/x-python",
   "name": "python",
   "nbconvert_exporter": "python",
   "pygments_lexer": "ipython3",
   "version": "3.9.12"
  },
  "toc": {
   "base_numbering": 1,
   "nav_menu": {},
   "number_sections": true,
   "sideBar": true,
   "skip_h1_title": false,
   "title_cell": "Table of Contents",
   "title_sidebar": "Contents",
   "toc_cell": false,
   "toc_position": {},
   "toc_section_display": true,
   "toc_window_display": false
  },
  "varInspector": {
   "cols": {
    "lenName": 16,
    "lenType": 16,
    "lenVar": 40
   },
   "kernels_config": {
    "python": {
     "delete_cmd_postfix": "",
     "delete_cmd_prefix": "del ",
     "library": "var_list.py",
     "varRefreshCmd": "print(var_dic_list())"
    },
    "r": {
     "delete_cmd_postfix": ") ",
     "delete_cmd_prefix": "rm(",
     "library": "var_list.r",
     "varRefreshCmd": "cat(var_dic_list()) "
    }
   },
   "types_to_exclude": [
    "module",
    "function",
    "builtin_function_or_method",
    "instance",
    "_Feature"
   ],
   "window_display": false
  }
 },
 "nbformat": 4,
 "nbformat_minor": 5
}
