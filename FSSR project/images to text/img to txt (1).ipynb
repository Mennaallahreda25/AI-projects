{
 "cells": [
  {
   "cell_type": "markdown",
   "id": "e8954b27",
   "metadata": {},
   "source": [
    "# scrap english text from images and save in txt file"
   ]
  },
  {
   "cell_type": "code",
   "execution_count": 1,
   "id": "f7ca37be",
   "metadata": {
    "ExecuteTime": {
     "end_time": "2023-03-28T21:02:01.344073Z",
     "start_time": "2023-03-28T21:01:59.549521Z"
    }
   },
   "outputs": [
    {
     "name": "stdout",
     "output_type": "stream",
     "text": [
      " choose Image: WhatsApp Image 2023-02-02 at 02.20.06.jpeg\n"
     ]
    }
   ],
   "source": [
    "#take your file path from user\n",
    "import os\n",
    "user_input = input(\" choose Image: \")\n",
    "assert os.path.exists(user_input), \"I did not find the file at, \"+str(user_input)\n",
    "f = open(user_input,'r+')\n",
    "f.close()"
   ]
  },
  {
   "cell_type": "code",
   "execution_count": 2,
   "id": "262c3437",
   "metadata": {
    "ExecuteTime": {
     "end_time": "2023-03-28T21:02:25.358186Z",
     "start_time": "2023-03-28T21:02:05.629326Z"
    }
   },
   "outputs": [
    {
     "name": "stdout",
     "output_type": "stream",
     "text": [
      "the img contains: CY)\n",
      "\n",
      " \n",
      "\n",
      "©\n",
      "\n",
      "LFS\n",
      "\n",
      " \n",
      "\n",
      " \n",
      "\n",
      "[=\n",
      "\n",
      "&\n",
      ".\n",
      "\n",
      "FER CRISPS OIF SPOOF OP OFOUGHE\n",
      "ay\n",
      "\n",
      " \n",
      "\n",
      "Mtr/s. Menna Allah Reda Abd El-wahed Hassan Mostafa has completed\n",
      "the certified Course in ICDL (International Computer Driving License)\n",
      "Program in a training period (30) Thirty Contact Hours , and her/ his Grade\n",
      "is (Excellent), in the period from aoe to 30/5/2022.\n",
      "\n",
      "This certificate from us so,,,\n",
      "\n",
      " \n",
      "\n",
      " \n",
      " \n",
      "\n",
      "\\\n",
      "D\n",
      "\n",
      "DQROLR LEFT LOG LEE LLD.\n",
      "\n",
      "&\n",
      "\n",
      " \n",
      "\n",
      " \n",
      "\n",
      " \n",
      "\f",
      "\n"
     ]
    }
   ],
   "source": [
    "import pytesseract\n",
    "pytesseract.pytesseract.tesseract_cmd = \"C:\\\\Program Files\\\\Tesseract-OCR\\\\tesseract.exe\"\n",
    "text1 = pytesseract.image_to_string(user_input)\n",
    "print(\"the img contains: \"+ text1)  \n"
   ]
  },
  {
   "cell_type": "code",
   "execution_count": 5,
   "id": "b39c221b",
   "metadata": {
    "ExecuteTime": {
     "end_time": "2023-03-28T21:06:42.120460Z",
     "start_time": "2023-03-28T21:06:42.102510Z"
    }
   },
   "outputs": [
    {
     "name": "stdout",
     "output_type": "stream",
     "text": [
      "Done\n"
     ]
    }
   ],
   "source": [
    "f4=open(\"imgText_EN.txt\",'a',encoding='utf-8')\n",
    "f4.writelines(\"The image text : \\n\"+text1+\"\\n\\n\") \n",
    "f4.close()\n",
    "print(\"Done\")"
   ]
  },
  {
   "cell_type": "code",
   "execution_count": 6,
   "id": "a92bc640",
   "metadata": {
    "ExecuteTime": {
     "end_time": "2023-03-28T21:07:11.830943Z",
     "start_time": "2023-03-28T21:07:10.644195Z"
    }
   },
   "outputs": [
    {
     "data": {
      "text/plain": [
       "'Program in a training period (30) Thirty Contact Hours , and her/ his Grade\\nis (Excellent), in the period from aoe to 30/5/2022.'"
      ]
     },
     "execution_count": 6,
     "metadata": {},
     "output_type": "execute_result"
    }
   ],
   "source": [
    "#summarize text\n",
    "#sometimes if the text not big it will make empty text\n",
    "#text must not be too small\n",
    "import summa\n",
    "from summa import summarizer\n",
    "summaized_text=summarizer.summarize(text1, language =\"english\")\n",
    "print(\"summarized text is: \"+ summaized_text)\n",
    "#save the summarized img text in txt file\n",
    "f4=open(\"imgText_EN.txt\",'a',encoding='utf-8')\n",
    "f4.writelines(\"The summarized text : \\n\"+summaized_text+\"\\n\\n\") \n",
    "f4.close()\n",
    "print (\"Done\")"
   ]
  },
  {
   "cell_type": "code",
   "execution_count": 7,
   "id": "077b40d7",
   "metadata": {
    "ExecuteTime": {
     "end_time": "2023-03-28T21:07:12.368736Z",
     "start_time": "2023-03-28T21:07:12.256729Z"
    }
   },
   "outputs": [
    {
     "name": "stdout",
     "output_type": "stream",
     "text": [
      "Correct Spelling is:  CY)\n",
      "\n",
      " \n",
      "\n",
      "©\n",
      "\n",
      "LFS\n",
      "\n",
      " \n",
      "\n",
      " \n",
      "\n",
      "[=\n",
      "\n",
      "&\n",
      ".\n",
      "\n",
      "FER CRISPS OIF SPOOF OP OFOUGHE\n",
      "ay\n",
      "\n",
      " \n",
      "\n",
      "Mtr/s. Menna Allah Reda Abd El-wahed Hassan Mostafa has completed\n",
      "the certified Course in ICDL (International Computer Driving License)\n",
      "Program in a training period (30) Thirty Contact Hours , and her/ his Grade\n",
      "is (Excellent), in the period from aoe to 30/5/2022.\n",
      "\n",
      "This certificate from us so,,,\n",
      "\n",
      " \n",
      "\n",
      " \n",
      " \n",
      "\n",
      "\\\n",
      "D\n",
      "\n",
      "DQROLR LEFT LOG LEE LLD.\n",
      "\n",
      "&\n",
      "\n",
      " \n",
      "\n",
      " \n",
      "\n",
      " \n",
      "\f",
      "\n"
     ]
    }
   ],
   "source": [
    "#correct text\n",
    "from spellchecker import SpellChecker\n",
    "corrector = SpellChecker()\n",
    "word = text1\n",
    "if word in corrector:\n",
    "    print(\"Correct\")\n",
    "else:\n",
    "    correct_word = corrector.correction(word)\n",
    "    print(\"Correct Spelling is: \", correct_word)\n",
    "\n",
    "#save the corrected img text in txt file\n",
    "f4=open(\"imgText_EN.txt\",'a',encoding='utf-8')\n",
    "f4.writelines(\"The corrected text : \\n\"+correct_word+\"\\n\\n\") \n",
    "f4.close()\n",
    "print(\"Done\")"
   ]
  },
  {
   "cell_type": "code",
   "execution_count": 8,
   "id": "898a4904",
   "metadata": {
    "ExecuteTime": {
     "end_time": "2023-03-28T21:07:17.480197Z",
     "start_time": "2023-03-28T21:07:13.853859Z"
    }
   },
   "outputs": [
    {
     "name": "stdout",
     "output_type": "stream",
     "text": [
      "قبرصي)\n",
      "\n",
      " \n",
      "\n",
      "©\n",
      "\n",
      "LFS\n",
      "\n",
      " \n",
      "\n",
      " \n",
      "\n",
      "[=\n",
      "\n",
      "&\n",
      ".\n",
      "\n",
      "FER CRISPS OIF SPOOF OP OFOUGHE\n",
      "ay\n",
      "\n",
      " \n",
      "\n",
      "متر / ثانية. أكملت منة الله رضا عبد الواحد حسن مصطفى\n",
      "الدورة المعتمدة في ICDL (الرخصة الدولية لقيادة الكمبيوتر)\n",
      "برنامج في فترة تدريبية (30) ثلاثون ساعة اتصال وبتدرجتها\n",
      "هو (ممتاز) في الفترة من aoe إلى 30/5/2022.\n",
      "\n",
      "هذه الشهادة منا لذلك ،،،\n",
      "\n",
      " \n",
      "\n",
      " \n",
      " \n",
      "\n",
      "\\\n",
      "د\n",
      "\n",
      "DQROLR LEFT LOG LEE LLD.\n",
      "\n",
      "&\n"
     ]
    }
   ],
   "source": [
    "#from english to arabic\n",
    "#text must not be too big\n",
    "from python_translator import Translator\n",
    "translator = Translator()\n",
    "result = translator.translate( text1, \"arabic\", \"english\")\n",
    "print(result)\n",
    "\n",
    "#save the translated img text in txt file\n",
    "f4=open(\"imgText_EN.txt\",'a',encoding='utf-8')\n",
    "f4.writelines(\"The translated text : \\n\"+str(result)+\"\\n\\n\") \n",
    "f4.close()\n",
    "print(\"Done\")"
   ]
  },
  {
   "cell_type": "code",
   "execution_count": 9,
   "id": "a38af17c",
   "metadata": {
    "ExecuteTime": {
     "end_time": "2023-03-28T21:07:30.807569Z",
     "start_time": "2023-03-28T21:07:18.366185Z"
    }
   },
   "outputs": [],
   "source": [
    "#to audio in English\n",
    "from gtts import gTTS\n",
    "to_aud = gTTS(text1)\n",
    "to_aud.save('imgText_EN.mp3')"
   ]
  },
  {
   "cell_type": "code",
   "execution_count": 10,
   "id": "e0824007",
   "metadata": {
    "ExecuteTime": {
     "end_time": "2023-03-28T21:07:30.855289Z",
     "start_time": "2023-03-28T21:07:30.845315Z"
    }
   },
   "outputs": [],
   "source": [
    "##############################################################################################################################"
   ]
  },
  {
   "cell_type": "code",
   "execution_count": 11,
   "id": "076f4242",
   "metadata": {
    "ExecuteTime": {
     "end_time": "2023-03-28T21:07:40.479718Z",
     "start_time": "2023-03-28T21:07:40.471741Z"
    }
   },
   "outputs": [],
   "source": [
    "#save model\n",
    "import pickle  # .pickle extension model \n",
    "with open('imgEN_model','wb') as file: # write binary \n",
    "    pickle.dump(text1 ,file) # put model into file"
   ]
  },
  {
   "cell_type": "code",
   "execution_count": 12,
   "id": "2f579404",
   "metadata": {
    "ExecuteTime": {
     "end_time": "2023-03-28T21:07:40.933212Z",
     "start_time": "2023-03-28T21:07:40.919222Z"
    }
   },
   "outputs": [],
   "source": [
    "#Load Saved Model\n",
    "with open('imgEN_model','rb') as file: # read binary \n",
    "    imgModel = pickle.load(file)"
   ]
  },
  {
   "cell_type": "markdown",
   "id": "5464ffd6",
   "metadata": {},
   "source": [
    "# scrap arabic text from images and save in txt file"
   ]
  },
  {
   "cell_type": "code",
   "execution_count": 13,
   "id": "2779eae1",
   "metadata": {
    "ExecuteTime": {
     "end_time": "2023-03-28T21:09:12.812781Z",
     "start_time": "2023-03-28T21:09:10.552567Z"
    }
   },
   "outputs": [
    {
     "name": "stdout",
     "output_type": "stream",
     "text": [
      " أختر صورة: C:\\Users\\hp\\Downloads\\WhatsApp Image 2023-02-02 at 22.14.35.jpeg\n"
     ]
    }
   ],
   "source": [
    "#take your file path from user\n",
    "import os\n",
    "user_input2 = input(\" أختر صورة: \")\n",
    "assert os.path.exists(user_input2), \" لم أعثر على املف فى \"+str(user_input2)\n",
    "f2 = open(user_input2,'r+')\n",
    "f2.close()"
   ]
  },
  {
   "cell_type": "code",
   "execution_count": 14,
   "id": "34798f86",
   "metadata": {
    "ExecuteTime": {
     "end_time": "2023-03-28T21:09:21.706682Z",
     "start_time": "2023-03-28T21:09:19.686252Z"
    }
   },
   "outputs": [
    {
     "name": "stdout",
     "output_type": "stream",
     "text": [
      "تحتوى الصورة على : ا\n",
      "إن هذه الأداة ستعد المساعد الأمثل لكل\n",
      "مطور, إن إنها ستسهل عمليات كتابة\n",
      "لأكواد بشكل سلس ومبسط وإضافة\n",
      "قتراحات مميزة لثلاتم المشروع الخاض\n",
      "بالمبرمج. وستعمل جنباً إلى جنب مع\n",
      "لمبرمج لزيادة الإنتاجية؛ وتقليل المهام\n",
      "اليدوية التي تقف على عاتق المبرمج\n",
      "واستبدالها بالذكاء الاصطناعي, وتعد نقلة\n",
      "كبيرة ومتطورة لتحسين النظام البرمجي\n",
      "للجيل التالي.\n",
      "\n",
      "  \n",
      " \n",
      "\n",
      " \n",
      "\n",
      "وحسب ما تم تبليغ عنه على المنصة\n",
      "الرسمية للأداة فإن الاشتراك سيكون مقدراً\n",
      "بحوالي 8510 كل شهر مع 60 يوماً مجاناً أو |\"\n",
      "0 للسنة: على الرغم من ذكرها بشكل 7\n",
      "متكرر عن نيتها بالقيام بتحسينات فرعية\n",
      "لهذه الأداة تضمنت هذه التحسينات تغيير |\n",
      "بعض الأساليب المتبعة لتلائم المبرمجين\n",
      "لذين يعانون من إعاقة, وأكدت المنصة\n",
      "عن نيتها لأن تكون هذه الأداة المساعد\n",
      "لكامل لكل المبرمجين وأن تتوفر بنطاق\n",
      "واسع.\n",
      "قد ذكرت بالتفصيل كل ما ذكر في الموقع\n",
      "لرسمي لمنصة (ان!!]1 © بخصوص أداة\n",
      "0001101 التي انتشرت أخبارها في الآونة\n",
      "'] الأخيرة.\n",
      "لل ,. ددءمد\n",
      "\n",
      "  \n",
      " \n",
      "\n",
      " \n",
      "\f",
      "\n"
     ]
    }
   ],
   "source": [
    "from PIL import Image\n",
    "from pytesseract import image_to_string\n",
    "image=Image .open (user_input2)\n",
    "text2=image_to_string(image, lang=\"ara\")\n",
    "print (\"تحتوى الصورة على : \"+ text2)\n"
   ]
  },
  {
   "cell_type": "code",
   "execution_count": 15,
   "id": "268dd022",
   "metadata": {
    "ExecuteTime": {
     "end_time": "2023-03-28T21:09:28.655029Z",
     "start_time": "2023-03-28T21:09:28.587852Z"
    }
   },
   "outputs": [
    {
     "name": "stdout",
     "output_type": "stream",
     "text": [
      "تم\n"
     ]
    }
   ],
   "source": [
    "f2=open(\"imgText_AR.txt\",'a',encoding='utf-8')\n",
    "f2.writelines(\"نص الصورة : \\n\"+text2+\"\\n\\n\") \n",
    "f2.close()\n",
    "print(\"تم\")"
   ]
  },
  {
   "cell_type": "code",
   "execution_count": 16,
   "id": "7a352c92",
   "metadata": {
    "ExecuteTime": {
     "end_time": "2023-03-28T21:09:29.323524Z",
     "start_time": "2023-03-28T21:09:29.297622Z"
    }
   },
   "outputs": [
    {
     "data": {
      "text/plain": [
       "'إن هذه الأداة ستعد المساعد الأمثل لكل\\nبالمبرمج.\\n0 للسنة: على الرغم من ذكرها بشكل 7\\nلهذه الأداة تضمنت هذه التحسينات تغيير |\\nعن نيتها لأن تكون هذه الأداة المساعد'"
      ]
     },
     "execution_count": 16,
     "metadata": {},
     "output_type": "execute_result"
    }
   ],
   "source": [
    "#summarize text\n",
    "#sometimes if the text not big it will make empty text\n",
    "#text must not be too small\n",
    "import summa\n",
    "from summa import summarizer\n",
    "summaized_text=summarizer.summarize(text2, language =\"arabic\")\n",
    "print(\"ملخص الصورة : \"+ summaized_text)\n",
    "#save the summarized img text in txt file\n",
    "f4=open(\"imgText_AR.txt\",'a',encoding='utf-8')\n",
    "f4.writelines(\"ملخص الصورة : \\n\"+summaized_text+\"\\n\\n\") \n",
    "f4.close()\n",
    "print (\"تم\")"
   ]
  },
  {
   "cell_type": "code",
   "execution_count": 17,
   "id": "a654eb60",
   "metadata": {
    "ExecuteTime": {
     "end_time": "2023-03-28T21:09:34.575383Z",
     "start_time": "2023-03-28T21:09:34.474073Z"
    }
   },
   "outputs": [
    {
     "name": "stdout",
     "output_type": "stream",
     "text": [
      " الكتابة الصحيحة :  ا\n",
      "إن هذه الأداة ستعد المساعد الأمثل لكل\n",
      "مطور, إن إنها ستسهل عمليات كتابة\n",
      "لأكواد بشكل سلس ومبسط وإضافة\n",
      "قتراحات مميزة لثلاتم المشروع الخاض\n",
      "بالمبرمج. وستعمل جنباً إلى جنب مع\n",
      "لمبرمج لزيادة الإنتاجية؛ وتقليل المهام\n",
      "اليدوية التي تقف على عاتق المبرمج\n",
      "واستبدالها بالذكاء الاصطناعي, وتعد نقلة\n",
      "كبيرة ومتطورة لتحسين النظام البرمجي\n",
      "للجيل التالي.\n",
      "\n",
      "  \n",
      " \n",
      "\n",
      " \n",
      "\n",
      "وحسب ما تم تبليغ عنه على المنصة\n",
      "الرسمية للأداة فإن الاشتراك سيكون مقدراً\n",
      "بحوالي 8510 كل شهر مع 60 يوماً مجاناً أو |\"\n",
      "0 للسنة: على الرغم من ذكرها بشكل 7\n",
      "متكرر عن نيتها بالقيام بتحسينات فرعية\n",
      "لهذه الأداة تضمنت هذه التحسينات تغيير |\n",
      "بعض الأساليب المتبعة لتلائم المبرمجين\n",
      "لذين يعانون من إعاقة, وأكدت المنصة\n",
      "عن نيتها لأن تكون هذه الأداة المساعد\n",
      "لكامل لكل المبرمجين وأن تتوفر بنطاق\n",
      "واسع.\n",
      "قد ذكرت بالتفصيل كل ما ذكر في الموقع\n",
      "لرسمي لمنصة (ان!!]1 © بخصوص أداة\n",
      "0001101 التي انتشرت أخبارها في الآونة\n",
      "'] الأخيرة.\n",
      "لل ,. ددءمد\n",
      "\n",
      "  \n",
      " \n",
      "\n",
      " \n",
      "\f",
      "\n"
     ]
    }
   ],
   "source": [
    "#correct text\n",
    "from spellchecker import SpellChecker\n",
    "corrector = SpellChecker()\n",
    "word = text2\n",
    "if word in corrector:\n",
    "    print(\" صحيح \")\n",
    "else:\n",
    "    correct_word2 = corrector.correction(word)\n",
    "    print(\" الكتابة الصحيحة : \", correct_word2)\n",
    "    \n",
    "#save the corrected img text in txt file\n",
    "f2=open(\"imgText_AR.txt\",'a',encoding='utf-8')\n",
    "f2.writelines(\"النص بعد التصحيح : \\n\"+correct_word2+\"\\n\\n\")\n",
    "f2.close()\n",
    "print(\"تم\")"
   ]
  },
  {
   "cell_type": "code",
   "execution_count": 18,
   "id": "e24a1126",
   "metadata": {
    "ExecuteTime": {
     "end_time": "2023-03-28T21:10:06.227053Z",
     "start_time": "2023-03-28T21:10:04.660370Z"
    }
   },
   "outputs": [
    {
     "name": "stdout",
     "output_type": "stream",
     "text": [
      "a\n",
      "This tool will be the perfect helper for everyone\n",
      "developer, it will facilitate writing operations\n",
      "To code smoothly, simplified and add\n",
      "Distinctive suggestions for the special project\n",
      "programmer. will work in conjunction with\n",
      "programmer to increase productivity; and reduce tasks\n",
      "manual that stands the responsibility of the programmer\n",
      "And replace it with artificial intelligence, and it is a shift\n",
      "Great and advanced system optimization software\n",
      "for the next generation.\n",
      "\n",
      "  \n",
      " \n",
      "\n",
      " \n",
      "\n",
      "As reported on the platform\n",
      "For the official tool, the subscription will be appreciated\n",
      "$8,510 per month with 60 days free or |\n",
      "0 for the year: although it is mentioned as 7\n",
      "Frequently expresses its intention to make sub-improvements\n",
      "For this tool these improvements included change |\n",
      "Some of the methods used to suit programmers\n",
      "For those with a disability, the platform confirmed\n",
      "This tool is intended to be plugin\n",
      "Full package for all programmers and to be available in a wide range\n",
      "wide.\n",
      "I have mentioned in detail everything mentioned on the site\n",
      "For the official platform (N!!] 1 © regarding the tool\n",
      "0001101, which spread news recently\n",
      "'] Last.\n",
      "Of ,. dammit\n"
     ]
    }
   ],
   "source": [
    "#from Arabic to English\n",
    "#text must not be too big\n",
    "from python_translator import Translator\n",
    "translator = Translator()\n",
    "result2 = translator.translate(text2, \"english\", \"arabic\")\n",
    "print(result2)\n",
    "\n",
    "#save the translated img text in txt file\n",
    "f2=open(\"imgText_AR.txt\",'a',encoding='utf-8')\n",
    "f2.writelines(\"النص بعد الترجمة : \\n\"+str(result2)+\"\\n\\n\")\n",
    "f2.close()\n",
    "print(\"تم\")"
   ]
  },
  {
   "cell_type": "code",
   "execution_count": 19,
   "id": "cfda0d09",
   "metadata": {
    "ExecuteTime": {
     "end_time": "2023-03-28T21:10:29.625651Z",
     "start_time": "2023-03-28T21:10:07.471588Z"
    }
   },
   "outputs": [],
   "source": [
    "#to audio in Arabic\n",
    "from gtts import gTTS\n",
    "to_aud2 = gTTS(text2, lang=\"ar\")\n",
    "to_aud2.save('imgText_AR.mp3')"
   ]
  },
  {
   "cell_type": "code",
   "execution_count": 20,
   "id": "57bbf9de",
   "metadata": {
    "ExecuteTime": {
     "end_time": "2023-03-28T21:10:46.748139Z",
     "start_time": "2023-03-28T21:10:46.736172Z"
    }
   },
   "outputs": [],
   "source": [
    "##############################################################################################################################"
   ]
  },
  {
   "cell_type": "code",
   "execution_count": 21,
   "id": "53e1070f",
   "metadata": {
    "ExecuteTime": {
     "end_time": "2023-03-28T21:10:47.166485Z",
     "start_time": "2023-03-28T21:10:47.137018Z"
    }
   },
   "outputs": [],
   "source": [
    "#save model\n",
    "import pickle  # .pickle extension model , h5. or .json,  games or programs.exe\n",
    "with open('imgAR_model','wb') as file: # write binary \n",
    "    pickle.dump(text2 ,file) # put model into file"
   ]
  },
  {
   "cell_type": "code",
   "execution_count": 22,
   "id": "9daa0a25",
   "metadata": {
    "ExecuteTime": {
     "end_time": "2023-03-28T21:10:48.900894Z",
     "start_time": "2023-03-28T21:10:48.883910Z"
    }
   },
   "outputs": [],
   "source": [
    "#Load Saved Model\n",
    "with open('imgAR_model','rb') as file: # read binary \n",
    "    imgModel2 = pickle.load(file)"
   ]
  },
  {
   "cell_type": "code",
   "execution_count": null,
   "id": "2d0356ef",
   "metadata": {},
   "outputs": [],
   "source": []
  }
 ],
 "metadata": {
  "kernelspec": {
   "display_name": "Python 3 (ipykernel)",
   "language": "python",
   "name": "python3"
  },
  "language_info": {
   "codemirror_mode": {
    "name": "ipython",
    "version": 3
   },
   "file_extension": ".py",
   "mimetype": "text/x-python",
   "name": "python",
   "nbconvert_exporter": "python",
   "pygments_lexer": "ipython3",
   "version": "3.9.12"
  },
  "toc": {
   "base_numbering": 1,
   "nav_menu": {},
   "number_sections": true,
   "sideBar": true,
   "skip_h1_title": false,
   "title_cell": "Table of Contents",
   "title_sidebar": "Contents",
   "toc_cell": false,
   "toc_position": {},
   "toc_section_display": true,
   "toc_window_display": false
  },
  "varInspector": {
   "cols": {
    "lenName": 16,
    "lenType": 16,
    "lenVar": 40
   },
   "kernels_config": {
    "python": {
     "delete_cmd_postfix": "",
     "delete_cmd_prefix": "del ",
     "library": "var_list.py",
     "varRefreshCmd": "print(var_dic_list())"
    },
    "r": {
     "delete_cmd_postfix": ") ",
     "delete_cmd_prefix": "rm(",
     "library": "var_list.r",
     "varRefreshCmd": "cat(var_dic_list()) "
    }
   },
   "types_to_exclude": [
    "module",
    "function",
    "builtin_function_or_method",
    "instance",
    "_Feature"
   ],
   "window_display": false
  }
 },
 "nbformat": 4,
 "nbformat_minor": 5
}
