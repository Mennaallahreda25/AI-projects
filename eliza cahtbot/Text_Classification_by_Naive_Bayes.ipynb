{
  "nbformat": 4,
  "nbformat_minor": 0,
  "metadata": {
    "colab": {
      "provenance": []
    },
    "kernelspec": {
      "name": "python3",
      "display_name": "Python 3"
    },
    "language_info": {
      "name": "python"
    }
  },
  "cells": [
    {
      "cell_type": "markdown",
      "source": [
        " this project is a simple text classification project using Naive Bayes for sentiment analysis documents to positive and negative.\n",
        " first the train was on movies reviews data and i tested it in the end on new documents and on book review review to see how much accurate it is and see the likelihood."
      ],
      "metadata": {
        "id": "AG0eWTsKU3VL"
      }
    },
    {
      "cell_type": "code",
      "execution_count": 1,
      "metadata": {
        "colab": {
          "base_uri": "https://localhost:8080/"
        },
        "id": "7OEhdQlRTNwX",
        "outputId": "bb6d0660-88d1-4539-bc6b-d12278a4c55a"
      },
      "outputs": [
        {
          "output_type": "stream",
          "name": "stdout",
          "text": [
            "Requirement already satisfied: nltk in /usr/local/lib/python3.10/dist-packages (3.8.1)\n",
            "Requirement already satisfied: click in /usr/local/lib/python3.10/dist-packages (from nltk) (8.1.7)\n",
            "Requirement already satisfied: joblib in /usr/local/lib/python3.10/dist-packages (from nltk) (1.3.2)\n",
            "Requirement already satisfied: regex>=2021.8.3 in /usr/local/lib/python3.10/dist-packages (from nltk) (2023.6.3)\n",
            "Requirement already satisfied: tqdm in /usr/local/lib/python3.10/dist-packages (from nltk) (4.66.1)\n"
          ]
        }
      ],
      "source": [
        "!pip install nltk"
      ]
    },
    {
      "cell_type": "markdown",
      "source": [
        "**Tokenization and Data Preparation:**"
      ],
      "metadata": {
        "id": "qhKGnXPETjQj"
      }
    },
    {
      "cell_type": "code",
      "source": [
        "import nltk\n",
        "from nltk.tokenize import word_tokenize, sent_tokenize\n",
        "from nltk.corpus import movie_reviews\n",
        "from nltk.classify import NaiveBayesClassifier\n",
        "from nltk.classify.util import accuracy\n",
        "\n",
        "nltk.download('punkt')\n",
        "nltk.download('movie_reviews')\n",
        "\n",
        "# Load positive and negative reviews\n",
        "positive_reviews = [(movie_reviews.words(fileids=[f]), 'pos') for f in movie_reviews.fileids('pos')]\n",
        "negative_reviews = [(movie_reviews.words(fileids=[f]), 'neg') for f in movie_reviews.fileids('neg')]\n",
        "\n",
        "# Combine positive and negative reviews\n",
        "all_reviews = positive_reviews + negative_reviews\n",
        "\n",
        "# Split the data into training and testing sets\n",
        "split_ratio = 0.8\n",
        "split_pos = int(len(positive_reviews) * split_ratio)\n",
        "split_neg = int(len(negative_reviews) * split_ratio)\n",
        "\n",
        "train_set = all_reviews[:split_pos] + all_reviews[len(positive_reviews):len(positive_reviews) + split_neg]\n",
        "test_set = all_reviews[split_pos:len(positive_reviews)] + all_reviews[len(positive_reviews) + split_neg:]\n"
      ],
      "metadata": {
        "colab": {
          "base_uri": "https://localhost:8080/"
        },
        "id": "MrsV6DGfTcBK",
        "outputId": "c271a426-aea2-4754-f76a-52f6dc2d3b88"
      },
      "execution_count": 2,
      "outputs": [
        {
          "output_type": "stream",
          "name": "stderr",
          "text": [
            "[nltk_data] Downloading package punkt to /root/nltk_data...\n",
            "[nltk_data]   Unzipping tokenizers/punkt.zip.\n",
            "[nltk_data] Downloading package movie_reviews to /root/nltk_data...\n",
            "[nltk_data]   Unzipping corpora/movie_reviews.zip.\n"
          ]
        }
      ]
    },
    {
      "cell_type": "markdown",
      "source": [
        "**Feature Extraction:**"
      ],
      "metadata": {
        "id": "bLtrusqeTu0_"
      }
    },
    {
      "cell_type": "code",
      "source": [
        "# Define feature extractor function\n",
        "def extract_features(words):\n",
        "    return dict([(word, True) for word in words])\n",
        "\n",
        "# Create the feature sets\n",
        "train_features = [(extract_features(words), sentiment) for (words, sentiment) in train_set]\n",
        "test_features = [(extract_features(words), sentiment) for (words, sentiment) in test_set]\n"
      ],
      "metadata": {
        "id": "Jx5f4J0aTvHc"
      },
      "execution_count": 3,
      "outputs": []
    },
    {
      "cell_type": "markdown",
      "source": [
        "**Train the Naive Bayes Classifier:**"
      ],
      "metadata": {
        "id": "lj35WnmhT9IX"
      }
    },
    {
      "cell_type": "code",
      "source": [
        "# Train the Naive Bayes classifier\n",
        "classifier = NaiveBayesClassifier.train(train_features)\n"
      ],
      "metadata": {
        "id": "5kkwQPBWT125"
      },
      "execution_count": 4,
      "outputs": []
    },
    {
      "cell_type": "markdown",
      "source": [
        "**Evaluate the Model:**"
      ],
      "metadata": {
        "id": "UYz282QWUJcn"
      }
    },
    {
      "cell_type": "code",
      "source": [
        "# Evaluate the accuracy on the test set\n",
        "accuracy_score = accuracy(classifier, test_features)\n",
        "print(f\"Accuracy: {accuracy_score * 100:.2f}%\")\n"
      ],
      "metadata": {
        "colab": {
          "base_uri": "https://localhost:8080/"
        },
        "id": "Xw6fietHUSs3",
        "outputId": "24c52f44-b64f-4d10-af2d-c64ac104a698"
      },
      "execution_count": 5,
      "outputs": [
        {
          "output_type": "stream",
          "name": "stdout",
          "text": [
            "Accuracy: 73.50%\n"
          ]
        }
      ]
    },
    {
      "cell_type": "markdown",
      "source": [
        "**Test the Model on New Documents:**"
      ],
      "metadata": {
        "id": "Timb-3paUfTR"
      }
    },
    {
      "cell_type": "code",
      "source": [
        "# Test the classifier on new documents\n",
        "new_document_1 = \"I really liked the plot of the movie. The characters were well-developed.\"\n",
        "new_document_2 = \"The movie was terrible. I didn't enjoy it at all.\"\n",
        "\n",
        "# Tokenize the new documents\n",
        "tokens_1 = word_tokenize(new_document_1)\n",
        "tokens_2 = word_tokenize(new_document_2)\n",
        "\n",
        "# Classify the new documents\n",
        "features_1 = extract_features(tokens_1)\n",
        "features_2 = extract_features(tokens_2)\n",
        "\n",
        "sentiment_1 = classifier.classify(features_1)\n",
        "sentiment_2 = classifier.classify(features_2)\n",
        "\n",
        "print(f\"Predicted Sentiment for Document 1: {sentiment_1}\")\n",
        "print(f\"Predicted Sentiment for Document 2: {sentiment_2}\")\n"
      ],
      "metadata": {
        "colab": {
          "base_uri": "https://localhost:8080/"
        },
        "id": "xFgomC1FUdYX",
        "outputId": "8a299511-910e-4609-b144-40dd55b8ea5e"
      },
      "execution_count": 6,
      "outputs": [
        {
          "output_type": "stream",
          "name": "stdout",
          "text": [
            "Predicted Sentiment for Document 1: neg\n",
            "Predicted Sentiment for Document 2: neg\n"
          ]
        }
      ]
    },
    {
      "cell_type": "code",
      "source": [
        "# Show likelihood for each class\n",
        "prob_dist_1 = classifier.prob_classify(features_1)\n",
        "prob_dist_2 = classifier.prob_classify(features_2)\n",
        "\n",
        "print(f\"\\nPredicted Sentiment for Document 1: {sentiment_1}\")\n",
        "print(f\"Likelihood for Document 1:\")\n",
        "for label in classifier.labels():\n",
        "    print(f\"{label}: {prob_dist_1.prob(label) * 100:.2f}%\")\n",
        "\n",
        "print(f\"\\nPredicted Sentiment for Document 2: {sentiment_2}\")\n",
        "print(f\"Likelihood for Document 2:\")\n",
        "for label in classifier.labels():\n",
        "    print(f\"{label}: {prob_dist_2.prob(label) * 100:.2f}%\")"
      ],
      "metadata": {
        "colab": {
          "base_uri": "https://localhost:8080/"
        },
        "id": "eXMaXerxbPYZ",
        "outputId": "12531b45-9e03-4bca-a7ff-7b4a9c6d5bd7"
      },
      "execution_count": 10,
      "outputs": [
        {
          "output_type": "stream",
          "name": "stdout",
          "text": [
            "\n",
            "Predicted Sentiment for Document 1: neg\n",
            "Likelihood for Document 1:\n",
            "pos: 41.45%\n",
            "neg: 58.55%\n",
            "\n",
            "Predicted Sentiment for Document 2: neg\n",
            "Likelihood for Document 2:\n",
            "pos: 26.20%\n",
            "neg: 73.80%\n"
          ]
        }
      ]
    },
    {
      "cell_type": "markdown",
      "source": [
        "**test on Emotions Across Cultures: Ancient China and Greece book review**"
      ],
      "metadata": {
        "id": "ZQwrZtN7fGVA"
      }
    },
    {
      "cell_type": "code",
      "source": [
        "book_review= \"\"\"\"Emotions Across Cultures: Ancient China and Greece\" brings together nine distinguished scholars working with modern and ancient texts from China and Greece to investigate emotional history’s potential to address cross-cultural and trans-historical continuities and divergences. The volume makes a substantial addition to the library of any scholar interested in the fields of emotional history and comparative history.\n",
        "\n",
        "Emotions Across Cultures: Ancient China and Greece brings together nine distinguished scholars working with modern and ancient texts from China and Greece to investigate emotional history’s potential to address cross-cultural and trans-historical continuities and divergences. This ambitious volume is edited by the esteemed classicist David Konstan, Professor of Classics at New York University.\n",
        "\n",
        "A project of this temporal and geographic span necessarily prompts the question of comparability: Konstan defines the book's approach in the Introduction as a “juxtaposition” of the expression and management of emotions, rather than as a broadly “comparative” project that risks reliance on anachronistic categories. Discussions of commensurate emotions across cultural contexts are thoughtfully paired in conversation. In the first two chapters, Zhao Lu’s exploration of ancient Chinese management of worry through divination is paired with an examination of the classical Greek’s notion of hope, or elpis. This juxtaposition illustrates the wide range of strategies that both ancient Greece and China adopted to manage and make sense of feelings for an uncertain future. Texts of moral philosophy, which prescribed emotional expressions, attract special attention among the contributions. Chapters Three and Four contrast the Chinese self-deprecating sentiment of “not-daring” as an expression of gentlemanly humility with an exploration of the ambivalent attitude of Ancient Greeks towards thymos, potentially heroic or destructive rage. Chapter Five highlights the Chinese administrators’ wariness for anger’s disruptive potential through its focus on the Han legal code, which grew to be less tolerant of crimes fueled by righteous anger.\n",
        "\n",
        "DISCUSSIONS OF COMMENSURATE EMOTIONS ACROSS CULTURAL CONTEXTS ARE THOUGHTFULLY PAIRED IN CONVERSATION.\n",
        "The volume’s contributors carefully distinguish between privately felt sentiments, which some may argue as ahistorical and universal, and their socialized expressions, which offer insights into specific cultural and social contexts. This is in part accomplished through heavy engagement with normative texts rooted in specific contexts. Chapter Eight by Zhou Yiqun focuses on virtuous female exemplars and powerfully argues that gendered expectations shaped socially acceptable performances of emotions in a patriarchal world. Echoing Zhou, Curie Virág’s chapter Nine points out that Chinese moral philosophers like Xunzi acknowledged the dissonance between individual sentiment and socially acceptable expressions in the right measure. Framing the moral practice of reconciling the two as a hard-won “practical wisdom,” Virág dispels the illusion of ahistorical emotions and calls attention to the potential of historicized emotional expressions as a lens through which to view divergent cultural priorities of ancient thinkers across cultures.\n",
        "\n",
        "Continuities across time and parallels across place are also present, especially in the two contributions by John Kirby and Stavroula Kiritsi, whose works are not rooted in a specific context in the ancient world. Kirby provides a wide-ranging comparison of expressions of emotions in ceremonial settings across Ancient Greece, India, and China. Diachronic change across time and its mediation by modern language and culture is explored in Chapter Seven by Kiritsi, the only contributor whose focus was not ancient. This chapter investigates the expressed emotions of modern audiences viewing adapted Greek tragedies, arguing for the broad continuity of affective responses to tragedies across ancient and modern times while cautioning that the continuity of expressed emotions may result from the mediation of theatrical tropes in modern Greek language.\n",
        "\n",
        "The volume’s superior quality is proven as much by the strength of its explicit arguments as it is by its lingering provocations. One wonders if further insights about cross-cultural comparatives could arise from expanding the critical focus on texts to include rich visual and material representations of emotions. The volume is relatively sparsely illustrated. The images that do appear illustrate and clarify textual analysis for the reader—outstanding examples include Michael Nylan and Trenton Wilson’s map from Yi Zhoushu in Chapter Three—but the images seldom feature as objects of analysis in their own right. One could imagine how the volume’s message could be enriched if objects and images were dealt with with the same care that the contributors afforded textual sources. In any case, the volume makes a substantial addition to the library of any scholar interested in the fields of emotional history and comparative history.\"\"\""
      ],
      "metadata": {
        "id": "IfpWhw3ze2KW"
      },
      "execution_count": 11,
      "outputs": []
    },
    {
      "cell_type": "code",
      "source": [
        "# Tokenize the new documents\n",
        "tokens_3 = word_tokenize(book_review)\n",
        "\n",
        "# Classify the documents\n",
        "features_3 = extract_features(tokens_3)\n",
        "\n",
        "sentiment_3 = classifier.classify(features_3)\n",
        "\n",
        "print(f\"Predicted Sentiment for book review: {sentiment_3}\")\n",
        "\n",
        "\n",
        "# Show likelihood for each class\n",
        "prob_dist_3 = classifier.prob_classify(features_3)\n",
        "\n",
        "print(f\"\\nPredicted Sentiment for book review: {sentiment_3}\")\n",
        "print(f\"Likelihood for the book review:\")\n",
        "for label in classifier.labels():\n",
        "    print(f\"{label}: {prob_dist_3.prob(label) * 100:.2f}%\")\n"
      ],
      "metadata": {
        "colab": {
          "base_uri": "https://localhost:8080/"
        },
        "id": "tVZEgSyIfPma",
        "outputId": "244123c0-a1f8-49c2-e453-7834a6b6a290"
      },
      "execution_count": 12,
      "outputs": [
        {
          "output_type": "stream",
          "name": "stdout",
          "text": [
            "Predicted Sentiment for book review: pos\n",
            "\n",
            "Predicted Sentiment for book review: pos\n",
            "Likelihood for the book review:\n",
            "pos: 100.00%\n",
            "neg: 0.00%\n"
          ]
        }
      ]
    }
  ]
}