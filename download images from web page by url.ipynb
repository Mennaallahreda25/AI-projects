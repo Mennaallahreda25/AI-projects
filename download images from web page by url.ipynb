{
 "cells": [
  {
   "cell_type": "markdown",
   "id": "c6aa0d20",
   "metadata": {},
   "source": [
    "# first way"
   ]
  },
  {
   "cell_type": "code",
   "execution_count": 1,
   "id": "7ae9a5d2",
   "metadata": {
    "ExecuteTime": {
     "end_time": "2022-12-02T03:50:24.195245Z",
     "start_time": "2022-12-02T03:50:23.719471Z"
    }
   },
   "outputs": [],
   "source": [
    "import requests\n",
    "import os\n",
    "from tqdm import tqdm\n",
    "from bs4 import BeautifulSoup as bs\n",
    "from urllib.parse import urljoin, urlparse"
   ]
  },
  {
   "cell_type": "code",
   "execution_count": 2,
   "id": "d9bdffbb",
   "metadata": {
    "ExecuteTime": {
     "end_time": "2022-12-02T03:50:42.101638Z",
     "start_time": "2022-12-02T03:50:42.084707Z"
    }
   },
   "outputs": [],
   "source": [
    "def is_valid(url):\n",
    "    \"\"\"\n",
    "    Checks whether `url` is a valid URL.\n",
    "    \"\"\"\n",
    "    parsed = urlparse(url)\n",
    "    return bool(parsed.netloc) and bool(parsed.scheme)"
   ]
  },
  {
   "cell_type": "code",
   "execution_count": 6,
   "id": "2dc3a754",
   "metadata": {
    "ExecuteTime": {
     "end_time": "2022-12-02T03:53:17.729735Z",
     "start_time": "2022-12-02T03:53:17.711781Z"
    }
   },
   "outputs": [],
   "source": [
    "def get_all_images(url):\n",
    "    \"\"\"\n",
    "    Returns all image URLs on a single `url`\n",
    "    \"\"\"\n",
    "    soup = bs(requests.get(url).content, \"html.parser\")\n",
    "    urls = []\n",
    "    for img in tqdm(soup.find_all(\"img\"), \"Extracting images\"):\n",
    "        img_url = img.attrs.get(\"src\")\n",
    "        if not img_url:\n",
    "            # if img does not contain src attribute, just skip\n",
    "            continue\n",
    "        # make the URL absolute by joining domain with the URL that is just extracted\n",
    "        img_url = urljoin(url, img_url)\n",
    "        try:\n",
    "            pos = img_url.index(\"?\")\n",
    "            img_url = img_url[:pos]\n",
    "        except ValueError:\n",
    "            pass\n",
    "                # finally, if the url is valid\n",
    "        if is_valid(img_url):\n",
    "            urls.append(img_url)\n",
    "    return urls"
   ]
  },
  {
   "cell_type": "code",
   "execution_count": 7,
   "id": "1766a3b7",
   "metadata": {
    "ExecuteTime": {
     "end_time": "2022-12-02T03:53:22.276115Z",
     "start_time": "2022-12-02T03:53:22.259163Z"
    }
   },
   "outputs": [],
   "source": [
    "def download(url, pathname):\n",
    "    \"\"\"\n",
    "    Downloads a file given an URL and puts it in the folder `pathname`\n",
    "    \"\"\"\n",
    "    # if path doesn't exist, make that path dir\n",
    "    if not os.path.isdir(pathname):\n",
    "        os.makedirs(pathname)\n",
    "    # download the body of response by chunk, not immediately\n",
    "    response = requests.get(url, stream=True)\n",
    "    # get the total file size\n",
    "    file_size = int(response.headers.get(\"Content-Length\", 0))\n",
    "    # get the file name\n",
    "    filename = os.path.join(pathname, url.split(\"/\")[-1])\n",
    "    # progress bar, changing the unit to bytes instead of iteration (default by tqdm)\n",
    "    progress = tqdm(response.iter_content(1024), f\"Downloading {filename}\", total=file_size, unit=\"B\", unit_scale=True, unit_divisor=1024)\n",
    "    with open(filename, \"wb\") as f:\n",
    "        for data in progress.iterable:\n",
    "            # write data read to the file\n",
    "            f.write(data)\n",
    "            # update the progress bar manually\n",
    "            progress.update(len(data))"
   ]
  },
  {
   "cell_type": "code",
   "execution_count": 8,
   "id": "1caf5758",
   "metadata": {
    "ExecuteTime": {
     "end_time": "2022-12-02T03:53:41.153346Z",
     "start_time": "2022-12-02T03:53:41.142340Z"
    }
   },
   "outputs": [],
   "source": [
    "def main(url, path):\n",
    "    # get all images\n",
    "    imgs = get_all_images(url)\n",
    "    for img in imgs:\n",
    "        # for each image, download it\n",
    "        download(img, path)"
   ]
  },
  {
   "cell_type": "code",
   "execution_count": 11,
   "id": "6cc3b3a5",
   "metadata": {
    "ExecuteTime": {
     "end_time": "2022-12-02T03:56:50.882314Z",
     "start_time": "2022-12-02T03:56:37.102864Z"
    },
    "scrolled": true
   },
   "outputs": [
    {
     "name": "stderr",
     "output_type": "stream",
     "text": [
      "Extracting images: 100%|████████████████████████████████████████████████████████████| 14/14 [00:00<00:00, 14061.36it/s]\n",
      "Downloading cats\\MendelNewThistleLogo.png:  99%|██████████████████████████████████▋| 2.70k/2.72k [00:00<00:00, 231kB/s]\n",
      "Downloading cats\\MendelNewThistleLogo.png:  99%|██████████████████████████████████▋| 2.70k/2.72k [00:00<00:00, 198kB/s]\n",
      "Downloading cats\\Himalayan-chocolate-point.jpg: 70.3kB [00:00, 763kB/s]                                                \n",
      "Downloading cats\\Limestone-ostracon-drawing-cat-mouse-magistrate-boy.jpg: 100%|██████| 270k/270k [00:00<00:00, 679kB/s]\n",
      "Downloading cats\\Mummified-cat-ancient-Egypt-2000-100-BCE.jpg: 100%|█████████████████| 213k/213k [00:00<00:00, 791kB/s]\n",
      "Downloading cats\\geographic-range-subspecies-widcats.jpg: 100%|██████████████████████| 324k/324k [00:00<00:00, 711kB/s]\n",
      "Downloading cats\\Leopard-cat.jpg: 100%|██████████████████████████████████████████████| 397k/397k [00:00<00:00, 787kB/s]\n",
      "Downloading cats\\Hollyhocks-cats-Ming-Dynasty-fan-Luo-Zonggui-1228-1234-Metropolitan-Museum-Art.jpg: 100%|█| 512k/512k \n",
      "Downloading cats\\Abyssinian-sorrel.jpg: 88.5kB [00:00, 616kB/s]                                                        \n",
      "Downloading cats\\Persian-cream-bicolour.jpg: 17.1kB [00:00, 627kB/s]                                                   \n",
      "Downloading cats\\Manx-mackerel-tabby.jpg: 100%|████████████████████████████████████| 28.8k/28.8k [00:00<00:00, 673kB/s]\n",
      "Downloading cats\\Sphynx.jpg: 100%|████████████████████████████████████████████████| 24.5k/24.5k [00:00<00:00, 1.09MB/s]\n",
      "Downloading cats\\Egyptian-cat-statue-Bastet.jpg: 100%|███████████████████████████████| 210k/210k [00:00<00:00, 736kB/s]\n",
      "Downloading cats\\Dick-Whittington-portrait-cat-engraving-Renold-Elstracke.jpg: 100%|█| 35.0k/35.0k [00:00<00:00, 182kB/\n"
     ]
    }
   ],
   "source": [
    "main(\"https://www.britannica.com/animal/cat\", \"cats\")"
   ]
  },
  {
   "cell_type": "markdown",
   "id": "c8e8700c",
   "metadata": {},
   "source": [
    "# second way"
   ]
  },
  {
   "cell_type": "code",
   "execution_count": 13,
   "id": "0b1d9173",
   "metadata": {
    "ExecuteTime": {
     "end_time": "2022-12-02T03:59:56.347338Z",
     "start_time": "2022-12-02T03:59:29.744168Z"
    }
   },
   "outputs": [
    {
     "name": "stdout",
     "output_type": "stream",
     "text": [
      "Enter URL:- https://www.bing.com/search?q=cats&form=ANNTH1&refig=f116d3547dc7470faa7edd166b6db8ab\n",
      "Enter Folder Name:- new cats\n",
      "Total 2 Image Found!\n",
      "Total 0 Images Downloaded Out of 2\n"
     ]
    }
   ],
   "source": [
    "from bs4 import *\n",
    "import requests\n",
    "import os\n",
    "\n",
    "# CREATE FOLDER\n",
    "def folder_create(images):\n",
    "\ttry:\n",
    "\t\tfolder_name = input(\"Enter Folder Name:- \")\n",
    "\t\t# folder creation\n",
    "\t\tos.mkdir(folder_name)\n",
    "\n",
    "\t# if folder exists with that name, ask another name\n",
    "\texcept:\n",
    "\t\tprint(\"Folder Exist with that name!\")\n",
    "\t\tfolder_create()\n",
    "\n",
    "\t# image downloading start\n",
    "\tdownload_images(images, folder_name)\n",
    "\n",
    "\n",
    "# DOWNLOAD ALL IMAGES FROM THAT URL\n",
    "def download_images(images, folder_name):\n",
    "\n",
    "\t# initial count is zero\n",
    "\tcount = 0\n",
    "\n",
    "\t# print total images found in URL\n",
    "\tprint(f\"Total {len(images)} Image Found!\")\n",
    "\n",
    "\t# checking if images is not zero\n",
    "\tif len(images) != 0:\n",
    "\t\tfor i, image in enumerate(images):\n",
    "\t\t\t# From image tag ,Fetch image Source URL\n",
    "\n",
    "\t\t\t\t\t\t# 1.data-srcset\n",
    "\t\t\t\t\t\t# 2.data-src\n",
    "\t\t\t\t\t\t# 3.data-fallback-src\n",
    "\t\t\t\t\t\t# 4.src\n",
    "\n",
    "\t\t\t# Here we will use exception handling\n",
    "\n",
    "\t\t\t# first we will search for \"data-srcset\" in img tag\n",
    "\t\t\ttry:\n",
    "\t\t\t\t# In image tag ,searching for \"data-srcset\"\n",
    "\t\t\t\timage_link = image[\"data-srcset\"]\n",
    "\t\t\t\t\n",
    "\t\t\t# then we will search for \"data-src\" in img\n",
    "\t\t\t# tag and so on..\n",
    "\t\t\texcept:\n",
    "\t\t\t\ttry:\n",
    "\t\t\t\t\t# In image tag ,searching for \"data-src\"\n",
    "\t\t\t\t\timage_link = image[\"data-src\"]\n",
    "\t\t\t\texcept:\n",
    "\t\t\t\t\ttry:\n",
    "\t\t\t\t\t\t# In image tag ,searching for \"data-fallback-src\"\n",
    "\t\t\t\t\t\timage_link = image[\"data-fallback-src\"]\n",
    "\t\t\t\t\texcept:\n",
    "\t\t\t\t\t\ttry:\n",
    "\t\t\t\t\t\t\t# In image tag ,searching for \"src\"\n",
    "\t\t\t\t\t\t\timage_link = image[\"src\"]\n",
    "\n",
    "\t\t\t\t\t\t# if no Source URL found\n",
    "\t\t\t\t\t\texcept:\n",
    "\t\t\t\t\t\t\tpass\n",
    "\n",
    "\t\t\t# After getting Image Source URL\n",
    "\t\t\t# We will try to get the content of image\n",
    "\t\t\ttry:\n",
    "\t\t\t\tr = requests.get(image_link).content\n",
    "\t\t\t\ttry:\n",
    "\n",
    "\t\t\t\t\t# possibility of decode\n",
    "\t\t\t\t\tr = str(r, 'utf-8')\n",
    "\n",
    "\t\t\t\texcept UnicodeDecodeError:\n",
    "\n",
    "\t\t\t\t\t# After checking above condition, Image Download start\n",
    "\t\t\t\t\twith open(f\"{folder_name}/images{i+1}.jpg\", \"wb+\") as f:\n",
    "\t\t\t\t\t\tf.write(r)\n",
    "\n",
    "\t\t\t\t\t# counting number of image downloaded\n",
    "\t\t\t\t\tcount += 1\n",
    "\t\t\texcept:\n",
    "\t\t\t\tpass\n",
    "\n",
    "\t\t# There might be possible, that all\n",
    "\t\t# images not download\n",
    "\t\t# if all images download\n",
    "\t\tif count == len(images):\n",
    "\t\t\tprint(\"All Images Downloaded!\")\n",
    "\t\t\t\n",
    "\t\t# if all images not download\n",
    "\t\telse:\n",
    "\t\t\tprint(f\"Total {count} Images Downloaded Out of {len(images)}\")\n",
    "\n",
    "# MAIN FUNCTION START\n",
    "def main(url):\n",
    "\n",
    "\t# content of URL\n",
    "\tr = requests.get(url)\n",
    "\n",
    "\t# Parse HTML Code\n",
    "\tsoup = BeautifulSoup(r.text, 'html.parser')\n",
    "\n",
    "\t# find all images in URL\n",
    "\timages = soup.findAll('img')\n",
    "\n",
    "\t# Call folder create function\n",
    "\tfolder_create(images)\n",
    "\n",
    "\n",
    "# take url\n",
    "url = input(\"Enter URL:- \")\n",
    "\n",
    "# CALL MAIN FUNCTION\n",
    "main(url)\n"
   ]
  },
  {
   "cell_type": "code",
   "execution_count": null,
   "id": "9e9af8fd",
   "metadata": {},
   "outputs": [],
   "source": [
    "sources:\n",
    "    https://www.thepythoncode.com/article/download-web-page-images-python\n",
    "    https://www.geeksforgeeks.org/how-to-download-all-images-from-a-web-page-in-python/"
   ]
  }
 ],
 "metadata": {
  "kernelspec": {
   "display_name": "Python 3 (ipykernel)",
   "language": "python",
   "name": "python3"
  },
  "language_info": {
   "codemirror_mode": {
    "name": "ipython",
    "version": 3
   },
   "file_extension": ".py",
   "mimetype": "text/x-python",
   "name": "python",
   "nbconvert_exporter": "python",
   "pygments_lexer": "ipython3",
   "version": "3.9.12"
  },
  "toc": {
   "base_numbering": 1,
   "nav_menu": {},
   "number_sections": true,
   "sideBar": true,
   "skip_h1_title": false,
   "title_cell": "Table of Contents",
   "title_sidebar": "Contents",
   "toc_cell": false,
   "toc_position": {},
   "toc_section_display": true,
   "toc_window_display": false
  },
  "varInspector": {
   "cols": {
    "lenName": 16,
    "lenType": 16,
    "lenVar": 40
   },
   "kernels_config": {
    "python": {
     "delete_cmd_postfix": "",
     "delete_cmd_prefix": "del ",
     "library": "var_list.py",
     "varRefreshCmd": "print(var_dic_list())"
    },
    "r": {
     "delete_cmd_postfix": ") ",
     "delete_cmd_prefix": "rm(",
     "library": "var_list.r",
     "varRefreshCmd": "cat(var_dic_list()) "
    }
   },
   "types_to_exclude": [
    "module",
    "function",
    "builtin_function_or_method",
    "instance",
    "_Feature"
   ],
   "window_display": false
  }
 },
 "nbformat": 4,
 "nbformat_minor": 5
}
