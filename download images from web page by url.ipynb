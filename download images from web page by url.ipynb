{
 "cells": [
  {
   "cell_type": "code",
   "execution_count": 1,
   "id": "68a628d4",
   "metadata": {
    "ExecuteTime": {
     "end_time": "2022-12-02T03:45:49.414131Z",
     "start_time": "2022-12-02T03:44:38.870804Z"
    }
   },
   "outputs": [
    {
     "name": "stdout",
     "output_type": "stream",
     "text": [
      "Enter URL:- https://www.britannica.com/animal/cat/General-features-and-special-adaptations\n",
      "Enter Folder Name:- pretty cats\n",
      "Total 4 Image Found!\n",
      "All Images Downloaded!\n"
     ]
    }
   ],
   "source": [
    "from bs4 import *\n",
    "import requests\n",
    "import os\n",
    "\n",
    "# CREATE FOLDER\n",
    "def folder_create(images):\n",
    "\ttry:\n",
    "\t\tfolder_name = input(\"Enter Folder Name:- \")\n",
    "\t\t# folder creation\n",
    "\t\tos.mkdir(folder_name)\n",
    "\n",
    "\t# if folder exists with that name, ask another name\n",
    "\texcept:\n",
    "\t\tprint(\"Folder Exist with that name!\")\n",
    "\t\tfolder_create()\n",
    "\n",
    "\t# image downloading start\n",
    "\tdownload_images(images, folder_name)\n",
    "\n",
    "\n",
    "# DOWNLOAD ALL IMAGES FROM THAT URL\n",
    "def download_images(images, folder_name):\n",
    "\n",
    "\t# initial count is zero\n",
    "\tcount = 0\n",
    "\n",
    "\t# print total images found in URL\n",
    "\tprint(f\"Total {len(images)} Image Found!\")\n",
    "\n",
    "\t# checking if images is not zero\n",
    "\tif len(images) != 0:\n",
    "\t\tfor i, image in enumerate(images):\n",
    "\t\t\t# From image tag ,Fetch image Source URL\n",
    "\n",
    "\t\t\t\t\t\t# 1.data-srcset\n",
    "\t\t\t\t\t\t# 2.data-src\n",
    "\t\t\t\t\t\t# 3.data-fallback-src\n",
    "\t\t\t\t\t\t# 4.src\n",
    "\n",
    "\t\t\t# Here we will use exception handling\n",
    "\n",
    "\t\t\t# first we will search for \"data-srcset\" in img tag\n",
    "\t\t\ttry:\n",
    "\t\t\t\t# In image tag ,searching for \"data-srcset\"\n",
    "\t\t\t\timage_link = image[\"data-srcset\"]\n",
    "\t\t\t\t\n",
    "\t\t\t# then we will search for \"data-src\" in img\n",
    "\t\t\t# tag and so on..\n",
    "\t\t\texcept:\n",
    "\t\t\t\ttry:\n",
    "\t\t\t\t\t# In image tag ,searching for \"data-src\"\n",
    "\t\t\t\t\timage_link = image[\"data-src\"]\n",
    "\t\t\t\texcept:\n",
    "\t\t\t\t\ttry:\n",
    "\t\t\t\t\t\t# In image tag ,searching for \"data-fallback-src\"\n",
    "\t\t\t\t\t\timage_link = image[\"data-fallback-src\"]\n",
    "\t\t\t\t\texcept:\n",
    "\t\t\t\t\t\ttry:\n",
    "\t\t\t\t\t\t\t# In image tag ,searching for \"src\"\n",
    "\t\t\t\t\t\t\timage_link = image[\"src\"]\n",
    "\n",
    "\t\t\t\t\t\t# if no Source URL found\n",
    "\t\t\t\t\t\texcept:\n",
    "\t\t\t\t\t\t\tpass\n",
    "\n",
    "\t\t\t# After getting Image Source URL\n",
    "\t\t\t# We will try to get the content of image\n",
    "\t\t\ttry:\n",
    "\t\t\t\tr = requests.get(image_link).content\n",
    "\t\t\t\ttry:\n",
    "\n",
    "\t\t\t\t\t# possibility of decode\n",
    "\t\t\t\t\tr = str(r, 'utf-8')\n",
    "\n",
    "\t\t\t\texcept UnicodeDecodeError:\n",
    "\n",
    "\t\t\t\t\t# After checking above condition, Image Download start\n",
    "\t\t\t\t\twith open(f\"{folder_name}/images{i+1}.jpg\", \"wb+\") as f:\n",
    "\t\t\t\t\t\tf.write(r)\n",
    "\n",
    "\t\t\t\t\t# counting number of image downloaded\n",
    "\t\t\t\t\tcount += 1\n",
    "\t\t\texcept:\n",
    "\t\t\t\tpass\n",
    "\n",
    "\t\t# There might be possible, that all\n",
    "\t\t# images not download\n",
    "\t\t# if all images download\n",
    "\t\tif count == len(images):\n",
    "\t\t\tprint(\"All Images Downloaded!\")\n",
    "\t\t\t\n",
    "\t\t# if all images not download\n",
    "\t\telse:\n",
    "\t\t\tprint(f\"Total {count} Images Downloaded Out of {len(images)}\")\n",
    "\n",
    "# MAIN FUNCTION START\n",
    "def main(url):\n",
    "\n",
    "\t# content of URL\n",
    "\tr = requests.get(url)\n",
    "\n",
    "\t# Parse HTML Code\n",
    "\tsoup = BeautifulSoup(r.text, 'html.parser')\n",
    "\n",
    "\t# find all images in URL\n",
    "\timages = soup.findAll('img')\n",
    "\n",
    "\t# Call folder create function\n",
    "\tfolder_create(images)\n",
    "\n",
    "\n",
    "# take url\n",
    "url = input(\"Enter URL:- \")\n",
    "\n",
    "# CALL MAIN FUNCTION\n",
    "main(url)\n"
   ]
  },
  {
   "cell_type": "code",
   "execution_count": null,
   "id": "6eaa9e08",
   "metadata": {},
   "outputs": [],
   "source": []
  }
 ],
 "metadata": {
  "kernelspec": {
   "display_name": "Python 3 (ipykernel)",
   "language": "python",
   "name": "python3"
  },
  "language_info": {
   "codemirror_mode": {
    "name": "ipython",
    "version": 3
   },
   "file_extension": ".py",
   "mimetype": "text/x-python",
   "name": "python",
   "nbconvert_exporter": "python",
   "pygments_lexer": "ipython3",
   "version": "3.9.12"
  },
  "toc": {
   "base_numbering": 1,
   "nav_menu": {},
   "number_sections": true,
   "sideBar": true,
   "skip_h1_title": false,
   "title_cell": "Table of Contents",
   "title_sidebar": "Contents",
   "toc_cell": false,
   "toc_position": {},
   "toc_section_display": true,
   "toc_window_display": false
  },
  "varInspector": {
   "cols": {
    "lenName": 16,
    "lenType": 16,
    "lenVar": 40
   },
   "kernels_config": {
    "python": {
     "delete_cmd_postfix": "",
     "delete_cmd_prefix": "del ",
     "library": "var_list.py",
     "varRefreshCmd": "print(var_dic_list())"
    },
    "r": {
     "delete_cmd_postfix": ") ",
     "delete_cmd_prefix": "rm(",
     "library": "var_list.r",
     "varRefreshCmd": "cat(var_dic_list()) "
    }
   },
   "types_to_exclude": [
    "module",
    "function",
    "builtin_function_or_method",
    "instance",
    "_Feature"
   ],
   "window_display": false
  }
 },
 "nbformat": 4,
 "nbformat_minor": 5
}
